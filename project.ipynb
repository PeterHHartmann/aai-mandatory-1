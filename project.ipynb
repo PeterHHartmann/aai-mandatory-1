{
 "cells": [
  {
   "cell_type": "code",
   "execution_count": 1,
   "id": "731ff28d-7d3f-4ff1-a8be-bbc73a99f343",
   "metadata": {},
   "outputs": [],
   "source": [
    "import numpy as np\n",
    "import pandas as pd\n",
    "from scipy import stats\n",
    "import matplotlib\n",
    "import matplotlib.pyplot as plt\n",
    "import seaborn\n",
    "from sklearn.preprocessing import LabelEncoder\n",
    "%matplotlib inline"
   ]
  },
  {
   "cell_type": "markdown",
   "id": "73357526-c298-446e-8f5e-eca18a99666a",
   "metadata": {},
   "source": [
    "# Observing and cleaning the data"
   ]
  },
  {
   "cell_type": "code",
   "execution_count": 2,
   "id": "b823518d-6ee6-4274-89ed-3f458844c3f4",
   "metadata": {},
   "outputs": [],
   "source": [
    "data = pd.read_csv('data/healthcare-dataset-stroke-data.csv')"
   ]
  },
  {
   "cell_type": "code",
   "execution_count": 3,
   "id": "25011403-c0fd-419b-87a6-10d172194e65",
   "metadata": {},
   "outputs": [
    {
     "name": "stdout",
     "output_type": "stream",
     "text": [
      "<class 'pandas.core.frame.DataFrame'>\n",
      "RangeIndex: 5110 entries, 0 to 5109\n",
      "Data columns (total 12 columns):\n",
      " #   Column             Non-Null Count  Dtype  \n",
      "---  ------             --------------  -----  \n",
      " 0   id                 5110 non-null   int64  \n",
      " 1   gender             5110 non-null   object \n",
      " 2   age                5110 non-null   float64\n",
      " 3   hypertension       5110 non-null   int64  \n",
      " 4   heart_disease      5110 non-null   int64  \n",
      " 5   ever_married       5110 non-null   object \n",
      " 6   work_type          5110 non-null   object \n",
      " 7   Residence_type     5110 non-null   object \n",
      " 8   avg_glucose_level  5110 non-null   float64\n",
      " 9   bmi                4909 non-null   float64\n",
      " 10  smoking_status     5110 non-null   object \n",
      " 11  stroke             5110 non-null   int64  \n",
      "dtypes: float64(3), int64(4), object(5)\n",
      "memory usage: 479.2+ KB\n"
     ]
    }
   ],
   "source": [
    "data.info()"
   ]
  },
  {
   "cell_type": "code",
   "execution_count": 4,
   "id": "1c8c1269-dc4f-4833-b8b7-fe464d349e00",
   "metadata": {},
   "outputs": [
    {
     "data": {
      "text/plain": [
       "Female    2994\n",
       "Male      2115\n",
       "Other        1\n",
       "Name: gender, dtype: int64"
      ]
     },
     "execution_count": 4,
     "metadata": {},
     "output_type": "execute_result"
    }
   ],
   "source": [
    "data['gender'].value_counts()"
   ]
  },
  {
   "cell_type": "code",
   "execution_count": 5,
   "id": "379689cb-3f18-421e-954d-a9d461038102",
   "metadata": {},
   "outputs": [],
   "source": [
    "# removing row with \"Other\" gender\n",
    "data = data.drop(data[data['gender']=='Other'].index)"
   ]
  },
  {
   "cell_type": "code",
   "execution_count": 6,
   "id": "e281960d-0acb-41ac-bae4-a74738f2b626",
   "metadata": {},
   "outputs": [
    {
     "data": {
      "text/plain": [
       "Female    2994\n",
       "Male      2115\n",
       "Name: gender, dtype: int64"
      ]
     },
     "execution_count": 6,
     "metadata": {},
     "output_type": "execute_result"
    }
   ],
   "source": [
    "data['gender'].value_counts()"
   ]
  },
  {
   "cell_type": "code",
   "execution_count": 7,
   "id": "a6de0f40-10a9-46c9-ba4f-422da83f06b4",
   "metadata": {
    "tags": []
   },
   "outputs": [
    {
     "data": {
      "text/plain": [
       "id                     0\n",
       "gender                 0\n",
       "age                    0\n",
       "hypertension           0\n",
       "heart_disease          0\n",
       "ever_married           0\n",
       "work_type              0\n",
       "Residence_type         0\n",
       "avg_glucose_level      0\n",
       "bmi                  201\n",
       "smoking_status         0\n",
       "stroke                 0\n",
       "dtype: int64"
      ]
     },
     "execution_count": 7,
     "metadata": {},
     "output_type": "execute_result"
    }
   ],
   "source": [
    "# counting rows with null values in it\n",
    "data.isnull().sum()"
   ]
  },
  {
   "cell_type": "code",
   "execution_count": 8,
   "id": "455192d1-eb9f-4ab4-9b2f-ad2aa3940799",
   "metadata": {},
   "outputs": [
    {
     "name": "stdout",
     "output_type": "stream",
     "text": [
      "28.894559902200488\n"
     ]
    }
   ],
   "source": [
    "# calculating average bmi (mean)\n",
    "print(data['bmi'].mean())"
   ]
  },
  {
   "cell_type": "code",
   "execution_count": 9,
   "id": "22f7dae8-7ef8-4461-9e15-198490ff3dfb",
   "metadata": {},
   "outputs": [],
   "source": [
    "# filling null values in bmi column with the bmi mean\n",
    "data['bmi'] = data['bmi'].fillna(data['bmi'].mean())"
   ]
  },
  {
   "cell_type": "code",
   "execution_count": 10,
   "id": "8723a856-e296-4f55-85eb-8200ad1bd179",
   "metadata": {},
   "outputs": [
    {
     "data": {
      "text/plain": [
       "0"
      ]
     },
     "execution_count": 10,
     "metadata": {},
     "output_type": "execute_result"
    }
   ],
   "source": [
    "# checking for nulls again\n",
    "data['bmi'].isnull().sum()"
   ]
  },
  {
   "cell_type": "code",
   "execution_count": 11,
   "id": "6359e72f-69ca-4de0-8a85-380670360596",
   "metadata": {},
   "outputs": [
    {
     "data": {
      "text/html": [
       "<div>\n",
       "<style scoped>\n",
       "    .dataframe tbody tr th:only-of-type {\n",
       "        vertical-align: middle;\n",
       "    }\n",
       "\n",
       "    .dataframe tbody tr th {\n",
       "        vertical-align: top;\n",
       "    }\n",
       "\n",
       "    .dataframe thead th {\n",
       "        text-align: right;\n",
       "    }\n",
       "</style>\n",
       "<table border=\"1\" class=\"dataframe\">\n",
       "  <thead>\n",
       "    <tr style=\"text-align: right;\">\n",
       "      <th></th>\n",
       "      <th>stroke</th>\n",
       "    </tr>\n",
       "    <tr>\n",
       "      <th>stroke</th>\n",
       "      <th></th>\n",
       "    </tr>\n",
       "  </thead>\n",
       "  <tbody>\n",
       "    <tr>\n",
       "      <th>0</th>\n",
       "      <td>4860</td>\n",
       "    </tr>\n",
       "    <tr>\n",
       "      <th>1</th>\n",
       "      <td>249</td>\n",
       "    </tr>\n",
       "  </tbody>\n",
       "</table>\n",
       "</div>"
      ],
      "text/plain": [
       "        stroke\n",
       "stroke        \n",
       "0         4860\n",
       "1          249"
      ]
     },
     "execution_count": 11,
     "metadata": {},
     "output_type": "execute_result"
    }
   ],
   "source": [
    "# creating new dataframe with stroke and no stroke counts (0 = no stroke, 1 = stroke)\n",
    "stroke_count_df = pd.DataFrame(data.groupby('stroke')['stroke'].count())\n",
    "stroke_count_df"
   ]
  },
  {
   "cell_type": "code",
   "execution_count": 12,
   "id": "f8d22466-6f1c-42b9-ba18-6e77ff1ec676",
   "metadata": {},
   "outputs": [
    {
     "name": "stderr",
     "output_type": "stream",
     "text": [
      "C:\\Users\\Peter\\Documents\\Workspace\\aai\\aai-mandatory-1\\.venv\\lib\\site-packages\\seaborn\\distributions.py:269: FutureWarning: In a future version, `df.iloc[:, i] = newvals` will attempt to set the values inplace instead of always setting a new array. To retain the old behavior, use either `df[df.columns[i]] = newvals` or, if columns are non-unique, `df.isetitem(i, newvals)`\n",
      "  baselines.iloc[:, cols] = (curves\n"
     ]
    },
    {
     "data": {
      "image/png": "[encoded data removed]",
      "text/plain": [
       "<Figure size 1200x700 with 1 Axes>"
      ]
     },
     "metadata": {},
     "output_type": "display_data"
    }
   ],
   "source": [
    "# plotting density distribution of bmi for stroke and no-stroke \n",
    "plt.figure(figsize=(12,7))\n",
    "seaborn.histplot(\n",
    "    data, x=\"bmi\", hue=\"stroke\",\n",
    "    element=\"step\",\n",
    "    multiple='stack'\n",
    ")\n",
    "plt.title('Stroke vs no stroke by BMI', fontsize=15)\n",
    "plt.show()"
   ]
  },
  {
   "cell_type": "code",
   "execution_count": 13,
   "id": "957c037c-b51d-426d-94d9-5face9d5e16a",
   "metadata": {},
   "outputs": [
    {
     "name": "stderr",
     "output_type": "stream",
     "text": [
      "C:\\Users\\Peter\\Documents\\Workspace\\aai\\aai-mandatory-1\\.venv\\lib\\site-packages\\seaborn\\distributions.py:269: FutureWarning: In a future version, `df.iloc[:, i] = newvals` will attempt to set the values inplace instead of always setting a new array. To retain the old behavior, use either `df[df.columns[i]] = newvals` or, if columns are non-unique, `df.isetitem(i, newvals)`\n",
      "  baselines.iloc[:, cols] = (curves\n"
     ]
    },
    {
     "data": {
      "image/png": "[encoded data removed]",
      "text/plain": [
       "<Figure size 1200x700 with 1 Axes>"
      ]
     },
     "metadata": {},
     "output_type": "display_data"
    }
   ],
   "source": [
    "# plotting density distribution of bmi for stroke and no-stroke \n",
    "plt.figure(figsize=(12,7))\n",
    "seaborn.histplot(\n",
    "    data, x=\"age\", hue=\"stroke\",\n",
    "    element=\"step\",\n",
    "    multiple='stack'\n",
    ")\n",
    "plt.title('Stroke vs no stroke by BMI', fontsize=15)\n",
    "plt.show()"
   ]
  },
  {
   "cell_type": "code",
   "execution_count": 14,
   "id": "587667a0-7bcb-4349-98ea-7136a343f742",
   "metadata": {},
   "outputs": [
    {
     "name": "stderr",
     "output_type": "stream",
     "text": [
      "C:\\Users\\Peter\\Documents\\Workspace\\aai\\aai-mandatory-1\\.venv\\lib\\site-packages\\seaborn\\distributions.py:269: FutureWarning: In a future version, `df.iloc[:, i] = newvals` will attempt to set the values inplace instead of always setting a new array. To retain the old behavior, use either `df[df.columns[i]] = newvals` or, if columns are non-unique, `df.isetitem(i, newvals)`\n",
      "  baselines.iloc[:, cols] = (curves\n"
     ]
    },
    {
     "data": {
      "image/png": "[encoded data removed]",
      "text/plain": [
       "<Figure size 1200x700 with 1 Axes>"
      ]
     },
     "metadata": {},
     "output_type": "display_data"
    }
   ],
   "source": [
    "# plotting density distribution of bmi for stroke and no-stroke \n",
    "plt.figure(figsize=(12,7))\n",
    "seaborn.histplot(\n",
    "    data, x=\"avg_glucose_level\", hue=\"stroke\",\n",
    "    element=\"step\",\n",
    "    multiple='stack'\n",
    ")\n",
    "plt.title('Stroke vs no stroke by BMI', fontsize=15)\n",
    "plt.show()"
   ]
  },
  {
   "cell_type": "code",
   "execution_count": 15,
   "id": "774df235-dfec-4b02-a6e3-c981ca13bb65",
   "metadata": {},
   "outputs": [
    {
     "name": "stdout",
     "output_type": "stream",
     "text": [
      "PearsonRResult(statistic=0.03891685046419615, pvalue=0.9972991090785829)\n"
     ]
    }
   ],
   "source": [
    "print(stats.pearsonr(x=data['bmi'],y=data['stroke'], alternative='less'))"
   ]
  },
  {
   "cell_type": "code",
   "execution_count": 16,
   "id": "bb4b3282-ebce-495a-b12d-a49ebac6863d",
   "metadata": {},
   "outputs": [
    {
     "name": "stdout",
     "output_type": "stream",
     "text": [
      "PearsonRResult(statistic=0.24523875623198607, pvalue=7.435468822674816e-71)\n"
     ]
    }
   ],
   "source": [
    "print(stats.pearsonr(x=data['age'],y=data['stroke']))"
   ]
  },
  {
   "cell_type": "code",
   "execution_count": 17,
   "id": "1b45851f-ce99-4a99-944c-0d1b0823ed70",
   "metadata": {},
   "outputs": [
    {
     "name": "stdout",
     "output_type": "stream",
     "text": [
      "PearsonRResult(statistic=0.13199119156646016, pvalue=2.705302697189168e-21)\n"
     ]
    }
   ],
   "source": [
    "print(stats.pearsonr(x=data['avg_glucose_level'],y=data['stroke']))"
   ]
  },
  {
   "cell_type": "code",
   "execution_count": 18,
   "id": "226a3510-439e-4108-a07b-5ced8173a6d4",
   "metadata": {},
   "outputs": [
    {
     "data": {
      "text/plain": [
       "never smoked       1892\n",
       "Unknown            1544\n",
       "formerly smoked     884\n",
       "smokes              789\n",
       "Name: smoking_status, dtype: int64"
      ]
     },
     "execution_count": 18,
     "metadata": {},
     "output_type": "execute_result"
    }
   ],
   "source": [
    "data['smoking_status'].value_counts()"
   ]
  },
  {
   "cell_type": "code",
   "execution_count": 19,
   "id": "5f77e20c-f496-4579-82b7-8e645f91f7dd",
   "metadata": {},
   "outputs": [
    {
     "name": "stdout",
     "output_type": "stream",
     "text": [
      "Value Counts of column:gender\n",
      "Female    2994\n",
      "Male      2115\n",
      "Name: gender, dtype: int64\n",
      "The classes which labeled from 0 are:  ['Female' 'Male']\n",
      "===========================================\n",
      "Value Counts of column:ever_married\n",
      "Yes    3353\n",
      "No     1756\n",
      "Name: ever_married, dtype: int64\n",
      "The classes which labeled from 0 are:  ['No' 'Yes']\n",
      "===========================================\n",
      "Value Counts of column:Residence_type\n",
      "Urban    2596\n",
      "Rural    2513\n",
      "Name: Residence_type, dtype: int64\n",
      "The classes which labeled from 0 are:  ['Rural' 'Urban']\n",
      "===========================================\n"
     ]
    }
   ],
   "source": [
    "obj_cols=['gender', 'ever_married', 'Residence_type']\n",
    "\n",
    "lb=LabelEncoder()\n",
    "\n",
    "for i in obj_cols:\n",
    "    print(f\"Value Counts of column:{i}\")\n",
    "    print(data.loc[:,i].value_counts())\n",
    "    data[i] = lb.fit_transform(data[i])\n",
    "    print(\"The classes which labeled from 0 are: \",lb.classes_,end=\"\\n===========================================\\n\")"
   ]
  },
  {
   "cell_type": "code",
   "execution_count": 20,
   "id": "b76bd70e-031c-40be-9ea7-7c241e785065",
   "metadata": {
    "tags": []
   },
   "outputs": [
    {
     "data": {
      "text/html": [
       "<div>\n",
       "<style scoped>\n",
       "    .dataframe tbody tr th:only-of-type {\n",
       "        vertical-align: middle;\n",
       "    }\n",
       "\n",
       "    .dataframe tbody tr th {\n",
       "        vertical-align: top;\n",
       "    }\n",
       "\n",
       "    .dataframe thead th {\n",
       "        text-align: right;\n",
       "    }\n",
       "</style>\n",
       "<table border=\"1\" class=\"dataframe\">\n",
       "  <thead>\n",
       "    <tr style=\"text-align: right;\">\n",
       "      <th></th>\n",
       "      <th>id</th>\n",
       "      <th>gender</th>\n",
       "      <th>age</th>\n",
       "      <th>hypertension</th>\n",
       "      <th>heart_disease</th>\n",
       "      <th>ever_married</th>\n",
       "      <th>work_type</th>\n",
       "      <th>Residence_type</th>\n",
       "      <th>avg_glucose_level</th>\n",
       "      <th>bmi</th>\n",
       "      <th>smoking_status</th>\n",
       "      <th>stroke</th>\n",
       "    </tr>\n",
       "  </thead>\n",
       "  <tbody>\n",
       "    <tr>\n",
       "      <th>0</th>\n",
       "      <td>9046</td>\n",
       "      <td>1</td>\n",
       "      <td>67.0</td>\n",
       "      <td>0</td>\n",
       "      <td>1</td>\n",
       "      <td>1</td>\n",
       "      <td>Private</td>\n",
       "      <td>1</td>\n",
       "      <td>228.69</td>\n",
       "      <td>36.60000</td>\n",
       "      <td>formerly smoked</td>\n",
       "      <td>1</td>\n",
       "    </tr>\n",
       "    <tr>\n",
       "      <th>1</th>\n",
       "      <td>51676</td>\n",
       "      <td>0</td>\n",
       "      <td>61.0</td>\n",
       "      <td>0</td>\n",
       "      <td>0</td>\n",
       "      <td>1</td>\n",
       "      <td>Self-employed</td>\n",
       "      <td>0</td>\n",
       "      <td>202.21</td>\n",
       "      <td>28.89456</td>\n",
       "      <td>never smoked</td>\n",
       "      <td>1</td>\n",
       "    </tr>\n",
       "    <tr>\n",
       "      <th>2</th>\n",
       "      <td>31112</td>\n",
       "      <td>1</td>\n",
       "      <td>80.0</td>\n",
       "      <td>0</td>\n",
       "      <td>1</td>\n",
       "      <td>1</td>\n",
       "      <td>Private</td>\n",
       "      <td>0</td>\n",
       "      <td>105.92</td>\n",
       "      <td>32.50000</td>\n",
       "      <td>never smoked</td>\n",
       "      <td>1</td>\n",
       "    </tr>\n",
       "    <tr>\n",
       "      <th>3</th>\n",
       "      <td>60182</td>\n",
       "      <td>0</td>\n",
       "      <td>49.0</td>\n",
       "      <td>0</td>\n",
       "      <td>0</td>\n",
       "      <td>1</td>\n",
       "      <td>Private</td>\n",
       "      <td>1</td>\n",
       "      <td>171.23</td>\n",
       "      <td>34.40000</td>\n",
       "      <td>smokes</td>\n",
       "      <td>1</td>\n",
       "    </tr>\n",
       "    <tr>\n",
       "      <th>4</th>\n",
       "      <td>1665</td>\n",
       "      <td>0</td>\n",
       "      <td>79.0</td>\n",
       "      <td>1</td>\n",
       "      <td>0</td>\n",
       "      <td>1</td>\n",
       "      <td>Self-employed</td>\n",
       "      <td>0</td>\n",
       "      <td>174.12</td>\n",
       "      <td>24.00000</td>\n",
       "      <td>never smoked</td>\n",
       "      <td>1</td>\n",
       "    </tr>\n",
       "  </tbody>\n",
       "</table>\n",
       "</div>"
      ],
      "text/plain": [
       "      id  gender   age  hypertension  heart_disease  ever_married  \\\n",
       "0   9046       1  67.0             0              1             1   \n",
       "1  51676       0  61.0             0              0             1   \n",
       "2  31112       1  80.0             0              1             1   \n",
       "3  60182       0  49.0             0              0             1   \n",
       "4   1665       0  79.0             1              0             1   \n",
       "\n",
       "       work_type  Residence_type  avg_glucose_level       bmi  \\\n",
       "0        Private               1             228.69  36.60000   \n",
       "1  Self-employed               0             202.21  28.89456   \n",
       "2        Private               0             105.92  32.50000   \n",
       "3        Private               1             171.23  34.40000   \n",
       "4  Self-employed               0             174.12  24.00000   \n",
       "\n",
       "    smoking_status  stroke  \n",
       "0  formerly smoked       1  \n",
       "1     never smoked       1  \n",
       "2     never smoked       1  \n",
       "3           smokes       1  \n",
       "4     never smoked       1  "
      ]
     },
     "execution_count": 20,
     "metadata": {},
     "output_type": "execute_result"
    }
   ],
   "source": [
    "data.head()"
   ]
  },
  {
   "cell_type": "code",
   "execution_count": 21,
   "id": "95c86159-e077-4776-b2c9-ecf3f184c794",
   "metadata": {},
   "outputs": [
    {
     "name": "stdout",
     "output_type": "stream",
     "text": [
      "SpearmanrResult(correlation=0.009080600160079336, pvalue=0.5163958663824182)\n"
     ]
    }
   ],
   "source": [
    "print(stats.spearmanr(a=data['gender'],b=data['stroke']))"
   ]
  },
  {
   "cell_type": "code",
   "execution_count": 22,
   "id": "458c31cd-3cfe-4f72-96ab-6f7a0ead69de",
   "metadata": {},
   "outputs": [
    {
     "name": "stdout",
     "output_type": "stream",
     "text": [
      "SpearmanrResult(correlation=0.10829931566075394, pvalue=0.9999999999999958)\n"
     ]
    }
   ],
   "source": [
    "print(stats.spearmanr(a=data['ever_married'],b=data['stroke'], alternative='less'))"
   ]
  },
  {
   "cell_type": "code",
   "execution_count": 23,
   "id": "3f80618f-ef89-42b4-a8c6-2c2f2880d316",
   "metadata": {},
   "outputs": [
    {
     "name": "stdout",
     "output_type": "stream",
     "text": [
      "SpearmanrResult(correlation=0.12789125912919305, pvalue=1.0)\n"
     ]
    }
   ],
   "source": [
    "print(stats.spearmanr(a=data['hypertension'],b=data['stroke'], alternative='less'))"
   ]
  },
  {
   "cell_type": "code",
   "execution_count": 24,
   "id": "9ccb0b6e-092b-4add-baa3-b1989076fbaa",
   "metadata": {},
   "outputs": [
    {
     "name": "stdout",
     "output_type": "stream",
     "text": [
      "SpearmanrResult(correlation=0.13490484180042858, pvalue=1.0)\n"
     ]
    }
   ],
   "source": [
    "print(stats.spearmanr(a=data['heart_disease'],b=data['stroke'], alternative='less'))"
   ]
  },
  {
   "cell_type": "code",
   "execution_count": 25,
   "id": "e2606353-eff1-43b4-ae1b-c049266d59bd",
   "metadata": {},
   "outputs": [
    {
     "name": "stdout",
     "output_type": "stream",
     "text": [
      "SpearmanrResult(correlation=0.015414584210315819, pvalue=0.864679635040432)\n"
     ]
    }
   ],
   "source": [
    "print(stats.spearmanr(a=data['Residence_type'],b=data['stroke'], alternative='less'))"
   ]
  },
  {
   "cell_type": "code",
   "execution_count": 26,
   "id": "331cf824-c384-4734-9e08-9ae90b2d834f",
   "metadata": {},
   "outputs": [
    {
     "name": "stdout",
     "output_type": "stream",
     "text": [
      "SpearmanrResult(correlation=0.05496392928607472, pvalue=8.470538891237322e-05)\n"
     ]
    }
   ],
   "source": [
    "print(stats.spearmanr(a=data['bmi'],b=data['stroke']))"
   ]
  },
  {
   "cell_type": "code",
   "execution_count": 27,
   "id": "92a5d8c8-1c6e-4661-abf4-a19f230e901d",
   "metadata": {
    "tags": []
   },
   "outputs": [
    {
     "name": "stdout",
     "output_type": "stream",
     "text": [
      "SpearmanrResult(correlation=0.24953042293208674, pvalue=2.2674207298102072e-73)\n"
     ]
    }
   ],
   "source": [
    "print(stats.spearmanr(a=data['age'], b=data['stroke'], axis=None))"
   ]
  },
  {
   "cell_type": "code",
   "execution_count": 28,
   "id": "1d36e7cb-7c8d-425e-a236-dd8fce771262",
   "metadata": {},
   "outputs": [],
   "source": [
    "test_bmi = (data['bmi']-np.min(data['bmi']))/(np.max(data['bmi'])-np.min(data['bmi']))"
   ]
  },
  {
   "cell_type": "code",
   "execution_count": 29,
   "id": "81037e90-eb84-4207-ab6d-3d1ce8047a0f",
   "metadata": {},
   "outputs": [],
   "source": [
    "data = pd.get_dummies(data)"
   ]
  },
  {
   "cell_type": "code",
   "execution_count": 30,
   "id": "73e792e4-cb2c-46de-8d55-56ec8ae63497",
   "metadata": {},
   "outputs": [
    {
     "data": {
      "text/html": [
       "<div>\n",
       "<style scoped>\n",
       "    .dataframe tbody tr th:only-of-type {\n",
       "        vertical-align: middle;\n",
       "    }\n",
       "\n",
       "    .dataframe tbody tr th {\n",
       "        vertical-align: top;\n",
       "    }\n",
       "\n",
       "    .dataframe thead th {\n",
       "        text-align: right;\n",
       "    }\n",
       "</style>\n",
       "<table border=\"1\" class=\"dataframe\">\n",
       "  <thead>\n",
       "    <tr style=\"text-align: right;\">\n",
       "      <th></th>\n",
       "      <th>id</th>\n",
       "      <th>gender</th>\n",
       "      <th>age</th>\n",
       "      <th>hypertension</th>\n",
       "      <th>heart_disease</th>\n",
       "      <th>ever_married</th>\n",
       "      <th>Residence_type</th>\n",
       "      <th>avg_glucose_level</th>\n",
       "      <th>bmi</th>\n",
       "      <th>stroke</th>\n",
       "      <th>work_type_Govt_job</th>\n",
       "      <th>work_type_Never_worked</th>\n",
       "      <th>work_type_Private</th>\n",
       "      <th>work_type_Self-employed</th>\n",
       "      <th>work_type_children</th>\n",
       "      <th>smoking_status_Unknown</th>\n",
       "      <th>smoking_status_formerly smoked</th>\n",
       "      <th>smoking_status_never smoked</th>\n",
       "      <th>smoking_status_smokes</th>\n",
       "    </tr>\n",
       "  </thead>\n",
       "  <tbody>\n",
       "    <tr>\n",
       "      <th>0</th>\n",
       "      <td>9046</td>\n",
       "      <td>1</td>\n",
       "      <td>67.0</td>\n",
       "      <td>0</td>\n",
       "      <td>1</td>\n",
       "      <td>1</td>\n",
       "      <td>1</td>\n",
       "      <td>228.69</td>\n",
       "      <td>36.60000</td>\n",
       "      <td>1</td>\n",
       "      <td>0</td>\n",
       "      <td>0</td>\n",
       "      <td>1</td>\n",
       "      <td>0</td>\n",
       "      <td>0</td>\n",
       "      <td>0</td>\n",
       "      <td>1</td>\n",
       "      <td>0</td>\n",
       "      <td>0</td>\n",
       "    </tr>\n",
       "    <tr>\n",
       "      <th>1</th>\n",
       "      <td>51676</td>\n",
       "      <td>0</td>\n",
       "      <td>61.0</td>\n",
       "      <td>0</td>\n",
       "      <td>0</td>\n",
       "      <td>1</td>\n",
       "      <td>0</td>\n",
       "      <td>202.21</td>\n",
       "      <td>28.89456</td>\n",
       "      <td>1</td>\n",
       "      <td>0</td>\n",
       "      <td>0</td>\n",
       "      <td>0</td>\n",
       "      <td>1</td>\n",
       "      <td>0</td>\n",
       "      <td>0</td>\n",
       "      <td>0</td>\n",
       "      <td>1</td>\n",
       "      <td>0</td>\n",
       "    </tr>\n",
       "    <tr>\n",
       "      <th>2</th>\n",
       "      <td>31112</td>\n",
       "      <td>1</td>\n",
       "      <td>80.0</td>\n",
       "      <td>0</td>\n",
       "      <td>1</td>\n",
       "      <td>1</td>\n",
       "      <td>0</td>\n",
       "      <td>105.92</td>\n",
       "      <td>32.50000</td>\n",
       "      <td>1</td>\n",
       "      <td>0</td>\n",
       "      <td>0</td>\n",
       "      <td>1</td>\n",
       "      <td>0</td>\n",
       "      <td>0</td>\n",
       "      <td>0</td>\n",
       "      <td>0</td>\n",
       "      <td>1</td>\n",
       "      <td>0</td>\n",
       "    </tr>\n",
       "    <tr>\n",
       "      <th>3</th>\n",
       "      <td>60182</td>\n",
       "      <td>0</td>\n",
       "      <td>49.0</td>\n",
       "      <td>0</td>\n",
       "      <td>0</td>\n",
       "      <td>1</td>\n",
       "      <td>1</td>\n",
       "      <td>171.23</td>\n",
       "      <td>34.40000</td>\n",
       "      <td>1</td>\n",
       "      <td>0</td>\n",
       "      <td>0</td>\n",
       "      <td>1</td>\n",
       "      <td>0</td>\n",
       "      <td>0</td>\n",
       "      <td>0</td>\n",
       "      <td>0</td>\n",
       "      <td>0</td>\n",
       "      <td>1</td>\n",
       "    </tr>\n",
       "    <tr>\n",
       "      <th>4</th>\n",
       "      <td>1665</td>\n",
       "      <td>0</td>\n",
       "      <td>79.0</td>\n",
       "      <td>1</td>\n",
       "      <td>0</td>\n",
       "      <td>1</td>\n",
       "      <td>0</td>\n",
       "      <td>174.12</td>\n",
       "      <td>24.00000</td>\n",
       "      <td>1</td>\n",
       "      <td>0</td>\n",
       "      <td>0</td>\n",
       "      <td>0</td>\n",
       "      <td>1</td>\n",
       "      <td>0</td>\n",
       "      <td>0</td>\n",
       "      <td>0</td>\n",
       "      <td>1</td>\n",
       "      <td>0</td>\n",
       "    </tr>\n",
       "  </tbody>\n",
       "</table>\n",
       "</div>"
      ],
      "text/plain": [
       "      id  gender   age  hypertension  heart_disease  ever_married  \\\n",
       "0   9046       1  67.0             0              1             1   \n",
       "1  51676       0  61.0             0              0             1   \n",
       "2  31112       1  80.0             0              1             1   \n",
       "3  60182       0  49.0             0              0             1   \n",
       "4   1665       0  79.0             1              0             1   \n",
       "\n",
       "   Residence_type  avg_glucose_level       bmi  stroke  work_type_Govt_job  \\\n",
       "0               1             228.69  36.60000       1                   0   \n",
       "1               0             202.21  28.89456       1                   0   \n",
       "2               0             105.92  32.50000       1                   0   \n",
       "3               1             171.23  34.40000       1                   0   \n",
       "4               0             174.12  24.00000       1                   0   \n",
       "\n",
       "   work_type_Never_worked  work_type_Private  work_type_Self-employed  \\\n",
       "0                       0                  1                        0   \n",
       "1                       0                  0                        1   \n",
       "2                       0                  1                        0   \n",
       "3                       0                  1                        0   \n",
       "4                       0                  0                        1   \n",
       "\n",
       "   work_type_children  smoking_status_Unknown  smoking_status_formerly smoked  \\\n",
       "0                   0                       0                               1   \n",
       "1                   0                       0                               0   \n",
       "2                   0                       0                               0   \n",
       "3                   0                       0                               0   \n",
       "4                   0                       0                               0   \n",
       "\n",
       "   smoking_status_never smoked  smoking_status_smokes  \n",
       "0                            0                      0  \n",
       "1                            1                      0  \n",
       "2                            1                      0  \n",
       "3                            0                      1  \n",
       "4                            1                      0  "
      ]
     },
     "execution_count": 30,
     "metadata": {},
     "output_type": "execute_result"
    }
   ],
   "source": [
    "data.head()"
   ]
  },
  {
   "cell_type": "code",
   "execution_count": 31,
   "id": "7882f559-dfd4-4501-82af-b4c5247d9e77",
   "metadata": {},
   "outputs": [
    {
     "name": "stdout",
     "output_type": "stream",
     "text": [
      "SpearmanrResult(correlation=0.008920477479368813, pvalue=0.5238200265767476)\n"
     ]
    }
   ],
   "source": [
    "print(stats.spearmanr(a=data['smoking_status_smokes'],b=data['stroke']))"
   ]
  },
  {
   "cell_type": "markdown",
   "id": "9d30cc71-7fdc-4031-a42b-5122fa7399a7",
   "metadata": {},
   "source": [
    "# Data resambling to improve imbalanced data"
   ]
  },
  {
   "cell_type": "code",
   "execution_count": 32,
   "id": "fa9edab4-21af-48f1-a780-1cc552c97200",
   "metadata": {
    "tags": []
   },
   "outputs": [
    {
     "name": "stdout",
     "output_type": "stream",
     "text": [
      "0    4860\n",
      "1     249\n",
      "Name: stroke, dtype: int64\n"
     ]
    },
    {
     "data": {
      "text/plain": [
       "<AxesSubplot: >"
      ]
     },
     "execution_count": 32,
     "metadata": {},
     "output_type": "execute_result"
    },
    {
     "data": {
      "image/png": "[encoded data removed]",
      "text/plain": [
       "<Figure size 640x480 with 1 Axes>"
      ]
     },
     "metadata": {},
     "output_type": "display_data"
    }
   ],
   "source": [
    "print(data['stroke'].value_counts())\n",
    "data['stroke'].value_counts().sort_index().plot.bar()"
   ]
  },
  {
   "cell_type": "code",
   "execution_count": 33,
   "id": "75847916-c9ca-485a-b2e0-3977703828e1",
   "metadata": {},
   "outputs": [],
   "source": [
    "data = data.drop('id', axis=1)\n",
    "y = data['stroke']\n",
    "X = data.drop('stroke', axis=1)\n"
   ]
  },
  {
   "cell_type": "code",
   "execution_count": 34,
   "id": "2945c024-57bd-42bf-b2f1-f11dd7c9a942",
   "metadata": {},
   "outputs": [
    {
     "name": "stdout",
     "output_type": "stream",
     "text": [
      "(3831, 17) (1278, 17)\n",
      "(3831,) (1278,)\n"
     ]
    }
   ],
   "source": [
    "from sklearn.model_selection import train_test_split\n",
    "X_train, X_test, y_train, y_test = train_test_split(X, y, test_size=0.25, shuffle=True, random_state=42)\n",
    "print(X_train.shape, X_test.shape)\n",
    "print(y_train.shape, y_test.shape)"
   ]
  },
  {
   "cell_type": "code",
   "execution_count": 35,
   "id": "6d2686f2-4ce4-4c42-87be-630d174fd938",
   "metadata": {},
   "outputs": [],
   "source": [
    "from sklearn.preprocessing import MinMaxScaler \n",
    "sc = MinMaxScaler()\n",
    "\n",
    "X_train = sc.fit_transform(X_train)\n",
    "X_test = sc.transform(X_test)"
   ]
  },
  {
   "cell_type": "code",
   "execution_count": 36,
   "id": "dc8f2326-3068-49a9-94a6-539c63f05e78",
   "metadata": {
    "tags": []
   },
   "outputs": [
    {
     "name": "stdout",
     "output_type": "stream",
     "text": [
      "Stroke counts before resampling:\n",
      "stroke\n",
      "0         3662\n",
      "1          169\n",
      "dtype: int64\n"
     ]
    }
   ],
   "source": [
    "print('Stroke counts before resampling:')\n",
    "print(pd.DataFrame(y_train, columns=['stroke']).value_counts())"
   ]
  },
  {
   "cell_type": "code",
   "execution_count": 37,
   "id": "b0fdaf02-1f86-4f4d-8aa3-71a90755c541",
   "metadata": {},
   "outputs": [
    {
     "name": "stdout",
     "output_type": "stream",
     "text": [
      "(7324, 17) (1278, 17)\n",
      "(7324,) (1278,)\n"
     ]
    }
   ],
   "source": [
    "from imblearn.over_sampling import SMOTE\n",
    "oversample = SMOTE(random_state=2022)\n",
    "X_train, y_train = oversample.fit_resample(X_train, y_train.ravel())\n",
    "print(X_train.shape, X_test.shape)\n",
    "print(y_train.shape, y_test.shape)"
   ]
  },
  {
   "cell_type": "code",
   "execution_count": 38,
   "id": "379bfa91-3ac7-4b8a-842c-f77cf73cc263",
   "metadata": {
    "tags": []
   },
   "outputs": [
    {
     "name": "stdout",
     "output_type": "stream",
     "text": [
      "Stroke counts after resampling:\n",
      "stroke\n",
      "0         3662\n",
      "1         3662\n",
      "dtype: int64\n"
     ]
    }
   ],
   "source": [
    "print('Stroke counts after resampling:')\n",
    "print(pd.DataFrame(y_train, columns=['stroke']).value_counts())"
   ]
  },
  {
   "cell_type": "code",
   "execution_count": 39,
   "id": "3fc9de19-88ad-4f74-b435-d616770959de",
   "metadata": {},
   "outputs": [
    {
     "name": "stdout",
     "output_type": "stream",
     "text": [
      "(7324, 1)\n",
      "(1278, 1)\n"
     ]
    }
   ],
   "source": [
    "X_train_bmi = np.array(X_train[:, [data.columns.get_loc('bmi')]]).reshape(-1, 1)\n",
    "X_test_bmi  = np.array(X_test[:, [data.columns.get_loc('bmi')]]).reshape(-1, 1)\n",
    "print(X_train_bmi.shape)\n",
    "print(X_test_bmi.shape)\n",
    "# X_train_bmi = np.array(X_train['bmi']).reshape(-1, 1)\n",
    "# X_test_bmi  = np.array(X_train['bmi']).reshape(-1, 1)\n",
    "# print(X_train_bmi.shape)\n",
    "# print(X_test_bmi.shape)"
   ]
  },
  {
   "cell_type": "markdown",
   "id": "f28ebc8b-6cfb-41fe-8e9e-8c780c4c8b82",
   "metadata": {
    "tags": []
   },
   "source": [
    "# Preparing model evaluation functions"
   ]
  },
  {
   "cell_type": "code",
   "execution_count": 40,
   "id": "9691c6d4-c535-43cb-8091-e63d75c4db17",
   "metadata": {},
   "outputs": [],
   "source": [
    "from sklearn.metrics import accuracy_score, precision_score, recall_score, confusion_matrix, classification_report"
   ]
  },
  {
   "cell_type": "code",
   "execution_count": 41,
   "id": "7eb47548-3022-4999-93d6-f9f0fe7ce701",
   "metadata": {},
   "outputs": [],
   "source": [
    "def plot_conf_mat(y_test, y_pred):\n",
    "    conf_mat = confusion_matrix(y_test, y_pred)\n",
    "\n",
    "    group_names = ['TN', 'FP', 'FN', 'TP']\n",
    "    group_counts = ['{0:0.0f}'.format(value) for value in conf_mat.flatten()]\n",
    "\n",
    "    labels = [f'{v1}\\n{v2}' for v1, v2 in zip(group_names, group_counts)]\n",
    "    labels = np.asarray(labels).reshape(2,2)\n",
    "\n",
    "    plt.figure(figsize=(8,8))\n",
    "    seaborn.heatmap(conf_mat, annot=labels, fmt='', cmap='Blues')\n",
    "    plt.show()"
   ]
  },
  {
   "cell_type": "code",
   "execution_count": 42,
   "id": "29348f57-376b-451b-9bf2-537bb3af82d7",
   "metadata": {},
   "outputs": [],
   "source": [
    "def report_performance(y_test, y_pred):\n",
    "    accuracy = accuracy_score(y_test, y_pred)\n",
    "    precision = precision_score(y_test, y_pred)\n",
    "    recall = recall_score(y_test, y_pred)\n",
    "    print(f'Accuracy score: {accuracy}')\n",
    "    print(f'Precision score: {precision}')\n",
    "    print(f'Recall score: {recall}')\n",
    "    print('______________________________')\n",
    "    print()\n",
    "    print('Full report:')\n",
    "    print(classification_report(y_test, y_pred))"
   ]
  },
  {
   "cell_type": "markdown",
   "id": "33ca9ba3-9876-4c2b-804d-a04eae470db0",
   "metadata": {
    "tags": []
   },
   "source": [
    "# Stochastic Gradient Descent Classifier"
   ]
  },
  {
   "cell_type": "code",
   "execution_count": 43,
   "id": "70ea41f2-3b55-481c-a692-cad19b10b7b3",
   "metadata": {},
   "outputs": [],
   "source": [
    "from sklearn.linear_model import SGDClassifier"
   ]
  },
  {
   "cell_type": "markdown",
   "id": "7f0ea1d6-7713-4efc-a11f-acdb62d721b3",
   "metadata": {},
   "source": [
    "## Single feature (BMI)"
   ]
  },
  {
   "cell_type": "code",
   "execution_count": 44,
   "id": "f72e2964-a858-41bc-8c60-daf578977df5",
   "metadata": {},
   "outputs": [
    {
     "data": {
      "text/html": [
       "<style>#sk-container-id-1 {color: black;background-color: white;}#sk-container-id-1 pre{padding: 0;}#sk-container-id-1 div.sk-toggleable {background-color: white;}#sk-container-id-1 label.sk-toggleable__label {cursor: pointer;display: block;width: 100%;margin-bottom: 0;padding: 0.3em;box-sizing: border-box;text-align: center;}#sk-container-id-1 label.sk-toggleable__label-arrow:before {content: \"▸\";float: left;margin-right: 0.25em;color: #696969;}#sk-container-id-1 label.sk-toggleable__label-arrow:hover:before {color: black;}#sk-container-id-1 div.sk-estimator:hover label.sk-toggleable__label-arrow:before {color: black;}#sk-container-id-1 div.sk-toggleable__content {max-height: 0;max-width: 0;overflow: hidden;text-align: left;background-color: #f0f8ff;}#sk-container-id-1 div.sk-toggleable__content pre {margin: 0.2em;color: black;border-radius: 0.25em;background-color: #f0f8ff;}#sk-container-id-1 input.sk-toggleable__control:checked~div.sk-toggleable__content {max-height: 200px;max-width: 100%;overflow: auto;}#sk-container-id-1 input.sk-toggleable__control:checked~label.sk-toggleable__label-arrow:before {content: \"▾\";}#sk-container-id-1 div.sk-estimator input.sk-toggleable__control:checked~label.sk-toggleable__label {background-color: #d4ebff;}#sk-container-id-1 div.sk-label input.sk-toggleable__control:checked~label.sk-toggleable__label {background-color: #d4ebff;}#sk-container-id-1 input.sk-hidden--visually {border: 0;clip: rect(1px 1px 1px 1px);clip: rect(1px, 1px, 1px, 1px);height: 1px;margin: -1px;overflow: hidden;padding: 0;position: absolute;width: 1px;}#sk-container-id-1 div.sk-estimator {font-family: monospace;background-color: #f0f8ff;border: 1px dotted black;border-radius: 0.25em;box-sizing: border-box;margin-bottom: 0.5em;}#sk-container-id-1 div.sk-estimator:hover {background-color: #d4ebff;}#sk-container-id-1 div.sk-parallel-item::after {content: \"\";width: 100%;border-bottom: 1px solid gray;flex-grow: 1;}#sk-container-id-1 div.sk-label:hover label.sk-toggleable__label {background-color: #d4ebff;}#sk-container-id-1 div.sk-serial::before {content: \"\";position: absolute;border-left: 1px solid gray;box-sizing: border-box;top: 0;bottom: 0;left: 50%;z-index: 0;}#sk-container-id-1 div.sk-serial {display: flex;flex-direction: column;align-items: center;background-color: white;padding-right: 0.2em;padding-left: 0.2em;position: relative;}#sk-container-id-1 div.sk-item {position: relative;z-index: 1;}#sk-container-id-1 div.sk-parallel {display: flex;align-items: stretch;justify-content: center;background-color: white;position: relative;}#sk-container-id-1 div.sk-item::before, #sk-container-id-1 div.sk-parallel-item::before {content: \"\";position: absolute;border-left: 1px solid gray;box-sizing: border-box;top: 0;bottom: 0;left: 50%;z-index: -1;}#sk-container-id-1 div.sk-parallel-item {display: flex;flex-direction: column;z-index: 1;position: relative;background-color: white;}#sk-container-id-1 div.sk-parallel-item:first-child::after {align-self: flex-end;width: 50%;}#sk-container-id-1 div.sk-parallel-item:last-child::after {align-self: flex-start;width: 50%;}#sk-container-id-1 div.sk-parallel-item:only-child::after {width: 0;}#sk-container-id-1 div.sk-dashed-wrapped {border: 1px dashed gray;margin: 0 0.4em 0.5em 0.4em;box-sizing: border-box;padding-bottom: 0.4em;background-color: white;}#sk-container-id-1 div.sk-label label {font-family: monospace;font-weight: bold;display: inline-block;line-height: 1.2em;}#sk-container-id-1 div.sk-label-container {text-align: center;}#sk-container-id-1 div.sk-container {/* jupyter's `normalize.less` sets `[hidden] { display: none; }` but bootstrap.min.css set `[hidden] { display: none !important; }` so we also need the `!important` here to be able to override the default hidden behavior on the sphinx rendered scikit-learn.org. See: https://github.com/scikit-learn/scikit-learn/issues/21755 */display: inline-block !important;position: relative;}#sk-container-id-1 div.sk-text-repr-fallback {display: none;}</style><div id=\"sk-container-id-1\" class=\"sk-top-container\"><div class=\"sk-text-repr-fallback\"><pre>SGDClassifier()</pre><b>In a Jupyter environment, please rerun this cell to show the HTML representation or trust the notebook. <br />On GitHub, the HTML representation is unable to render, please try loading this page with nbviewer.org.</b></div><div class=\"sk-container\" hidden><div class=\"sk-item\"><div class=\"sk-estimator sk-toggleable\"><input class=\"sk-toggleable__control sk-hidden--visually\" id=\"sk-estimator-id-1\" type=\"checkbox\" checked><label for=\"sk-estimator-id-1\" class=\"sk-toggleable__label sk-toggleable__label-arrow\">SGDClassifier</label><div class=\"sk-toggleable__content\"><pre>SGDClassifier()</pre></div></div></div></div></div>"
      ],
      "text/plain": [
       "SGDClassifier()"
      ]
     },
     "execution_count": 44,
     "metadata": {},
     "output_type": "execute_result"
    }
   ],
   "source": [
    "model = SGDClassifier()\n",
    "model.fit(X_train_bmi, y_train)"
   ]
  },
  {
   "cell_type": "code",
   "execution_count": 45,
   "id": "84d490a0-d836-4837-8beb-4f417615ad60",
   "metadata": {},
   "outputs": [],
   "source": [
    "y_pred = model.predict(X_test_bmi)"
   ]
  },
  {
   "cell_type": "code",
   "execution_count": 46,
   "id": "f2165695-74df-429d-ac9e-a06894449453",
   "metadata": {},
   "outputs": [
    {
     "name": "stdout",
     "output_type": "stream",
     "text": [
      "(1278,)\n"
     ]
    }
   ],
   "source": [
    "print(y_test.shape)"
   ]
  },
  {
   "cell_type": "code",
   "execution_count": 47,
   "id": "4e3688b7-5eea-409b-aa7d-c90ac2ca4d94",
   "metadata": {},
   "outputs": [
    {
     "data": {
      "image/png": "[encoded data removed]",
      "text/plain": [
       "<Figure size 800x800 with 2 Axes>"
      ]
     },
     "metadata": {},
     "output_type": "display_data"
    }
   ],
   "source": [
    "plot_conf_mat(y_test, y_pred)"
   ]
  },
  {
   "cell_type": "code",
   "execution_count": 48,
   "id": "72a77563-f955-413b-8a0c-24c9388c252f",
   "metadata": {},
   "outputs": [
    {
     "name": "stdout",
     "output_type": "stream",
     "text": [
      "Accuracy score: 0.24726134585289514\n",
      "Precision score: 0.07101167315175097\n",
      "Recall score: 0.9125\n",
      "______________________________\n",
      "\n",
      "Full report:\n",
      "              precision    recall  f1-score   support\n",
      "\n",
      "           0       0.97      0.20      0.34      1198\n",
      "           1       0.07      0.91      0.13        80\n",
      "\n",
      "    accuracy                           0.25      1278\n",
      "   macro avg       0.52      0.56      0.23      1278\n",
      "weighted avg       0.92      0.25      0.32      1278\n",
      "\n"
     ]
    }
   ],
   "source": [
    "report_performance(y_test, y_pred)"
   ]
  },
  {
   "cell_type": "markdown",
   "id": "0a66690c-bbb5-4e4d-a096-768f1070f6bc",
   "metadata": {
    "tags": []
   },
   "source": [
    "## All features"
   ]
  },
  {
   "cell_type": "code",
   "execution_count": 49,
   "id": "64bd3715-6cfe-48c3-9e1f-0adeee909eae",
   "metadata": {},
   "outputs": [
    {
     "data": {
      "text/html": [
       "<style>#sk-container-id-2 {color: black;background-color: white;}#sk-container-id-2 pre{padding: 0;}#sk-container-id-2 div.sk-toggleable {background-color: white;}#sk-container-id-2 label.sk-toggleable__label {cursor: pointer;display: block;width: 100%;margin-bottom: 0;padding: 0.3em;box-sizing: border-box;text-align: center;}#sk-container-id-2 label.sk-toggleable__label-arrow:before {content: \"▸\";float: left;margin-right: 0.25em;color: #696969;}#sk-container-id-2 label.sk-toggleable__label-arrow:hover:before {color: black;}#sk-container-id-2 div.sk-estimator:hover label.sk-toggleable__label-arrow:before {color: black;}#sk-container-id-2 div.sk-toggleable__content {max-height: 0;max-width: 0;overflow: hidden;text-align: left;background-color: #f0f8ff;}#sk-container-id-2 div.sk-toggleable__content pre {margin: 0.2em;color: black;border-radius: 0.25em;background-color: #f0f8ff;}#sk-container-id-2 input.sk-toggleable__control:checked~div.sk-toggleable__content {max-height: 200px;max-width: 100%;overflow: auto;}#sk-container-id-2 input.sk-toggleable__control:checked~label.sk-toggleable__label-arrow:before {content: \"▾\";}#sk-container-id-2 div.sk-estimator input.sk-toggleable__control:checked~label.sk-toggleable__label {background-color: #d4ebff;}#sk-container-id-2 div.sk-label input.sk-toggleable__control:checked~label.sk-toggleable__label {background-color: #d4ebff;}#sk-container-id-2 input.sk-hidden--visually {border: 0;clip: rect(1px 1px 1px 1px);clip: rect(1px, 1px, 1px, 1px);height: 1px;margin: -1px;overflow: hidden;padding: 0;position: absolute;width: 1px;}#sk-container-id-2 div.sk-estimator {font-family: monospace;background-color: #f0f8ff;border: 1px dotted black;border-radius: 0.25em;box-sizing: border-box;margin-bottom: 0.5em;}#sk-container-id-2 div.sk-estimator:hover {background-color: #d4ebff;}#sk-container-id-2 div.sk-parallel-item::after {content: \"\";width: 100%;border-bottom: 1px solid gray;flex-grow: 1;}#sk-container-id-2 div.sk-label:hover label.sk-toggleable__label {background-color: #d4ebff;}#sk-container-id-2 div.sk-serial::before {content: \"\";position: absolute;border-left: 1px solid gray;box-sizing: border-box;top: 0;bottom: 0;left: 50%;z-index: 0;}#sk-container-id-2 div.sk-serial {display: flex;flex-direction: column;align-items: center;background-color: white;padding-right: 0.2em;padding-left: 0.2em;position: relative;}#sk-container-id-2 div.sk-item {position: relative;z-index: 1;}#sk-container-id-2 div.sk-parallel {display: flex;align-items: stretch;justify-content: center;background-color: white;position: relative;}#sk-container-id-2 div.sk-item::before, #sk-container-id-2 div.sk-parallel-item::before {content: \"\";position: absolute;border-left: 1px solid gray;box-sizing: border-box;top: 0;bottom: 0;left: 50%;z-index: -1;}#sk-container-id-2 div.sk-parallel-item {display: flex;flex-direction: column;z-index: 1;position: relative;background-color: white;}#sk-container-id-2 div.sk-parallel-item:first-child::after {align-self: flex-end;width: 50%;}#sk-container-id-2 div.sk-parallel-item:last-child::after {align-self: flex-start;width: 50%;}#sk-container-id-2 div.sk-parallel-item:only-child::after {width: 0;}#sk-container-id-2 div.sk-dashed-wrapped {border: 1px dashed gray;margin: 0 0.4em 0.5em 0.4em;box-sizing: border-box;padding-bottom: 0.4em;background-color: white;}#sk-container-id-2 div.sk-label label {font-family: monospace;font-weight: bold;display: inline-block;line-height: 1.2em;}#sk-container-id-2 div.sk-label-container {text-align: center;}#sk-container-id-2 div.sk-container {/* jupyter's `normalize.less` sets `[hidden] { display: none; }` but bootstrap.min.css set `[hidden] { display: none !important; }` so we also need the `!important` here to be able to override the default hidden behavior on the sphinx rendered scikit-learn.org. See: https://github.com/scikit-learn/scikit-learn/issues/21755 */display: inline-block !important;position: relative;}#sk-container-id-2 div.sk-text-repr-fallback {display: none;}</style><div id=\"sk-container-id-2\" class=\"sk-top-container\"><div class=\"sk-text-repr-fallback\"><pre>SGDClassifier()</pre><b>In a Jupyter environment, please rerun this cell to show the HTML representation or trust the notebook. <br />On GitHub, the HTML representation is unable to render, please try loading this page with nbviewer.org.</b></div><div class=\"sk-container\" hidden><div class=\"sk-item\"><div class=\"sk-estimator sk-toggleable\"><input class=\"sk-toggleable__control sk-hidden--visually\" id=\"sk-estimator-id-2\" type=\"checkbox\" checked><label for=\"sk-estimator-id-2\" class=\"sk-toggleable__label sk-toggleable__label-arrow\">SGDClassifier</label><div class=\"sk-toggleable__content\"><pre>SGDClassifier()</pre></div></div></div></div></div>"
      ],
      "text/plain": [
       "SGDClassifier()"
      ]
     },
     "execution_count": 49,
     "metadata": {},
     "output_type": "execute_result"
    }
   ],
   "source": [
    "del model\n",
    "model = SGDClassifier()\n",
    "model.fit(X_train, y_train)"
   ]
  },
  {
   "cell_type": "code",
   "execution_count": 50,
   "id": "52be9ee8-f43d-4085-b63f-2ef2691fe395",
   "metadata": {},
   "outputs": [],
   "source": [
    "y_pred = model.predict(X_test)"
   ]
  },
  {
   "cell_type": "code",
   "execution_count": 51,
   "id": "0fda61ab-4008-4b06-9e68-f313fd3cd61a",
   "metadata": {},
   "outputs": [
    {
     "name": "stdout",
     "output_type": "stream",
     "text": [
      "(7324, 17)\n"
     ]
    }
   ],
   "source": [
    "print(X_train.shape)"
   ]
  },
  {
   "cell_type": "code",
   "execution_count": 52,
   "id": "13cf8cf6-5278-4672-a41f-5c8119d1aab3",
   "metadata": {},
   "outputs": [
    {
     "data": {
      "image/png": "[encoded data removed]",
      "text/plain": [
       "<Figure size 800x800 with 2 Axes>"
      ]
     },
     "metadata": {},
     "output_type": "display_data"
    }
   ],
   "source": [
    "plot_conf_mat(y_test, y_pred)"
   ]
  },
  {
   "cell_type": "code",
   "execution_count": 53,
   "id": "188f442e-589e-49f9-a86a-a290b91c0ec7",
   "metadata": {},
   "outputs": [
    {
     "name": "stdout",
     "output_type": "stream",
     "text": [
      "Accuracy score: 0.6815336463223787\n",
      "Precision score: 0.1422319474835886\n",
      "Recall score: 0.8125\n",
      "______________________________\n",
      "\n",
      "Full report:\n",
      "              precision    recall  f1-score   support\n",
      "\n",
      "           0       0.98      0.67      0.80      1198\n",
      "           1       0.14      0.81      0.24        80\n",
      "\n",
      "    accuracy                           0.68      1278\n",
      "   macro avg       0.56      0.74      0.52      1278\n",
      "weighted avg       0.93      0.68      0.76      1278\n",
      "\n"
     ]
    }
   ],
   "source": [
    "report_performance(y_test, y_pred)"
   ]
  },
  {
   "cell_type": "markdown",
   "id": "ca015bfa-07c2-48ca-b775-e01e15fd4b25",
   "metadata": {
    "tags": []
   },
   "source": [
    "# Logistic Regression"
   ]
  },
  {
   "cell_type": "code",
   "execution_count": 54,
   "id": "7ab939ed-1920-4b6c-931a-0accda98bd07",
   "metadata": {},
   "outputs": [],
   "source": [
    "from sklearn.linear_model import LogisticRegression"
   ]
  },
  {
   "cell_type": "markdown",
   "id": "e65512c9-b12b-4a8f-a674-50600fe6799e",
   "metadata": {
    "tags": []
   },
   "source": [
    "## Single feature (BMI)"
   ]
  },
  {
   "cell_type": "code",
   "execution_count": 55,
   "id": "40bb4b58-78ab-4344-9ec9-f8b71fc235d7",
   "metadata": {},
   "outputs": [
    {
     "data": {
      "text/html": [
       "<style>#sk-container-id-3 {color: black;background-color: white;}#sk-container-id-3 pre{padding: 0;}#sk-container-id-3 div.sk-toggleable {background-color: white;}#sk-container-id-3 label.sk-toggleable__label {cursor: pointer;display: block;width: 100%;margin-bottom: 0;padding: 0.3em;box-sizing: border-box;text-align: center;}#sk-container-id-3 label.sk-toggleable__label-arrow:before {content: \"▸\";float: left;margin-right: 0.25em;color: #696969;}#sk-container-id-3 label.sk-toggleable__label-arrow:hover:before {color: black;}#sk-container-id-3 div.sk-estimator:hover label.sk-toggleable__label-arrow:before {color: black;}#sk-container-id-3 div.sk-toggleable__content {max-height: 0;max-width: 0;overflow: hidden;text-align: left;background-color: #f0f8ff;}#sk-container-id-3 div.sk-toggleable__content pre {margin: 0.2em;color: black;border-radius: 0.25em;background-color: #f0f8ff;}#sk-container-id-3 input.sk-toggleable__control:checked~div.sk-toggleable__content {max-height: 200px;max-width: 100%;overflow: auto;}#sk-container-id-3 input.sk-toggleable__control:checked~label.sk-toggleable__label-arrow:before {content: \"▾\";}#sk-container-id-3 div.sk-estimator input.sk-toggleable__control:checked~label.sk-toggleable__label {background-color: #d4ebff;}#sk-container-id-3 div.sk-label input.sk-toggleable__control:checked~label.sk-toggleable__label {background-color: #d4ebff;}#sk-container-id-3 input.sk-hidden--visually {border: 0;clip: rect(1px 1px 1px 1px);clip: rect(1px, 1px, 1px, 1px);height: 1px;margin: -1px;overflow: hidden;padding: 0;position: absolute;width: 1px;}#sk-container-id-3 div.sk-estimator {font-family: monospace;background-color: #f0f8ff;border: 1px dotted black;border-radius: 0.25em;box-sizing: border-box;margin-bottom: 0.5em;}#sk-container-id-3 div.sk-estimator:hover {background-color: #d4ebff;}#sk-container-id-3 div.sk-parallel-item::after {content: \"\";width: 100%;border-bottom: 1px solid gray;flex-grow: 1;}#sk-container-id-3 div.sk-label:hover label.sk-toggleable__label {background-color: #d4ebff;}#sk-container-id-3 div.sk-serial::before {content: \"\";position: absolute;border-left: 1px solid gray;box-sizing: border-box;top: 0;bottom: 0;left: 50%;z-index: 0;}#sk-container-id-3 div.sk-serial {display: flex;flex-direction: column;align-items: center;background-color: white;padding-right: 0.2em;padding-left: 0.2em;position: relative;}#sk-container-id-3 div.sk-item {position: relative;z-index: 1;}#sk-container-id-3 div.sk-parallel {display: flex;align-items: stretch;justify-content: center;background-color: white;position: relative;}#sk-container-id-3 div.sk-item::before, #sk-container-id-3 div.sk-parallel-item::before {content: \"\";position: absolute;border-left: 1px solid gray;box-sizing: border-box;top: 0;bottom: 0;left: 50%;z-index: -1;}#sk-container-id-3 div.sk-parallel-item {display: flex;flex-direction: column;z-index: 1;position: relative;background-color: white;}#sk-container-id-3 div.sk-parallel-item:first-child::after {align-self: flex-end;width: 50%;}#sk-container-id-3 div.sk-parallel-item:last-child::after {align-self: flex-start;width: 50%;}#sk-container-id-3 div.sk-parallel-item:only-child::after {width: 0;}#sk-container-id-3 div.sk-dashed-wrapped {border: 1px dashed gray;margin: 0 0.4em 0.5em 0.4em;box-sizing: border-box;padding-bottom: 0.4em;background-color: white;}#sk-container-id-3 div.sk-label label {font-family: monospace;font-weight: bold;display: inline-block;line-height: 1.2em;}#sk-container-id-3 div.sk-label-container {text-align: center;}#sk-container-id-3 div.sk-container {/* jupyter's `normalize.less` sets `[hidden] { display: none; }` but bootstrap.min.css set `[hidden] { display: none !important; }` so we also need the `!important` here to be able to override the default hidden behavior on the sphinx rendered scikit-learn.org. See: https://github.com/scikit-learn/scikit-learn/issues/21755 */display: inline-block !important;position: relative;}#sk-container-id-3 div.sk-text-repr-fallback {display: none;}</style><div id=\"sk-container-id-3\" class=\"sk-top-container\"><div class=\"sk-text-repr-fallback\"><pre>LogisticRegression(max_iter=300)</pre><b>In a Jupyter environment, please rerun this cell to show the HTML representation or trust the notebook. <br />On GitHub, the HTML representation is unable to render, please try loading this page with nbviewer.org.</b></div><div class=\"sk-container\" hidden><div class=\"sk-item\"><div class=\"sk-estimator sk-toggleable\"><input class=\"sk-toggleable__control sk-hidden--visually\" id=\"sk-estimator-id-3\" type=\"checkbox\" checked><label for=\"sk-estimator-id-3\" class=\"sk-toggleable__label sk-toggleable__label-arrow\">LogisticRegression</label><div class=\"sk-toggleable__content\"><pre>LogisticRegression(max_iter=300)</pre></div></div></div></div></div>"
      ],
      "text/plain": [
       "LogisticRegression(max_iter=300)"
      ]
     },
     "execution_count": 55,
     "metadata": {},
     "output_type": "execute_result"
    }
   ],
   "source": [
    "del model\n",
    "model = LogisticRegression(max_iter=300)\n",
    "model.fit(X_train_bmi, y_train)"
   ]
  },
  {
   "cell_type": "code",
   "execution_count": 56,
   "id": "296b2da6-2636-4d62-a8fb-0ac27baeb9be",
   "metadata": {},
   "outputs": [],
   "source": [
    "y_pred = model.predict(X_test_bmi)"
   ]
  },
  {
   "cell_type": "code",
   "execution_count": 57,
   "id": "39428ca5-6c8b-4871-9d16-b423028d7521",
   "metadata": {},
   "outputs": [
    {
     "data": {
      "image/png": "[encoded data removed]",
      "text/plain": [
       "<Figure size 800x800 with 2 Axes>"
      ]
     },
     "metadata": {},
     "output_type": "display_data"
    }
   ],
   "source": [
    "plot_conf_mat(y_test, y_pred)"
   ]
  },
  {
   "cell_type": "code",
   "execution_count": 58,
   "id": "cf5d8bb1-fa9a-44c8-9193-1108271b4a35",
   "metadata": {},
   "outputs": [
    {
     "name": "stdout",
     "output_type": "stream",
     "text": [
      "Accuracy score: 0.5837245696400626\n",
      "Precision score: 0.06538461538461539\n",
      "Recall score: 0.425\n",
      "______________________________\n",
      "\n",
      "Full report:\n",
      "              precision    recall  f1-score   support\n",
      "\n",
      "           0       0.94      0.59      0.73      1198\n",
      "           1       0.07      0.42      0.11        80\n",
      "\n",
      "    accuracy                           0.58      1278\n",
      "   macro avg       0.50      0.51      0.42      1278\n",
      "weighted avg       0.88      0.58      0.69      1278\n",
      "\n"
     ]
    }
   ],
   "source": [
    "report_performance(y_test, y_pred)"
   ]
  },
  {
   "cell_type": "markdown",
   "id": "e6fbe6c2-1cb0-47df-a6fd-8498e61fd9a8",
   "metadata": {},
   "source": [
    "## All features"
   ]
  },
  {
   "cell_type": "code",
   "execution_count": 59,
   "id": "c8c23124-3f14-408d-9799-e2cce5f48989",
   "metadata": {},
   "outputs": [
    {
     "data": {
      "text/html": [
       "<style>#sk-container-id-4 {color: black;background-color: white;}#sk-container-id-4 pre{padding: 0;}#sk-container-id-4 div.sk-toggleable {background-color: white;}#sk-container-id-4 label.sk-toggleable__label {cursor: pointer;display: block;width: 100%;margin-bottom: 0;padding: 0.3em;box-sizing: border-box;text-align: center;}#sk-container-id-4 label.sk-toggleable__label-arrow:before {content: \"▸\";float: left;margin-right: 0.25em;color: #696969;}#sk-container-id-4 label.sk-toggleable__label-arrow:hover:before {color: black;}#sk-container-id-4 div.sk-estimator:hover label.sk-toggleable__label-arrow:before {color: black;}#sk-container-id-4 div.sk-toggleable__content {max-height: 0;max-width: 0;overflow: hidden;text-align: left;background-color: #f0f8ff;}#sk-container-id-4 div.sk-toggleable__content pre {margin: 0.2em;color: black;border-radius: 0.25em;background-color: #f0f8ff;}#sk-container-id-4 input.sk-toggleable__control:checked~div.sk-toggleable__content {max-height: 200px;max-width: 100%;overflow: auto;}#sk-container-id-4 input.sk-toggleable__control:checked~label.sk-toggleable__label-arrow:before {content: \"▾\";}#sk-container-id-4 div.sk-estimator input.sk-toggleable__control:checked~label.sk-toggleable__label {background-color: #d4ebff;}#sk-container-id-4 div.sk-label input.sk-toggleable__control:checked~label.sk-toggleable__label {background-color: #d4ebff;}#sk-container-id-4 input.sk-hidden--visually {border: 0;clip: rect(1px 1px 1px 1px);clip: rect(1px, 1px, 1px, 1px);height: 1px;margin: -1px;overflow: hidden;padding: 0;position: absolute;width: 1px;}#sk-container-id-4 div.sk-estimator {font-family: monospace;background-color: #f0f8ff;border: 1px dotted black;border-radius: 0.25em;box-sizing: border-box;margin-bottom: 0.5em;}#sk-container-id-4 div.sk-estimator:hover {background-color: #d4ebff;}#sk-container-id-4 div.sk-parallel-item::after {content: \"\";width: 100%;border-bottom: 1px solid gray;flex-grow: 1;}#sk-container-id-4 div.sk-label:hover label.sk-toggleable__label {background-color: #d4ebff;}#sk-container-id-4 div.sk-serial::before {content: \"\";position: absolute;border-left: 1px solid gray;box-sizing: border-box;top: 0;bottom: 0;left: 50%;z-index: 0;}#sk-container-id-4 div.sk-serial {display: flex;flex-direction: column;align-items: center;background-color: white;padding-right: 0.2em;padding-left: 0.2em;position: relative;}#sk-container-id-4 div.sk-item {position: relative;z-index: 1;}#sk-container-id-4 div.sk-parallel {display: flex;align-items: stretch;justify-content: center;background-color: white;position: relative;}#sk-container-id-4 div.sk-item::before, #sk-container-id-4 div.sk-parallel-item::before {content: \"\";position: absolute;border-left: 1px solid gray;box-sizing: border-box;top: 0;bottom: 0;left: 50%;z-index: -1;}#sk-container-id-4 div.sk-parallel-item {display: flex;flex-direction: column;z-index: 1;position: relative;background-color: white;}#sk-container-id-4 div.sk-parallel-item:first-child::after {align-self: flex-end;width: 50%;}#sk-container-id-4 div.sk-parallel-item:last-child::after {align-self: flex-start;width: 50%;}#sk-container-id-4 div.sk-parallel-item:only-child::after {width: 0;}#sk-container-id-4 div.sk-dashed-wrapped {border: 1px dashed gray;margin: 0 0.4em 0.5em 0.4em;box-sizing: border-box;padding-bottom: 0.4em;background-color: white;}#sk-container-id-4 div.sk-label label {font-family: monospace;font-weight: bold;display: inline-block;line-height: 1.2em;}#sk-container-id-4 div.sk-label-container {text-align: center;}#sk-container-id-4 div.sk-container {/* jupyter's `normalize.less` sets `[hidden] { display: none; }` but bootstrap.min.css set `[hidden] { display: none !important; }` so we also need the `!important` here to be able to override the default hidden behavior on the sphinx rendered scikit-learn.org. See: https://github.com/scikit-learn/scikit-learn/issues/21755 */display: inline-block !important;position: relative;}#sk-container-id-4 div.sk-text-repr-fallback {display: none;}</style><div id=\"sk-container-id-4\" class=\"sk-top-container\"><div class=\"sk-text-repr-fallback\"><pre>LogisticRegression(max_iter=300)</pre><b>In a Jupyter environment, please rerun this cell to show the HTML representation or trust the notebook. <br />On GitHub, the HTML representation is unable to render, please try loading this page with nbviewer.org.</b></div><div class=\"sk-container\" hidden><div class=\"sk-item\"><div class=\"sk-estimator sk-toggleable\"><input class=\"sk-toggleable__control sk-hidden--visually\" id=\"sk-estimator-id-4\" type=\"checkbox\" checked><label for=\"sk-estimator-id-4\" class=\"sk-toggleable__label sk-toggleable__label-arrow\">LogisticRegression</label><div class=\"sk-toggleable__content\"><pre>LogisticRegression(max_iter=300)</pre></div></div></div></div></div>"
      ],
      "text/plain": [
       "LogisticRegression(max_iter=300)"
      ]
     },
     "execution_count": 59,
     "metadata": {},
     "output_type": "execute_result"
    }
   ],
   "source": [
    "del model\n",
    "model = LogisticRegression(max_iter=300)\n",
    "model.fit(X_train, y_train)"
   ]
  },
  {
   "cell_type": "code",
   "execution_count": 60,
   "id": "f7f0cee5-3cfa-4436-85bc-732526c69174",
   "metadata": {},
   "outputs": [],
   "source": [
    "y_pred = model.predict(X_test)"
   ]
  },
  {
   "cell_type": "code",
   "execution_count": 61,
   "id": "2af0049d-e054-4e37-8164-fb51821529f4",
   "metadata": {},
   "outputs": [
    {
     "data": {
      "image/png": "[encoded data removed]",
      "text/plain": [
       "<Figure size 800x800 with 2 Axes>"
      ]
     },
     "metadata": {},
     "output_type": "display_data"
    }
   ],
   "source": [
    "plot_conf_mat(y_test, y_pred)"
   ]
  },
  {
   "cell_type": "code",
   "execution_count": 62,
   "id": "a0b81734-9b46-4977-b335-f3fb6f73358b",
   "metadata": {},
   "outputs": [
    {
     "name": "stdout",
     "output_type": "stream",
     "text": [
      "Accuracy score: 0.7394366197183099\n",
      "Precision score: 0.15342465753424658\n",
      "Recall score: 0.7\n",
      "______________________________\n",
      "\n",
      "Full report:\n",
      "              precision    recall  f1-score   support\n",
      "\n",
      "           0       0.97      0.74      0.84      1198\n",
      "           1       0.15      0.70      0.25        80\n",
      "\n",
      "    accuracy                           0.74      1278\n",
      "   macro avg       0.56      0.72      0.55      1278\n",
      "weighted avg       0.92      0.74      0.81      1278\n",
      "\n"
     ]
    }
   ],
   "source": [
    "report_performance(y_test, y_pred)"
   ]
  },
  {
   "cell_type": "markdown",
   "id": "708e2e21-617a-49f3-94d2-8e88deb49b75",
   "metadata": {
    "tags": []
   },
   "source": [
    "# Decision Tree Classification"
   ]
  },
  {
   "cell_type": "code",
   "execution_count": 63,
   "id": "879f2f77-1b95-4fa6-bba9-42b7bc686d27",
   "metadata": {},
   "outputs": [],
   "source": [
    "from sklearn.tree import DecisionTreeClassifier"
   ]
  },
  {
   "cell_type": "markdown",
   "id": "9275e99c-8ae8-43ac-9326-332961bb4527",
   "metadata": {},
   "source": [
    "## Single feature (BMI)"
   ]
  },
  {
   "cell_type": "code",
   "execution_count": 64,
   "id": "27b78992-6a7e-4ab0-9756-56c871513dbc",
   "metadata": {},
   "outputs": [
    {
     "data": {
      "text/html": [
       "<style>#sk-container-id-5 {color: black;background-color: white;}#sk-container-id-5 pre{padding: 0;}#sk-container-id-5 div.sk-toggleable {background-color: white;}#sk-container-id-5 label.sk-toggleable__label {cursor: pointer;display: block;width: 100%;margin-bottom: 0;padding: 0.3em;box-sizing: border-box;text-align: center;}#sk-container-id-5 label.sk-toggleable__label-arrow:before {content: \"▸\";float: left;margin-right: 0.25em;color: #696969;}#sk-container-id-5 label.sk-toggleable__label-arrow:hover:before {color: black;}#sk-container-id-5 div.sk-estimator:hover label.sk-toggleable__label-arrow:before {color: black;}#sk-container-id-5 div.sk-toggleable__content {max-height: 0;max-width: 0;overflow: hidden;text-align: left;background-color: #f0f8ff;}#sk-container-id-5 div.sk-toggleable__content pre {margin: 0.2em;color: black;border-radius: 0.25em;background-color: #f0f8ff;}#sk-container-id-5 input.sk-toggleable__control:checked~div.sk-toggleable__content {max-height: 200px;max-width: 100%;overflow: auto;}#sk-container-id-5 input.sk-toggleable__control:checked~label.sk-toggleable__label-arrow:before {content: \"▾\";}#sk-container-id-5 div.sk-estimator input.sk-toggleable__control:checked~label.sk-toggleable__label {background-color: #d4ebff;}#sk-container-id-5 div.sk-label input.sk-toggleable__control:checked~label.sk-toggleable__label {background-color: #d4ebff;}#sk-container-id-5 input.sk-hidden--visually {border: 0;clip: rect(1px 1px 1px 1px);clip: rect(1px, 1px, 1px, 1px);height: 1px;margin: -1px;overflow: hidden;padding: 0;position: absolute;width: 1px;}#sk-container-id-5 div.sk-estimator {font-family: monospace;background-color: #f0f8ff;border: 1px dotted black;border-radius: 0.25em;box-sizing: border-box;margin-bottom: 0.5em;}#sk-container-id-5 div.sk-estimator:hover {background-color: #d4ebff;}#sk-container-id-5 div.sk-parallel-item::after {content: \"\";width: 100%;border-bottom: 1px solid gray;flex-grow: 1;}#sk-container-id-5 div.sk-label:hover label.sk-toggleable__label {background-color: #d4ebff;}#sk-container-id-5 div.sk-serial::before {content: \"\";position: absolute;border-left: 1px solid gray;box-sizing: border-box;top: 0;bottom: 0;left: 50%;z-index: 0;}#sk-container-id-5 div.sk-serial {display: flex;flex-direction: column;align-items: center;background-color: white;padding-right: 0.2em;padding-left: 0.2em;position: relative;}#sk-container-id-5 div.sk-item {position: relative;z-index: 1;}#sk-container-id-5 div.sk-parallel {display: flex;align-items: stretch;justify-content: center;background-color: white;position: relative;}#sk-container-id-5 div.sk-item::before, #sk-container-id-5 div.sk-parallel-item::before {content: \"\";position: absolute;border-left: 1px solid gray;box-sizing: border-box;top: 0;bottom: 0;left: 50%;z-index: -1;}#sk-container-id-5 div.sk-parallel-item {display: flex;flex-direction: column;z-index: 1;position: relative;background-color: white;}#sk-container-id-5 div.sk-parallel-item:first-child::after {align-self: flex-end;width: 50%;}#sk-container-id-5 div.sk-parallel-item:last-child::after {align-self: flex-start;width: 50%;}#sk-container-id-5 div.sk-parallel-item:only-child::after {width: 0;}#sk-container-id-5 div.sk-dashed-wrapped {border: 1px dashed gray;margin: 0 0.4em 0.5em 0.4em;box-sizing: border-box;padding-bottom: 0.4em;background-color: white;}#sk-container-id-5 div.sk-label label {font-family: monospace;font-weight: bold;display: inline-block;line-height: 1.2em;}#sk-container-id-5 div.sk-label-container {text-align: center;}#sk-container-id-5 div.sk-container {/* jupyter's `normalize.less` sets `[hidden] { display: none; }` but bootstrap.min.css set `[hidden] { display: none !important; }` so we also need the `!important` here to be able to override the default hidden behavior on the sphinx rendered scikit-learn.org. See: https://github.com/scikit-learn/scikit-learn/issues/21755 */display: inline-block !important;position: relative;}#sk-container-id-5 div.sk-text-repr-fallback {display: none;}</style><div id=\"sk-container-id-5\" class=\"sk-top-container\"><div class=\"sk-text-repr-fallback\"><pre>DecisionTreeClassifier()</pre><b>In a Jupyter environment, please rerun this cell to show the HTML representation or trust the notebook. <br />On GitHub, the HTML representation is unable to render, please try loading this page with nbviewer.org.</b></div><div class=\"sk-container\" hidden><div class=\"sk-item\"><div class=\"sk-estimator sk-toggleable\"><input class=\"sk-toggleable__control sk-hidden--visually\" id=\"sk-estimator-id-5\" type=\"checkbox\" checked><label for=\"sk-estimator-id-5\" class=\"sk-toggleable__label sk-toggleable__label-arrow\">DecisionTreeClassifier</label><div class=\"sk-toggleable__content\"><pre>DecisionTreeClassifier()</pre></div></div></div></div></div>"
      ],
      "text/plain": [
       "DecisionTreeClassifier()"
      ]
     },
     "execution_count": 64,
     "metadata": {},
     "output_type": "execute_result"
    }
   ],
   "source": [
    "del model\n",
    "model = DecisionTreeClassifier()\n",
    "model.fit(X_train_bmi, y_train)"
   ]
  },
  {
   "cell_type": "code",
   "execution_count": 65,
   "id": "66c71efb-ace6-4046-a50c-94609fe0fb67",
   "metadata": {},
   "outputs": [],
   "source": [
    "y_pred = model.predict(X_test_bmi)"
   ]
  },
  {
   "cell_type": "code",
   "execution_count": 66,
   "id": "a67fb043-e1a8-4e49-bb99-060b9fdabf9b",
   "metadata": {},
   "outputs": [
    {
     "data": {
      "image/png": "[encoded data removed]",
      "text/plain": [
       "<Figure size 800x800 with 2 Axes>"
      ]
     },
     "metadata": {},
     "output_type": "display_data"
    }
   ],
   "source": [
    "plot_conf_mat(y_test, y_pred)"
   ]
  },
  {
   "cell_type": "code",
   "execution_count": 67,
   "id": "af2327ad-41d5-43b0-9a06-3d4c7faf07e3",
   "metadata": {},
   "outputs": [
    {
     "name": "stdout",
     "output_type": "stream",
     "text": [
      "Accuracy score: 0.9092331768388107\n",
      "Precision score: 0.20967741935483872\n",
      "Recall score: 0.1625\n",
      "______________________________\n",
      "\n",
      "Full report:\n",
      "              precision    recall  f1-score   support\n",
      "\n",
      "           0       0.94      0.96      0.95      1198\n",
      "           1       0.21      0.16      0.18        80\n",
      "\n",
      "    accuracy                           0.91      1278\n",
      "   macro avg       0.58      0.56      0.57      1278\n",
      "weighted avg       0.90      0.91      0.90      1278\n",
      "\n"
     ]
    }
   ],
   "source": [
    "report_performance(y_test, y_pred)"
   ]
  },
  {
   "cell_type": "code",
   "execution_count": null,
   "id": "3d2d96f1-1f5c-4359-8eab-5f1b4969be83",
   "metadata": {},
   "outputs": [],
   "source": []
  },
  {
   "cell_type": "markdown",
   "id": "da24269c-a8d6-4fa6-8e28-4c1ebd66625d",
   "metadata": {},
   "source": [
    "## All features"
   ]
  },
  {
   "cell_type": "code",
   "execution_count": 68,
   "id": "ea1366ae-2f1c-435e-b7cc-b99fccd775a0",
   "metadata": {},
   "outputs": [
    {
     "data": {
      "text/html": [
       "<style>#sk-container-id-6 {color: black;background-color: white;}#sk-container-id-6 pre{padding: 0;}#sk-container-id-6 div.sk-toggleable {background-color: white;}#sk-container-id-6 label.sk-toggleable__label {cursor: pointer;display: block;width: 100%;margin-bottom: 0;padding: 0.3em;box-sizing: border-box;text-align: center;}#sk-container-id-6 label.sk-toggleable__label-arrow:before {content: \"▸\";float: left;margin-right: 0.25em;color: #696969;}#sk-container-id-6 label.sk-toggleable__label-arrow:hover:before {color: black;}#sk-container-id-6 div.sk-estimator:hover label.sk-toggleable__label-arrow:before {color: black;}#sk-container-id-6 div.sk-toggleable__content {max-height: 0;max-width: 0;overflow: hidden;text-align: left;background-color: #f0f8ff;}#sk-container-id-6 div.sk-toggleable__content pre {margin: 0.2em;color: black;border-radius: 0.25em;background-color: #f0f8ff;}#sk-container-id-6 input.sk-toggleable__control:checked~div.sk-toggleable__content {max-height: 200px;max-width: 100%;overflow: auto;}#sk-container-id-6 input.sk-toggleable__control:checked~label.sk-toggleable__label-arrow:before {content: \"▾\";}#sk-container-id-6 div.sk-estimator input.sk-toggleable__control:checked~label.sk-toggleable__label {background-color: #d4ebff;}#sk-container-id-6 div.sk-label input.sk-toggleable__control:checked~label.sk-toggleable__label {background-color: #d4ebff;}#sk-container-id-6 input.sk-hidden--visually {border: 0;clip: rect(1px 1px 1px 1px);clip: rect(1px, 1px, 1px, 1px);height: 1px;margin: -1px;overflow: hidden;padding: 0;position: absolute;width: 1px;}#sk-container-id-6 div.sk-estimator {font-family: monospace;background-color: #f0f8ff;border: 1px dotted black;border-radius: 0.25em;box-sizing: border-box;margin-bottom: 0.5em;}#sk-container-id-6 div.sk-estimator:hover {background-color: #d4ebff;}#sk-container-id-6 div.sk-parallel-item::after {content: \"\";width: 100%;border-bottom: 1px solid gray;flex-grow: 1;}#sk-container-id-6 div.sk-label:hover label.sk-toggleable__label {background-color: #d4ebff;}#sk-container-id-6 div.sk-serial::before {content: \"\";position: absolute;border-left: 1px solid gray;box-sizing: border-box;top: 0;bottom: 0;left: 50%;z-index: 0;}#sk-container-id-6 div.sk-serial {display: flex;flex-direction: column;align-items: center;background-color: white;padding-right: 0.2em;padding-left: 0.2em;position: relative;}#sk-container-id-6 div.sk-item {position: relative;z-index: 1;}#sk-container-id-6 div.sk-parallel {display: flex;align-items: stretch;justify-content: center;background-color: white;position: relative;}#sk-container-id-6 div.sk-item::before, #sk-container-id-6 div.sk-parallel-item::before {content: \"\";position: absolute;border-left: 1px solid gray;box-sizing: border-box;top: 0;bottom: 0;left: 50%;z-index: -1;}#sk-container-id-6 div.sk-parallel-item {display: flex;flex-direction: column;z-index: 1;position: relative;background-color: white;}#sk-container-id-6 div.sk-parallel-item:first-child::after {align-self: flex-end;width: 50%;}#sk-container-id-6 div.sk-parallel-item:last-child::after {align-self: flex-start;width: 50%;}#sk-container-id-6 div.sk-parallel-item:only-child::after {width: 0;}#sk-container-id-6 div.sk-dashed-wrapped {border: 1px dashed gray;margin: 0 0.4em 0.5em 0.4em;box-sizing: border-box;padding-bottom: 0.4em;background-color: white;}#sk-container-id-6 div.sk-label label {font-family: monospace;font-weight: bold;display: inline-block;line-height: 1.2em;}#sk-container-id-6 div.sk-label-container {text-align: center;}#sk-container-id-6 div.sk-container {/* jupyter's `normalize.less` sets `[hidden] { display: none; }` but bootstrap.min.css set `[hidden] { display: none !important; }` so we also need the `!important` here to be able to override the default hidden behavior on the sphinx rendered scikit-learn.org. See: https://github.com/scikit-learn/scikit-learn/issues/21755 */display: inline-block !important;position: relative;}#sk-container-id-6 div.sk-text-repr-fallback {display: none;}</style><div id=\"sk-container-id-6\" class=\"sk-top-container\"><div class=\"sk-text-repr-fallback\"><pre>DecisionTreeClassifier()</pre><b>In a Jupyter environment, please rerun this cell to show the HTML representation or trust the notebook. <br />On GitHub, the HTML representation is unable to render, please try loading this page with nbviewer.org.</b></div><div class=\"sk-container\" hidden><div class=\"sk-item\"><div class=\"sk-estimator sk-toggleable\"><input class=\"sk-toggleable__control sk-hidden--visually\" id=\"sk-estimator-id-6\" type=\"checkbox\" checked><label for=\"sk-estimator-id-6\" class=\"sk-toggleable__label sk-toggleable__label-arrow\">DecisionTreeClassifier</label><div class=\"sk-toggleable__content\"><pre>DecisionTreeClassifier()</pre></div></div></div></div></div>"
      ],
      "text/plain": [
       "DecisionTreeClassifier()"
      ]
     },
     "execution_count": 68,
     "metadata": {},
     "output_type": "execute_result"
    }
   ],
   "source": [
    "#del model\n",
    "model = DecisionTreeClassifier()\n",
    "model.fit(X_train, y_train)"
   ]
  },
  {
   "cell_type": "code",
   "execution_count": 69,
   "id": "853e2ecb-11b9-4d8d-894c-d715c10ef28e",
   "metadata": {},
   "outputs": [],
   "source": [
    "y_pred = model.predict(X_test)"
   ]
  },
  {
   "cell_type": "code",
   "execution_count": 70,
   "id": "a7e4456f-f2e4-472c-8c87-bb41a65c5371",
   "metadata": {},
   "outputs": [
    {
     "data": {
      "image/png": "[encoded data removed]",
      "text/plain": [
       "<Figure size 800x800 with 2 Axes>"
      ]
     },
     "metadata": {},
     "output_type": "display_data"
    }
   ],
   "source": [
    "plot_conf_mat(y_test, y_pred)"
   ]
  },
  {
   "cell_type": "code",
   "execution_count": 71,
   "id": "55670888-c054-4ca2-ab97-8b4184abb7cd",
   "metadata": {},
   "outputs": [
    {
     "name": "stdout",
     "output_type": "stream",
     "text": [
      "Accuracy score: 0.8724569640062598\n",
      "Precision score: 0.15702479338842976\n",
      "Recall score: 0.2375\n",
      "______________________________\n",
      "\n",
      "Full report:\n",
      "              precision    recall  f1-score   support\n",
      "\n",
      "           0       0.95      0.91      0.93      1198\n",
      "           1       0.16      0.24      0.19        80\n",
      "\n",
      "    accuracy                           0.87      1278\n",
      "   macro avg       0.55      0.58      0.56      1278\n",
      "weighted avg       0.90      0.87      0.88      1278\n",
      "\n"
     ]
    }
   ],
   "source": [
    "report_performance(y_test, y_pred)"
   ]
  },
  {
   "cell_type": "markdown",
   "id": "51a6b954-9392-4d78-a094-72635973a831",
   "metadata": {
    "tags": []
   },
   "source": [
    "# Random Forest Classification"
   ]
  },
  {
   "cell_type": "code",
   "execution_count": 72,
   "id": "3d5711ed-ea03-4b81-868a-d8f3d54f3a8b",
   "metadata": {},
   "outputs": [],
   "source": [
    "from sklearn.ensemble import RandomForestClassifier"
   ]
  },
  {
   "cell_type": "markdown",
   "id": "2cd33e3d-d8b3-4b06-aa2f-f38fdf9e13ee",
   "metadata": {},
   "source": [
    "## Single feature (BMI)"
   ]
  },
  {
   "cell_type": "code",
   "execution_count": 73,
   "id": "05eca0a7-10b5-4c2a-9912-03dcdd280f89",
   "metadata": {},
   "outputs": [
    {
     "data": {
      "text/html": [
       "<style>#sk-container-id-7 {color: black;background-color: white;}#sk-container-id-7 pre{padding: 0;}#sk-container-id-7 div.sk-toggleable {background-color: white;}#sk-container-id-7 label.sk-toggleable__label {cursor: pointer;display: block;width: 100%;margin-bottom: 0;padding: 0.3em;box-sizing: border-box;text-align: center;}#sk-container-id-7 label.sk-toggleable__label-arrow:before {content: \"▸\";float: left;margin-right: 0.25em;color: #696969;}#sk-container-id-7 label.sk-toggleable__label-arrow:hover:before {color: black;}#sk-container-id-7 div.sk-estimator:hover label.sk-toggleable__label-arrow:before {color: black;}#sk-container-id-7 div.sk-toggleable__content {max-height: 0;max-width: 0;overflow: hidden;text-align: left;background-color: #f0f8ff;}#sk-container-id-7 div.sk-toggleable__content pre {margin: 0.2em;color: black;border-radius: 0.25em;background-color: #f0f8ff;}#sk-container-id-7 input.sk-toggleable__control:checked~div.sk-toggleable__content {max-height: 200px;max-width: 100%;overflow: auto;}#sk-container-id-7 input.sk-toggleable__control:checked~label.sk-toggleable__label-arrow:before {content: \"▾\";}#sk-container-id-7 div.sk-estimator input.sk-toggleable__control:checked~label.sk-toggleable__label {background-color: #d4ebff;}#sk-container-id-7 div.sk-label input.sk-toggleable__control:checked~label.sk-toggleable__label {background-color: #d4ebff;}#sk-container-id-7 input.sk-hidden--visually {border: 0;clip: rect(1px 1px 1px 1px);clip: rect(1px, 1px, 1px, 1px);height: 1px;margin: -1px;overflow: hidden;padding: 0;position: absolute;width: 1px;}#sk-container-id-7 div.sk-estimator {font-family: monospace;background-color: #f0f8ff;border: 1px dotted black;border-radius: 0.25em;box-sizing: border-box;margin-bottom: 0.5em;}#sk-container-id-7 div.sk-estimator:hover {background-color: #d4ebff;}#sk-container-id-7 div.sk-parallel-item::after {content: \"\";width: 100%;border-bottom: 1px solid gray;flex-grow: 1;}#sk-container-id-7 div.sk-label:hover label.sk-toggleable__label {background-color: #d4ebff;}#sk-container-id-7 div.sk-serial::before {content: \"\";position: absolute;border-left: 1px solid gray;box-sizing: border-box;top: 0;bottom: 0;left: 50%;z-index: 0;}#sk-container-id-7 div.sk-serial {display: flex;flex-direction: column;align-items: center;background-color: white;padding-right: 0.2em;padding-left: 0.2em;position: relative;}#sk-container-id-7 div.sk-item {position: relative;z-index: 1;}#sk-container-id-7 div.sk-parallel {display: flex;align-items: stretch;justify-content: center;background-color: white;position: relative;}#sk-container-id-7 div.sk-item::before, #sk-container-id-7 div.sk-parallel-item::before {content: \"\";position: absolute;border-left: 1px solid gray;box-sizing: border-box;top: 0;bottom: 0;left: 50%;z-index: -1;}#sk-container-id-7 div.sk-parallel-item {display: flex;flex-direction: column;z-index: 1;position: relative;background-color: white;}#sk-container-id-7 div.sk-parallel-item:first-child::after {align-self: flex-end;width: 50%;}#sk-container-id-7 div.sk-parallel-item:last-child::after {align-self: flex-start;width: 50%;}#sk-container-id-7 div.sk-parallel-item:only-child::after {width: 0;}#sk-container-id-7 div.sk-dashed-wrapped {border: 1px dashed gray;margin: 0 0.4em 0.5em 0.4em;box-sizing: border-box;padding-bottom: 0.4em;background-color: white;}#sk-container-id-7 div.sk-label label {font-family: monospace;font-weight: bold;display: inline-block;line-height: 1.2em;}#sk-container-id-7 div.sk-label-container {text-align: center;}#sk-container-id-7 div.sk-container {/* jupyter's `normalize.less` sets `[hidden] { display: none; }` but bootstrap.min.css set `[hidden] { display: none !important; }` so we also need the `!important` here to be able to override the default hidden behavior on the sphinx rendered scikit-learn.org. See: https://github.com/scikit-learn/scikit-learn/issues/21755 */display: inline-block !important;position: relative;}#sk-container-id-7 div.sk-text-repr-fallback {display: none;}</style><div id=\"sk-container-id-7\" class=\"sk-top-container\"><div class=\"sk-text-repr-fallback\"><pre>RandomForestClassifier()</pre><b>In a Jupyter environment, please rerun this cell to show the HTML representation or trust the notebook. <br />On GitHub, the HTML representation is unable to render, please try loading this page with nbviewer.org.</b></div><div class=\"sk-container\" hidden><div class=\"sk-item\"><div class=\"sk-estimator sk-toggleable\"><input class=\"sk-toggleable__control sk-hidden--visually\" id=\"sk-estimator-id-7\" type=\"checkbox\" checked><label for=\"sk-estimator-id-7\" class=\"sk-toggleable__label sk-toggleable__label-arrow\">RandomForestClassifier</label><div class=\"sk-toggleable__content\"><pre>RandomForestClassifier()</pre></div></div></div></div></div>"
      ],
      "text/plain": [
       "RandomForestClassifier()"
      ]
     },
     "execution_count": 73,
     "metadata": {},
     "output_type": "execute_result"
    }
   ],
   "source": [
    "del model\n",
    "model = RandomForestClassifier()\n",
    "model.fit(X_train_bmi, y_train)"
   ]
  },
  {
   "cell_type": "code",
   "execution_count": 74,
   "id": "ba84020b-3eb0-453d-ad01-3cf187a872a3",
   "metadata": {},
   "outputs": [],
   "source": [
    "y_pred = model.predict(X_test_bmi)"
   ]
  },
  {
   "cell_type": "code",
   "execution_count": 75,
   "id": "f58727bd-a775-4d3c-9142-5550c35317bf",
   "metadata": {},
   "outputs": [
    {
     "data": {
      "image/png": "[encoded data removed]",
      "text/plain": [
       "<Figure size 800x800 with 2 Axes>"
      ]
     },
     "metadata": {},
     "output_type": "display_data"
    }
   ],
   "source": [
    "plot_conf_mat(y_test, y_pred)"
   ]
  },
  {
   "cell_type": "code",
   "execution_count": 76,
   "id": "9ffd5bdf-e399-47da-82e4-5c290f1e6406",
   "metadata": {},
   "outputs": [
    {
     "name": "stdout",
     "output_type": "stream",
     "text": [
      "Accuracy score: 0.9084507042253521\n",
      "Precision score: 0.20634920634920634\n",
      "Recall score: 0.1625\n",
      "______________________________\n",
      "\n",
      "Full report:\n",
      "              precision    recall  f1-score   support\n",
      "\n",
      "           0       0.94      0.96      0.95      1198\n",
      "           1       0.21      0.16      0.18        80\n",
      "\n",
      "    accuracy                           0.91      1278\n",
      "   macro avg       0.58      0.56      0.57      1278\n",
      "weighted avg       0.90      0.91      0.90      1278\n",
      "\n"
     ]
    }
   ],
   "source": [
    "report_performance(y_test, y_pred)"
   ]
  },
  {
   "cell_type": "markdown",
   "id": "2a11cd29-c8a2-4018-a99a-d3a6f4426381",
   "metadata": {},
   "source": [
    "## All features"
   ]
  },
  {
   "cell_type": "code",
   "execution_count": 77,
   "id": "fd97a447-e59f-4e5b-bac4-0923c280eca1",
   "metadata": {},
   "outputs": [
    {
     "data": {
      "text/html": [
       "<style>#sk-container-id-8 {color: black;background-color: white;}#sk-container-id-8 pre{padding: 0;}#sk-container-id-8 div.sk-toggleable {background-color: white;}#sk-container-id-8 label.sk-toggleable__label {cursor: pointer;display: block;width: 100%;margin-bottom: 0;padding: 0.3em;box-sizing: border-box;text-align: center;}#sk-container-id-8 label.sk-toggleable__label-arrow:before {content: \"▸\";float: left;margin-right: 0.25em;color: #696969;}#sk-container-id-8 label.sk-toggleable__label-arrow:hover:before {color: black;}#sk-container-id-8 div.sk-estimator:hover label.sk-toggleable__label-arrow:before {color: black;}#sk-container-id-8 div.sk-toggleable__content {max-height: 0;max-width: 0;overflow: hidden;text-align: left;background-color: #f0f8ff;}#sk-container-id-8 div.sk-toggleable__content pre {margin: 0.2em;color: black;border-radius: 0.25em;background-color: #f0f8ff;}#sk-container-id-8 input.sk-toggleable__control:checked~div.sk-toggleable__content {max-height: 200px;max-width: 100%;overflow: auto;}#sk-container-id-8 input.sk-toggleable__control:checked~label.sk-toggleable__label-arrow:before {content: \"▾\";}#sk-container-id-8 div.sk-estimator input.sk-toggleable__control:checked~label.sk-toggleable__label {background-color: #d4ebff;}#sk-container-id-8 div.sk-label input.sk-toggleable__control:checked~label.sk-toggleable__label {background-color: #d4ebff;}#sk-container-id-8 input.sk-hidden--visually {border: 0;clip: rect(1px 1px 1px 1px);clip: rect(1px, 1px, 1px, 1px);height: 1px;margin: -1px;overflow: hidden;padding: 0;position: absolute;width: 1px;}#sk-container-id-8 div.sk-estimator {font-family: monospace;background-color: #f0f8ff;border: 1px dotted black;border-radius: 0.25em;box-sizing: border-box;margin-bottom: 0.5em;}#sk-container-id-8 div.sk-estimator:hover {background-color: #d4ebff;}#sk-container-id-8 div.sk-parallel-item::after {content: \"\";width: 100%;border-bottom: 1px solid gray;flex-grow: 1;}#sk-container-id-8 div.sk-label:hover label.sk-toggleable__label {background-color: #d4ebff;}#sk-container-id-8 div.sk-serial::before {content: \"\";position: absolute;border-left: 1px solid gray;box-sizing: border-box;top: 0;bottom: 0;left: 50%;z-index: 0;}#sk-container-id-8 div.sk-serial {display: flex;flex-direction: column;align-items: center;background-color: white;padding-right: 0.2em;padding-left: 0.2em;position: relative;}#sk-container-id-8 div.sk-item {position: relative;z-index: 1;}#sk-container-id-8 div.sk-parallel {display: flex;align-items: stretch;justify-content: center;background-color: white;position: relative;}#sk-container-id-8 div.sk-item::before, #sk-container-id-8 div.sk-parallel-item::before {content: \"\";position: absolute;border-left: 1px solid gray;box-sizing: border-box;top: 0;bottom: 0;left: 50%;z-index: -1;}#sk-container-id-8 div.sk-parallel-item {display: flex;flex-direction: column;z-index: 1;position: relative;background-color: white;}#sk-container-id-8 div.sk-parallel-item:first-child::after {align-self: flex-end;width: 50%;}#sk-container-id-8 div.sk-parallel-item:last-child::after {align-self: flex-start;width: 50%;}#sk-container-id-8 div.sk-parallel-item:only-child::after {width: 0;}#sk-container-id-8 div.sk-dashed-wrapped {border: 1px dashed gray;margin: 0 0.4em 0.5em 0.4em;box-sizing: border-box;padding-bottom: 0.4em;background-color: white;}#sk-container-id-8 div.sk-label label {font-family: monospace;font-weight: bold;display: inline-block;line-height: 1.2em;}#sk-container-id-8 div.sk-label-container {text-align: center;}#sk-container-id-8 div.sk-container {/* jupyter's `normalize.less` sets `[hidden] { display: none; }` but bootstrap.min.css set `[hidden] { display: none !important; }` so we also need the `!important` here to be able to override the default hidden behavior on the sphinx rendered scikit-learn.org. See: https://github.com/scikit-learn/scikit-learn/issues/21755 */display: inline-block !important;position: relative;}#sk-container-id-8 div.sk-text-repr-fallback {display: none;}</style><div id=\"sk-container-id-8\" class=\"sk-top-container\"><div class=\"sk-text-repr-fallback\"><pre>RandomForestClassifier()</pre><b>In a Jupyter environment, please rerun this cell to show the HTML representation or trust the notebook. <br />On GitHub, the HTML representation is unable to render, please try loading this page with nbviewer.org.</b></div><div class=\"sk-container\" hidden><div class=\"sk-item\"><div class=\"sk-estimator sk-toggleable\"><input class=\"sk-toggleable__control sk-hidden--visually\" id=\"sk-estimator-id-8\" type=\"checkbox\" checked><label for=\"sk-estimator-id-8\" class=\"sk-toggleable__label sk-toggleable__label-arrow\">RandomForestClassifier</label><div class=\"sk-toggleable__content\"><pre>RandomForestClassifier()</pre></div></div></div></div></div>"
      ],
      "text/plain": [
       "RandomForestClassifier()"
      ]
     },
     "execution_count": 77,
     "metadata": {},
     "output_type": "execute_result"
    }
   ],
   "source": [
    "del model\n",
    "model = RandomForestClassifier()\n",
    "model.fit(X_train, y_train)"
   ]
  },
  {
   "cell_type": "code",
   "execution_count": 78,
   "id": "b3e4e1a9-8ce2-4389-ba42-c370df7bf0e5",
   "metadata": {},
   "outputs": [],
   "source": [
    "y_pred = model.predict(X_test)"
   ]
  },
  {
   "cell_type": "code",
   "execution_count": 79,
   "id": "4d9b6edc-0a18-4f9c-8fa2-ddb1ced459cc",
   "metadata": {},
   "outputs": [
    {
     "data": {
      "image/png": "[encoded data removed]",
      "text/plain": [
       "<Figure size 800x800 with 2 Axes>"
      ]
     },
     "metadata": {},
     "output_type": "display_data"
    }
   ],
   "source": [
    "plot_conf_mat(y_test, y_pred)"
   ]
  },
  {
   "cell_type": "code",
   "execution_count": 80,
   "id": "af616ef4-84d8-4049-bdf0-59e6d836ca83",
   "metadata": {},
   "outputs": [
    {
     "name": "stdout",
     "output_type": "stream",
     "text": [
      "Accuracy score: 0.9076682316118936\n",
      "Precision score: 0.16071428571428573\n",
      "Recall score: 0.1125\n",
      "______________________________\n",
      "\n",
      "Full report:\n",
      "              precision    recall  f1-score   support\n",
      "\n",
      "           0       0.94      0.96      0.95      1198\n",
      "           1       0.16      0.11      0.13        80\n",
      "\n",
      "    accuracy                           0.91      1278\n",
      "   macro avg       0.55      0.54      0.54      1278\n",
      "weighted avg       0.89      0.91      0.90      1278\n",
      "\n"
     ]
    }
   ],
   "source": [
    "report_performance(y_test, y_pred)"
   ]
  },
  {
   "cell_type": "markdown",
   "id": "e9a7084a-60c6-43f1-8f4d-6c3f191fb0b9",
   "metadata": {},
   "source": [
    "# Splitting data again to get validation data for a DNN"
   ]
  },
  {
   "cell_type": "code",
   "execution_count": 81,
   "id": "b5447432-6078-4315-82ab-8bede4d8d400",
   "metadata": {},
   "outputs": [
    {
     "name": "stdout",
     "output_type": "stream",
     "text": [
      "(5859, 17)\n",
      "(1465, 17)\n",
      "(1278, 17)\n"
     ]
    }
   ],
   "source": [
    "X_train, X_val, y_train, y_val = train_test_split(X_train, y_train, test_size=0.2, random_state=42)\n",
    "print(X_train.shape)\n",
    "print(X_val.shape)\n",
    "print(X_test.shape)"
   ]
  },
  {
   "cell_type": "code",
   "execution_count": 82,
   "id": "30286017-0c7a-4afa-ba00-ea4240da44fc",
   "metadata": {},
   "outputs": [
    {
     "name": "stdout",
     "output_type": "stream",
     "text": [
      "(5859, 1)\n",
      "(1465, 1)\n",
      "(1278, 1)\n"
     ]
    }
   ],
   "source": [
    "X_train_bmi = np.array(X_train[:, [data.columns.get_loc('bmi')]]).reshape(-1, 1)\n",
    "X_val_bmi  = np.array(X_val[:, [data.columns.get_loc('bmi')]]).reshape(-1, 1)\n",
    "print(X_train_bmi.shape)\n",
    "print(X_val_bmi.shape)\n",
    "print(X_test_bmi.shape)"
   ]
  },
  {
   "cell_type": "markdown",
   "id": "8ca6ef62-c086-45cf-bdc2-6958782717fc",
   "metadata": {},
   "source": [
    "# DNN (Deep Neural Network)"
   ]
  },
  {
   "cell_type": "code",
   "execution_count": 83,
   "id": "7bbe48ba-5dec-4c2b-b130-b51a5bf4afb6",
   "metadata": {},
   "outputs": [],
   "source": [
    "from tensorflow.keras.models import Sequential\n",
    "from tensorflow.keras.layers import Dense, Dropout\n",
    "from tensorflow.keras.metrics import BinaryAccuracy, Precision, Recall, AUC"
   ]
  },
  {
   "cell_type": "code",
   "execution_count": 84,
   "id": "78af31e0-159f-4cb8-8408-6f2e117e8078",
   "metadata": {},
   "outputs": [],
   "source": [
    "accuracy = BinaryAccuracy(name = 'accuracy')\n",
    "precision = Precision(name = 'precision')\n",
    "recall = Recall(name = 'recall')\n",
    "auc = AUC(name = 'auc')"
   ]
  },
  {
   "cell_type": "markdown",
   "id": "219d90b2-022e-4830-9e72-b911ca0d4328",
   "metadata": {},
   "source": [
    "## Single feature (BMI)"
   ]
  },
  {
   "cell_type": "code",
   "execution_count": 85,
   "id": "986ec76e-14ba-414c-9e6b-e0df79fa7aad",
   "metadata": {},
   "outputs": [],
   "source": [
    "model = Sequential()\n",
    "model.add(Dense(32, activation='relu', input_shape=(1,)))\n",
    "model.add(Dense(64, activation='relu'))\n",
    "model.add(Dense(64, activation='relu'))\n",
    "model.add(Dense(64, activation='relu'))\n",
    "model.add(Dense(32, activation='relu'))\n",
    "model.add(Dense(1, activation='sigmoid'))\n",
    "\n",
    "model.compile(\n",
    "    optimizer='adam', \n",
    "    loss='binary_crossentropy', \n",
    "        metrics=[\n",
    "            accuracy,\n",
    "            auc])"
   ]
  },
  {
   "cell_type": "code",
   "execution_count": 86,
   "id": "81304332-80c0-40cb-b2c8-143784ae581b",
   "metadata": {},
   "outputs": [],
   "source": [
    "epochs = 25"
   ]
  },
  {
   "cell_type": "code",
   "execution_count": 87,
   "id": "2e14bd5d-c7b0-4f05-9674-518964224654",
   "metadata": {},
   "outputs": [
    {
     "name": "stdout",
     "output_type": "stream",
     "text": [
      "Epoch 1/25\n",
      "184/184 [==============================] - 1s 2ms/step - loss: 0.6838 - accuracy: 0.5585 - auc: 0.5819 - val_loss: 0.6707 - val_accuracy: 0.5386 - val_auc: 0.6136\n",
      "Epoch 2/25\n",
      "184/184 [==============================] - 0s 1ms/step - loss: 0.6365 - accuracy: 0.6209 - auc: 0.6603 - val_loss: 0.6310 - val_accuracy: 0.6184 - val_auc: 0.6734\n",
      "Epoch 3/25\n",
      "184/184 [==============================] - 0s 1ms/step - loss: 0.6260 - accuracy: 0.6296 - auc: 0.6740 - val_loss: 0.6309 - val_accuracy: 0.6273 - val_auc: 0.6752\n",
      "Epoch 4/25\n",
      "184/184 [==============================] - 0s 1ms/step - loss: 0.6227 - accuracy: 0.6320 - auc: 0.6813 - val_loss: 0.6301 - val_accuracy: 0.6116 - val_auc: 0.6709\n",
      "Epoch 5/25\n",
      "184/184 [==============================] - 0s 1ms/step - loss: 0.6253 - accuracy: 0.6337 - auc: 0.6740 - val_loss: 0.6262 - val_accuracy: 0.6253 - val_auc: 0.6782\n",
      "Epoch 6/25\n",
      "184/184 [==============================] - 0s 1ms/step - loss: 0.6223 - accuracy: 0.6371 - auc: 0.6783 - val_loss: 0.6362 - val_accuracy: 0.6314 - val_auc: 0.6739\n",
      "Epoch 7/25\n",
      "184/184 [==============================] - 0s 1ms/step - loss: 0.6212 - accuracy: 0.6307 - auc: 0.6791 - val_loss: 0.6344 - val_accuracy: 0.6157 - val_auc: 0.6655\n",
      "Epoch 8/25\n",
      "184/184 [==============================] - 0s 1ms/step - loss: 0.6232 - accuracy: 0.6291 - auc: 0.6721 - val_loss: 0.6271 - val_accuracy: 0.6232 - val_auc: 0.6745\n",
      "Epoch 9/25\n",
      "184/184 [==============================] - 0s 1ms/step - loss: 0.6226 - accuracy: 0.6320 - auc: 0.6737 - val_loss: 0.6458 - val_accuracy: 0.6280 - val_auc: 0.6559\n",
      "Epoch 10/25\n",
      "184/184 [==============================] - 0s 1ms/step - loss: 0.6260 - accuracy: 0.6260 - auc: 0.6697 - val_loss: 0.6321 - val_accuracy: 0.6191 - val_auc: 0.6536\n",
      "Epoch 11/25\n",
      "184/184 [==============================] - 0s 1ms/step - loss: 0.6224 - accuracy: 0.6366 - auc: 0.6742 - val_loss: 0.6276 - val_accuracy: 0.6266 - val_auc: 0.6713\n",
      "Epoch 12/25\n",
      "184/184 [==============================] - 0s 1ms/step - loss: 0.6214 - accuracy: 0.6341 - auc: 0.6771 - val_loss: 0.6308 - val_accuracy: 0.6171 - val_auc: 0.6663\n",
      "Epoch 13/25\n",
      "184/184 [==============================] - 0s 1ms/step - loss: 0.6237 - accuracy: 0.6332 - auc: 0.6767 - val_loss: 0.6249 - val_accuracy: 0.6225 - val_auc: 0.6783\n",
      "Epoch 14/25\n",
      "184/184 [==============================] - 0s 1ms/step - loss: 0.6214 - accuracy: 0.6368 - auc: 0.6775 - val_loss: 0.6380 - val_accuracy: 0.6328 - val_auc: 0.6751\n",
      "Epoch 15/25\n",
      "184/184 [==============================] - 0s 1ms/step - loss: 0.6213 - accuracy: 0.6334 - auc: 0.6807 - val_loss: 0.6307 - val_accuracy: 0.6334 - val_auc: 0.6740\n",
      "Epoch 16/25\n",
      "184/184 [==============================] - 0s 1ms/step - loss: 0.6213 - accuracy: 0.6322 - auc: 0.6797 - val_loss: 0.6421 - val_accuracy: 0.6020 - val_auc: 0.6242\n",
      "Epoch 17/25\n",
      "184/184 [==============================] - 0s 1ms/step - loss: 0.6217 - accuracy: 0.6341 - auc: 0.6772 - val_loss: 0.6268 - val_accuracy: 0.6212 - val_auc: 0.6745\n",
      "Epoch 18/25\n",
      "184/184 [==============================] - 0s 1ms/step - loss: 0.6215 - accuracy: 0.6305 - auc: 0.6772 - val_loss: 0.6289 - val_accuracy: 0.6266 - val_auc: 0.6776\n",
      "Epoch 19/25\n",
      "184/184 [==============================] - 0s 1ms/step - loss: 0.6219 - accuracy: 0.6325 - auc: 0.6767 - val_loss: 0.6238 - val_accuracy: 0.6232 - val_auc: 0.6803\n",
      "Epoch 20/25\n",
      "184/184 [==============================] - 0s 1ms/step - loss: 0.6236 - accuracy: 0.6351 - auc: 0.6730 - val_loss: 0.6282 - val_accuracy: 0.6259 - val_auc: 0.6739\n",
      "Epoch 21/25\n",
      "184/184 [==============================] - 0s 1ms/step - loss: 0.6228 - accuracy: 0.6278 - auc: 0.6748 - val_loss: 0.6263 - val_accuracy: 0.6198 - val_auc: 0.6714\n",
      "Epoch 22/25\n",
      "184/184 [==============================] - 0s 1ms/step - loss: 0.6201 - accuracy: 0.6317 - auc: 0.6806 - val_loss: 0.6285 - val_accuracy: 0.6143 - val_auc: 0.6728\n",
      "Epoch 23/25\n",
      "184/184 [==============================] - 0s 1ms/step - loss: 0.6217 - accuracy: 0.6307 - auc: 0.6759 - val_loss: 0.6251 - val_accuracy: 0.6259 - val_auc: 0.6767\n",
      "Epoch 24/25\n",
      "184/184 [==============================] - 0s 1ms/step - loss: 0.6220 - accuracy: 0.6312 - auc: 0.6809 - val_loss: 0.6265 - val_accuracy: 0.6096 - val_auc: 0.6722\n",
      "Epoch 25/25\n",
      "184/184 [==============================] - 0s 1ms/step - loss: 0.6211 - accuracy: 0.6349 - auc: 0.6758 - val_loss: 0.6362 - val_accuracy: 0.6273 - val_auc: 0.6758\n"
     ]
    }
   ],
   "source": [
    "history = model.fit(X_train_bmi, y_train,\n",
    "             validation_data=(X_val_bmi, y_val),\n",
    "             epochs=epochs,\n",
    "             batch_size=32)"
   ]
  },
  {
   "cell_type": "code",
   "execution_count": 88,
   "id": "35d87209-24d4-41aa-8124-9eb84f2b999a",
   "metadata": {},
   "outputs": [
    {
     "data": {
      "image/png": "[encoded data removed]",
      "text/plain": [
       "<Figure size 1200x600 with 1 Axes>"
      ]
     },
     "metadata": {},
     "output_type": "display_data"
    }
   ],
   "source": [
    "n_epoch = range(1,26)\n",
    "\n",
    "plt.figure(figsize=(12,6))\n",
    "\n",
    "seaborn.lineplot(data=history.history, x=n_epoch, y='accuracy', label='accuracy')\n",
    "seaborn.lineplot(data=history.history, x=n_epoch, y='auc', label='auc')\n",
    "seaborn.lineplot(data=history.history, x=n_epoch, y='loss', label='loss')\n",
    "\n",
    "plt.legend()\n",
    "plt.ylim([0,1])\n",
    "plt.ylabel(None)\n",
    "plt.show()"
   ]
  },
  {
   "cell_type": "code",
   "execution_count": 89,
   "id": "8eea2d46-f415-4f3e-9e84-536cac72e93c",
   "metadata": {},
   "outputs": [
    {
     "name": "stdout",
     "output_type": "stream",
     "text": [
      "40/40 [==============================] - 0s 796us/step - loss: 0.6078 - accuracy: 0.5548 - auc: 0.6129\n"
     ]
    },
    {
     "data": {
      "text/plain": [
       "[0.6078187227249146, 0.5547730922698975, 0.6128599643707275]"
      ]
     },
     "execution_count": 89,
     "metadata": {},
     "output_type": "execute_result"
    }
   ],
   "source": [
    "model.evaluate(X_test_bmi, y_test)"
   ]
  },
  {
   "cell_type": "markdown",
   "id": "35000197-5de4-48e1-b4f9-a32821c738a0",
   "metadata": {
    "tags": []
   },
   "source": [
    "## All features"
   ]
  },
  {
   "cell_type": "code",
   "execution_count": 107,
   "id": "ab3a384b-75a8-4058-9c6c-db70a904590f",
   "metadata": {},
   "outputs": [],
   "source": [
    "from keras.regularizers import l2"
   ]
  },
  {
   "cell_type": "code",
   "execution_count": 108,
   "id": "322c77f5-f4c1-49e0-af99-4778a33b50e6",
   "metadata": {},
   "outputs": [],
   "source": [
    "del model\n",
    "del history"
   ]
  },
  {
   "cell_type": "code",
   "execution_count": 109,
   "id": "23448849-27ac-4d39-9d6e-b98cab5455dd",
   "metadata": {},
   "outputs": [],
   "source": [
    "model = Sequential()\n",
    "model.add(Dense(32, activation='relu', kernel_regularizer=l2(0.01), input_shape=(17,)))\n",
    "model.add(Dense(32, activation='relu', kernel_regularizer=l2(0.01)))\n",
    "model.add(Dropout(0.6))\n",
    "model.add(Dense(1, activation='sigmoid'))\n",
    "\n",
    "model.compile(\n",
    "    optimizer='adam', \n",
    "    loss='binary_crossentropy',\n",
    "    metrics=[\n",
    "        accuracy,\n",
    "        auc])"
   ]
  },
  {
   "cell_type": "code",
   "execution_count": 110,
   "id": "4e2ccdf1-fc36-4490-9009-6f419053851c",
   "metadata": {},
   "outputs": [],
   "source": [
    "epochs = 150"
   ]
  },
  {
   "cell_type": "code",
   "execution_count": 111,
   "id": "3831d434-fc3c-4057-99ad-e08b34fe8d0e",
   "metadata": {},
   "outputs": [
    {
     "name": "stdout",
     "output_type": "stream",
     "text": [
      "Epoch 1/250\n",
      "184/184 [==============================] - 1s 2ms/step - loss: 0.9747 - accuracy: 0.6665 - auc: 0.7212 - val_loss: 0.7750 - val_accuracy: 0.7584 - val_auc: 0.8315\n",
      "Epoch 2/250\n",
      "184/184 [==============================] - 0s 985us/step - loss: 0.6943 - accuracy: 0.7443 - auc: 0.8050 - val_loss: 0.6078 - val_accuracy: 0.7973 - val_auc: 0.8557\n",
      "Epoch 3/250\n",
      "184/184 [==============================] - 0s 985us/step - loss: 0.5967 - accuracy: 0.7754 - auc: 0.8387 - val_loss: 0.5651 - val_accuracy: 0.7877 - val_auc: 0.8627\n",
      "Epoch 4/250\n",
      "184/184 [==============================] - 0s 1ms/step - loss: 0.5668 - accuracy: 0.7974 - auc: 0.8401 - val_loss: 0.5325 - val_accuracy: 0.8068 - val_auc: 0.8666\n",
      "Epoch 5/250\n",
      "184/184 [==============================] - 0s 985us/step - loss: 0.5440 - accuracy: 0.7942 - auc: 0.8504 - val_loss: 0.5164 - val_accuracy: 0.8082 - val_auc: 0.8648\n",
      "Epoch 6/250\n",
      "184/184 [==============================] - 0s 985us/step - loss: 0.5352 - accuracy: 0.7967 - auc: 0.8498 - val_loss: 0.5083 - val_accuracy: 0.8061 - val_auc: 0.8648\n",
      "Epoch 7/250\n",
      "184/184 [==============================] - 0s 985us/step - loss: 0.5244 - accuracy: 0.7995 - auc: 0.8533 - val_loss: 0.5041 - val_accuracy: 0.8048 - val_auc: 0.8642\n",
      "Epoch 8/250\n",
      "184/184 [==============================] - 0s 985us/step - loss: 0.5197 - accuracy: 0.8046 - auc: 0.8544 - val_loss: 0.5051 - val_accuracy: 0.7891 - val_auc: 0.8624\n",
      "Epoch 9/250\n",
      "184/184 [==============================] - 0s 1ms/step - loss: 0.5166 - accuracy: 0.7977 - auc: 0.8537 - val_loss: 0.4958 - val_accuracy: 0.8068 - val_auc: 0.8690\n",
      "Epoch 10/250\n",
      "184/184 [==============================] - 0s 1ms/step - loss: 0.5125 - accuracy: 0.7969 - auc: 0.8537 - val_loss: 0.4906 - val_accuracy: 0.8075 - val_auc: 0.8681\n",
      "Epoch 11/250\n",
      "184/184 [==============================] - 0s 984us/step - loss: 0.5107 - accuracy: 0.8013 - auc: 0.8540 - val_loss: 0.4928 - val_accuracy: 0.8075 - val_auc: 0.8684\n",
      "Epoch 12/250\n",
      "184/184 [==============================] - 0s 983us/step - loss: 0.5046 - accuracy: 0.8013 - auc: 0.8576 - val_loss: 0.5077 - val_accuracy: 0.7884 - val_auc: 0.8706\n",
      "Epoch 13/250\n",
      "184/184 [==============================] - 0s 979us/step - loss: 0.5054 - accuracy: 0.8063 - auc: 0.8550 - val_loss: 0.4846 - val_accuracy: 0.8082 - val_auc: 0.8702\n",
      "Epoch 14/250\n",
      "184/184 [==============================] - 0s 984us/step - loss: 0.5000 - accuracy: 0.8034 - auc: 0.8594 - val_loss: 0.4866 - val_accuracy: 0.8068 - val_auc: 0.8712\n",
      "Epoch 15/250\n",
      "184/184 [==============================] - 0s 978us/step - loss: 0.5021 - accuracy: 0.8024 - auc: 0.8574 - val_loss: 0.4804 - val_accuracy: 0.8109 - val_auc: 0.8720\n",
      "Epoch 16/250\n",
      "184/184 [==============================] - 0s 974us/step - loss: 0.4970 - accuracy: 0.8005 - auc: 0.8591 - val_loss: 0.4780 - val_accuracy: 0.8082 - val_auc: 0.8720\n",
      "Epoch 17/250\n",
      "184/184 [==============================] - 0s 967us/step - loss: 0.4950 - accuracy: 0.8085 - auc: 0.8607 - val_loss: 0.4773 - val_accuracy: 0.8123 - val_auc: 0.8715\n",
      "Epoch 18/250\n",
      "184/184 [==============================] - 0s 994us/step - loss: 0.4973 - accuracy: 0.8053 - auc: 0.8578 - val_loss: 0.4765 - val_accuracy: 0.8123 - val_auc: 0.8749\n",
      "Epoch 19/250\n",
      "184/184 [==============================] - 0s 985us/step - loss: 0.4932 - accuracy: 0.8094 - auc: 0.8631 - val_loss: 0.4757 - val_accuracy: 0.8157 - val_auc: 0.8718\n",
      "Epoch 20/250\n",
      "184/184 [==============================] - 0s 1ms/step - loss: 0.4963 - accuracy: 0.8041 - auc: 0.8584 - val_loss: 0.4768 - val_accuracy: 0.8102 - val_auc: 0.8732\n",
      "Epoch 21/250\n",
      "184/184 [==============================] - 0s 989us/step - loss: 0.4903 - accuracy: 0.8053 - auc: 0.8622 - val_loss: 0.4747 - val_accuracy: 0.8157 - val_auc: 0.8730\n",
      "Epoch 22/250\n",
      "184/184 [==============================] - 0s 995us/step - loss: 0.4876 - accuracy: 0.8087 - auc: 0.8639 - val_loss: 0.4840 - val_accuracy: 0.7932 - val_auc: 0.8669\n",
      "Epoch 23/250\n",
      "184/184 [==============================] - 0s 985us/step - loss: 0.4861 - accuracy: 0.8116 - auc: 0.8642 - val_loss: 0.4722 - val_accuracy: 0.8143 - val_auc: 0.8724\n",
      "Epoch 24/250\n",
      "184/184 [==============================] - 0s 1ms/step - loss: 0.4918 - accuracy: 0.8041 - auc: 0.8605 - val_loss: 0.4880 - val_accuracy: 0.7952 - val_auc: 0.8671\n",
      "Epoch 25/250\n",
      "184/184 [==============================] - 0s 979us/step - loss: 0.4861 - accuracy: 0.8104 - auc: 0.8644 - val_loss: 0.4701 - val_accuracy: 0.8137 - val_auc: 0.8722\n",
      "Epoch 26/250\n",
      "184/184 [==============================] - 0s 979us/step - loss: 0.4835 - accuracy: 0.8119 - auc: 0.8653 - val_loss: 0.4670 - val_accuracy: 0.8068 - val_auc: 0.8745\n",
      "Epoch 27/250\n",
      "184/184 [==============================] - 0s 985us/step - loss: 0.4877 - accuracy: 0.8068 - auc: 0.8628 - val_loss: 0.4674 - val_accuracy: 0.8068 - val_auc: 0.8735\n",
      "Epoch 28/250\n",
      "184/184 [==============================] - 0s 990us/step - loss: 0.4868 - accuracy: 0.8102 - auc: 0.8621 - val_loss: 0.4654 - val_accuracy: 0.8171 - val_auc: 0.8741\n",
      "Epoch 29/250\n",
      "184/184 [==============================] - 0s 973us/step - loss: 0.4845 - accuracy: 0.8126 - auc: 0.8651 - val_loss: 0.4687 - val_accuracy: 0.8034 - val_auc: 0.8733\n",
      "Epoch 30/250\n",
      "184/184 [==============================] - 0s 1ms/step - loss: 0.4803 - accuracy: 0.8109 - auc: 0.8673 - val_loss: 0.4644 - val_accuracy: 0.8075 - val_auc: 0.8760\n",
      "Epoch 31/250\n",
      "184/184 [==============================] - 0s 1ms/step - loss: 0.4852 - accuracy: 0.8138 - auc: 0.8623 - val_loss: 0.4668 - val_accuracy: 0.8034 - val_auc: 0.8756\n",
      "Epoch 32/250\n",
      "184/184 [==============================] - 0s 1ms/step - loss: 0.4803 - accuracy: 0.8128 - auc: 0.8675 - val_loss: 0.4627 - val_accuracy: 0.8177 - val_auc: 0.8748\n",
      "Epoch 33/250\n",
      "184/184 [==============================] - 0s 1ms/step - loss: 0.4792 - accuracy: 0.8107 - auc: 0.8687 - val_loss: 0.4720 - val_accuracy: 0.8014 - val_auc: 0.8745\n",
      "Epoch 34/250\n",
      "184/184 [==============================] - 0s 1ms/step - loss: 0.4718 - accuracy: 0.8225 - auc: 0.8710 - val_loss: 0.4597 - val_accuracy: 0.8157 - val_auc: 0.8774\n",
      "Epoch 35/250\n",
      "184/184 [==============================] - 0s 1ms/step - loss: 0.4761 - accuracy: 0.8167 - auc: 0.8684 - val_loss: 0.4617 - val_accuracy: 0.8068 - val_auc: 0.8756\n",
      "Epoch 36/250\n",
      "184/184 [==============================] - 0s 1ms/step - loss: 0.4751 - accuracy: 0.8138 - auc: 0.8696 - val_loss: 0.4590 - val_accuracy: 0.8137 - val_auc: 0.8765\n",
      "Epoch 37/250\n",
      "184/184 [==============================] - 0s 1ms/step - loss: 0.4692 - accuracy: 0.8160 - auc: 0.8725 - val_loss: 0.4708 - val_accuracy: 0.8068 - val_auc: 0.8744\n",
      "Epoch 38/250\n",
      "184/184 [==============================] - 0s 1ms/step - loss: 0.4764 - accuracy: 0.8153 - auc: 0.8705 - val_loss: 0.4584 - val_accuracy: 0.8171 - val_auc: 0.8788\n",
      "Epoch 39/250\n",
      "184/184 [==============================] - 0s 1ms/step - loss: 0.4748 - accuracy: 0.8208 - auc: 0.8690 - val_loss: 0.4621 - val_accuracy: 0.8075 - val_auc: 0.8778\n",
      "Epoch 40/250\n",
      "184/184 [==============================] - 0s 1ms/step - loss: 0.4699 - accuracy: 0.8196 - auc: 0.8725 - val_loss: 0.4699 - val_accuracy: 0.8109 - val_auc: 0.8793\n",
      "Epoch 41/250\n",
      "184/184 [==============================] - 0s 985us/step - loss: 0.4718 - accuracy: 0.8169 - auc: 0.8713 - val_loss: 0.4566 - val_accuracy: 0.8116 - val_auc: 0.8778\n",
      "Epoch 42/250\n",
      "184/184 [==============================] - 0s 1ms/step - loss: 0.4707 - accuracy: 0.8196 - auc: 0.8708 - val_loss: 0.4631 - val_accuracy: 0.8096 - val_auc: 0.8800\n",
      "Epoch 43/250\n",
      "184/184 [==============================] - 0s 1ms/step - loss: 0.4681 - accuracy: 0.8189 - auc: 0.8741 - val_loss: 0.4578 - val_accuracy: 0.8014 - val_auc: 0.8795\n",
      "Epoch 44/250\n",
      "184/184 [==============================] - 0s 990us/step - loss: 0.4677 - accuracy: 0.8203 - auc: 0.8734 - val_loss: 0.4547 - val_accuracy: 0.8109 - val_auc: 0.8792\n",
      "Epoch 45/250\n",
      "184/184 [==============================] - 0s 1ms/step - loss: 0.4636 - accuracy: 0.8213 - auc: 0.8774 - val_loss: 0.4561 - val_accuracy: 0.8212 - val_auc: 0.8799\n",
      "Epoch 46/250\n",
      "184/184 [==============================] - 0s 974us/step - loss: 0.4667 - accuracy: 0.8208 - auc: 0.8764 - val_loss: 0.4533 - val_accuracy: 0.8137 - val_auc: 0.8824\n",
      "Epoch 47/250\n",
      "184/184 [==============================] - 0s 979us/step - loss: 0.4632 - accuracy: 0.8223 - auc: 0.8782 - val_loss: 0.4527 - val_accuracy: 0.8191 - val_auc: 0.8810\n",
      "Epoch 48/250\n",
      "184/184 [==============================] - 0s 974us/step - loss: 0.4658 - accuracy: 0.8256 - auc: 0.8739 - val_loss: 0.4530 - val_accuracy: 0.8102 - val_auc: 0.8817\n",
      "Epoch 49/250\n",
      "184/184 [==============================] - 0s 993us/step - loss: 0.4615 - accuracy: 0.8240 - auc: 0.8778 - val_loss: 0.4544 - val_accuracy: 0.8102 - val_auc: 0.8798\n",
      "Epoch 50/250\n",
      "184/184 [==============================] - 0s 974us/step - loss: 0.4622 - accuracy: 0.8249 - auc: 0.8758 - val_loss: 0.4513 - val_accuracy: 0.8089 - val_auc: 0.8814\n",
      "Epoch 51/250\n",
      "184/184 [==============================] - 0s 979us/step - loss: 0.4668 - accuracy: 0.8204 - auc: 0.8740 - val_loss: 0.4519 - val_accuracy: 0.8198 - val_auc: 0.8848\n",
      "Epoch 52/250\n",
      "184/184 [==============================] - 0s 990us/step - loss: 0.4620 - accuracy: 0.8213 - auc: 0.8783 - val_loss: 0.4502 - val_accuracy: 0.8089 - val_auc: 0.8840\n",
      "Epoch 53/250\n",
      "184/184 [==============================] - 0s 985us/step - loss: 0.4606 - accuracy: 0.8218 - auc: 0.8790 - val_loss: 0.4486 - val_accuracy: 0.8198 - val_auc: 0.8871\n",
      "Epoch 54/250\n",
      "184/184 [==============================] - 0s 985us/step - loss: 0.4569 - accuracy: 0.8256 - auc: 0.8799 - val_loss: 0.4641 - val_accuracy: 0.8089 - val_auc: 0.8834\n",
      "Epoch 55/250\n",
      "184/184 [==============================] - 0s 979us/step - loss: 0.4615 - accuracy: 0.8244 - auc: 0.8798 - val_loss: 0.4462 - val_accuracy: 0.8157 - val_auc: 0.8853\n",
      "Epoch 56/250\n",
      "184/184 [==============================] - 0s 985us/step - loss: 0.4565 - accuracy: 0.8285 - auc: 0.8800 - val_loss: 0.4492 - val_accuracy: 0.8184 - val_auc: 0.8885\n",
      "Epoch 57/250\n",
      "184/184 [==============================] - 0s 985us/step - loss: 0.4578 - accuracy: 0.8216 - auc: 0.8820 - val_loss: 0.4456 - val_accuracy: 0.8232 - val_auc: 0.8872\n",
      "Epoch 58/250\n",
      "184/184 [==============================] - 0s 974us/step - loss: 0.4536 - accuracy: 0.8263 - auc: 0.8831 - val_loss: 0.4513 - val_accuracy: 0.8205 - val_auc: 0.8868\n",
      "Epoch 59/250\n",
      "184/184 [==============================] - 0s 985us/step - loss: 0.4551 - accuracy: 0.8256 - auc: 0.8820 - val_loss: 0.4406 - val_accuracy: 0.8246 - val_auc: 0.8894\n",
      "Epoch 60/250\n",
      "184/184 [==============================] - 0s 979us/step - loss: 0.4572 - accuracy: 0.8263 - auc: 0.8825 - val_loss: 0.4413 - val_accuracy: 0.8266 - val_auc: 0.8896\n",
      "Epoch 61/250\n",
      "184/184 [==============================] - 0s 974us/step - loss: 0.4575 - accuracy: 0.8286 - auc: 0.8820 - val_loss: 0.4434 - val_accuracy: 0.8246 - val_auc: 0.8917\n",
      "Epoch 62/250\n",
      "184/184 [==============================] - 0s 995us/step - loss: 0.4535 - accuracy: 0.8302 - auc: 0.8831 - val_loss: 0.4426 - val_accuracy: 0.8239 - val_auc: 0.8892\n",
      "Epoch 63/250\n",
      "184/184 [==============================] - 0s 974us/step - loss: 0.4507 - accuracy: 0.8302 - auc: 0.8842 - val_loss: 0.4418 - val_accuracy: 0.8239 - val_auc: 0.8923\n",
      "Epoch 64/250\n",
      "184/184 [==============================] - 0s 985us/step - loss: 0.4479 - accuracy: 0.8315 - auc: 0.8875 - val_loss: 0.4466 - val_accuracy: 0.8218 - val_auc: 0.8855\n",
      "Epoch 65/250\n",
      "184/184 [==============================] - 0s 976us/step - loss: 0.4485 - accuracy: 0.8327 - auc: 0.8869 - val_loss: 0.4449 - val_accuracy: 0.8280 - val_auc: 0.8883\n",
      "Epoch 66/250\n",
      "184/184 [==============================] - 0s 974us/step - loss: 0.4536 - accuracy: 0.8309 - auc: 0.8831 - val_loss: 0.4391 - val_accuracy: 0.8246 - val_auc: 0.8922\n",
      "Epoch 67/250\n",
      "184/184 [==============================] - 0s 974us/step - loss: 0.4490 - accuracy: 0.8367 - auc: 0.8872 - val_loss: 0.4576 - val_accuracy: 0.8177 - val_auc: 0.8942\n",
      "Epoch 68/250\n",
      "184/184 [==============================] - 0s 977us/step - loss: 0.4511 - accuracy: 0.8273 - auc: 0.8872 - val_loss: 0.4397 - val_accuracy: 0.8205 - val_auc: 0.8880\n",
      "Epoch 69/250\n",
      "184/184 [==============================] - 0s 974us/step - loss: 0.4477 - accuracy: 0.8321 - auc: 0.8887 - val_loss: 0.4355 - val_accuracy: 0.8218 - val_auc: 0.8929\n",
      "Epoch 70/250\n",
      "184/184 [==============================] - 0s 979us/step - loss: 0.4517 - accuracy: 0.8281 - auc: 0.8871 - val_loss: 0.4407 - val_accuracy: 0.8280 - val_auc: 0.8951\n",
      "Epoch 71/250\n",
      "184/184 [==============================] - 0s 974us/step - loss: 0.4484 - accuracy: 0.8324 - auc: 0.8879 - val_loss: 0.4375 - val_accuracy: 0.8300 - val_auc: 0.8936\n",
      "Epoch 72/250\n",
      "184/184 [==============================] - 0s 985us/step - loss: 0.4483 - accuracy: 0.8324 - auc: 0.8866 - val_loss: 0.4419 - val_accuracy: 0.8164 - val_auc: 0.8921\n",
      "Epoch 73/250\n",
      "184/184 [==============================] - 0s 1ms/step - loss: 0.4464 - accuracy: 0.8298 - auc: 0.8899 - val_loss: 0.4335 - val_accuracy: 0.8287 - val_auc: 0.8935\n",
      "Epoch 74/250\n",
      "184/184 [==============================] - 0s 968us/step - loss: 0.4446 - accuracy: 0.8339 - auc: 0.8896 - val_loss: 0.4379 - val_accuracy: 0.8287 - val_auc: 0.8928\n",
      "Epoch 75/250\n",
      "184/184 [==============================] - 0s 968us/step - loss: 0.4407 - accuracy: 0.8379 - auc: 0.8917 - val_loss: 0.4357 - val_accuracy: 0.8273 - val_auc: 0.8964\n",
      "Epoch 76/250\n",
      "184/184 [==============================] - 0s 979us/step - loss: 0.4410 - accuracy: 0.8372 - auc: 0.8912 - val_loss: 0.4317 - val_accuracy: 0.8321 - val_auc: 0.8967\n",
      "Epoch 77/250\n",
      "184/184 [==============================] - 0s 966us/step - loss: 0.4452 - accuracy: 0.8351 - auc: 0.8886 - val_loss: 0.4298 - val_accuracy: 0.8246 - val_auc: 0.8967\n",
      "Epoch 78/250\n",
      "184/184 [==============================] - 0s 963us/step - loss: 0.4447 - accuracy: 0.8305 - auc: 0.8908 - val_loss: 0.4364 - val_accuracy: 0.8287 - val_auc: 0.8941\n",
      "Epoch 79/250\n",
      "184/184 [==============================] - 0s 969us/step - loss: 0.4385 - accuracy: 0.8394 - auc: 0.8934 - val_loss: 0.4324 - val_accuracy: 0.8294 - val_auc: 0.8961\n",
      "Epoch 80/250\n",
      "184/184 [==============================] - 0s 968us/step - loss: 0.4385 - accuracy: 0.8380 - auc: 0.8941 - val_loss: 0.4292 - val_accuracy: 0.8273 - val_auc: 0.8993\n",
      "Epoch 81/250\n",
      "184/184 [==============================] - 0s 984us/step - loss: 0.4377 - accuracy: 0.8454 - auc: 0.8951 - val_loss: 0.4245 - val_accuracy: 0.8287 - val_auc: 0.9006\n",
      "Epoch 82/250\n",
      "184/184 [==============================] - 0s 984us/step - loss: 0.4381 - accuracy: 0.8404 - auc: 0.8942 - val_loss: 0.4267 - val_accuracy: 0.8314 - val_auc: 0.8993\n",
      "Epoch 83/250\n",
      "184/184 [==============================] - 0s 979us/step - loss: 0.4351 - accuracy: 0.8401 - auc: 0.8954 - val_loss: 0.4475 - val_accuracy: 0.8253 - val_auc: 0.9005\n",
      "Epoch 84/250\n",
      "184/184 [==============================] - 0s 979us/step - loss: 0.4348 - accuracy: 0.8397 - auc: 0.8969 - val_loss: 0.4245 - val_accuracy: 0.8348 - val_auc: 0.9000\n",
      "Epoch 85/250\n",
      "184/184 [==============================] - 0s 979us/step - loss: 0.4344 - accuracy: 0.8423 - auc: 0.8969 - val_loss: 0.4219 - val_accuracy: 0.8334 - val_auc: 0.9025\n",
      "Epoch 86/250\n",
      "184/184 [==============================] - 0s 974us/step - loss: 0.4337 - accuracy: 0.8428 - auc: 0.8975 - val_loss: 0.4208 - val_accuracy: 0.8328 - val_auc: 0.9023\n",
      "Epoch 87/250\n",
      "184/184 [==============================] - 0s 979us/step - loss: 0.4343 - accuracy: 0.8377 - auc: 0.8968 - val_loss: 0.4205 - val_accuracy: 0.8369 - val_auc: 0.9010\n",
      "Epoch 88/250\n",
      "184/184 [==============================] - 0s 974us/step - loss: 0.4330 - accuracy: 0.8420 - auc: 0.8970 - val_loss: 0.4185 - val_accuracy: 0.8341 - val_auc: 0.9021\n",
      "Epoch 89/250\n",
      "184/184 [==============================] - 0s 979us/step - loss: 0.4304 - accuracy: 0.8435 - auc: 0.8999 - val_loss: 0.4215 - val_accuracy: 0.8362 - val_auc: 0.9035\n",
      "Epoch 90/250\n",
      "184/184 [==============================] - 0s 979us/step - loss: 0.4318 - accuracy: 0.8344 - auc: 0.8984 - val_loss: 0.4335 - val_accuracy: 0.8300 - val_auc: 0.9036\n",
      "Epoch 91/250\n",
      "184/184 [==============================] - 0s 974us/step - loss: 0.4339 - accuracy: 0.8418 - auc: 0.8989 - val_loss: 0.4216 - val_accuracy: 0.8328 - val_auc: 0.9029\n",
      "Epoch 92/250\n",
      "184/184 [==============================] - 0s 985us/step - loss: 0.4332 - accuracy: 0.8420 - auc: 0.8982 - val_loss: 0.4179 - val_accuracy: 0.8382 - val_auc: 0.9047\n",
      "Epoch 93/250\n",
      "184/184 [==============================] - 0s 1ms/step - loss: 0.4273 - accuracy: 0.8402 - auc: 0.9011 - val_loss: 0.4165 - val_accuracy: 0.8396 - val_auc: 0.9047\n",
      "Epoch 94/250\n",
      "184/184 [==============================] - 0s 989us/step - loss: 0.4236 - accuracy: 0.8469 - auc: 0.9051 - val_loss: 0.4322 - val_accuracy: 0.8239 - val_auc: 0.8997\n",
      "Epoch 95/250\n",
      "184/184 [==============================] - 0s 990us/step - loss: 0.4331 - accuracy: 0.8404 - auc: 0.8996 - val_loss: 0.4229 - val_accuracy: 0.8334 - val_auc: 0.9006\n",
      "Epoch 96/250\n",
      "184/184 [==============================] - 0s 974us/step - loss: 0.4263 - accuracy: 0.8413 - auc: 0.9025 - val_loss: 0.4176 - val_accuracy: 0.8334 - val_auc: 0.9056\n",
      "Epoch 97/250\n",
      "184/184 [==============================] - 0s 979us/step - loss: 0.4337 - accuracy: 0.8421 - auc: 0.8999 - val_loss: 0.4298 - val_accuracy: 0.8375 - val_auc: 0.9054\n",
      "Epoch 98/250\n",
      "184/184 [==============================] - 0s 979us/step - loss: 0.4229 - accuracy: 0.8481 - auc: 0.9046 - val_loss: 0.4247 - val_accuracy: 0.8307 - val_auc: 0.9040\n",
      "Epoch 99/250\n",
      "184/184 [==============================] - 0s 990us/step - loss: 0.4231 - accuracy: 0.8459 - auc: 0.9038 - val_loss: 0.4308 - val_accuracy: 0.8218 - val_auc: 0.8997\n",
      "Epoch 100/250\n",
      "184/184 [==============================] - 0s 968us/step - loss: 0.4254 - accuracy: 0.8452 - auc: 0.9034 - val_loss: 0.4207 - val_accuracy: 0.8403 - val_auc: 0.9091\n",
      "Epoch 101/250\n",
      "184/184 [==============================] - 0s 984us/step - loss: 0.4255 - accuracy: 0.8449 - auc: 0.9037 - val_loss: 0.4186 - val_accuracy: 0.8382 - val_auc: 0.9065\n",
      "Epoch 102/250\n",
      "184/184 [==============================] - 0s 979us/step - loss: 0.4252 - accuracy: 0.8469 - auc: 0.9047 - val_loss: 0.4126 - val_accuracy: 0.8403 - val_auc: 0.9111\n",
      "Epoch 103/250\n",
      "184/184 [==============================] - 0s 974us/step - loss: 0.4240 - accuracy: 0.8491 - auc: 0.9042 - val_loss: 0.4204 - val_accuracy: 0.8403 - val_auc: 0.9017\n",
      "Epoch 104/250\n",
      "184/184 [==============================] - 0s 968us/step - loss: 0.4218 - accuracy: 0.8483 - auc: 0.9048 - val_loss: 0.4087 - val_accuracy: 0.8451 - val_auc: 0.9085\n",
      "Epoch 105/250\n",
      "184/184 [==============================] - 0s 968us/step - loss: 0.4257 - accuracy: 0.8464 - auc: 0.9027 - val_loss: 0.4132 - val_accuracy: 0.8389 - val_auc: 0.9073\n",
      "Epoch 106/250\n",
      "184/184 [==============================] - 0s 979us/step - loss: 0.4242 - accuracy: 0.8435 - auc: 0.9056 - val_loss: 0.4082 - val_accuracy: 0.8396 - val_auc: 0.9103\n",
      "Epoch 107/250\n",
      "184/184 [==============================] - 0s 1ms/step - loss: 0.4204 - accuracy: 0.8507 - auc: 0.9075 - val_loss: 0.4194 - val_accuracy: 0.8355 - val_auc: 0.9078\n",
      "Epoch 108/250\n",
      "184/184 [==============================] - 0s 985us/step - loss: 0.4213 - accuracy: 0.8469 - auc: 0.9074 - val_loss: 0.4184 - val_accuracy: 0.8451 - val_auc: 0.9101\n",
      "Epoch 109/250\n",
      "184/184 [==============================] - 0s 974us/step - loss: 0.4198 - accuracy: 0.8498 - auc: 0.9062 - val_loss: 0.4184 - val_accuracy: 0.8362 - val_auc: 0.9083\n",
      "Epoch 110/250\n",
      "184/184 [==============================] - 0s 968us/step - loss: 0.4214 - accuracy: 0.8515 - auc: 0.9057 - val_loss: 0.4119 - val_accuracy: 0.8457 - val_auc: 0.9114\n",
      "Epoch 111/250\n",
      "184/184 [==============================] - 0s 974us/step - loss: 0.4218 - accuracy: 0.8472 - auc: 0.9074 - val_loss: 0.4084 - val_accuracy: 0.8437 - val_auc: 0.9122\n",
      "Epoch 112/250\n",
      "184/184 [==============================] - 0s 1ms/step - loss: 0.4145 - accuracy: 0.8507 - auc: 0.9117 - val_loss: 0.4069 - val_accuracy: 0.8369 - val_auc: 0.9123\n",
      "Epoch 113/250\n",
      "184/184 [==============================] - 0s 1ms/step - loss: 0.4128 - accuracy: 0.8529 - auc: 0.9124 - val_loss: 0.4187 - val_accuracy: 0.8396 - val_auc: 0.9156\n",
      "Epoch 114/250\n",
      "184/184 [==============================] - 0s 1ms/step - loss: 0.4207 - accuracy: 0.8474 - auc: 0.9105 - val_loss: 0.4021 - val_accuracy: 0.8457 - val_auc: 0.9155\n",
      "Epoch 115/250\n",
      "184/184 [==============================] - 0s 1ms/step - loss: 0.4154 - accuracy: 0.8532 - auc: 0.9123 - val_loss: 0.4000 - val_accuracy: 0.8437 - val_auc: 0.9170\n",
      "Epoch 116/250\n",
      "184/184 [==============================] - 0s 1ms/step - loss: 0.4147 - accuracy: 0.8520 - auc: 0.9123 - val_loss: 0.4054 - val_accuracy: 0.8437 - val_auc: 0.9139\n",
      "Epoch 117/250\n",
      "184/184 [==============================] - 0s 1ms/step - loss: 0.4092 - accuracy: 0.8508 - auc: 0.9166 - val_loss: 0.4058 - val_accuracy: 0.8491 - val_auc: 0.9140\n",
      "Epoch 118/250\n",
      "184/184 [==============================] - 0s 1ms/step - loss: 0.4103 - accuracy: 0.8573 - auc: 0.9141 - val_loss: 0.4101 - val_accuracy: 0.8471 - val_auc: 0.9173\n",
      "Epoch 119/250\n",
      "184/184 [==============================] - 0s 1ms/step - loss: 0.4081 - accuracy: 0.8570 - auc: 0.9159 - val_loss: 0.4106 - val_accuracy: 0.8300 - val_auc: 0.9139\n",
      "Epoch 120/250\n",
      "184/184 [==============================] - 0s 1ms/step - loss: 0.4097 - accuracy: 0.8566 - auc: 0.9148 - val_loss: 0.4202 - val_accuracy: 0.8314 - val_auc: 0.9114\n",
      "Epoch 121/250\n",
      "184/184 [==============================] - 0s 1ms/step - loss: 0.4113 - accuracy: 0.8565 - auc: 0.9149 - val_loss: 0.4018 - val_accuracy: 0.8505 - val_auc: 0.9156\n",
      "Epoch 122/250\n",
      "184/184 [==============================] - 0s 1ms/step - loss: 0.4120 - accuracy: 0.8532 - auc: 0.9133 - val_loss: 0.3997 - val_accuracy: 0.8464 - val_auc: 0.9166\n",
      "Epoch 123/250\n",
      "184/184 [==============================] - 0s 1ms/step - loss: 0.4076 - accuracy: 0.8577 - auc: 0.9169 - val_loss: 0.3955 - val_accuracy: 0.8464 - val_auc: 0.9210\n",
      "Epoch 124/250\n",
      "184/184 [==============================] - 0s 1ms/step - loss: 0.4049 - accuracy: 0.8515 - auc: 0.9172 - val_loss: 0.3992 - val_accuracy: 0.8539 - val_auc: 0.9165\n",
      "Epoch 125/250\n",
      "184/184 [==============================] - 0s 1ms/step - loss: 0.4080 - accuracy: 0.8594 - auc: 0.9175 - val_loss: 0.3998 - val_accuracy: 0.8608 - val_auc: 0.9203\n",
      "Epoch 126/250\n",
      "184/184 [==============================] - 0s 1ms/step - loss: 0.4066 - accuracy: 0.8602 - auc: 0.9167 - val_loss: 0.3912 - val_accuracy: 0.8587 - val_auc: 0.9217\n",
      "Epoch 127/250\n",
      "184/184 [==============================] - 0s 1ms/step - loss: 0.4060 - accuracy: 0.8554 - auc: 0.9172 - val_loss: 0.4025 - val_accuracy: 0.8546 - val_auc: 0.9186\n",
      "Epoch 128/250\n",
      "184/184 [==============================] - 0s 1ms/step - loss: 0.4081 - accuracy: 0.8585 - auc: 0.9162 - val_loss: 0.3901 - val_accuracy: 0.8601 - val_auc: 0.9241\n",
      "Epoch 129/250\n",
      "184/184 [==============================] - 0s 1ms/step - loss: 0.4049 - accuracy: 0.8638 - auc: 0.9171 - val_loss: 0.3940 - val_accuracy: 0.8526 - val_auc: 0.9208\n",
      "Epoch 130/250\n",
      "184/184 [==============================] - 0s 1ms/step - loss: 0.4038 - accuracy: 0.8588 - auc: 0.9188 - val_loss: 0.3932 - val_accuracy: 0.8512 - val_auc: 0.9228\n",
      "Epoch 131/250\n",
      "184/184 [==============================] - 0s 1ms/step - loss: 0.4046 - accuracy: 0.8599 - auc: 0.9178 - val_loss: 0.3945 - val_accuracy: 0.8580 - val_auc: 0.9187\n",
      "Epoch 132/250\n",
      "184/184 [==============================] - 0s 1ms/step - loss: 0.4000 - accuracy: 0.8614 - auc: 0.9208 - val_loss: 0.3902 - val_accuracy: 0.8560 - val_auc: 0.9225\n",
      "Epoch 133/250\n",
      "184/184 [==============================] - 0s 979us/step - loss: 0.4063 - accuracy: 0.8566 - auc: 0.9200 - val_loss: 0.3919 - val_accuracy: 0.8546 - val_auc: 0.9224\n",
      "Epoch 134/250\n",
      "184/184 [==============================] - 0s 979us/step - loss: 0.4018 - accuracy: 0.8631 - auc: 0.9198 - val_loss: 0.3923 - val_accuracy: 0.8573 - val_auc: 0.9207\n",
      "Epoch 135/250\n",
      "184/184 [==============================] - 0s 978us/step - loss: 0.3992 - accuracy: 0.8633 - auc: 0.9209 - val_loss: 0.4142 - val_accuracy: 0.8519 - val_auc: 0.9238\n",
      "Epoch 136/250\n",
      "184/184 [==============================] - 0s 979us/step - loss: 0.4006 - accuracy: 0.8618 - auc: 0.9211 - val_loss: 0.3858 - val_accuracy: 0.8573 - val_auc: 0.9248\n",
      "Epoch 137/250\n",
      "184/184 [==============================] - 0s 980us/step - loss: 0.3991 - accuracy: 0.8647 - auc: 0.9224 - val_loss: 0.3839 - val_accuracy: 0.8642 - val_auc: 0.9253\n",
      "Epoch 138/250\n",
      "184/184 [==============================] - 0s 965us/step - loss: 0.3970 - accuracy: 0.8602 - auc: 0.9219 - val_loss: 0.3900 - val_accuracy: 0.8608 - val_auc: 0.9258\n",
      "Epoch 139/250\n",
      "184/184 [==============================] - 0s 974us/step - loss: 0.3959 - accuracy: 0.8647 - auc: 0.9230 - val_loss: 0.3865 - val_accuracy: 0.8580 - val_auc: 0.9245\n",
      "Epoch 140/250\n",
      "184/184 [==============================] - 0s 974us/step - loss: 0.4010 - accuracy: 0.8653 - auc: 0.9211 - val_loss: 0.3843 - val_accuracy: 0.8655 - val_auc: 0.9244\n",
      "Epoch 141/250\n",
      "184/184 [==============================] - 0s 972us/step - loss: 0.3948 - accuracy: 0.8636 - auc: 0.9244 - val_loss: 0.3814 - val_accuracy: 0.8662 - val_auc: 0.9263\n",
      "Epoch 142/250\n",
      "184/184 [==============================] - 0s 1ms/step - loss: 0.3945 - accuracy: 0.8648 - auc: 0.9243 - val_loss: 0.3823 - val_accuracy: 0.8587 - val_auc: 0.9265\n",
      "Epoch 143/250\n",
      "184/184 [==============================] - 0s 985us/step - loss: 0.3998 - accuracy: 0.8653 - auc: 0.9219 - val_loss: 0.3787 - val_accuracy: 0.8594 - val_auc: 0.9278\n",
      "Epoch 144/250\n",
      "184/184 [==============================] - 0s 985us/step - loss: 0.3950 - accuracy: 0.8667 - auc: 0.9231 - val_loss: 0.3922 - val_accuracy: 0.8587 - val_auc: 0.9213\n",
      "Epoch 145/250\n",
      "184/184 [==============================] - 0s 979us/step - loss: 0.3988 - accuracy: 0.8636 - auc: 0.9214 - val_loss: 0.3822 - val_accuracy: 0.8683 - val_auc: 0.9251\n",
      "Epoch 146/250\n",
      "184/184 [==============================] - 0s 978us/step - loss: 0.3979 - accuracy: 0.8588 - auc: 0.9228 - val_loss: 0.3825 - val_accuracy: 0.8669 - val_auc: 0.9254\n",
      "Epoch 147/250\n",
      "184/184 [==============================] - 0s 973us/step - loss: 0.3994 - accuracy: 0.8650 - auc: 0.9212 - val_loss: 0.3917 - val_accuracy: 0.8614 - val_auc: 0.9261\n",
      "Epoch 148/250\n",
      "184/184 [==============================] - 0s 968us/step - loss: 0.3934 - accuracy: 0.8662 - auc: 0.9252 - val_loss: 0.3883 - val_accuracy: 0.8669 - val_auc: 0.9288\n",
      "Epoch 149/250\n",
      "184/184 [==============================] - 0s 971us/step - loss: 0.3972 - accuracy: 0.8626 - auc: 0.9232 - val_loss: 0.3867 - val_accuracy: 0.8655 - val_auc: 0.9276\n",
      "Epoch 150/250\n",
      "184/184 [==============================] - 0s 985us/step - loss: 0.3941 - accuracy: 0.8631 - auc: 0.9242 - val_loss: 0.3783 - val_accuracy: 0.8601 - val_auc: 0.9289\n",
      "Epoch 151/250\n",
      "184/184 [==============================] - 0s 974us/step - loss: 0.3940 - accuracy: 0.8657 - auc: 0.9256 - val_loss: 0.3793 - val_accuracy: 0.8635 - val_auc: 0.9278\n",
      "Epoch 152/250\n",
      "184/184 [==============================] - 0s 963us/step - loss: 0.3933 - accuracy: 0.8647 - auc: 0.9257 - val_loss: 0.3839 - val_accuracy: 0.8676 - val_auc: 0.9336\n",
      "Epoch 153/250\n",
      "184/184 [==============================] - 0s 979us/step - loss: 0.3896 - accuracy: 0.8677 - auc: 0.9265 - val_loss: 0.3791 - val_accuracy: 0.8696 - val_auc: 0.9272\n",
      "Epoch 154/250\n",
      "184/184 [==============================] - 0s 974us/step - loss: 0.3890 - accuracy: 0.8681 - auc: 0.9267 - val_loss: 0.3921 - val_accuracy: 0.8444 - val_auc: 0.9277\n",
      "Epoch 155/250\n",
      "184/184 [==============================] - 0s 974us/step - loss: 0.3868 - accuracy: 0.8648 - auc: 0.9299 - val_loss: 0.3734 - val_accuracy: 0.8683 - val_auc: 0.9307\n",
      "Epoch 156/250\n",
      "184/184 [==============================] - 0s 963us/step - loss: 0.3865 - accuracy: 0.8720 - auc: 0.9284 - val_loss: 0.3734 - val_accuracy: 0.8710 - val_auc: 0.9304\n",
      "Epoch 157/250\n",
      "184/184 [==============================] - 0s 979us/step - loss: 0.3887 - accuracy: 0.8705 - auc: 0.9274 - val_loss: 0.3904 - val_accuracy: 0.8546 - val_auc: 0.9304\n",
      "Epoch 158/250\n",
      "184/184 [==============================] - 0s 963us/step - loss: 0.3884 - accuracy: 0.8674 - auc: 0.9290 - val_loss: 0.3740 - val_accuracy: 0.8710 - val_auc: 0.9318\n",
      "Epoch 159/250\n",
      "184/184 [==============================] - 0s 968us/step - loss: 0.3886 - accuracy: 0.8705 - auc: 0.9274 - val_loss: 0.3747 - val_accuracy: 0.8737 - val_auc: 0.9291\n",
      "Epoch 160/250\n",
      "184/184 [==============================] - 0s 972us/step - loss: 0.3885 - accuracy: 0.8705 - auc: 0.9288 - val_loss: 0.3744 - val_accuracy: 0.8689 - val_auc: 0.9296\n",
      "Epoch 161/250\n",
      "184/184 [==============================] - 0s 963us/step - loss: 0.3875 - accuracy: 0.8705 - auc: 0.9291 - val_loss: 0.3723 - val_accuracy: 0.8737 - val_auc: 0.9308\n",
      "Epoch 162/250\n",
      "184/184 [==============================] - 0s 968us/step - loss: 0.3866 - accuracy: 0.8706 - auc: 0.9308 - val_loss: 0.3705 - val_accuracy: 0.8751 - val_auc: 0.9333\n",
      "Epoch 163/250\n",
      "184/184 [==============================] - 0s 963us/step - loss: 0.3797 - accuracy: 0.8722 - auc: 0.9326 - val_loss: 0.3933 - val_accuracy: 0.8485 - val_auc: 0.9291\n",
      "Epoch 164/250\n",
      "184/184 [==============================] - 0s 974us/step - loss: 0.3841 - accuracy: 0.8717 - auc: 0.9298 - val_loss: 0.3861 - val_accuracy: 0.8539 - val_auc: 0.9304\n",
      "Epoch 165/250\n",
      "184/184 [==============================] - 0s 968us/step - loss: 0.3817 - accuracy: 0.8693 - auc: 0.9312 - val_loss: 0.3713 - val_accuracy: 0.8744 - val_auc: 0.9332\n",
      "Epoch 166/250\n",
      "184/184 [==============================] - 0s 974us/step - loss: 0.3862 - accuracy: 0.8684 - auc: 0.9300 - val_loss: 0.3923 - val_accuracy: 0.8635 - val_auc: 0.9294\n",
      "Epoch 167/250\n",
      "184/184 [==============================] - 0s 985us/step - loss: 0.3896 - accuracy: 0.8665 - auc: 0.9278 - val_loss: 0.3640 - val_accuracy: 0.8724 - val_auc: 0.9344\n",
      "Epoch 168/250\n",
      "184/184 [==============================] - 0s 974us/step - loss: 0.3795 - accuracy: 0.8742 - auc: 0.9337 - val_loss: 0.3730 - val_accuracy: 0.8724 - val_auc: 0.9321\n",
      "Epoch 169/250\n",
      "184/184 [==============================] - 0s 979us/step - loss: 0.3838 - accuracy: 0.8739 - auc: 0.9299 - val_loss: 0.3741 - val_accuracy: 0.8744 - val_auc: 0.9316\n",
      "Epoch 170/250\n",
      "184/184 [==============================] - 0s 963us/step - loss: 0.3769 - accuracy: 0.8711 - auc: 0.9336 - val_loss: 0.3683 - val_accuracy: 0.8853 - val_auc: 0.9320\n",
      "Epoch 171/250\n",
      "184/184 [==============================] - 0s 985us/step - loss: 0.3719 - accuracy: 0.8780 - auc: 0.9355 - val_loss: 0.3759 - val_accuracy: 0.8703 - val_auc: 0.9314\n",
      "Epoch 172/250\n",
      "184/184 [==============================] - 0s 979us/step - loss: 0.3785 - accuracy: 0.8732 - auc: 0.9338 - val_loss: 0.3687 - val_accuracy: 0.8765 - val_auc: 0.9313\n",
      "Epoch 173/250\n",
      "184/184 [==============================] - 0s 1ms/step - loss: 0.3831 - accuracy: 0.8734 - auc: 0.9310 - val_loss: 0.3696 - val_accuracy: 0.8860 - val_auc: 0.9305\n",
      "Epoch 174/250\n",
      "184/184 [==============================] - 0s 1ms/step - loss: 0.3755 - accuracy: 0.8720 - auc: 0.9343 - val_loss: 0.3667 - val_accuracy: 0.8778 - val_auc: 0.9340\n",
      "Epoch 175/250\n",
      "184/184 [==============================] - 0s 974us/step - loss: 0.3811 - accuracy: 0.8732 - auc: 0.9318 - val_loss: 0.3752 - val_accuracy: 0.8737 - val_auc: 0.9357\n",
      "Epoch 176/250\n",
      "184/184 [==============================] - 0s 979us/step - loss: 0.3831 - accuracy: 0.8706 - auc: 0.9320 - val_loss: 0.3661 - val_accuracy: 0.8765 - val_auc: 0.9337\n",
      "Epoch 177/250\n",
      "184/184 [==============================] - 0s 974us/step - loss: 0.3724 - accuracy: 0.8771 - auc: 0.9361 - val_loss: 0.3723 - val_accuracy: 0.8751 - val_auc: 0.9283\n",
      "Epoch 178/250\n",
      "184/184 [==============================] - 0s 968us/step - loss: 0.3781 - accuracy: 0.8744 - auc: 0.9337 - val_loss: 0.3702 - val_accuracy: 0.8805 - val_auc: 0.9354\n",
      "Epoch 179/250\n",
      "184/184 [==============================] - 0s 974us/step - loss: 0.3714 - accuracy: 0.8764 - auc: 0.9379 - val_loss: 0.3590 - val_accuracy: 0.8805 - val_auc: 0.9372\n",
      "Epoch 180/250\n",
      "184/184 [==============================] - 0s 968us/step - loss: 0.3702 - accuracy: 0.8776 - auc: 0.9371 - val_loss: 0.3646 - val_accuracy: 0.8792 - val_auc: 0.9345\n",
      "Epoch 181/250\n",
      "184/184 [==============================] - 0s 979us/step - loss: 0.3739 - accuracy: 0.8778 - auc: 0.9353 - val_loss: 0.3604 - val_accuracy: 0.8840 - val_auc: 0.9349\n",
      "Epoch 182/250\n",
      "184/184 [==============================] - 0s 974us/step - loss: 0.3796 - accuracy: 0.8749 - auc: 0.9331 - val_loss: 0.3691 - val_accuracy: 0.8744 - val_auc: 0.9354\n",
      "Epoch 183/250\n",
      "184/184 [==============================] - 0s 979us/step - loss: 0.3734 - accuracy: 0.8751 - auc: 0.9350 - val_loss: 0.3836 - val_accuracy: 0.8601 - val_auc: 0.9326\n",
      "Epoch 184/250\n",
      "184/184 [==============================] - 0s 979us/step - loss: 0.3778 - accuracy: 0.8740 - auc: 0.9341 - val_loss: 0.3681 - val_accuracy: 0.8792 - val_auc: 0.9347\n",
      "Epoch 185/250\n",
      "184/184 [==============================] - 0s 974us/step - loss: 0.3795 - accuracy: 0.8752 - auc: 0.9330 - val_loss: 0.3655 - val_accuracy: 0.8853 - val_auc: 0.9342\n",
      "Epoch 186/250\n",
      "184/184 [==============================] - 0s 963us/step - loss: 0.3709 - accuracy: 0.8761 - auc: 0.9382 - val_loss: 0.3671 - val_accuracy: 0.8751 - val_auc: 0.9339\n",
      "Epoch 187/250\n",
      "184/184 [==============================] - 0s 985us/step - loss: 0.3726 - accuracy: 0.8764 - auc: 0.9370 - val_loss: 0.3640 - val_accuracy: 0.8771 - val_auc: 0.9350\n",
      "Epoch 188/250\n",
      "184/184 [==============================] - 0s 974us/step - loss: 0.3727 - accuracy: 0.8732 - auc: 0.9359 - val_loss: 0.3636 - val_accuracy: 0.8819 - val_auc: 0.9334\n",
      "Epoch 189/250\n",
      "184/184 [==============================] - 0s 974us/step - loss: 0.3711 - accuracy: 0.8797 - auc: 0.9360 - val_loss: 0.3620 - val_accuracy: 0.8819 - val_auc: 0.9336\n",
      "Epoch 190/250\n",
      "184/184 [==============================] - 0s 974us/step - loss: 0.3727 - accuracy: 0.8756 - auc: 0.9369 - val_loss: 0.3556 - val_accuracy: 0.8846 - val_auc: 0.9396\n",
      "Epoch 191/250\n",
      "184/184 [==============================] - 0s 979us/step - loss: 0.3693 - accuracy: 0.8732 - auc: 0.9382 - val_loss: 0.3527 - val_accuracy: 0.8874 - val_auc: 0.9397\n",
      "Epoch 192/250\n",
      "184/184 [==============================] - 0s 968us/step - loss: 0.3691 - accuracy: 0.8768 - auc: 0.9381 - val_loss: 0.3608 - val_accuracy: 0.8853 - val_auc: 0.9346\n",
      "Epoch 193/250\n",
      "184/184 [==============================] - 0s 979us/step - loss: 0.3722 - accuracy: 0.8781 - auc: 0.9363 - val_loss: 0.3602 - val_accuracy: 0.8826 - val_auc: 0.9367\n",
      "Epoch 194/250\n",
      "184/184 [==============================] - 0s 974us/step - loss: 0.3704 - accuracy: 0.8761 - auc: 0.9366 - val_loss: 0.3643 - val_accuracy: 0.8867 - val_auc: 0.9355\n",
      "Epoch 195/250\n",
      "184/184 [==============================] - 0s 974us/step - loss: 0.3691 - accuracy: 0.8769 - auc: 0.9383 - val_loss: 0.3580 - val_accuracy: 0.8812 - val_auc: 0.9368\n",
      "Epoch 196/250\n",
      "184/184 [==============================] - 0s 985us/step - loss: 0.3659 - accuracy: 0.8804 - auc: 0.9384 - val_loss: 0.3745 - val_accuracy: 0.8730 - val_auc: 0.9379\n",
      "Epoch 197/250\n",
      "184/184 [==============================] - 0s 968us/step - loss: 0.3737 - accuracy: 0.8768 - auc: 0.9367 - val_loss: 0.3639 - val_accuracy: 0.8853 - val_auc: 0.9341\n",
      "Epoch 198/250\n",
      "184/184 [==============================] - 0s 968us/step - loss: 0.3703 - accuracy: 0.8807 - auc: 0.9357 - val_loss: 0.3582 - val_accuracy: 0.8867 - val_auc: 0.9383\n",
      "Epoch 199/250\n",
      "184/184 [==============================] - 0s 968us/step - loss: 0.3689 - accuracy: 0.8778 - auc: 0.9370 - val_loss: 0.3685 - val_accuracy: 0.8799 - val_auc: 0.9312\n",
      "Epoch 200/250\n",
      "184/184 [==============================] - 0s 985us/step - loss: 0.3686 - accuracy: 0.8783 - auc: 0.9379 - val_loss: 0.3578 - val_accuracy: 0.8826 - val_auc: 0.9374\n",
      "Epoch 201/250\n",
      "184/184 [==============================] - 0s 1ms/step - loss: 0.3694 - accuracy: 0.8786 - auc: 0.9382 - val_loss: 0.3724 - val_accuracy: 0.8792 - val_auc: 0.9381\n",
      "Epoch 202/250\n",
      "184/184 [==============================] - 0s 985us/step - loss: 0.3707 - accuracy: 0.8785 - auc: 0.9373 - val_loss: 0.3577 - val_accuracy: 0.8894 - val_auc: 0.9367\n",
      "Epoch 203/250\n",
      "184/184 [==============================] - 0s 1ms/step - loss: 0.3651 - accuracy: 0.8763 - auc: 0.9387 - val_loss: 0.3584 - val_accuracy: 0.8758 - val_auc: 0.9365\n",
      "Epoch 204/250\n",
      "184/184 [==============================] - 0s 1ms/step - loss: 0.3733 - accuracy: 0.8781 - auc: 0.9354 - val_loss: 0.3642 - val_accuracy: 0.8805 - val_auc: 0.9366\n",
      "Epoch 205/250\n",
      "184/184 [==============================] - 0s 1ms/step - loss: 0.3652 - accuracy: 0.8807 - auc: 0.9379 - val_loss: 0.3657 - val_accuracy: 0.8628 - val_auc: 0.9391\n",
      "Epoch 206/250\n",
      "184/184 [==============================] - 0s 1ms/step - loss: 0.3780 - accuracy: 0.8754 - auc: 0.9331 - val_loss: 0.3557 - val_accuracy: 0.8846 - val_auc: 0.9380\n",
      "Epoch 207/250\n",
      "184/184 [==============================] - 0s 1ms/step - loss: 0.3650 - accuracy: 0.8786 - auc: 0.9394 - val_loss: 0.3713 - val_accuracy: 0.8696 - val_auc: 0.9295\n",
      "Epoch 208/250\n",
      "184/184 [==============================] - 0s 1ms/step - loss: 0.3665 - accuracy: 0.8783 - auc: 0.9388 - val_loss: 0.3645 - val_accuracy: 0.8867 - val_auc: 0.9351\n",
      "Epoch 209/250\n",
      "184/184 [==============================] - 0s 1ms/step - loss: 0.3686 - accuracy: 0.8776 - auc: 0.9375 - val_loss: 0.3525 - val_accuracy: 0.8860 - val_auc: 0.9377\n",
      "Epoch 210/250\n",
      "184/184 [==============================] - 0s 1ms/step - loss: 0.3707 - accuracy: 0.8764 - auc: 0.9360 - val_loss: 0.3599 - val_accuracy: 0.8826 - val_auc: 0.9364\n",
      "Epoch 211/250\n",
      "184/184 [==============================] - 0s 1ms/step - loss: 0.3643 - accuracy: 0.8802 - auc: 0.9388 - val_loss: 0.3569 - val_accuracy: 0.8765 - val_auc: 0.9366\n",
      "Epoch 212/250\n",
      "184/184 [==============================] - 0s 1ms/step - loss: 0.3689 - accuracy: 0.8778 - auc: 0.9366 - val_loss: 0.3588 - val_accuracy: 0.8805 - val_auc: 0.9378\n",
      "Epoch 213/250\n",
      "184/184 [==============================] - 0s 1ms/step - loss: 0.3620 - accuracy: 0.8798 - auc: 0.9400 - val_loss: 0.3547 - val_accuracy: 0.8826 - val_auc: 0.9374\n",
      "Epoch 214/250\n",
      "184/184 [==============================] - 0s 1ms/step - loss: 0.3682 - accuracy: 0.8802 - auc: 0.9359 - val_loss: 0.3638 - val_accuracy: 0.8792 - val_auc: 0.9360\n",
      "Epoch 215/250\n",
      "184/184 [==============================] - 0s 1ms/step - loss: 0.3646 - accuracy: 0.8798 - auc: 0.9384 - val_loss: 0.3801 - val_accuracy: 0.8689 - val_auc: 0.9370\n",
      "Epoch 216/250\n",
      "184/184 [==============================] - 0s 1ms/step - loss: 0.3630 - accuracy: 0.8797 - auc: 0.9387 - val_loss: 0.3767 - val_accuracy: 0.8601 - val_auc: 0.9326\n",
      "Epoch 217/250\n",
      "184/184 [==============================] - 0s 1ms/step - loss: 0.3663 - accuracy: 0.8778 - auc: 0.9372 - val_loss: 0.3740 - val_accuracy: 0.8614 - val_auc: 0.9364\n",
      "Epoch 218/250\n",
      "184/184 [==============================] - 0s 1ms/step - loss: 0.3627 - accuracy: 0.8788 - auc: 0.9385 - val_loss: 0.3556 - val_accuracy: 0.8860 - val_auc: 0.9369\n",
      "Epoch 219/250\n",
      "184/184 [==============================] - 0s 1ms/step - loss: 0.3613 - accuracy: 0.8759 - auc: 0.9409 - val_loss: 0.3538 - val_accuracy: 0.8819 - val_auc: 0.9393\n",
      "Epoch 220/250\n",
      "184/184 [==============================] - 0s 990us/step - loss: 0.3550 - accuracy: 0.8783 - auc: 0.9437 - val_loss: 0.3519 - val_accuracy: 0.8826 - val_auc: 0.9383\n",
      "Epoch 221/250\n",
      "184/184 [==============================] - 0s 985us/step - loss: 0.3603 - accuracy: 0.8797 - auc: 0.9408 - val_loss: 0.3535 - val_accuracy: 0.8826 - val_auc: 0.9362\n",
      "Epoch 222/250\n",
      "184/184 [==============================] - 0s 985us/step - loss: 0.3566 - accuracy: 0.8805 - auc: 0.9422 - val_loss: 0.3579 - val_accuracy: 0.8812 - val_auc: 0.9350\n",
      "Epoch 223/250\n",
      "184/184 [==============================] - 0s 990us/step - loss: 0.3688 - accuracy: 0.8797 - auc: 0.9362 - val_loss: 0.3533 - val_accuracy: 0.8860 - val_auc: 0.9390\n",
      "Epoch 224/250\n",
      "184/184 [==============================] - 0s 985us/step - loss: 0.3601 - accuracy: 0.8807 - auc: 0.9398 - val_loss: 0.3499 - val_accuracy: 0.8846 - val_auc: 0.9390\n",
      "Epoch 225/250\n",
      "184/184 [==============================] - 0s 995us/step - loss: 0.3642 - accuracy: 0.8776 - auc: 0.9392 - val_loss: 0.3578 - val_accuracy: 0.8805 - val_auc: 0.9349\n",
      "Epoch 226/250\n",
      "184/184 [==============================] - 0s 985us/step - loss: 0.3634 - accuracy: 0.8795 - auc: 0.9383 - val_loss: 0.3525 - val_accuracy: 0.8846 - val_auc: 0.9392\n",
      "Epoch 227/250\n",
      "184/184 [==============================] - 0s 985us/step - loss: 0.3598 - accuracy: 0.8814 - auc: 0.9415 - val_loss: 0.3462 - val_accuracy: 0.8846 - val_auc: 0.9410\n",
      "Epoch 228/250\n",
      "184/184 [==============================] - 0s 974us/step - loss: 0.3574 - accuracy: 0.8812 - auc: 0.9420 - val_loss: 0.3514 - val_accuracy: 0.8840 - val_auc: 0.9384\n",
      "Epoch 229/250\n",
      "184/184 [==============================] - 0s 985us/step - loss: 0.3610 - accuracy: 0.8827 - auc: 0.9400 - val_loss: 0.3531 - val_accuracy: 0.8894 - val_auc: 0.9390\n",
      "Epoch 230/250\n",
      "184/184 [==============================] - 0s 1ms/step - loss: 0.3620 - accuracy: 0.8810 - auc: 0.9395 - val_loss: 0.3604 - val_accuracy: 0.8846 - val_auc: 0.9355\n",
      "Epoch 231/250\n",
      "184/184 [==============================] - 0s 1ms/step - loss: 0.3597 - accuracy: 0.8809 - auc: 0.9396 - val_loss: 0.3823 - val_accuracy: 0.8614 - val_auc: 0.9352\n",
      "Epoch 232/250\n",
      "184/184 [==============================] - 0s 1ms/step - loss: 0.3657 - accuracy: 0.8821 - auc: 0.9378 - val_loss: 0.3594 - val_accuracy: 0.8744 - val_auc: 0.9349\n",
      "Epoch 233/250\n",
      "184/184 [==============================] - 0s 1ms/step - loss: 0.3573 - accuracy: 0.8788 - auc: 0.9417 - val_loss: 0.3581 - val_accuracy: 0.8853 - val_auc: 0.9346\n",
      "Epoch 234/250\n",
      "184/184 [==============================] - 0s 1ms/step - loss: 0.3604 - accuracy: 0.8819 - auc: 0.9410 - val_loss: 0.3652 - val_accuracy: 0.8785 - val_auc: 0.9302\n",
      "Epoch 235/250\n",
      "184/184 [==============================] - 0s 1ms/step - loss: 0.3620 - accuracy: 0.8845 - auc: 0.9391 - val_loss: 0.3601 - val_accuracy: 0.8785 - val_auc: 0.9378\n",
      "Epoch 236/250\n",
      "184/184 [==============================] - 0s 1ms/step - loss: 0.3577 - accuracy: 0.8792 - auc: 0.9402 - val_loss: 0.3740 - val_accuracy: 0.8573 - val_auc: 0.9351\n",
      "Epoch 237/250\n",
      "184/184 [==============================] - 0s 1ms/step - loss: 0.3588 - accuracy: 0.8793 - auc: 0.9404 - val_loss: 0.3474 - val_accuracy: 0.8860 - val_auc: 0.9392\n",
      "Epoch 238/250\n",
      "184/184 [==============================] - 0s 1ms/step - loss: 0.3561 - accuracy: 0.8805 - auc: 0.9412 - val_loss: 0.3544 - val_accuracy: 0.8826 - val_auc: 0.9356\n",
      "Epoch 239/250\n",
      "184/184 [==============================] - 0s 1ms/step - loss: 0.3605 - accuracy: 0.8793 - auc: 0.9397 - val_loss: 0.3585 - val_accuracy: 0.8744 - val_auc: 0.9372\n",
      "Epoch 240/250\n",
      "184/184 [==============================] - 0s 1ms/step - loss: 0.3642 - accuracy: 0.8786 - auc: 0.9393 - val_loss: 0.3494 - val_accuracy: 0.8799 - val_auc: 0.9374\n",
      "Epoch 241/250\n",
      "184/184 [==============================] - 0s 1ms/step - loss: 0.3596 - accuracy: 0.8780 - auc: 0.9412 - val_loss: 0.3693 - val_accuracy: 0.8737 - val_auc: 0.9344\n",
      "Epoch 242/250\n",
      "184/184 [==============================] - 0s 1ms/step - loss: 0.3589 - accuracy: 0.8785 - auc: 0.9416 - val_loss: 0.3535 - val_accuracy: 0.8894 - val_auc: 0.9356\n",
      "Epoch 243/250\n",
      "184/184 [==============================] - 0s 1ms/step - loss: 0.3506 - accuracy: 0.8860 - auc: 0.9446 - val_loss: 0.3564 - val_accuracy: 0.8805 - val_auc: 0.9368\n",
      "Epoch 244/250\n",
      "184/184 [==============================] - 0s 1ms/step - loss: 0.3557 - accuracy: 0.8781 - auc: 0.9432 - val_loss: 0.3548 - val_accuracy: 0.8785 - val_auc: 0.9359\n",
      "Epoch 245/250\n",
      "184/184 [==============================] - 0s 1ms/step - loss: 0.3530 - accuracy: 0.8831 - auc: 0.9434 - val_loss: 0.3537 - val_accuracy: 0.8867 - val_auc: 0.9369\n",
      "Epoch 246/250\n",
      "184/184 [==============================] - 0s 1ms/step - loss: 0.3582 - accuracy: 0.8788 - auc: 0.9404 - val_loss: 0.3466 - val_accuracy: 0.8805 - val_auc: 0.9393\n",
      "Epoch 247/250\n",
      "184/184 [==============================] - 0s 1ms/step - loss: 0.3531 - accuracy: 0.8856 - auc: 0.9429 - val_loss: 0.3469 - val_accuracy: 0.8826 - val_auc: 0.9400\n",
      "Epoch 248/250\n",
      "184/184 [==============================] - 0s 1ms/step - loss: 0.3515 - accuracy: 0.8827 - auc: 0.9435 - val_loss: 0.3491 - val_accuracy: 0.8874 - val_auc: 0.9384\n",
      "Epoch 249/250\n",
      "184/184 [==============================] - 0s 1ms/step - loss: 0.3542 - accuracy: 0.8834 - auc: 0.9416 - val_loss: 0.3623 - val_accuracy: 0.8703 - val_auc: 0.9374\n",
      "Epoch 250/250\n",
      "184/184 [==============================] - 0s 1ms/step - loss: 0.3576 - accuracy: 0.8809 - auc: 0.9420 - val_loss: 0.3551 - val_accuracy: 0.8805 - val_auc: 0.9354\n"
     ]
    }
   ],
   "source": [
    "history = model.fit(X_train, y_train,\n",
    "             validation_data=(X_val, y_val),\n",
    "             epochs=epochs,\n",
    "             batch_size=32)"
   ]
  },
  {
   "cell_type": "code",
   "execution_count": 112,
   "id": "8d194cdc-adc5-4700-ae44-0c0ae4a7e38b",
   "metadata": {},
   "outputs": [
    {
     "data": {
      "image/png": "[encoded data removed]",
      "text/plain": [
       "<Figure size 1200x600 with 1 Axes>"
      ]
     },
     "metadata": {},
     "output_type": "display_data"
    }
   ],
   "source": [
    "n_epoch = range(1,epochs+1)\n",
    "\n",
    "plt.figure(figsize=(12,6))\n",
    "\n",
    "seaborn.lineplot(data=history.history, x=n_epoch, y='accuracy', label='accuracy')\n",
    "# seaborn.lineplot(data=history.history, x=n_epoch, y='precision', label='precision')\n",
    "# seaborn.lineplot(data=history.history, x=n_epoch, y='recall', label='recall')\n",
    "seaborn.lineplot(data=history.history, x=n_epoch, y='auc', label='auc')\n",
    "seaborn.lineplot(data=history.history, x=n_epoch, y='loss', label='loss')\n",
    "\n",
    "plt.legend()\n",
    "plt.ylim([0,1])\n",
    "plt.ylabel(None)\n",
    "plt.show()"
   ]
  },
  {
   "cell_type": "code",
   "execution_count": 113,
   "id": "573c70fc-612f-4a23-a8cb-2b53d0dcf33f",
   "metadata": {},
   "outputs": [
    {
     "name": "stdout",
     "output_type": "stream",
     "text": [
      "40/40 [==============================] - 0s 770us/step - loss: 0.4820 - accuracy: 0.7926 - auc: 0.7592\n"
     ]
    },
    {
     "data": {
      "text/plain": [
       "[0.48197123408317566, 0.792644739151001, 0.7591872811317444]"
      ]
     },
     "execution_count": 113,
     "metadata": {},
     "output_type": "execute_result"
    }
   ],
   "source": [
    "model.evaluate(X_test, y_test)"
   ]
  },
  {
   "cell_type": "markdown",
   "id": "dc88ff5b-1328-4dec-bd05-e455f05a22a3",
   "metadata": {
    "tags": []
   },
   "source": [
    "# First model with relu activation"
   ]
  },
  {
   "cell_type": "code",
   "execution_count": null,
   "id": "a642a4e2-ac6e-4224-b555-fdb6159672a6",
   "metadata": {},
   "outputs": [],
   "source": [
    "from tensorflow.keras.models import Sequential\n",
    "from tensorflow.keras.layers import Dense, Dropout"
   ]
  },
  {
   "cell_type": "code",
   "execution_count": null,
   "id": "633429f2-2ebd-4ce8-b8c7-90e7f700eb70",
   "metadata": {},
   "outputs": [],
   "source": [
    "model = Sequential()\n",
    "model.add(Dense(32, activation='relu', input_shape=(18,)))\n",
    "model.add(Dense(64, activation='relu'))\n",
    "model.add(Dense(64, activation='relu'))\n",
    "model.add(Dense(64, activation='relu'))\n",
    "model.add(Dense(32, activation='relu'))\n",
    "model.add(Dense(1, activation='sigmoid'))\n",
    "\n",
    "model.compile(optimizer='adam', loss='binary_crossentropy', metrics=['accuracy'])"
   ]
  },
  {
   "cell_type": "code",
   "execution_count": null,
   "id": "512f5c07-0ae6-4068-bad5-908e52c6472e",
   "metadata": {
    "tags": []
   },
   "outputs": [],
   "source": [
    "history = model.fit(X_train, y_train,\n",
    "           validation_data=(X_val, y_val),\n",
    "           epochs=50,\n",
    "           batch_size=32)"
   ]
  },
  {
   "cell_type": "code",
   "execution_count": null,
   "id": "447973e2-c923-4ae9-9152-4263dd81e9bd",
   "metadata": {},
   "outputs": [],
   "source": [
    "n_epoch = range(1,51)\n",
    "\n",
    "plt.figure(figsize=(12,6))\n",
    "\n",
    "seaborn.lineplot(data=history.history, x=n_epoch, y='accuracy', label='accuracy')\n",
    "seaborn.lineplot(data=history.history, x=n_epoch, y='loss', label='loss')\n",
    "seaborn.lineplot(data=history.history, x=n_epoch, y='val_accuracy', label='val accuracy')\n",
    "seaborn.lineplot(data=history.history, x=n_epoch, y='val_loss', label='val loss')\n",
    "\n",
    "plt.legend()\n",
    "plt.ylim([0,1])\n",
    "plt.ylabel(None)\n",
    "plt.show()"
   ]
  },
  {
   "cell_type": "markdown",
   "id": "916ecd00-6b79-40db-bd28-e294bbcc5f7f",
   "metadata": {
    "tags": []
   },
   "source": [
    "# Second model with leaky relu activation"
   ]
  },
  {
   "cell_type": "code",
   "execution_count": null,
   "id": "4df7751b-f39d-4d14-ada1-b9cfd86f2688",
   "metadata": {},
   "outputs": [],
   "source": [
    "del model"
   ]
  },
  {
   "cell_type": "code",
   "execution_count": null,
   "id": "81503672-ade5-47d8-af50-c0f479505ad8",
   "metadata": {},
   "outputs": [],
   "source": [
    "del history"
   ]
  },
  {
   "cell_type": "code",
   "execution_count": null,
   "id": "736751e1-2a59-4f31-90ea-244bbf81d8ce",
   "metadata": {},
   "outputs": [],
   "source": [
    "model = Sequential()\n",
    "model.add(Dense(32, activation='leaky_relu', input_shape=(18,)))\n",
    "model.add(Dense(64, activation='leaky_relu'))\n",
    "model.add(Dense(64, activation='leaky_relu'))\n",
    "model.add(Dense(64, activation='leaky_relu'))\n",
    "model.add(Dense(32, activation='leaky_relu'))\n",
    "model.add(Dense(1, activation='sigmoid'))\n",
    "\n",
    "model.compile(optimizer='adam', loss='binary_crossentropy', metrics=['accuracy'])"
   ]
  },
  {
   "cell_type": "code",
   "execution_count": null,
   "id": "bb7cdbd4-8188-475c-becd-2f33d9ff07df",
   "metadata": {},
   "outputs": [],
   "source": [
    "history = model.fit(X_train, y_train,\n",
    "           validation_data=(X_val, y_val),\n",
    "           epochs=50,\n",
    "           batch_size=32)"
   ]
  },
  {
   "cell_type": "code",
   "execution_count": null,
   "id": "5f9decac-3b9e-42e3-b405-66a203b93588",
   "metadata": {},
   "outputs": [],
   "source": [
    "n_epoch = range(1,51)\n",
    "\n",
    "plt.figure(figsize=(12,6))\n",
    "\n",
    "seaborn.lineplot(data=history.history, x=n_epoch, y='accuracy', label='accuracy')\n",
    "seaborn.lineplot(data=history.history, x=n_epoch, y='loss', label='loss')\n",
    "seaborn.lineplot(data=history.history, x=n_epoch, y='val_accuracy', label='val accuracy')\n",
    "seaborn.lineplot(data=history.history, x=n_epoch, y='val_loss', label='val loss')\n",
    "\n",
    "plt.legend()\n",
    "plt.ylim([0,1])\n",
    "plt.ylabel(None)\n",
    "plt.show()"
   ]
  },
  {
   "cell_type": "markdown",
   "id": "fcde4547-a15f-4b09-8250-3268a461c6cb",
   "metadata": {
    "tags": []
   },
   "source": [
    "# Third model with dropout"
   ]
  },
  {
   "cell_type": "code",
   "execution_count": null,
   "id": "af733165-12ad-47c1-918c-cac80cd95ba1",
   "metadata": {},
   "outputs": [],
   "source": [
    "del model\n",
    "del history"
   ]
  },
  {
   "cell_type": "code",
   "execution_count": null,
   "id": "b3379658-3a39-4311-9f28-e037b5d60b3d",
   "metadata": {},
   "outputs": [],
   "source": [
    "model = Sequential()\n",
    "\n",
    "model.add(Dense(32, activation='relu', input_shape=(18,)))\n",
    "model.add(Dropout(0.25))\n",
    "model.add(Dense(64, activation='relu'))\n",
    "model.add(Dropout(0.25))\n",
    "model.add(Dense(64, activation='relu'))\n",
    "model.add(Dropout(0.25))\n",
    "model.add(Dense(64, activation='relu'))\n",
    "model.add(Dense(32, activation='relu'))\n",
    "model.add(Dense(1, activation='sigmoid'))\n",
    "\n",
    "model.compile(optimizer='adam', loss='binary_crossentropy', metrics=['accuracy'])"
   ]
  },
  {
   "cell_type": "code",
   "execution_count": null,
   "id": "da177b1d-62a4-49fd-8590-69cdc403d2da",
   "metadata": {},
   "outputs": [],
   "source": [
    "history = model.fit(X_train, y_train,\n",
    "             validation_data=(X_val, y_val),\n",
    "             epochs=50,\n",
    "             batch_size=32)"
   ]
  },
  {
   "cell_type": "code",
   "execution_count": null,
   "id": "df396203-8eea-4641-a5c0-9aa2a34c35fa",
   "metadata": {},
   "outputs": [],
   "source": [
    "n_epoch = range(1,51)\n",
    "\n",
    "plt.figure(figsize=(12,6))\n",
    "\n",
    "seaborn.lineplot(data=history.history, x=n_epoch, y='accuracy', label='accuracy')\n",
    "seaborn.lineplot(data=history.history, x=n_epoch, y='loss', label='loss')\n",
    "seaborn.lineplot(data=history.history, x=n_epoch, y='val_accuracy', label='val accuracy')\n",
    "seaborn.lineplot(data=history.history, x=n_epoch, y='val_loss', label='val loss')\n",
    "\n",
    "plt.legend()\n",
    "plt.ylim([0,1])\n",
    "plt.ylabel(None)\n",
    "plt.show()"
   ]
  },
  {
   "cell_type": "markdown",
   "id": "e5b3ce4d-4586-4894-ae63-930dce43ed10",
   "metadata": {
    "tags": []
   },
   "source": [
    "# Trying model 3 again"
   ]
  },
  {
   "cell_type": "code",
   "execution_count": null,
   "id": "aeedbf65-c9a9-40a7-9cbe-898ff6dd3fcd",
   "metadata": {},
   "outputs": [],
   "source": [
    "del model\n",
    "del history"
   ]
  },
  {
   "cell_type": "code",
   "execution_count": null,
   "id": "6515ca14-94c7-4cd2-bc97-051f37dd1811",
   "metadata": {},
   "outputs": [],
   "source": [
    "model = Sequential()\n",
    "\n",
    "model.add(Dense(32, activation='relu', input_shape=(18,)))\n",
    "model.add(Dropout(0.25))\n",
    "model.add(Dense(64, activation='relu'))\n",
    "model.add(Dropout(0.25))\n",
    "model.add(Dense(64, activation='relu'))\n",
    "model.add(Dropout(0.25))\n",
    "model.add(Dense(64, activation='relu'))\n",
    "model.add(Dense(32, activation='relu'))\n",
    "model.add(Dense(1, activation='sigmoid'))\n",
    "\n",
    "model.compile(optimizer='adam', loss='binary_crossentropy', metrics=['accuracy'])"
   ]
  },
  {
   "cell_type": "code",
   "execution_count": null,
   "id": "9645ff0e-9629-494e-ab10-4ebc4e826143",
   "metadata": {},
   "outputs": [],
   "source": [
    "history = model.fit(X_train, y_train,\n",
    "             validation_data=(X_val, y_val),\n",
    "             epochs=50,\n",
    "             batch_size=32)"
   ]
  },
  {
   "cell_type": "code",
   "execution_count": null,
   "id": "5fea39cc-4d97-4cb2-b7ca-6dd73d7f7f6b",
   "metadata": {},
   "outputs": [],
   "source": [
    "n_epoch = range(1,51)\n",
    "\n",
    "plt.figure(figsize=(12,6))\n",
    "\n",
    "seaborn.lineplot(data=history.history, x=n_epoch, y='accuracy', label='accuracy')\n",
    "seaborn.lineplot(data=history.history, x=n_epoch, y='loss', label='loss')\n",
    "seaborn.lineplot(data=history.history, x=n_epoch, y='val_accuracy', label='val accuracy')\n",
    "seaborn.lineplot(data=history.history, x=n_epoch, y='val_loss', label='val loss')\n",
    "\n",
    "plt.legend()\n",
    "plt.ylim([0,1])\n",
    "plt.ylabel(None)\n",
    "plt.show()"
   ]
  },
  {
   "cell_type": "code",
   "execution_count": null,
   "id": "3a11ba42-c4e5-4da5-8afc-b39821d23060",
   "metadata": {},
   "outputs": [],
   "source": [
    "model.evaluate(X_test, y_test)"
   ]
  },
  {
   "cell_type": "markdown",
   "id": "ce33d1a7-653c-4e74-abaf-48bab71bdcad",
   "metadata": {
    "tags": []
   },
   "source": [
    "# Trying model 1 again"
   ]
  },
  {
   "cell_type": "code",
   "execution_count": null,
   "id": "f005247c-8e15-4262-af95-af973118fb44",
   "metadata": {},
   "outputs": [],
   "source": [
    "del model\n",
    "del history"
   ]
  },
  {
   "cell_type": "code",
   "execution_count": null,
   "id": "8811fabc-d0c1-4c70-ab7d-624ca834a128",
   "metadata": {},
   "outputs": [],
   "source": [
    "model = Sequential()\n",
    "model.add(Dense(32, activation='relu', input_shape=(18,)))\n",
    "model.add(Dense(64, activation='relu'))\n",
    "model.add(Dense(64, activation='relu'))\n",
    "model.add(Dense(64, activation='relu'))\n",
    "model.add(Dense(32, activation='relu'))\n",
    "model.add(Dense(1, activation='sigmoid'))\n",
    "\n",
    "model.compile(optimizer='adam', loss='binary_crossentropy', metrics=['accuracy'])"
   ]
  },
  {
   "cell_type": "code",
   "execution_count": null,
   "id": "6b988552-2369-46b5-8599-c43f8805ed62",
   "metadata": {},
   "outputs": [],
   "source": [
    "history = model.fit(X_train, y_train,\n",
    "             validation_data=(X_val, y_val),\n",
    "             epochs=50,\n",
    "             batch_size=32)"
   ]
  },
  {
   "cell_type": "code",
   "execution_count": null,
   "id": "4415c9a5-0ded-48df-8b57-96b961b3d193",
   "metadata": {},
   "outputs": [],
   "source": [
    "n_epoch = range(1,51)\n",
    "\n",
    "plt.figure(figsize=(12,6))\n",
    "\n",
    "seaborn.lineplot(data=history.history, x=n_epoch, y='accuracy', label='accuracy')\n",
    "seaborn.lineplot(data=history.history, x=n_epoch, y='loss', label='loss')\n",
    "seaborn.lineplot(data=history.history, x=n_epoch, y='val_accuracy', label='val accuracy')\n",
    "seaborn.lineplot(data=history.history, x=n_epoch, y='val_loss', label='val loss')\n",
    "\n",
    "plt.legend()\n",
    "plt.ylim([0,1])\n",
    "plt.ylabel(None)\n",
    "plt.show()"
   ]
  },
  {
   "cell_type": "code",
   "execution_count": null,
   "id": "97e6f412-7b36-42a3-8cb7-4a0de566f724",
   "metadata": {},
   "outputs": [],
   "source": [
    "model.evaluate(X_test, y_test)"
   ]
  },
  {
   "cell_type": "markdown",
   "id": "b43c721d-5f9e-4fb9-ab3a-dd889af0370e",
   "metadata": {
    "tags": []
   },
   "source": [
    "# Trying smaller model"
   ]
  },
  {
   "cell_type": "code",
   "execution_count": null,
   "id": "2d6b12ea-03f1-46e0-b14d-c71b961f9505",
   "metadata": {},
   "outputs": [],
   "source": [
    "del model"
   ]
  },
  {
   "cell_type": "code",
   "execution_count": null,
   "id": "278b6652-91ea-4c83-9256-fe4ede1b1606",
   "metadata": {},
   "outputs": [],
   "source": [
    "del history"
   ]
  },
  {
   "cell_type": "code",
   "execution_count": null,
   "id": "09dc237c-e185-488b-8dad-3bce7c0d975b",
   "metadata": {},
   "outputs": [],
   "source": [
    "model = Sequential()\n",
    "model.add(Dense(256, activation='relu', input_shape=(18,)))\n",
    "model.add(Dense(512, activation='relu'))\n",
    "model.add(Dense(512, activation='relu'))\n",
    "model.add(Dense(512, activation='relu'))\n",
    "model.add(Dense(256, activation='relu'))\n",
    "model.add(Dense(1, activation='sigmoid'))\n",
    "\n",
    "model.compile(optimizer='adam', loss='binary_crossentropy', metrics=['accuracy'])"
   ]
  },
  {
   "cell_type": "code",
   "execution_count": null,
   "id": "0b2b47af-167e-4413-a293-ccb585ccf0ec",
   "metadata": {},
   "outputs": [],
   "source": [
    "history = model.fit(X_train, y_train,\n",
    "             validation_data=(X_val, y_val),\n",
    "             epochs=50,\n",
    "             batch_size=32)"
   ]
  },
  {
   "cell_type": "code",
   "execution_count": null,
   "id": "43da1b88-452d-4f2b-bdca-b36e6efe5f96",
   "metadata": {},
   "outputs": [],
   "source": [
    "n_epoch = range(1,51)\n",
    "\n",
    "plt.figure(figsize=(12,6))\n",
    "\n",
    "seaborn.lineplot(data=history.history, x=n_epoch, y='accuracy', label='accuracy')\n",
    "seaborn.lineplot(data=history.history, x=n_epoch, y='loss', label='loss')\n",
    "seaborn.lineplot(data=history.history, x=n_epoch, y='val_accuracy', label='val accuracy')\n",
    "seaborn.lineplot(data=history.history, x=n_epoch, y='val_loss', label='val loss')\n",
    "\n",
    "plt.legend()\n",
    "plt.ylim([0,1])\n",
    "plt.ylabel(None)\n",
    "plt.show()"
   ]
  },
  {
   "cell_type": "code",
   "execution_count": null,
   "id": "fd4cb962-33b2-4d16-ae87-646ad56bf042",
   "metadata": {},
   "outputs": [],
   "source": [
    "model.evaluate(X_test, y_test)"
   ]
  },
  {
   "cell_type": "markdown",
   "id": "ac4e971d-9705-42ec-aa1a-7c97e54d592e",
   "metadata": {
    "tags": []
   },
   "source": [
    "# optimising"
   ]
  },
  {
   "cell_type": "code",
   "execution_count": null,
   "id": "3314387d-9951-44e9-b477-275e6646a289",
   "metadata": {},
   "outputs": [],
   "source": [
    "del model\n",
    "del history"
   ]
  },
  {
   "cell_type": "code",
   "execution_count": null,
   "id": "ca4bde87-fdcb-44c0-89e7-c36cf5495e28",
   "metadata": {},
   "outputs": [],
   "source": [
    "model = Sequential()\n",
    "model.add(Dense(32, activation='relu', input_shape=(18,)))\n",
    "model.add(Dense(64, activation='relu'))\n",
    "model.add(Dense(64, activation='relu'))\n",
    "model.add(Dense(64, activation='relu'))\n",
    "model.add(Dense(32, activation='relu'))\n",
    "model.add(Dense(1, activation='sigmoid'))\n",
    "\n",
    "model.compile(optimizer='adam', loss='binary_crossentropy', metrics=['accuracy'])"
   ]
  },
  {
   "cell_type": "code",
   "execution_count": null,
   "id": "4430786a-32ff-49c5-ae94-d23aaf3f5eb0",
   "metadata": {},
   "outputs": [],
   "source": [
    "history = model.fit(X_train, y_train,\n",
    "             validation_data=(X_val, y_val),\n",
    "             epochs=50,\n",
    "             batch_size=32)"
   ]
  },
  {
   "cell_type": "code",
   "execution_count": null,
   "id": "ee50e1be-9145-48a8-bc43-bf4edae9e15f",
   "metadata": {},
   "outputs": [],
   "source": [
    "n_epoch = range(1,51)\n",
    "\n",
    "plt.figure(figsize=(12,6))\n",
    "\n",
    "seaborn.lineplot(data=history.history, x=n_epoch, y='accuracy', label='accuracy')\n",
    "seaborn.lineplot(data=history.history, x=n_epoch, y='loss', label='loss')\n",
    "seaborn.lineplot(data=history.history, x=n_epoch, y='val_accuracy', label='val accuracy')\n",
    "seaborn.lineplot(data=history.history, x=n_epoch, y='val_loss', label='val loss')\n",
    "\n",
    "plt.legend()\n",
    "plt.ylim([0,1])\n",
    "plt.ylabel(None)\n",
    "plt.show()"
   ]
  },
  {
   "cell_type": "code",
   "execution_count": null,
   "id": "6b5d42f9-f23d-4510-99c2-165c8ddd64e9",
   "metadata": {},
   "outputs": [],
   "source": [
    "model.evaluate(X_test, y_test)"
   ]
  },
  {
   "cell_type": "markdown",
   "id": "53c3679c-e741-46df-b42c-0cfe8981e4a6",
   "metadata": {
    "tags": []
   },
   "source": [
    "# Trying less layers"
   ]
  },
  {
   "cell_type": "code",
   "execution_count": null,
   "id": "d5be8adb-7dc6-4281-a358-d7c17f1283f1",
   "metadata": {},
   "outputs": [],
   "source": [
    "del model\n",
    "del history"
   ]
  },
  {
   "cell_type": "code",
   "execution_count": null,
   "id": "58ccad6a-2ee1-41f3-82ab-2d69049ccfdb",
   "metadata": {},
   "outputs": [],
   "source": [
    "model = Sequential()\n",
    "model.add(Dense(64, activation='leaky_relu', input_shape=(18,)))\n",
    "model.add(Dense(128, activation='leaky_relu'))\n",
    "model.add(Dense(64, activation='leaky_relu'))\n",
    "model.add(Dense(1, activation='sigmoid'))\n",
    "\n",
    "model.compile(optimizer='adam', loss='binary_crossentropy', metrics=['accuracy'])"
   ]
  },
  {
   "cell_type": "code",
   "execution_count": null,
   "id": "a8d12055-e360-4078-b4ed-8e0eacacee2b",
   "metadata": {},
   "outputs": [],
   "source": [
    "history = model.fit(X_train, y_train,\n",
    "             validation_data=(X_val, y_val),\n",
    "             epochs=75,\n",
    "             batch_size=32)"
   ]
  },
  {
   "cell_type": "code",
   "execution_count": null,
   "id": "921ca5a3-0490-4827-8bc9-8bd41f5f4242",
   "metadata": {
    "tags": []
   },
   "outputs": [],
   "source": [
    "n_epoch = range(1,76)\n",
    "\n",
    "plt.figure(figsize=(12,6))\n",
    "\n",
    "seaborn.lineplot(data=history.history, x=n_epoch, y='accuracy', label='accuracy')\n",
    "seaborn.lineplot(data=history.history, x=n_epoch, y='loss', label='loss')\n",
    "seaborn.lineplot(data=history.history, x=n_epoch, y='val_accuracy', label='val accuracy')\n",
    "seaborn.lineplot(data=history.history, x=n_epoch, y='val_loss', label='val loss')\n",
    "\n",
    "plt.legend()\n",
    "plt.ylim([0,1])\n",
    "plt.ylabel(None)\n",
    "plt.show()"
   ]
  },
  {
   "cell_type": "code",
   "execution_count": null,
   "id": "56e281f3-1472-4e0d-bedf-e315cfb8ff06",
   "metadata": {},
   "outputs": [],
   "source": [
    "model.evaluate(X_test, y_test)"
   ]
  },
  {
   "cell_type": "markdown",
   "id": "c476f39a-e084-44c5-b383-0627fcffa5b0",
   "metadata": {},
   "source": [
    "#  MISC"
   ]
  },
  {
   "cell_type": "code",
   "execution_count": null,
   "id": "2d038bee-80a5-4718-9b1c-ff77788cff02",
   "metadata": {},
   "outputs": [],
   "source": [
    "def rf_feat_importance(model, data):\n",
    "    return pd.DataFrame({'Feature':data.columns, 'Importance':model.feature_importances_}).sort_values('Importance', ascending=False)\n",
    "\n",
    "fi = rf_feat_importance(model, X)\n",
    "fi.style.background_gradient(cmap='Blues')"
   ]
  },
  {
   "cell_type": "code",
   "execution_count": null,
   "id": "610e83db-531a-44fc-a98f-682e72c44bd2",
   "metadata": {},
   "outputs": [],
   "source": []
  }
 ],
 "metadata": {
  "kernelspec": {
   "display_name": "Python 3 (ipykernel)",
   "language": "python",
   "name": "python3"
  },
  "language_info": {
   "codemirror_mode": {
    "name": "ipython",
    "version": 3
   },
   "file_extension": ".py",
   "mimetype": "text/x-python",
   "name": "python",
   "nbconvert_exporter": "python",
   "pygments_lexer": "ipython3",
   "version": "3.9.9"
  }
 },
 "nbformat": 4,
 "nbformat_minor": 5
}
