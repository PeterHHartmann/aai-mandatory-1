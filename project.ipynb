{
 "cells": [
  {
   "cell_type": "code",
   "execution_count": 1,
   "id": "731ff28d-7d3f-4ff1-a8be-bbc73a99f343",
   "metadata": {},
   "outputs": [],
   "source": [
    "import numpy as np\n",
    "import pandas as pd\n",
    "from scipy import stats\n",
    "import matplotlib\n",
    "import matplotlib.pyplot as plt\n",
    "import seaborn\n",
    "from sklearn.preprocessing import LabelEncoder\n",
    "%matplotlib inline"
   ]
  },
  {
   "cell_type": "markdown",
   "id": "73357526-c298-446e-8f5e-eca18a99666a",
   "metadata": {},
   "source": [
    "# Observing and cleaning the data"
   ]
  },
  {
   "cell_type": "code",
   "execution_count": 2,
   "id": "b823518d-6ee6-4274-89ed-3f458844c3f4",
   "metadata": {},
   "outputs": [],
   "source": [
    "data = pd.read_csv('data/healthcare-dataset-stroke-data.csv')"
   ]
  },
  {
   "cell_type": "code",
   "execution_count": 3,
   "id": "25011403-c0fd-419b-87a6-10d172194e65",
   "metadata": {
    "tags": []
   },
   "outputs": [
    {
     "name": "stdout",
     "output_type": "stream",
     "text": [
      "<class 'pandas.core.frame.DataFrame'>\n",
      "RangeIndex: 5110 entries, 0 to 5109\n",
      "Data columns (total 12 columns):\n",
      " #   Column             Non-Null Count  Dtype  \n",
      "---  ------             --------------  -----  \n",
      " 0   id                 5110 non-null   int64  \n",
      " 1   gender             5110 non-null   object \n",
      " 2   age                5110 non-null   float64\n",
      " 3   hypertension       5110 non-null   int64  \n",
      " 4   heart_disease      5110 non-null   int64  \n",
      " 5   ever_married       5110 non-null   object \n",
      " 6   work_type          5110 non-null   object \n",
      " 7   Residence_type     5110 non-null   object \n",
      " 8   avg_glucose_level  5110 non-null   float64\n",
      " 9   bmi                4909 non-null   float64\n",
      " 10  smoking_status     5110 non-null   object \n",
      " 11  stroke             5110 non-null   int64  \n",
      "dtypes: float64(3), int64(4), object(5)\n",
      "memory usage: 479.2+ KB\n"
     ]
    }
   ],
   "source": [
    "data.info()"
   ]
  },
  {
   "cell_type": "code",
   "execution_count": 4,
   "id": "1c8c1269-dc4f-4833-b8b7-fe464d349e00",
   "metadata": {},
   "outputs": [
    {
     "data": {
      "text/plain": [
       "Female    2994\n",
       "Male      2115\n",
       "Other        1\n",
       "Name: gender, dtype: int64"
      ]
     },
     "execution_count": 4,
     "metadata": {},
     "output_type": "execute_result"
    }
   ],
   "source": [
    "data['gender'].value_counts()"
   ]
  },
  {
   "cell_type": "code",
   "execution_count": 5,
   "id": "379689cb-3f18-421e-954d-a9d461038102",
   "metadata": {},
   "outputs": [],
   "source": [
    "# removing row with \"Other\" gender\n",
    "data = data.drop(data[data['gender']=='Other'].index)"
   ]
  },
  {
   "cell_type": "code",
   "execution_count": 6,
   "id": "aa0e0b21-c0a3-45ba-a70b-3aeffe4ba843",
   "metadata": {},
   "outputs": [],
   "source": [
    "# removing id column\n",
    "data = data.drop('id', axis=1)"
   ]
  },
  {
   "cell_type": "code",
   "execution_count": 7,
   "id": "e281960d-0acb-41ac-bae4-a74738f2b626",
   "metadata": {},
   "outputs": [
    {
     "data": {
      "text/plain": [
       "Female    2994\n",
       "Male      2115\n",
       "Name: gender, dtype: int64"
      ]
     },
     "execution_count": 7,
     "metadata": {},
     "output_type": "execute_result"
    }
   ],
   "source": [
    "data['gender'].value_counts()"
   ]
  },
  {
   "cell_type": "code",
   "execution_count": 8,
   "id": "a6de0f40-10a9-46c9-ba4f-422da83f06b4",
   "metadata": {
    "tags": []
   },
   "outputs": [
    {
     "data": {
      "text/plain": [
       "gender                 0\n",
       "age                    0\n",
       "hypertension           0\n",
       "heart_disease          0\n",
       "ever_married           0\n",
       "work_type              0\n",
       "Residence_type         0\n",
       "avg_glucose_level      0\n",
       "bmi                  201\n",
       "smoking_status         0\n",
       "stroke                 0\n",
       "dtype: int64"
      ]
     },
     "execution_count": 8,
     "metadata": {},
     "output_type": "execute_result"
    }
   ],
   "source": [
    "# counting rows with null values in it\n",
    "data.isnull().sum()"
   ]
  },
  {
   "cell_type": "code",
   "execution_count": 9,
   "id": "22f7dae8-7ef8-4461-9e15-198490ff3dfb",
   "metadata": {},
   "outputs": [],
   "source": [
    "# filling null values in bmi column with the bmi mean\n",
    "data['bmi'] = data['bmi'].fillna(round(data['bmi'].mean(), 2))"
   ]
  },
  {
   "cell_type": "code",
   "execution_count": 10,
   "id": "8723a856-e296-4f55-85eb-8200ad1bd179",
   "metadata": {},
   "outputs": [
    {
     "data": {
      "text/plain": [
       "0"
      ]
     },
     "execution_count": 10,
     "metadata": {},
     "output_type": "execute_result"
    }
   ],
   "source": [
    "# checking for nulls again\n",
    "data['bmi'].isnull().sum()"
   ]
  },
  {
   "cell_type": "code",
   "execution_count": 11,
   "id": "6359e72f-69ca-4de0-8a85-380670360596",
   "metadata": {},
   "outputs": [
    {
     "data": {
      "text/html": [
       "<div>\n",
       "<style scoped>\n",
       "    .dataframe tbody tr th:only-of-type {\n",
       "        vertical-align: middle;\n",
       "    }\n",
       "\n",
       "    .dataframe tbody tr th {\n",
       "        vertical-align: top;\n",
       "    }\n",
       "\n",
       "    .dataframe thead th {\n",
       "        text-align: right;\n",
       "    }\n",
       "</style>\n",
       "<table border=\"1\" class=\"dataframe\">\n",
       "  <thead>\n",
       "    <tr style=\"text-align: right;\">\n",
       "      <th></th>\n",
       "      <th>stroke</th>\n",
       "    </tr>\n",
       "    <tr>\n",
       "      <th>stroke</th>\n",
       "      <th></th>\n",
       "    </tr>\n",
       "  </thead>\n",
       "  <tbody>\n",
       "    <tr>\n",
       "      <th>0</th>\n",
       "      <td>4860</td>\n",
       "    </tr>\n",
       "    <tr>\n",
       "      <th>1</th>\n",
       "      <td>249</td>\n",
       "    </tr>\n",
       "  </tbody>\n",
       "</table>\n",
       "</div>"
      ],
      "text/plain": [
       "        stroke\n",
       "stroke        \n",
       "0         4860\n",
       "1          249"
      ]
     },
     "execution_count": 11,
     "metadata": {},
     "output_type": "execute_result"
    }
   ],
   "source": [
    "# creating new dataframe with stroke and no stroke counts (0 = no stroke, 1 = stroke)\n",
    "stroke_count_df = pd.DataFrame(data.groupby('stroke')['stroke'].count())\n",
    "stroke_count_df"
   ]
  },
  {
   "cell_type": "code",
   "execution_count": 12,
   "id": "f8d22466-6f1c-42b9-ba18-6e77ff1ec676",
   "metadata": {},
   "outputs": [
    {
     "name": "stderr",
     "output_type": "stream",
     "text": [
      "C:\\Users\\Peter\\Documents\\Workspace\\aai\\aai-mandatory-1\\.venv\\lib\\site-packages\\seaborn\\distributions.py:269: FutureWarning: In a future version, `df.iloc[:, i] = newvals` will attempt to set the values inplace instead of always setting a new array. To retain the old behavior, use either `df[df.columns[i]] = newvals` or, if columns are non-unique, `df.isetitem(i, newvals)`\n",
      "  baselines.iloc[:, cols] = (curves\n"
     ]
    },
    {
     "data": {
      "image/png": "[encoded data removed]",
      "text/plain": [
       "<Figure size 1200x700 with 1 Axes>"
      ]
     },
     "metadata": {},
     "output_type": "display_data"
    }
   ],
   "source": [
    "# plotting density distribution of bmi for stroke and no-stroke \n",
    "plt.figure(figsize=(12,7))\n",
    "seaborn.histplot(\n",
    "    data, x=\"bmi\", hue=\"stroke\",\n",
    "    element=\"step\",\n",
    "    multiple='stack'\n",
    ")\n",
    "plt.title('Stroke vs no stroke by BMI', fontsize=15)\n",
    "plt.show()"
   ]
  },
  {
   "cell_type": "code",
   "execution_count": 13,
   "id": "957c037c-b51d-426d-94d9-5face9d5e16a",
   "metadata": {},
   "outputs": [
    {
     "name": "stderr",
     "output_type": "stream",
     "text": [
      "C:\\Users\\Peter\\Documents\\Workspace\\aai\\aai-mandatory-1\\.venv\\lib\\site-packages\\seaborn\\distributions.py:269: FutureWarning: In a future version, `df.iloc[:, i] = newvals` will attempt to set the values inplace instead of always setting a new array. To retain the old behavior, use either `df[df.columns[i]] = newvals` or, if columns are non-unique, `df.isetitem(i, newvals)`\n",
      "  baselines.iloc[:, cols] = (curves\n"
     ]
    },
    {
     "data": {
      "image/png": "[encoded data removed]",
      "text/plain": [
       "<Figure size 1200x700 with 1 Axes>"
      ]
     },
     "metadata": {},
     "output_type": "display_data"
    }
   ],
   "source": [
    "# plotting density distribution of bmi for stroke and no-stroke \n",
    "plt.figure(figsize=(12,7))\n",
    "seaborn.histplot(\n",
    "    data, x=\"age\", hue=\"stroke\",\n",
    "    element=\"step\",\n",
    "    multiple='stack'\n",
    ")\n",
    "plt.title('Stroke vs no stroke by BMI', fontsize=15)\n",
    "plt.show()"
   ]
  },
  {
   "cell_type": "code",
   "execution_count": 14,
   "id": "587667a0-7bcb-4349-98ea-7136a343f742",
   "metadata": {},
   "outputs": [
    {
     "name": "stderr",
     "output_type": "stream",
     "text": [
      "C:\\Users\\Peter\\Documents\\Workspace\\aai\\aai-mandatory-1\\.venv\\lib\\site-packages\\seaborn\\distributions.py:269: FutureWarning: In a future version, `df.iloc[:, i] = newvals` will attempt to set the values inplace instead of always setting a new array. To retain the old behavior, use either `df[df.columns[i]] = newvals` or, if columns are non-unique, `df.isetitem(i, newvals)`\n",
      "  baselines.iloc[:, cols] = (curves\n"
     ]
    },
    {
     "data": {
      "image/png": "[encoded data removed]",
      "text/plain": [
       "<Figure size 1200x700 with 1 Axes>"
      ]
     },
     "metadata": {},
     "output_type": "display_data"
    }
   ],
   "source": [
    "# plotting density distribution of bmi for stroke and no-stroke \n",
    "plt.figure(figsize=(12,7))\n",
    "seaborn.histplot(\n",
    "    data, x=\"avg_glucose_level\", hue=\"stroke\",\n",
    "    element=\"step\",\n",
    "    multiple='stack'\n",
    ")\n",
    "plt.title('Stroke vs no stroke by BMI', fontsize=15)\n",
    "plt.show()"
   ]
  },
  {
   "cell_type": "code",
   "execution_count": 15,
   "id": "226a3510-439e-4108-a07b-5ced8173a6d4",
   "metadata": {},
   "outputs": [
    {
     "data": {
      "text/plain": [
       "never smoked       1892\n",
       "Unknown            1544\n",
       "formerly smoked     884\n",
       "smokes              789\n",
       "Name: smoking_status, dtype: int64"
      ]
     },
     "execution_count": 15,
     "metadata": {},
     "output_type": "execute_result"
    }
   ],
   "source": [
    "data['smoking_status'].value_counts()"
   ]
  },
  {
   "cell_type": "code",
   "execution_count": 16,
   "id": "5f77e20c-f496-4579-82b7-8e645f91f7dd",
   "metadata": {},
   "outputs": [
    {
     "name": "stdout",
     "output_type": "stream",
     "text": [
      "Value Counts of column:gender\n",
      "Female    2994\n",
      "Male      2115\n",
      "Name: gender, dtype: int64\n",
      "The classes which labeled from 0 are:  ['Female' 'Male']\n",
      "===========================================\n",
      "Value Counts of column:ever_married\n",
      "Yes    3353\n",
      "No     1756\n",
      "Name: ever_married, dtype: int64\n",
      "The classes which labeled from 0 are:  ['No' 'Yes']\n",
      "===========================================\n",
      "Value Counts of column:Residence_type\n",
      "Urban    2596\n",
      "Rural    2513\n",
      "Name: Residence_type, dtype: int64\n",
      "The classes which labeled from 0 are:  ['Rural' 'Urban']\n",
      "===========================================\n"
     ]
    }
   ],
   "source": [
    "obj_cols=['gender', 'ever_married', 'Residence_type']\n",
    "\n",
    "lb=LabelEncoder()\n",
    "\n",
    "for i in obj_cols:\n",
    "    print(f\"Value Counts of column:{i}\")\n",
    "    print(data.loc[:,i].value_counts())\n",
    "    data[i] = lb.fit_transform(data[i])\n",
    "    print(\"The classes which labeled from 0 are: \",lb.classes_,end=\"\\n===========================================\\n\")"
   ]
  },
  {
   "cell_type": "code",
   "execution_count": 17,
   "id": "b76bd70e-031c-40be-9ea7-7c241e785065",
   "metadata": {
    "tags": []
   },
   "outputs": [
    {
     "data": {
      "text/html": [
       "<div>\n",
       "<style scoped>\n",
       "    .dataframe tbody tr th:only-of-type {\n",
       "        vertical-align: middle;\n",
       "    }\n",
       "\n",
       "    .dataframe tbody tr th {\n",
       "        vertical-align: top;\n",
       "    }\n",
       "\n",
       "    .dataframe thead th {\n",
       "        text-align: right;\n",
       "    }\n",
       "</style>\n",
       "<table border=\"1\" class=\"dataframe\">\n",
       "  <thead>\n",
       "    <tr style=\"text-align: right;\">\n",
       "      <th></th>\n",
       "      <th>gender</th>\n",
       "      <th>age</th>\n",
       "      <th>hypertension</th>\n",
       "      <th>heart_disease</th>\n",
       "      <th>ever_married</th>\n",
       "      <th>work_type</th>\n",
       "      <th>Residence_type</th>\n",
       "      <th>avg_glucose_level</th>\n",
       "      <th>bmi</th>\n",
       "      <th>smoking_status</th>\n",
       "      <th>stroke</th>\n",
       "    </tr>\n",
       "  </thead>\n",
       "  <tbody>\n",
       "    <tr>\n",
       "      <th>0</th>\n",
       "      <td>1</td>\n",
       "      <td>67.0</td>\n",
       "      <td>0</td>\n",
       "      <td>1</td>\n",
       "      <td>1</td>\n",
       "      <td>Private</td>\n",
       "      <td>1</td>\n",
       "      <td>228.69</td>\n",
       "      <td>36.60</td>\n",
       "      <td>formerly smoked</td>\n",
       "      <td>1</td>\n",
       "    </tr>\n",
       "    <tr>\n",
       "      <th>1</th>\n",
       "      <td>0</td>\n",
       "      <td>61.0</td>\n",
       "      <td>0</td>\n",
       "      <td>0</td>\n",
       "      <td>1</td>\n",
       "      <td>Self-employed</td>\n",
       "      <td>0</td>\n",
       "      <td>202.21</td>\n",
       "      <td>28.89</td>\n",
       "      <td>never smoked</td>\n",
       "      <td>1</td>\n",
       "    </tr>\n",
       "    <tr>\n",
       "      <th>2</th>\n",
       "      <td>1</td>\n",
       "      <td>80.0</td>\n",
       "      <td>0</td>\n",
       "      <td>1</td>\n",
       "      <td>1</td>\n",
       "      <td>Private</td>\n",
       "      <td>0</td>\n",
       "      <td>105.92</td>\n",
       "      <td>32.50</td>\n",
       "      <td>never smoked</td>\n",
       "      <td>1</td>\n",
       "    </tr>\n",
       "    <tr>\n",
       "      <th>3</th>\n",
       "      <td>0</td>\n",
       "      <td>49.0</td>\n",
       "      <td>0</td>\n",
       "      <td>0</td>\n",
       "      <td>1</td>\n",
       "      <td>Private</td>\n",
       "      <td>1</td>\n",
       "      <td>171.23</td>\n",
       "      <td>34.40</td>\n",
       "      <td>smokes</td>\n",
       "      <td>1</td>\n",
       "    </tr>\n",
       "    <tr>\n",
       "      <th>4</th>\n",
       "      <td>0</td>\n",
       "      <td>79.0</td>\n",
       "      <td>1</td>\n",
       "      <td>0</td>\n",
       "      <td>1</td>\n",
       "      <td>Self-employed</td>\n",
       "      <td>0</td>\n",
       "      <td>174.12</td>\n",
       "      <td>24.00</td>\n",
       "      <td>never smoked</td>\n",
       "      <td>1</td>\n",
       "    </tr>\n",
       "  </tbody>\n",
       "</table>\n",
       "</div>"
      ],
      "text/plain": [
       "   gender   age  hypertension  heart_disease  ever_married      work_type  \\\n",
       "0       1  67.0             0              1             1        Private   \n",
       "1       0  61.0             0              0             1  Self-employed   \n",
       "2       1  80.0             0              1             1        Private   \n",
       "3       0  49.0             0              0             1        Private   \n",
       "4       0  79.0             1              0             1  Self-employed   \n",
       "\n",
       "   Residence_type  avg_glucose_level    bmi   smoking_status  stroke  \n",
       "0               1             228.69  36.60  formerly smoked       1  \n",
       "1               0             202.21  28.89     never smoked       1  \n",
       "2               0             105.92  32.50     never smoked       1  \n",
       "3               1             171.23  34.40           smokes       1  \n",
       "4               0             174.12  24.00     never smoked       1  "
      ]
     },
     "execution_count": 17,
     "metadata": {},
     "output_type": "execute_result"
    }
   ],
   "source": [
    "data.head()"
   ]
  },
  {
   "cell_type": "code",
   "execution_count": 18,
   "id": "34a563c4-9c61-4c03-b1f7-0c50313aa94e",
   "metadata": {},
   "outputs": [],
   "source": [
    "def run_spearmanr(a):\n",
    "    r = stats.spearmanr(a=data[a], b=data['stroke'])\n",
    "    print(f'Spearmanr results for correlation between {a} and stroke')\n",
    "    print('Correlation: {:f}'.format(r.correlation))\n",
    "    print('P-value: {:f}'.format(r.pvalue))"
   ]
  },
  {
   "cell_type": "code",
   "execution_count": 19,
   "id": "5c615f7b-f327-4fcd-beda-58f23b55a88b",
   "metadata": {},
   "outputs": [
    {
     "name": "stdout",
     "output_type": "stream",
     "text": [
      "Spearmanr results for correlation between bmi and stroke\n",
      "Correlation: 0.054964\n",
      "P-value: 0.000085\n"
     ]
    }
   ],
   "source": [
    "run_spearmanr('bmi')"
   ]
  },
  {
   "cell_type": "code",
   "execution_count": 20,
   "id": "92a5d8c8-1c6e-4661-abf4-a19f230e901d",
   "metadata": {
    "tags": []
   },
   "outputs": [
    {
     "name": "stdout",
     "output_type": "stream",
     "text": [
      "Spearmanr results for correlation between age and stroke\n",
      "Correlation: 0.249530\n",
      "P-value: 0.000000\n"
     ]
    }
   ],
   "source": [
    "run_spearmanr('age')"
   ]
  },
  {
   "cell_type": "code",
   "execution_count": 21,
   "id": "2838b468-47a4-4c83-8d91-b64eab6ec88c",
   "metadata": {},
   "outputs": [
    {
     "name": "stdout",
     "output_type": "stream",
     "text": [
      "Spearmanr results for correlation between avg_glucose_level and stroke\n",
      "Correlation: 0.082585\n",
      "P-value: 0.000000\n"
     ]
    }
   ],
   "source": [
    "run_spearmanr('avg_glucose_level')"
   ]
  },
  {
   "cell_type": "code",
   "execution_count": 22,
   "id": "c285ac30-b957-4540-ae65-566ff0bd337e",
   "metadata": {},
   "outputs": [
    {
     "name": "stdout",
     "output_type": "stream",
     "text": [
      "Spearmanr results for correlation between gender and stroke\n",
      "Correlation: 0.009081\n",
      "P-value: 0.516396\n"
     ]
    }
   ],
   "source": [
    "run_spearmanr('gender')"
   ]
  },
  {
   "cell_type": "code",
   "execution_count": 23,
   "id": "19271546-d733-4af3-a2b9-44faef251a52",
   "metadata": {},
   "outputs": [
    {
     "name": "stdout",
     "output_type": "stream",
     "text": [
      "Spearmanr results for correlation between ever_married and stroke\n",
      "Correlation: 0.108299\n",
      "P-value: 0.000000\n"
     ]
    }
   ],
   "source": [
    "run_spearmanr('ever_married')"
   ]
  },
  {
   "cell_type": "code",
   "execution_count": 24,
   "id": "30f3c58a-484a-4588-8541-ff711cd5edb9",
   "metadata": {},
   "outputs": [
    {
     "name": "stdout",
     "output_type": "stream",
     "text": [
      "Spearmanr results for correlation between hypertension and stroke\n",
      "Correlation: 0.127891\n",
      "P-value: 0.000000\n"
     ]
    }
   ],
   "source": [
    "run_spearmanr('hypertension')"
   ]
  },
  {
   "cell_type": "code",
   "execution_count": 25,
   "id": "e673df60-8329-4ee2-9e1a-0f7227fe76d7",
   "metadata": {},
   "outputs": [
    {
     "name": "stdout",
     "output_type": "stream",
     "text": [
      "Spearmanr results for correlation between heart_disease and stroke\n",
      "Correlation: 0.134905\n",
      "P-value: 0.000000\n"
     ]
    }
   ],
   "source": [
    "run_spearmanr('heart_disease')"
   ]
  },
  {
   "cell_type": "code",
   "execution_count": 26,
   "id": "f1c80f74-54d0-44a2-b99f-30b841896a98",
   "metadata": {},
   "outputs": [
    {
     "name": "stdout",
     "output_type": "stream",
     "text": [
      "Spearmanr results for correlation between Residence_type and stroke\n",
      "Correlation: 0.015415\n",
      "P-value: 0.270641\n"
     ]
    }
   ],
   "source": [
    "run_spearmanr('Residence_type')"
   ]
  },
  {
   "cell_type": "code",
   "execution_count": 27,
   "id": "81037e90-eb84-4207-ab6d-3d1ce8047a0f",
   "metadata": {},
   "outputs": [],
   "source": [
    "data = pd.get_dummies(data)"
   ]
  },
  {
   "cell_type": "code",
   "execution_count": 28,
   "id": "73e792e4-cb2c-46de-8d55-56ec8ae63497",
   "metadata": {},
   "outputs": [
    {
     "data": {
      "text/html": [
       "<div>\n",
       "<style scoped>\n",
       "    .dataframe tbody tr th:only-of-type {\n",
       "        vertical-align: middle;\n",
       "    }\n",
       "\n",
       "    .dataframe tbody tr th {\n",
       "        vertical-align: top;\n",
       "    }\n",
       "\n",
       "    .dataframe thead th {\n",
       "        text-align: right;\n",
       "    }\n",
       "</style>\n",
       "<table border=\"1\" class=\"dataframe\">\n",
       "  <thead>\n",
       "    <tr style=\"text-align: right;\">\n",
       "      <th></th>\n",
       "      <th>gender</th>\n",
       "      <th>age</th>\n",
       "      <th>hypertension</th>\n",
       "      <th>heart_disease</th>\n",
       "      <th>ever_married</th>\n",
       "      <th>Residence_type</th>\n",
       "      <th>avg_glucose_level</th>\n",
       "      <th>bmi</th>\n",
       "      <th>stroke</th>\n",
       "      <th>work_type_Govt_job</th>\n",
       "      <th>work_type_Never_worked</th>\n",
       "      <th>work_type_Private</th>\n",
       "      <th>work_type_Self-employed</th>\n",
       "      <th>work_type_children</th>\n",
       "      <th>smoking_status_Unknown</th>\n",
       "      <th>smoking_status_formerly smoked</th>\n",
       "      <th>smoking_status_never smoked</th>\n",
       "      <th>smoking_status_smokes</th>\n",
       "    </tr>\n",
       "  </thead>\n",
       "  <tbody>\n",
       "    <tr>\n",
       "      <th>0</th>\n",
       "      <td>1</td>\n",
       "      <td>67.0</td>\n",
       "      <td>0</td>\n",
       "      <td>1</td>\n",
       "      <td>1</td>\n",
       "      <td>1</td>\n",
       "      <td>228.69</td>\n",
       "      <td>36.60</td>\n",
       "      <td>1</td>\n",
       "      <td>0</td>\n",
       "      <td>0</td>\n",
       "      <td>1</td>\n",
       "      <td>0</td>\n",
       "      <td>0</td>\n",
       "      <td>0</td>\n",
       "      <td>1</td>\n",
       "      <td>0</td>\n",
       "      <td>0</td>\n",
       "    </tr>\n",
       "    <tr>\n",
       "      <th>1</th>\n",
       "      <td>0</td>\n",
       "      <td>61.0</td>\n",
       "      <td>0</td>\n",
       "      <td>0</td>\n",
       "      <td>1</td>\n",
       "      <td>0</td>\n",
       "      <td>202.21</td>\n",
       "      <td>28.89</td>\n",
       "      <td>1</td>\n",
       "      <td>0</td>\n",
       "      <td>0</td>\n",
       "      <td>0</td>\n",
       "      <td>1</td>\n",
       "      <td>0</td>\n",
       "      <td>0</td>\n",
       "      <td>0</td>\n",
       "      <td>1</td>\n",
       "      <td>0</td>\n",
       "    </tr>\n",
       "    <tr>\n",
       "      <th>2</th>\n",
       "      <td>1</td>\n",
       "      <td>80.0</td>\n",
       "      <td>0</td>\n",
       "      <td>1</td>\n",
       "      <td>1</td>\n",
       "      <td>0</td>\n",
       "      <td>105.92</td>\n",
       "      <td>32.50</td>\n",
       "      <td>1</td>\n",
       "      <td>0</td>\n",
       "      <td>0</td>\n",
       "      <td>1</td>\n",
       "      <td>0</td>\n",
       "      <td>0</td>\n",
       "      <td>0</td>\n",
       "      <td>0</td>\n",
       "      <td>1</td>\n",
       "      <td>0</td>\n",
       "    </tr>\n",
       "    <tr>\n",
       "      <th>3</th>\n",
       "      <td>0</td>\n",
       "      <td>49.0</td>\n",
       "      <td>0</td>\n",
       "      <td>0</td>\n",
       "      <td>1</td>\n",
       "      <td>1</td>\n",
       "      <td>171.23</td>\n",
       "      <td>34.40</td>\n",
       "      <td>1</td>\n",
       "      <td>0</td>\n",
       "      <td>0</td>\n",
       "      <td>1</td>\n",
       "      <td>0</td>\n",
       "      <td>0</td>\n",
       "      <td>0</td>\n",
       "      <td>0</td>\n",
       "      <td>0</td>\n",
       "      <td>1</td>\n",
       "    </tr>\n",
       "    <tr>\n",
       "      <th>4</th>\n",
       "      <td>0</td>\n",
       "      <td>79.0</td>\n",
       "      <td>1</td>\n",
       "      <td>0</td>\n",
       "      <td>1</td>\n",
       "      <td>0</td>\n",
       "      <td>174.12</td>\n",
       "      <td>24.00</td>\n",
       "      <td>1</td>\n",
       "      <td>0</td>\n",
       "      <td>0</td>\n",
       "      <td>0</td>\n",
       "      <td>1</td>\n",
       "      <td>0</td>\n",
       "      <td>0</td>\n",
       "      <td>0</td>\n",
       "      <td>1</td>\n",
       "      <td>0</td>\n",
       "    </tr>\n",
       "  </tbody>\n",
       "</table>\n",
       "</div>"
      ],
      "text/plain": [
       "   gender   age  hypertension  heart_disease  ever_married  Residence_type  \\\n",
       "0       1  67.0             0              1             1               1   \n",
       "1       0  61.0             0              0             1               0   \n",
       "2       1  80.0             0              1             1               0   \n",
       "3       0  49.0             0              0             1               1   \n",
       "4       0  79.0             1              0             1               0   \n",
       "\n",
       "   avg_glucose_level    bmi  stroke  work_type_Govt_job  \\\n",
       "0             228.69  36.60       1                   0   \n",
       "1             202.21  28.89       1                   0   \n",
       "2             105.92  32.50       1                   0   \n",
       "3             171.23  34.40       1                   0   \n",
       "4             174.12  24.00       1                   0   \n",
       "\n",
       "   work_type_Never_worked  work_type_Private  work_type_Self-employed  \\\n",
       "0                       0                  1                        0   \n",
       "1                       0                  0                        1   \n",
       "2                       0                  1                        0   \n",
       "3                       0                  1                        0   \n",
       "4                       0                  0                        1   \n",
       "\n",
       "   work_type_children  smoking_status_Unknown  smoking_status_formerly smoked  \\\n",
       "0                   0                       0                               1   \n",
       "1                   0                       0                               0   \n",
       "2                   0                       0                               0   \n",
       "3                   0                       0                               0   \n",
       "4                   0                       0                               0   \n",
       "\n",
       "   smoking_status_never smoked  smoking_status_smokes  \n",
       "0                            0                      0  \n",
       "1                            1                      0  \n",
       "2                            1                      0  \n",
       "3                            0                      1  \n",
       "4                            1                      0  "
      ]
     },
     "execution_count": 28,
     "metadata": {},
     "output_type": "execute_result"
    }
   ],
   "source": [
    "data.head()"
   ]
  },
  {
   "cell_type": "code",
   "execution_count": 29,
   "id": "7882f559-dfd4-4501-82af-b4c5247d9e77",
   "metadata": {},
   "outputs": [
    {
     "name": "stdout",
     "output_type": "stream",
     "text": [
      "SpearmanrResult(correlation=0.008920477479368813, pvalue=0.5238200265767476)\n"
     ]
    }
   ],
   "source": [
    "print(stats.spearmanr(a=data['smoking_status_smokes'],b=data['stroke']))"
   ]
  },
  {
   "cell_type": "markdown",
   "id": "9d30cc71-7fdc-4031-a42b-5122fa7399a7",
   "metadata": {},
   "source": [
    "# Data resambling to improve imbalanced data"
   ]
  },
  {
   "cell_type": "code",
   "execution_count": 30,
   "id": "fa9edab4-21af-48f1-a780-1cc552c97200",
   "metadata": {
    "tags": []
   },
   "outputs": [
    {
     "name": "stdout",
     "output_type": "stream",
     "text": [
      "0    4860\n",
      "1     249\n",
      "Name: stroke, dtype: int64\n"
     ]
    },
    {
     "data": {
      "text/plain": [
       "<AxesSubplot: >"
      ]
     },
     "execution_count": 30,
     "metadata": {},
     "output_type": "execute_result"
    },
    {
     "data": {
      "image/png": "[encoded data removed]",
      "text/plain": [
       "<Figure size 640x480 with 1 Axes>"
      ]
     },
     "metadata": {},
     "output_type": "display_data"
    }
   ],
   "source": [
    "print(data['stroke'].value_counts())\n",
    "data['stroke'].value_counts().sort_index().plot.bar()"
   ]
  },
  {
   "cell_type": "code",
   "execution_count": 31,
   "id": "75847916-c9ca-485a-b2e0-3977703828e1",
   "metadata": {},
   "outputs": [],
   "source": [
    "y = data['stroke']\n",
    "X = data.drop('stroke', axis=1)"
   ]
  },
  {
   "cell_type": "code",
   "execution_count": 32,
   "id": "2945c024-57bd-42bf-b2f1-f11dd7c9a942",
   "metadata": {
    "tags": []
   },
   "outputs": [
    {
     "name": "stdout",
     "output_type": "stream",
     "text": [
      "(3831, 17) (1278, 17)\n",
      "(3831,) (1278,)\n"
     ]
    }
   ],
   "source": [
    "from sklearn.model_selection import train_test_split\n",
    "X_train, X_test, y_train, y_test = train_test_split(X, y, test_size=0.25, random_state=2022, stratify=y)\n",
    "print(X_train.shape, X_test.shape)\n",
    "print(y_train.shape, y_test.shape)"
   ]
  },
  {
   "cell_type": "code",
   "execution_count": 33,
   "id": "6d2686f2-4ce4-4c42-87be-630d174fd938",
   "metadata": {
    "tags": []
   },
   "outputs": [],
   "source": [
    "# scaling data as it will impact performance on SGD (won't do anything for Random Forest)\n",
    "from sklearn.preprocessing import MinMaxScaler \n",
    "sc = MinMaxScaler()\n",
    "\n",
    "X_train = sc.fit_transform(X_train)\n",
    "X_test = sc.transform(X_test)"
   ]
  },
  {
   "cell_type": "code",
   "execution_count": 34,
   "id": "dc8f2326-3068-49a9-94a6-539c63f05e78",
   "metadata": {
    "tags": []
   },
   "outputs": [
    {
     "name": "stdout",
     "output_type": "stream",
     "text": [
      "Stroke counts before resampling:\n",
      "stroke\n",
      "0         3644\n",
      "1          187\n",
      "dtype: int64\n"
     ]
    }
   ],
   "source": [
    "print('Stroke counts before resampling:')\n",
    "print(pd.DataFrame(y_train, columns=['stroke']).value_counts())"
   ]
  },
  {
   "cell_type": "code",
   "execution_count": 35,
   "id": "b0fdaf02-1f86-4f4d-8aa3-71a90755c541",
   "metadata": {},
   "outputs": [
    {
     "name": "stdout",
     "output_type": "stream",
     "text": [
      "(7288, 17) (1278, 17)\n",
      "(7288,) (1278,)\n"
     ]
    }
   ],
   "source": [
    "from imblearn.over_sampling import SMOTE\n",
    "oversample = SMOTE(random_state=2022)\n",
    "X_train, y_train = oversample.fit_resample(X_train, y_train.ravel())\n",
    "print(X_train.shape, X_test.shape)\n",
    "print(y_train.shape, y_test.shape)"
   ]
  },
  {
   "cell_type": "code",
   "execution_count": 36,
   "id": "379bfa91-3ac7-4b8a-842c-f77cf73cc263",
   "metadata": {
    "tags": []
   },
   "outputs": [
    {
     "name": "stdout",
     "output_type": "stream",
     "text": [
      "Stroke counts after resampling:\n",
      "stroke\n",
      "0         3644\n",
      "1         3644\n",
      "dtype: int64\n"
     ]
    }
   ],
   "source": [
    "print('Stroke counts after resampling:')\n",
    "print(pd.DataFrame(y_train, columns=['stroke']).value_counts())"
   ]
  },
  {
   "cell_type": "code",
   "execution_count": 37,
   "id": "3fc9de19-88ad-4f74-b435-d616770959de",
   "metadata": {},
   "outputs": [
    {
     "name": "stdout",
     "output_type": "stream",
     "text": [
      "(7288, 1)\n",
      "(1278, 1)\n"
     ]
    }
   ],
   "source": [
    "X_train_bmi = np.array(X_train[:, [data.columns.get_loc('bmi')]]).reshape(-1, 1)\n",
    "X_test_bmi  = np.array(X_test[:, [data.columns.get_loc('bmi')]]).reshape(-1, 1)\n",
    "print(X_train_bmi.shape)\n",
    "print(X_test_bmi.shape)"
   ]
  },
  {
   "cell_type": "markdown",
   "id": "f28ebc8b-6cfb-41fe-8e9e-8c780c4c8b82",
   "metadata": {
    "tags": []
   },
   "source": [
    "# Preparing model evaluation functions"
   ]
  },
  {
   "cell_type": "code",
   "execution_count": 38,
   "id": "9691c6d4-c535-43cb-8091-e63d75c4db17",
   "metadata": {},
   "outputs": [],
   "source": [
    "from sklearn.metrics import roc_auc_score, confusion_matrix"
   ]
  },
  {
   "cell_type": "code",
   "execution_count": 39,
   "id": "7eb47548-3022-4999-93d6-f9f0fe7ce701",
   "metadata": {},
   "outputs": [],
   "source": [
    "def plot_conf_mat(y_test, y_pred):\n",
    "    conf_mat = confusion_matrix(y_test, y_pred)\n",
    "\n",
    "    group_names = ['TN', 'FP', 'FN', 'TP']\n",
    "    group_counts = ['{0:0.0f}'.format(value) for value in conf_mat.flatten()]\n",
    "\n",
    "    labels = [f'{v1}\\n{v2}' for v1, v2 in zip(group_names, group_counts)]\n",
    "    labels = np.asarray(labels).reshape(2,2)\n",
    "\n",
    "    plt.figure(figsize=(8,8))\n",
    "    seaborn.heatmap(conf_mat, annot=labels, fmt='', cmap='Blues')\n",
    "    plt.show()"
   ]
  },
  {
   "cell_type": "code",
   "execution_count": 40,
   "id": "29348f57-376b-451b-9bf2-537bb3af82d7",
   "metadata": {},
   "outputs": [],
   "source": [
    "def report_performance(y_test, y_pred):\n",
    "    roc_auc = roc_auc_score(y_test, y_pred)\n",
    "    print(f'AUC score: {roc_auc}')"
   ]
  },
  {
   "cell_type": "code",
   "execution_count": 41,
   "id": "c27398a8-be8b-45e7-9cce-97b2aa327b04",
   "metadata": {},
   "outputs": [],
   "source": [
    "def feature_importance(model):\n",
    "    return pd.DataFrame({'Feature':X.columns, 'Importance':model.feature_importances_}).sort_values('Importance', ascending=False)"
   ]
  },
  {
   "cell_type": "markdown",
   "id": "33ca9ba3-9876-4c2b-804d-a04eae470db0",
   "metadata": {
    "tags": []
   },
   "source": [
    "# Stochastic Gradient Descent Classifier"
   ]
  },
  {
   "cell_type": "code",
   "execution_count": 42,
   "id": "70ea41f2-3b55-481c-a692-cad19b10b7b3",
   "metadata": {},
   "outputs": [],
   "source": [
    "from sklearn.linear_model import SGDClassifier"
   ]
  },
  {
   "cell_type": "markdown",
   "id": "7f0ea1d6-7713-4efc-a11f-acdb62d721b3",
   "metadata": {},
   "source": [
    "## Single feature (BMI)"
   ]
  },
  {
   "cell_type": "code",
   "execution_count": 43,
   "id": "f72e2964-a858-41bc-8c60-daf578977df5",
   "metadata": {},
   "outputs": [
    {
     "data": {
      "text/html": [
       "<style>#sk-container-id-1 {color: black;background-color: white;}#sk-container-id-1 pre{padding: 0;}#sk-container-id-1 div.sk-toggleable {background-color: white;}#sk-container-id-1 label.sk-toggleable__label {cursor: pointer;display: block;width: 100%;margin-bottom: 0;padding: 0.3em;box-sizing: border-box;text-align: center;}#sk-container-id-1 label.sk-toggleable__label-arrow:before {content: \"▸\";float: left;margin-right: 0.25em;color: #696969;}#sk-container-id-1 label.sk-toggleable__label-arrow:hover:before {color: black;}#sk-container-id-1 div.sk-estimator:hover label.sk-toggleable__label-arrow:before {color: black;}#sk-container-id-1 div.sk-toggleable__content {max-height: 0;max-width: 0;overflow: hidden;text-align: left;background-color: #f0f8ff;}#sk-container-id-1 div.sk-toggleable__content pre {margin: 0.2em;color: black;border-radius: 0.25em;background-color: #f0f8ff;}#sk-container-id-1 input.sk-toggleable__control:checked~div.sk-toggleable__content {max-height: 200px;max-width: 100%;overflow: auto;}#sk-container-id-1 input.sk-toggleable__control:checked~label.sk-toggleable__label-arrow:before {content: \"▾\";}#sk-container-id-1 div.sk-estimator input.sk-toggleable__control:checked~label.sk-toggleable__label {background-color: #d4ebff;}#sk-container-id-1 div.sk-label input.sk-toggleable__control:checked~label.sk-toggleable__label {background-color: #d4ebff;}#sk-container-id-1 input.sk-hidden--visually {border: 0;clip: rect(1px 1px 1px 1px);clip: rect(1px, 1px, 1px, 1px);height: 1px;margin: -1px;overflow: hidden;padding: 0;position: absolute;width: 1px;}#sk-container-id-1 div.sk-estimator {font-family: monospace;background-color: #f0f8ff;border: 1px dotted black;border-radius: 0.25em;box-sizing: border-box;margin-bottom: 0.5em;}#sk-container-id-1 div.sk-estimator:hover {background-color: #d4ebff;}#sk-container-id-1 div.sk-parallel-item::after {content: \"\";width: 100%;border-bottom: 1px solid gray;flex-grow: 1;}#sk-container-id-1 div.sk-label:hover label.sk-toggleable__label {background-color: #d4ebff;}#sk-container-id-1 div.sk-serial::before {content: \"\";position: absolute;border-left: 1px solid gray;box-sizing: border-box;top: 0;bottom: 0;left: 50%;z-index: 0;}#sk-container-id-1 div.sk-serial {display: flex;flex-direction: column;align-items: center;background-color: white;padding-right: 0.2em;padding-left: 0.2em;position: relative;}#sk-container-id-1 div.sk-item {position: relative;z-index: 1;}#sk-container-id-1 div.sk-parallel {display: flex;align-items: stretch;justify-content: center;background-color: white;position: relative;}#sk-container-id-1 div.sk-item::before, #sk-container-id-1 div.sk-parallel-item::before {content: \"\";position: absolute;border-left: 1px solid gray;box-sizing: border-box;top: 0;bottom: 0;left: 50%;z-index: -1;}#sk-container-id-1 div.sk-parallel-item {display: flex;flex-direction: column;z-index: 1;position: relative;background-color: white;}#sk-container-id-1 div.sk-parallel-item:first-child::after {align-self: flex-end;width: 50%;}#sk-container-id-1 div.sk-parallel-item:last-child::after {align-self: flex-start;width: 50%;}#sk-container-id-1 div.sk-parallel-item:only-child::after {width: 0;}#sk-container-id-1 div.sk-dashed-wrapped {border: 1px dashed gray;margin: 0 0.4em 0.5em 0.4em;box-sizing: border-box;padding-bottom: 0.4em;background-color: white;}#sk-container-id-1 div.sk-label label {font-family: monospace;font-weight: bold;display: inline-block;line-height: 1.2em;}#sk-container-id-1 div.sk-label-container {text-align: center;}#sk-container-id-1 div.sk-container {/* jupyter's `normalize.less` sets `[hidden] { display: none; }` but bootstrap.min.css set `[hidden] { display: none !important; }` so we also need the `!important` here to be able to override the default hidden behavior on the sphinx rendered scikit-learn.org. See: https://github.com/scikit-learn/scikit-learn/issues/21755 */display: inline-block !important;position: relative;}#sk-container-id-1 div.sk-text-repr-fallback {display: none;}</style><div id=\"sk-container-id-1\" class=\"sk-top-container\"><div class=\"sk-text-repr-fallback\"><pre>SGDClassifier()</pre><b>In a Jupyter environment, please rerun this cell to show the HTML representation or trust the notebook. <br />On GitHub, the HTML representation is unable to render, please try loading this page with nbviewer.org.</b></div><div class=\"sk-container\" hidden><div class=\"sk-item\"><div class=\"sk-estimator sk-toggleable\"><input class=\"sk-toggleable__control sk-hidden--visually\" id=\"sk-estimator-id-1\" type=\"checkbox\" checked><label for=\"sk-estimator-id-1\" class=\"sk-toggleable__label sk-toggleable__label-arrow\">SGDClassifier</label><div class=\"sk-toggleable__content\"><pre>SGDClassifier()</pre></div></div></div></div></div>"
      ],
      "text/plain": [
       "SGDClassifier()"
      ]
     },
     "execution_count": 43,
     "metadata": {},
     "output_type": "execute_result"
    }
   ],
   "source": [
    "model = SGDClassifier()\n",
    "model.fit(X_train_bmi, y_train)"
   ]
  },
  {
   "cell_type": "code",
   "execution_count": 44,
   "id": "84d490a0-d836-4837-8beb-4f417615ad60",
   "metadata": {},
   "outputs": [],
   "source": [
    "y_pred = model.predict(X_test_bmi)"
   ]
  },
  {
   "cell_type": "code",
   "execution_count": 45,
   "id": "4e3688b7-5eea-409b-aa7d-c90ac2ca4d94",
   "metadata": {},
   "outputs": [
    {
     "data": {
      "image/png": "[encoded data removed]",
      "text/plain": [
       "<Figure size 800x800 with 2 Axes>"
      ]
     },
     "metadata": {},
     "output_type": "display_data"
    }
   ],
   "source": [
    "plot_conf_mat(y_test, y_pred)"
   ]
  },
  {
   "cell_type": "code",
   "execution_count": 46,
   "id": "72a77563-f955-413b-8a0c-24c9388c252f",
   "metadata": {},
   "outputs": [
    {
     "name": "stdout",
     "output_type": "stream",
     "text": [
      "AUC score: 0.49751963073005095\n"
     ]
    }
   ],
   "source": [
    "report_performance(y_test, y_pred)"
   ]
  },
  {
   "cell_type": "markdown",
   "id": "0a66690c-bbb5-4e4d-a096-768f1070f6bc",
   "metadata": {
    "tags": []
   },
   "source": [
    "## All features"
   ]
  },
  {
   "cell_type": "code",
   "execution_count": 47,
   "id": "64bd3715-6cfe-48c3-9e1f-0adeee909eae",
   "metadata": {},
   "outputs": [
    {
     "data": {
      "text/html": [
       "<style>#sk-container-id-2 {color: black;background-color: white;}#sk-container-id-2 pre{padding: 0;}#sk-container-id-2 div.sk-toggleable {background-color: white;}#sk-container-id-2 label.sk-toggleable__label {cursor: pointer;display: block;width: 100%;margin-bottom: 0;padding: 0.3em;box-sizing: border-box;text-align: center;}#sk-container-id-2 label.sk-toggleable__label-arrow:before {content: \"▸\";float: left;margin-right: 0.25em;color: #696969;}#sk-container-id-2 label.sk-toggleable__label-arrow:hover:before {color: black;}#sk-container-id-2 div.sk-estimator:hover label.sk-toggleable__label-arrow:before {color: black;}#sk-container-id-2 div.sk-toggleable__content {max-height: 0;max-width: 0;overflow: hidden;text-align: left;background-color: #f0f8ff;}#sk-container-id-2 div.sk-toggleable__content pre {margin: 0.2em;color: black;border-radius: 0.25em;background-color: #f0f8ff;}#sk-container-id-2 input.sk-toggleable__control:checked~div.sk-toggleable__content {max-height: 200px;max-width: 100%;overflow: auto;}#sk-container-id-2 input.sk-toggleable__control:checked~label.sk-toggleable__label-arrow:before {content: \"▾\";}#sk-container-id-2 div.sk-estimator input.sk-toggleable__control:checked~label.sk-toggleable__label {background-color: #d4ebff;}#sk-container-id-2 div.sk-label input.sk-toggleable__control:checked~label.sk-toggleable__label {background-color: #d4ebff;}#sk-container-id-2 input.sk-hidden--visually {border: 0;clip: rect(1px 1px 1px 1px);clip: rect(1px, 1px, 1px, 1px);height: 1px;margin: -1px;overflow: hidden;padding: 0;position: absolute;width: 1px;}#sk-container-id-2 div.sk-estimator {font-family: monospace;background-color: #f0f8ff;border: 1px dotted black;border-radius: 0.25em;box-sizing: border-box;margin-bottom: 0.5em;}#sk-container-id-2 div.sk-estimator:hover {background-color: #d4ebff;}#sk-container-id-2 div.sk-parallel-item::after {content: \"\";width: 100%;border-bottom: 1px solid gray;flex-grow: 1;}#sk-container-id-2 div.sk-label:hover label.sk-toggleable__label {background-color: #d4ebff;}#sk-container-id-2 div.sk-serial::before {content: \"\";position: absolute;border-left: 1px solid gray;box-sizing: border-box;top: 0;bottom: 0;left: 50%;z-index: 0;}#sk-container-id-2 div.sk-serial {display: flex;flex-direction: column;align-items: center;background-color: white;padding-right: 0.2em;padding-left: 0.2em;position: relative;}#sk-container-id-2 div.sk-item {position: relative;z-index: 1;}#sk-container-id-2 div.sk-parallel {display: flex;align-items: stretch;justify-content: center;background-color: white;position: relative;}#sk-container-id-2 div.sk-item::before, #sk-container-id-2 div.sk-parallel-item::before {content: \"\";position: absolute;border-left: 1px solid gray;box-sizing: border-box;top: 0;bottom: 0;left: 50%;z-index: -1;}#sk-container-id-2 div.sk-parallel-item {display: flex;flex-direction: column;z-index: 1;position: relative;background-color: white;}#sk-container-id-2 div.sk-parallel-item:first-child::after {align-self: flex-end;width: 50%;}#sk-container-id-2 div.sk-parallel-item:last-child::after {align-self: flex-start;width: 50%;}#sk-container-id-2 div.sk-parallel-item:only-child::after {width: 0;}#sk-container-id-2 div.sk-dashed-wrapped {border: 1px dashed gray;margin: 0 0.4em 0.5em 0.4em;box-sizing: border-box;padding-bottom: 0.4em;background-color: white;}#sk-container-id-2 div.sk-label label {font-family: monospace;font-weight: bold;display: inline-block;line-height: 1.2em;}#sk-container-id-2 div.sk-label-container {text-align: center;}#sk-container-id-2 div.sk-container {/* jupyter's `normalize.less` sets `[hidden] { display: none; }` but bootstrap.min.css set `[hidden] { display: none !important; }` so we also need the `!important` here to be able to override the default hidden behavior on the sphinx rendered scikit-learn.org. See: https://github.com/scikit-learn/scikit-learn/issues/21755 */display: inline-block !important;position: relative;}#sk-container-id-2 div.sk-text-repr-fallback {display: none;}</style><div id=\"sk-container-id-2\" class=\"sk-top-container\"><div class=\"sk-text-repr-fallback\"><pre>SGDClassifier()</pre><b>In a Jupyter environment, please rerun this cell to show the HTML representation or trust the notebook. <br />On GitHub, the HTML representation is unable to render, please try loading this page with nbviewer.org.</b></div><div class=\"sk-container\" hidden><div class=\"sk-item\"><div class=\"sk-estimator sk-toggleable\"><input class=\"sk-toggleable__control sk-hidden--visually\" id=\"sk-estimator-id-2\" type=\"checkbox\" checked><label for=\"sk-estimator-id-2\" class=\"sk-toggleable__label sk-toggleable__label-arrow\">SGDClassifier</label><div class=\"sk-toggleable__content\"><pre>SGDClassifier()</pre></div></div></div></div></div>"
      ],
      "text/plain": [
       "SGDClassifier()"
      ]
     },
     "execution_count": 47,
     "metadata": {},
     "output_type": "execute_result"
    }
   ],
   "source": [
    "del model\n",
    "model = SGDClassifier()\n",
    "model.fit(X_train, y_train)"
   ]
  },
  {
   "cell_type": "code",
   "execution_count": 48,
   "id": "52be9ee8-f43d-4085-b63f-2ef2691fe395",
   "metadata": {},
   "outputs": [],
   "source": [
    "y_pred = model.predict(X_test)"
   ]
  },
  {
   "cell_type": "code",
   "execution_count": 49,
   "id": "0fda61ab-4008-4b06-9e68-f313fd3cd61a",
   "metadata": {},
   "outputs": [
    {
     "name": "stdout",
     "output_type": "stream",
     "text": [
      "(7288, 17)\n"
     ]
    }
   ],
   "source": [
    "print(X_train.shape)"
   ]
  },
  {
   "cell_type": "code",
   "execution_count": 50,
   "id": "13cf8cf6-5278-4672-a41f-5c8119d1aab3",
   "metadata": {},
   "outputs": [
    {
     "data": {
      "image/png": "[encoded data removed]",
      "text/plain": [
       "<Figure size 800x800 with 2 Axes>"
      ]
     },
     "metadata": {},
     "output_type": "display_data"
    }
   ],
   "source": [
    "plot_conf_mat(y_test, y_pred)"
   ]
  },
  {
   "cell_type": "code",
   "execution_count": 51,
   "id": "188f442e-589e-49f9-a86a-a290b91c0ec7",
   "metadata": {},
   "outputs": [
    {
     "name": "stdout",
     "output_type": "stream",
     "text": [
      "AUC score: 0.7604520373514431\n"
     ]
    }
   ],
   "source": [
    "report_performance(y_test, y_pred)"
   ]
  },
  {
   "cell_type": "markdown",
   "id": "ca015bfa-07c2-48ca-b775-e01e15fd4b25",
   "metadata": {
    "tags": []
   },
   "source": [
    "# Logistic Regression"
   ]
  },
  {
   "cell_type": "code",
   "execution_count": 52,
   "id": "7ab939ed-1920-4b6c-931a-0accda98bd07",
   "metadata": {},
   "outputs": [],
   "source": [
    "from sklearn.linear_model import LogisticRegression"
   ]
  },
  {
   "cell_type": "markdown",
   "id": "e65512c9-b12b-4a8f-a674-50600fe6799e",
   "metadata": {
    "tags": []
   },
   "source": [
    "## Single feature (BMI)"
   ]
  },
  {
   "cell_type": "code",
   "execution_count": 53,
   "id": "40bb4b58-78ab-4344-9ec9-f8b71fc235d7",
   "metadata": {},
   "outputs": [
    {
     "data": {
      "text/html": [
       "<style>#sk-container-id-3 {color: black;background-color: white;}#sk-container-id-3 pre{padding: 0;}#sk-container-id-3 div.sk-toggleable {background-color: white;}#sk-container-id-3 label.sk-toggleable__label {cursor: pointer;display: block;width: 100%;margin-bottom: 0;padding: 0.3em;box-sizing: border-box;text-align: center;}#sk-container-id-3 label.sk-toggleable__label-arrow:before {content: \"▸\";float: left;margin-right: 0.25em;color: #696969;}#sk-container-id-3 label.sk-toggleable__label-arrow:hover:before {color: black;}#sk-container-id-3 div.sk-estimator:hover label.sk-toggleable__label-arrow:before {color: black;}#sk-container-id-3 div.sk-toggleable__content {max-height: 0;max-width: 0;overflow: hidden;text-align: left;background-color: #f0f8ff;}#sk-container-id-3 div.sk-toggleable__content pre {margin: 0.2em;color: black;border-radius: 0.25em;background-color: #f0f8ff;}#sk-container-id-3 input.sk-toggleable__control:checked~div.sk-toggleable__content {max-height: 200px;max-width: 100%;overflow: auto;}#sk-container-id-3 input.sk-toggleable__control:checked~label.sk-toggleable__label-arrow:before {content: \"▾\";}#sk-container-id-3 div.sk-estimator input.sk-toggleable__control:checked~label.sk-toggleable__label {background-color: #d4ebff;}#sk-container-id-3 div.sk-label input.sk-toggleable__control:checked~label.sk-toggleable__label {background-color: #d4ebff;}#sk-container-id-3 input.sk-hidden--visually {border: 0;clip: rect(1px 1px 1px 1px);clip: rect(1px, 1px, 1px, 1px);height: 1px;margin: -1px;overflow: hidden;padding: 0;position: absolute;width: 1px;}#sk-container-id-3 div.sk-estimator {font-family: monospace;background-color: #f0f8ff;border: 1px dotted black;border-radius: 0.25em;box-sizing: border-box;margin-bottom: 0.5em;}#sk-container-id-3 div.sk-estimator:hover {background-color: #d4ebff;}#sk-container-id-3 div.sk-parallel-item::after {content: \"\";width: 100%;border-bottom: 1px solid gray;flex-grow: 1;}#sk-container-id-3 div.sk-label:hover label.sk-toggleable__label {background-color: #d4ebff;}#sk-container-id-3 div.sk-serial::before {content: \"\";position: absolute;border-left: 1px solid gray;box-sizing: border-box;top: 0;bottom: 0;left: 50%;z-index: 0;}#sk-container-id-3 div.sk-serial {display: flex;flex-direction: column;align-items: center;background-color: white;padding-right: 0.2em;padding-left: 0.2em;position: relative;}#sk-container-id-3 div.sk-item {position: relative;z-index: 1;}#sk-container-id-3 div.sk-parallel {display: flex;align-items: stretch;justify-content: center;background-color: white;position: relative;}#sk-container-id-3 div.sk-item::before, #sk-container-id-3 div.sk-parallel-item::before {content: \"\";position: absolute;border-left: 1px solid gray;box-sizing: border-box;top: 0;bottom: 0;left: 50%;z-index: -1;}#sk-container-id-3 div.sk-parallel-item {display: flex;flex-direction: column;z-index: 1;position: relative;background-color: white;}#sk-container-id-3 div.sk-parallel-item:first-child::after {align-self: flex-end;width: 50%;}#sk-container-id-3 div.sk-parallel-item:last-child::after {align-self: flex-start;width: 50%;}#sk-container-id-3 div.sk-parallel-item:only-child::after {width: 0;}#sk-container-id-3 div.sk-dashed-wrapped {border: 1px dashed gray;margin: 0 0.4em 0.5em 0.4em;box-sizing: border-box;padding-bottom: 0.4em;background-color: white;}#sk-container-id-3 div.sk-label label {font-family: monospace;font-weight: bold;display: inline-block;line-height: 1.2em;}#sk-container-id-3 div.sk-label-container {text-align: center;}#sk-container-id-3 div.sk-container {/* jupyter's `normalize.less` sets `[hidden] { display: none; }` but bootstrap.min.css set `[hidden] { display: none !important; }` so we also need the `!important` here to be able to override the default hidden behavior on the sphinx rendered scikit-learn.org. See: https://github.com/scikit-learn/scikit-learn/issues/21755 */display: inline-block !important;position: relative;}#sk-container-id-3 div.sk-text-repr-fallback {display: none;}</style><div id=\"sk-container-id-3\" class=\"sk-top-container\"><div class=\"sk-text-repr-fallback\"><pre>LogisticRegression(max_iter=300)</pre><b>In a Jupyter environment, please rerun this cell to show the HTML representation or trust the notebook. <br />On GitHub, the HTML representation is unable to render, please try loading this page with nbviewer.org.</b></div><div class=\"sk-container\" hidden><div class=\"sk-item\"><div class=\"sk-estimator sk-toggleable\"><input class=\"sk-toggleable__control sk-hidden--visually\" id=\"sk-estimator-id-3\" type=\"checkbox\" checked><label for=\"sk-estimator-id-3\" class=\"sk-toggleable__label sk-toggleable__label-arrow\">LogisticRegression</label><div class=\"sk-toggleable__content\"><pre>LogisticRegression(max_iter=300)</pre></div></div></div></div></div>"
      ],
      "text/plain": [
       "LogisticRegression(max_iter=300)"
      ]
     },
     "execution_count": 53,
     "metadata": {},
     "output_type": "execute_result"
    }
   ],
   "source": [
    "del model\n",
    "model = LogisticRegression(max_iter=300)\n",
    "model.fit(X_train_bmi, y_train)"
   ]
  },
  {
   "cell_type": "code",
   "execution_count": 54,
   "id": "296b2da6-2636-4d62-a8fb-0ac27baeb9be",
   "metadata": {},
   "outputs": [],
   "source": [
    "y_pred = model.predict(X_test_bmi)"
   ]
  },
  {
   "cell_type": "code",
   "execution_count": 55,
   "id": "39428ca5-6c8b-4871-9d16-b423028d7521",
   "metadata": {},
   "outputs": [
    {
     "data": {
      "image/png": "[encoded data removed]",
      "text/plain": [
       "<Figure size 800x800 with 2 Axes>"
      ]
     },
     "metadata": {},
     "output_type": "display_data"
    }
   ],
   "source": [
    "plot_conf_mat(y_test, y_pred)"
   ]
  },
  {
   "cell_type": "code",
   "execution_count": 56,
   "id": "cf5d8bb1-fa9a-44c8-9193-1108271b4a35",
   "metadata": {},
   "outputs": [
    {
     "name": "stdout",
     "output_type": "stream",
     "text": [
      "AUC score: 0.5129721986417657\n"
     ]
    }
   ],
   "source": [
    "report_performance(y_test, y_pred)"
   ]
  },
  {
   "cell_type": "markdown",
   "id": "e6fbe6c2-1cb0-47df-a6fd-8498e61fd9a8",
   "metadata": {},
   "source": [
    "## All features"
   ]
  },
  {
   "cell_type": "code",
   "execution_count": 57,
   "id": "c8c23124-3f14-408d-9799-e2cce5f48989",
   "metadata": {},
   "outputs": [
    {
     "data": {
      "text/html": [
       "<style>#sk-container-id-4 {color: black;background-color: white;}#sk-container-id-4 pre{padding: 0;}#sk-container-id-4 div.sk-toggleable {background-color: white;}#sk-container-id-4 label.sk-toggleable__label {cursor: pointer;display: block;width: 100%;margin-bottom: 0;padding: 0.3em;box-sizing: border-box;text-align: center;}#sk-container-id-4 label.sk-toggleable__label-arrow:before {content: \"▸\";float: left;margin-right: 0.25em;color: #696969;}#sk-container-id-4 label.sk-toggleable__label-arrow:hover:before {color: black;}#sk-container-id-4 div.sk-estimator:hover label.sk-toggleable__label-arrow:before {color: black;}#sk-container-id-4 div.sk-toggleable__content {max-height: 0;max-width: 0;overflow: hidden;text-align: left;background-color: #f0f8ff;}#sk-container-id-4 div.sk-toggleable__content pre {margin: 0.2em;color: black;border-radius: 0.25em;background-color: #f0f8ff;}#sk-container-id-4 input.sk-toggleable__control:checked~div.sk-toggleable__content {max-height: 200px;max-width: 100%;overflow: auto;}#sk-container-id-4 input.sk-toggleable__control:checked~label.sk-toggleable__label-arrow:before {content: \"▾\";}#sk-container-id-4 div.sk-estimator input.sk-toggleable__control:checked~label.sk-toggleable__label {background-color: #d4ebff;}#sk-container-id-4 div.sk-label input.sk-toggleable__control:checked~label.sk-toggleable__label {background-color: #d4ebff;}#sk-container-id-4 input.sk-hidden--visually {border: 0;clip: rect(1px 1px 1px 1px);clip: rect(1px, 1px, 1px, 1px);height: 1px;margin: -1px;overflow: hidden;padding: 0;position: absolute;width: 1px;}#sk-container-id-4 div.sk-estimator {font-family: monospace;background-color: #f0f8ff;border: 1px dotted black;border-radius: 0.25em;box-sizing: border-box;margin-bottom: 0.5em;}#sk-container-id-4 div.sk-estimator:hover {background-color: #d4ebff;}#sk-container-id-4 div.sk-parallel-item::after {content: \"\";width: 100%;border-bottom: 1px solid gray;flex-grow: 1;}#sk-container-id-4 div.sk-label:hover label.sk-toggleable__label {background-color: #d4ebff;}#sk-container-id-4 div.sk-serial::before {content: \"\";position: absolute;border-left: 1px solid gray;box-sizing: border-box;top: 0;bottom: 0;left: 50%;z-index: 0;}#sk-container-id-4 div.sk-serial {display: flex;flex-direction: column;align-items: center;background-color: white;padding-right: 0.2em;padding-left: 0.2em;position: relative;}#sk-container-id-4 div.sk-item {position: relative;z-index: 1;}#sk-container-id-4 div.sk-parallel {display: flex;align-items: stretch;justify-content: center;background-color: white;position: relative;}#sk-container-id-4 div.sk-item::before, #sk-container-id-4 div.sk-parallel-item::before {content: \"\";position: absolute;border-left: 1px solid gray;box-sizing: border-box;top: 0;bottom: 0;left: 50%;z-index: -1;}#sk-container-id-4 div.sk-parallel-item {display: flex;flex-direction: column;z-index: 1;position: relative;background-color: white;}#sk-container-id-4 div.sk-parallel-item:first-child::after {align-self: flex-end;width: 50%;}#sk-container-id-4 div.sk-parallel-item:last-child::after {align-self: flex-start;width: 50%;}#sk-container-id-4 div.sk-parallel-item:only-child::after {width: 0;}#sk-container-id-4 div.sk-dashed-wrapped {border: 1px dashed gray;margin: 0 0.4em 0.5em 0.4em;box-sizing: border-box;padding-bottom: 0.4em;background-color: white;}#sk-container-id-4 div.sk-label label {font-family: monospace;font-weight: bold;display: inline-block;line-height: 1.2em;}#sk-container-id-4 div.sk-label-container {text-align: center;}#sk-container-id-4 div.sk-container {/* jupyter's `normalize.less` sets `[hidden] { display: none; }` but bootstrap.min.css set `[hidden] { display: none !important; }` so we also need the `!important` here to be able to override the default hidden behavior on the sphinx rendered scikit-learn.org. See: https://github.com/scikit-learn/scikit-learn/issues/21755 */display: inline-block !important;position: relative;}#sk-container-id-4 div.sk-text-repr-fallback {display: none;}</style><div id=\"sk-container-id-4\" class=\"sk-top-container\"><div class=\"sk-text-repr-fallback\"><pre>LogisticRegression(max_iter=300)</pre><b>In a Jupyter environment, please rerun this cell to show the HTML representation or trust the notebook. <br />On GitHub, the HTML representation is unable to render, please try loading this page with nbviewer.org.</b></div><div class=\"sk-container\" hidden><div class=\"sk-item\"><div class=\"sk-estimator sk-toggleable\"><input class=\"sk-toggleable__control sk-hidden--visually\" id=\"sk-estimator-id-4\" type=\"checkbox\" checked><label for=\"sk-estimator-id-4\" class=\"sk-toggleable__label sk-toggleable__label-arrow\">LogisticRegression</label><div class=\"sk-toggleable__content\"><pre>LogisticRegression(max_iter=300)</pre></div></div></div></div></div>"
      ],
      "text/plain": [
       "LogisticRegression(max_iter=300)"
      ]
     },
     "execution_count": 57,
     "metadata": {},
     "output_type": "execute_result"
    }
   ],
   "source": [
    "del model\n",
    "model = LogisticRegression(max_iter=300)\n",
    "model.fit(X_train, y_train)"
   ]
  },
  {
   "cell_type": "code",
   "execution_count": 58,
   "id": "f7f0cee5-3cfa-4436-85bc-732526c69174",
   "metadata": {},
   "outputs": [],
   "source": [
    "y_pred = model.predict(X_test)"
   ]
  },
  {
   "cell_type": "code",
   "execution_count": 59,
   "id": "2af0049d-e054-4e37-8164-fb51821529f4",
   "metadata": {},
   "outputs": [
    {
     "data": {
      "image/png": "[encoded data removed]",
      "text/plain": [
       "<Figure size 800x800 with 2 Axes>"
      ]
     },
     "metadata": {},
     "output_type": "display_data"
    }
   ],
   "source": [
    "plot_conf_mat(y_test, y_pred)"
   ]
  },
  {
   "cell_type": "code",
   "execution_count": 60,
   "id": "a0b81734-9b46-4977-b335-f3fb6f73358b",
   "metadata": {},
   "outputs": [
    {
     "name": "stdout",
     "output_type": "stream",
     "text": [
      "AUC score: 0.7718060271646858\n"
     ]
    }
   ],
   "source": [
    "report_performance(y_test, y_pred)"
   ]
  },
  {
   "cell_type": "markdown",
   "id": "708e2e21-617a-49f3-94d2-8e88deb49b75",
   "metadata": {
    "tags": []
   },
   "source": [
    "# Decision Tree Classification"
   ]
  },
  {
   "cell_type": "code",
   "execution_count": 61,
   "id": "879f2f77-1b95-4fa6-bba9-42b7bc686d27",
   "metadata": {},
   "outputs": [],
   "source": [
    "from sklearn.tree import DecisionTreeClassifier"
   ]
  },
  {
   "cell_type": "markdown",
   "id": "9275e99c-8ae8-43ac-9326-332961bb4527",
   "metadata": {
    "tags": []
   },
   "source": [
    "## Single feature (BMI)"
   ]
  },
  {
   "cell_type": "code",
   "execution_count": 62,
   "id": "27b78992-6a7e-4ab0-9756-56c871513dbc",
   "metadata": {},
   "outputs": [
    {
     "data": {
      "text/html": [
       "<style>#sk-container-id-5 {color: black;background-color: white;}#sk-container-id-5 pre{padding: 0;}#sk-container-id-5 div.sk-toggleable {background-color: white;}#sk-container-id-5 label.sk-toggleable__label {cursor: pointer;display: block;width: 100%;margin-bottom: 0;padding: 0.3em;box-sizing: border-box;text-align: center;}#sk-container-id-5 label.sk-toggleable__label-arrow:before {content: \"▸\";float: left;margin-right: 0.25em;color: #696969;}#sk-container-id-5 label.sk-toggleable__label-arrow:hover:before {color: black;}#sk-container-id-5 div.sk-estimator:hover label.sk-toggleable__label-arrow:before {color: black;}#sk-container-id-5 div.sk-toggleable__content {max-height: 0;max-width: 0;overflow: hidden;text-align: left;background-color: #f0f8ff;}#sk-container-id-5 div.sk-toggleable__content pre {margin: 0.2em;color: black;border-radius: 0.25em;background-color: #f0f8ff;}#sk-container-id-5 input.sk-toggleable__control:checked~div.sk-toggleable__content {max-height: 200px;max-width: 100%;overflow: auto;}#sk-container-id-5 input.sk-toggleable__control:checked~label.sk-toggleable__label-arrow:before {content: \"▾\";}#sk-container-id-5 div.sk-estimator input.sk-toggleable__control:checked~label.sk-toggleable__label {background-color: #d4ebff;}#sk-container-id-5 div.sk-label input.sk-toggleable__control:checked~label.sk-toggleable__label {background-color: #d4ebff;}#sk-container-id-5 input.sk-hidden--visually {border: 0;clip: rect(1px 1px 1px 1px);clip: rect(1px, 1px, 1px, 1px);height: 1px;margin: -1px;overflow: hidden;padding: 0;position: absolute;width: 1px;}#sk-container-id-5 div.sk-estimator {font-family: monospace;background-color: #f0f8ff;border: 1px dotted black;border-radius: 0.25em;box-sizing: border-box;margin-bottom: 0.5em;}#sk-container-id-5 div.sk-estimator:hover {background-color: #d4ebff;}#sk-container-id-5 div.sk-parallel-item::after {content: \"\";width: 100%;border-bottom: 1px solid gray;flex-grow: 1;}#sk-container-id-5 div.sk-label:hover label.sk-toggleable__label {background-color: #d4ebff;}#sk-container-id-5 div.sk-serial::before {content: \"\";position: absolute;border-left: 1px solid gray;box-sizing: border-box;top: 0;bottom: 0;left: 50%;z-index: 0;}#sk-container-id-5 div.sk-serial {display: flex;flex-direction: column;align-items: center;background-color: white;padding-right: 0.2em;padding-left: 0.2em;position: relative;}#sk-container-id-5 div.sk-item {position: relative;z-index: 1;}#sk-container-id-5 div.sk-parallel {display: flex;align-items: stretch;justify-content: center;background-color: white;position: relative;}#sk-container-id-5 div.sk-item::before, #sk-container-id-5 div.sk-parallel-item::before {content: \"\";position: absolute;border-left: 1px solid gray;box-sizing: border-box;top: 0;bottom: 0;left: 50%;z-index: -1;}#sk-container-id-5 div.sk-parallel-item {display: flex;flex-direction: column;z-index: 1;position: relative;background-color: white;}#sk-container-id-5 div.sk-parallel-item:first-child::after {align-self: flex-end;width: 50%;}#sk-container-id-5 div.sk-parallel-item:last-child::after {align-self: flex-start;width: 50%;}#sk-container-id-5 div.sk-parallel-item:only-child::after {width: 0;}#sk-container-id-5 div.sk-dashed-wrapped {border: 1px dashed gray;margin: 0 0.4em 0.5em 0.4em;box-sizing: border-box;padding-bottom: 0.4em;background-color: white;}#sk-container-id-5 div.sk-label label {font-family: monospace;font-weight: bold;display: inline-block;line-height: 1.2em;}#sk-container-id-5 div.sk-label-container {text-align: center;}#sk-container-id-5 div.sk-container {/* jupyter's `normalize.less` sets `[hidden] { display: none; }` but bootstrap.min.css set `[hidden] { display: none !important; }` so we also need the `!important` here to be able to override the default hidden behavior on the sphinx rendered scikit-learn.org. See: https://github.com/scikit-learn/scikit-learn/issues/21755 */display: inline-block !important;position: relative;}#sk-container-id-5 div.sk-text-repr-fallback {display: none;}</style><div id=\"sk-container-id-5\" class=\"sk-top-container\"><div class=\"sk-text-repr-fallback\"><pre>DecisionTreeClassifier()</pre><b>In a Jupyter environment, please rerun this cell to show the HTML representation or trust the notebook. <br />On GitHub, the HTML representation is unable to render, please try loading this page with nbviewer.org.</b></div><div class=\"sk-container\" hidden><div class=\"sk-item\"><div class=\"sk-estimator sk-toggleable\"><input class=\"sk-toggleable__control sk-hidden--visually\" id=\"sk-estimator-id-5\" type=\"checkbox\" checked><label for=\"sk-estimator-id-5\" class=\"sk-toggleable__label sk-toggleable__label-arrow\">DecisionTreeClassifier</label><div class=\"sk-toggleable__content\"><pre>DecisionTreeClassifier()</pre></div></div></div></div></div>"
      ],
      "text/plain": [
       "DecisionTreeClassifier()"
      ]
     },
     "execution_count": 62,
     "metadata": {},
     "output_type": "execute_result"
    }
   ],
   "source": [
    "del model\n",
    "model = DecisionTreeClassifier()\n",
    "model.fit(X_train_bmi, y_train)"
   ]
  },
  {
   "cell_type": "code",
   "execution_count": 63,
   "id": "66c71efb-ace6-4046-a50c-94609fe0fb67",
   "metadata": {},
   "outputs": [],
   "source": [
    "y_pred = model.predict(X_test_bmi)"
   ]
  },
  {
   "cell_type": "code",
   "execution_count": 64,
   "id": "a67fb043-e1a8-4e49-bb99-060b9fdabf9b",
   "metadata": {},
   "outputs": [
    {
     "data": {
      "image/png": "[encoded data removed]",
      "text/plain": [
       "<Figure size 800x800 with 2 Axes>"
      ]
     },
     "metadata": {},
     "output_type": "display_data"
    }
   ],
   "source": [
    "plot_conf_mat(y_test, y_pred)"
   ]
  },
  {
   "cell_type": "code",
   "execution_count": 65,
   "id": "af2327ad-41d5-43b0-9a06-3d4c7faf07e3",
   "metadata": {},
   "outputs": [
    {
     "name": "stdout",
     "output_type": "stream",
     "text": [
      "AUC score: 0.512839558573854\n"
     ]
    }
   ],
   "source": [
    "report_performance(y_test, y_pred)"
   ]
  },
  {
   "cell_type": "markdown",
   "id": "da24269c-a8d6-4fa6-8e28-4c1ebd66625d",
   "metadata": {},
   "source": [
    "## All features"
   ]
  },
  {
   "cell_type": "code",
   "execution_count": 66,
   "id": "ea1366ae-2f1c-435e-b7cc-b99fccd775a0",
   "metadata": {},
   "outputs": [
    {
     "data": {
      "text/html": [
       "<style>#sk-container-id-6 {color: black;background-color: white;}#sk-container-id-6 pre{padding: 0;}#sk-container-id-6 div.sk-toggleable {background-color: white;}#sk-container-id-6 label.sk-toggleable__label {cursor: pointer;display: block;width: 100%;margin-bottom: 0;padding: 0.3em;box-sizing: border-box;text-align: center;}#sk-container-id-6 label.sk-toggleable__label-arrow:before {content: \"▸\";float: left;margin-right: 0.25em;color: #696969;}#sk-container-id-6 label.sk-toggleable__label-arrow:hover:before {color: black;}#sk-container-id-6 div.sk-estimator:hover label.sk-toggleable__label-arrow:before {color: black;}#sk-container-id-6 div.sk-toggleable__content {max-height: 0;max-width: 0;overflow: hidden;text-align: left;background-color: #f0f8ff;}#sk-container-id-6 div.sk-toggleable__content pre {margin: 0.2em;color: black;border-radius: 0.25em;background-color: #f0f8ff;}#sk-container-id-6 input.sk-toggleable__control:checked~div.sk-toggleable__content {max-height: 200px;max-width: 100%;overflow: auto;}#sk-container-id-6 input.sk-toggleable__control:checked~label.sk-toggleable__label-arrow:before {content: \"▾\";}#sk-container-id-6 div.sk-estimator input.sk-toggleable__control:checked~label.sk-toggleable__label {background-color: #d4ebff;}#sk-container-id-6 div.sk-label input.sk-toggleable__control:checked~label.sk-toggleable__label {background-color: #d4ebff;}#sk-container-id-6 input.sk-hidden--visually {border: 0;clip: rect(1px 1px 1px 1px);clip: rect(1px, 1px, 1px, 1px);height: 1px;margin: -1px;overflow: hidden;padding: 0;position: absolute;width: 1px;}#sk-container-id-6 div.sk-estimator {font-family: monospace;background-color: #f0f8ff;border: 1px dotted black;border-radius: 0.25em;box-sizing: border-box;margin-bottom: 0.5em;}#sk-container-id-6 div.sk-estimator:hover {background-color: #d4ebff;}#sk-container-id-6 div.sk-parallel-item::after {content: \"\";width: 100%;border-bottom: 1px solid gray;flex-grow: 1;}#sk-container-id-6 div.sk-label:hover label.sk-toggleable__label {background-color: #d4ebff;}#sk-container-id-6 div.sk-serial::before {content: \"\";position: absolute;border-left: 1px solid gray;box-sizing: border-box;top: 0;bottom: 0;left: 50%;z-index: 0;}#sk-container-id-6 div.sk-serial {display: flex;flex-direction: column;align-items: center;background-color: white;padding-right: 0.2em;padding-left: 0.2em;position: relative;}#sk-container-id-6 div.sk-item {position: relative;z-index: 1;}#sk-container-id-6 div.sk-parallel {display: flex;align-items: stretch;justify-content: center;background-color: white;position: relative;}#sk-container-id-6 div.sk-item::before, #sk-container-id-6 div.sk-parallel-item::before {content: \"\";position: absolute;border-left: 1px solid gray;box-sizing: border-box;top: 0;bottom: 0;left: 50%;z-index: -1;}#sk-container-id-6 div.sk-parallel-item {display: flex;flex-direction: column;z-index: 1;position: relative;background-color: white;}#sk-container-id-6 div.sk-parallel-item:first-child::after {align-self: flex-end;width: 50%;}#sk-container-id-6 div.sk-parallel-item:last-child::after {align-self: flex-start;width: 50%;}#sk-container-id-6 div.sk-parallel-item:only-child::after {width: 0;}#sk-container-id-6 div.sk-dashed-wrapped {border: 1px dashed gray;margin: 0 0.4em 0.5em 0.4em;box-sizing: border-box;padding-bottom: 0.4em;background-color: white;}#sk-container-id-6 div.sk-label label {font-family: monospace;font-weight: bold;display: inline-block;line-height: 1.2em;}#sk-container-id-6 div.sk-label-container {text-align: center;}#sk-container-id-6 div.sk-container {/* jupyter's `normalize.less` sets `[hidden] { display: none; }` but bootstrap.min.css set `[hidden] { display: none !important; }` so we also need the `!important` here to be able to override the default hidden behavior on the sphinx rendered scikit-learn.org. See: https://github.com/scikit-learn/scikit-learn/issues/21755 */display: inline-block !important;position: relative;}#sk-container-id-6 div.sk-text-repr-fallback {display: none;}</style><div id=\"sk-container-id-6\" class=\"sk-top-container\"><div class=\"sk-text-repr-fallback\"><pre>DecisionTreeClassifier(random_state=2022)</pre><b>In a Jupyter environment, please rerun this cell to show the HTML representation or trust the notebook. <br />On GitHub, the HTML representation is unable to render, please try loading this page with nbviewer.org.</b></div><div class=\"sk-container\" hidden><div class=\"sk-item\"><div class=\"sk-estimator sk-toggleable\"><input class=\"sk-toggleable__control sk-hidden--visually\" id=\"sk-estimator-id-6\" type=\"checkbox\" checked><label for=\"sk-estimator-id-6\" class=\"sk-toggleable__label sk-toggleable__label-arrow\">DecisionTreeClassifier</label><div class=\"sk-toggleable__content\"><pre>DecisionTreeClassifier(random_state=2022)</pre></div></div></div></div></div>"
      ],
      "text/plain": [
       "DecisionTreeClassifier(random_state=2022)"
      ]
     },
     "execution_count": 66,
     "metadata": {},
     "output_type": "execute_result"
    }
   ],
   "source": [
    "del model\n",
    "model = DecisionTreeClassifier(random_state=2022)\n",
    "model.fit(X_train, y_train)"
   ]
  },
  {
   "cell_type": "code",
   "execution_count": 67,
   "id": "853e2ecb-11b9-4d8d-894c-d715c10ef28e",
   "metadata": {},
   "outputs": [],
   "source": [
    "y_pred = model.predict(X_test)"
   ]
  },
  {
   "cell_type": "code",
   "execution_count": 68,
   "id": "a7e4456f-f2e4-472c-8c87-bb41a65c5371",
   "metadata": {},
   "outputs": [
    {
     "data": {
      "image/png": "[encoded data removed]",
      "text/plain": [
       "<Figure size 800x800 with 2 Axes>"
      ]
     },
     "metadata": {},
     "output_type": "display_data"
    }
   ],
   "source": [
    "plot_conf_mat(y_test, y_pred)"
   ]
  },
  {
   "cell_type": "code",
   "execution_count": 69,
   "id": "55670888-c054-4ca2-ab97-8b4184abb7cd",
   "metadata": {},
   "outputs": [
    {
     "name": "stdout",
     "output_type": "stream",
     "text": [
      "AUC score: 0.5567301570458405\n"
     ]
    }
   ],
   "source": [
    "report_performance(y_test, y_pred)"
   ]
  },
  {
   "cell_type": "code",
   "execution_count": 70,
   "id": "b104b0f5-6471-467d-85ab-6b0574c38132",
   "metadata": {},
   "outputs": [
    {
     "name": "stdout",
     "output_type": "stream",
     "text": [
      "Index(['gender', 'age', 'hypertension', 'heart_disease', 'ever_married',\n",
      "       'Residence_type', 'avg_glucose_level', 'bmi', 'stroke',\n",
      "       'work_type_Govt_job', 'work_type_Never_worked', 'work_type_Private',\n",
      "       'work_type_Self-employed', 'work_type_children',\n",
      "       'smoking_status_Unknown', 'smoking_status_formerly smoked',\n",
      "       'smoking_status_never smoked', 'smoking_status_smokes'],\n",
      "      dtype='object')\n"
     ]
    }
   ],
   "source": [
    "print(data.columns)"
   ]
  },
  {
   "cell_type": "code",
   "execution_count": 71,
   "id": "224f432c-5393-408a-b457-f59e2f25a8de",
   "metadata": {},
   "outputs": [
    {
     "data": {
      "text/html": [
       "<style type=\"text/css\">\n",
       "#T_15681_row0_col1 {\n",
       "  background-color: #08306b;\n",
       "  color: #f1f1f1;\n",
       "}\n",
       "#T_15681_row1_col1 {\n",
       "  background-color: #c7dcef;\n",
       "  color: #000000;\n",
       "}\n",
       "#T_15681_row2_col1 {\n",
       "  background-color: #cfe1f2;\n",
       "  color: #000000;\n",
       "}\n",
       "#T_15681_row3_col1 {\n",
       "  background-color: #e8f1fa;\n",
       "  color: #000000;\n",
       "}\n",
       "#T_15681_row4_col1 {\n",
       "  background-color: #eff6fc;\n",
       "  color: #000000;\n",
       "}\n",
       "#T_15681_row5_col1 {\n",
       "  background-color: #f0f6fd;\n",
       "  color: #000000;\n",
       "}\n",
       "#T_15681_row6_col1 {\n",
       "  background-color: #f1f7fd;\n",
       "  color: #000000;\n",
       "}\n",
       "#T_15681_row7_col1, #T_15681_row8_col1, #T_15681_row9_col1, #T_15681_row10_col1 {\n",
       "  background-color: #f2f8fd;\n",
       "  color: #000000;\n",
       "}\n",
       "#T_15681_row11_col1 {\n",
       "  background-color: #f3f8fe;\n",
       "  color: #000000;\n",
       "}\n",
       "#T_15681_row12_col1, #T_15681_row13_col1, #T_15681_row14_col1 {\n",
       "  background-color: #f4f9fe;\n",
       "  color: #000000;\n",
       "}\n",
       "#T_15681_row15_col1 {\n",
       "  background-color: #f5f9fe;\n",
       "  color: #000000;\n",
       "}\n",
       "#T_15681_row16_col1 {\n",
       "  background-color: #f7fbff;\n",
       "  color: #000000;\n",
       "}\n",
       "</style>\n",
       "<table id=\"T_15681\">\n",
       "  <thead>\n",
       "    <tr>\n",
       "      <th class=\"blank level0\" >&nbsp;</th>\n",
       "      <th id=\"T_15681_level0_col0\" class=\"col_heading level0 col0\" >Feature</th>\n",
       "      <th id=\"T_15681_level0_col1\" class=\"col_heading level0 col1\" >Importance</th>\n",
       "    </tr>\n",
       "  </thead>\n",
       "  <tbody>\n",
       "    <tr>\n",
       "      <th id=\"T_15681_level0_row0\" class=\"row_heading level0 row0\" >1</th>\n",
       "      <td id=\"T_15681_row0_col0\" class=\"data row0 col0\" >age</td>\n",
       "      <td id=\"T_15681_row0_col1\" class=\"data row0 col1\" >0.547013</td>\n",
       "    </tr>\n",
       "    <tr>\n",
       "      <th id=\"T_15681_level0_row1\" class=\"row_heading level0 row1\" >6</th>\n",
       "      <td id=\"T_15681_row1_col0\" class=\"data row1 col0\" >avg_glucose_level</td>\n",
       "      <td id=\"T_15681_row1_col1\" class=\"data row1 col1\" >0.133787</td>\n",
       "    </tr>\n",
       "    <tr>\n",
       "      <th id=\"T_15681_level0_row2\" class=\"row_heading level0 row2\" >7</th>\n",
       "      <td id=\"T_15681_row2_col0\" class=\"data row2 col0\" >bmi</td>\n",
       "      <td id=\"T_15681_row2_col1\" class=\"data row2 col1\" >0.111734</td>\n",
       "    </tr>\n",
       "    <tr>\n",
       "      <th id=\"T_15681_level0_row3\" class=\"row_heading level0 row3\" >0</th>\n",
       "      <td id=\"T_15681_row3_col0\" class=\"data row3 col0\" >gender</td>\n",
       "      <td id=\"T_15681_row3_col1\" class=\"data row3 col1\" >0.042041</td>\n",
       "    </tr>\n",
       "    <tr>\n",
       "      <th id=\"T_15681_level0_row4\" class=\"row_heading level0 row4\" >5</th>\n",
       "      <td id=\"T_15681_row4_col0\" class=\"data row4 col0\" >Residence_type</td>\n",
       "      <td id=\"T_15681_row4_col1\" class=\"data row4 col1\" >0.021429</td>\n",
       "    </tr>\n",
       "    <tr>\n",
       "      <th id=\"T_15681_level0_row5\" class=\"row_heading level0 row5\" >10</th>\n",
       "      <td id=\"T_15681_row5_col0\" class=\"data row5 col0\" >work_type_Private</td>\n",
       "      <td id=\"T_15681_row5_col1\" class=\"data row5 col1\" >0.021347</td>\n",
       "    </tr>\n",
       "    <tr>\n",
       "      <th id=\"T_15681_level0_row6\" class=\"row_heading level0 row6\" >4</th>\n",
       "      <td id=\"T_15681_row6_col0\" class=\"data row6 col0\" >ever_married</td>\n",
       "      <td id=\"T_15681_row6_col1\" class=\"data row6 col1\" >0.018497</td>\n",
       "    </tr>\n",
       "    <tr>\n",
       "      <th id=\"T_15681_level0_row7\" class=\"row_heading level0 row7\" >2</th>\n",
       "      <td id=\"T_15681_row7_col0\" class=\"data row7 col0\" >hypertension</td>\n",
       "      <td id=\"T_15681_row7_col1\" class=\"data row7 col1\" >0.014404</td>\n",
       "    </tr>\n",
       "    <tr>\n",
       "      <th id=\"T_15681_level0_row8\" class=\"row_heading level0 row8\" >3</th>\n",
       "      <td id=\"T_15681_row8_col0\" class=\"data row8 col0\" >heart_disease</td>\n",
       "      <td id=\"T_15681_row8_col1\" class=\"data row8 col1\" >0.013871</td>\n",
       "    </tr>\n",
       "    <tr>\n",
       "      <th id=\"T_15681_level0_row9\" class=\"row_heading level0 row9\" >14</th>\n",
       "      <td id=\"T_15681_row9_col0\" class=\"data row9 col0\" >smoking_status_formerly smoked</td>\n",
       "      <td id=\"T_15681_row9_col1\" class=\"data row9 col1\" >0.013693</td>\n",
       "    </tr>\n",
       "    <tr>\n",
       "      <th id=\"T_15681_level0_row10\" class=\"row_heading level0 row10\" >11</th>\n",
       "      <td id=\"T_15681_row10_col0\" class=\"data row10 col0\" >work_type_Self-employed</td>\n",
       "      <td id=\"T_15681_row10_col1\" class=\"data row10 col1\" >0.013332</td>\n",
       "    </tr>\n",
       "    <tr>\n",
       "      <th id=\"T_15681_level0_row11\" class=\"row_heading level0 row11\" >15</th>\n",
       "      <td id=\"T_15681_row11_col0\" class=\"data row11 col0\" >smoking_status_never smoked</td>\n",
       "      <td id=\"T_15681_row11_col1\" class=\"data row11 col1\" >0.011579</td>\n",
       "    </tr>\n",
       "    <tr>\n",
       "      <th id=\"T_15681_level0_row12\" class=\"row_heading level0 row12\" >13</th>\n",
       "      <td id=\"T_15681_row12_col0\" class=\"data row12 col0\" >smoking_status_Unknown</td>\n",
       "      <td id=\"T_15681_row12_col1\" class=\"data row12 col1\" >0.010512</td>\n",
       "    </tr>\n",
       "    <tr>\n",
       "      <th id=\"T_15681_level0_row13\" class=\"row_heading level0 row13\" >8</th>\n",
       "      <td id=\"T_15681_row13_col0\" class=\"data row13 col0\" >work_type_Govt_job</td>\n",
       "      <td id=\"T_15681_row13_col1\" class=\"data row13 col1\" >0.010392</td>\n",
       "    </tr>\n",
       "    <tr>\n",
       "      <th id=\"T_15681_level0_row14\" class=\"row_heading level0 row14\" >12</th>\n",
       "      <td id=\"T_15681_row14_col0\" class=\"data row14 col0\" >work_type_children</td>\n",
       "      <td id=\"T_15681_row14_col1\" class=\"data row14 col1\" >0.009198</td>\n",
       "    </tr>\n",
       "    <tr>\n",
       "      <th id=\"T_15681_level0_row15\" class=\"row_heading level0 row15\" >16</th>\n",
       "      <td id=\"T_15681_row15_col0\" class=\"data row15 col0\" >smoking_status_smokes</td>\n",
       "      <td id=\"T_15681_row15_col1\" class=\"data row15 col1\" >0.007168</td>\n",
       "    </tr>\n",
       "    <tr>\n",
       "      <th id=\"T_15681_level0_row16\" class=\"row_heading level0 row16\" >9</th>\n",
       "      <td id=\"T_15681_row16_col0\" class=\"data row16 col0\" >work_type_Never_worked</td>\n",
       "      <td id=\"T_15681_row16_col1\" class=\"data row16 col1\" >0.000000</td>\n",
       "    </tr>\n",
       "  </tbody>\n",
       "</table>\n"
      ],
      "text/plain": [
       "<pandas.io.formats.style.Styler at 0x238aa12d1f0>"
      ]
     },
     "execution_count": 71,
     "metadata": {},
     "output_type": "execute_result"
    }
   ],
   "source": [
    "fi = feature_importance(model)\n",
    "fi.style.background_gradient(cmap='Blues')"
   ]
  },
  {
   "cell_type": "markdown",
   "id": "51a6b954-9392-4d78-a094-72635973a831",
   "metadata": {
    "tags": []
   },
   "source": [
    "# Random Forest Classification"
   ]
  },
  {
   "cell_type": "code",
   "execution_count": 72,
   "id": "3d5711ed-ea03-4b81-868a-d8f3d54f3a8b",
   "metadata": {},
   "outputs": [],
   "source": [
    "from sklearn.ensemble import RandomForestClassifier"
   ]
  },
  {
   "cell_type": "markdown",
   "id": "2cd33e3d-d8b3-4b06-aa2f-f38fdf9e13ee",
   "metadata": {
    "tags": []
   },
   "source": [
    "## Single feature (BMI)"
   ]
  },
  {
   "cell_type": "code",
   "execution_count": 73,
   "id": "05eca0a7-10b5-4c2a-9912-03dcdd280f89",
   "metadata": {},
   "outputs": [
    {
     "data": {
      "text/html": [
       "<style>#sk-container-id-7 {color: black;background-color: white;}#sk-container-id-7 pre{padding: 0;}#sk-container-id-7 div.sk-toggleable {background-color: white;}#sk-container-id-7 label.sk-toggleable__label {cursor: pointer;display: block;width: 100%;margin-bottom: 0;padding: 0.3em;box-sizing: border-box;text-align: center;}#sk-container-id-7 label.sk-toggleable__label-arrow:before {content: \"▸\";float: left;margin-right: 0.25em;color: #696969;}#sk-container-id-7 label.sk-toggleable__label-arrow:hover:before {color: black;}#sk-container-id-7 div.sk-estimator:hover label.sk-toggleable__label-arrow:before {color: black;}#sk-container-id-7 div.sk-toggleable__content {max-height: 0;max-width: 0;overflow: hidden;text-align: left;background-color: #f0f8ff;}#sk-container-id-7 div.sk-toggleable__content pre {margin: 0.2em;color: black;border-radius: 0.25em;background-color: #f0f8ff;}#sk-container-id-7 input.sk-toggleable__control:checked~div.sk-toggleable__content {max-height: 200px;max-width: 100%;overflow: auto;}#sk-container-id-7 input.sk-toggleable__control:checked~label.sk-toggleable__label-arrow:before {content: \"▾\";}#sk-container-id-7 div.sk-estimator input.sk-toggleable__control:checked~label.sk-toggleable__label {background-color: #d4ebff;}#sk-container-id-7 div.sk-label input.sk-toggleable__control:checked~label.sk-toggleable__label {background-color: #d4ebff;}#sk-container-id-7 input.sk-hidden--visually {border: 0;clip: rect(1px 1px 1px 1px);clip: rect(1px, 1px, 1px, 1px);height: 1px;margin: -1px;overflow: hidden;padding: 0;position: absolute;width: 1px;}#sk-container-id-7 div.sk-estimator {font-family: monospace;background-color: #f0f8ff;border: 1px dotted black;border-radius: 0.25em;box-sizing: border-box;margin-bottom: 0.5em;}#sk-container-id-7 div.sk-estimator:hover {background-color: #d4ebff;}#sk-container-id-7 div.sk-parallel-item::after {content: \"\";width: 100%;border-bottom: 1px solid gray;flex-grow: 1;}#sk-container-id-7 div.sk-label:hover label.sk-toggleable__label {background-color: #d4ebff;}#sk-container-id-7 div.sk-serial::before {content: \"\";position: absolute;border-left: 1px solid gray;box-sizing: border-box;top: 0;bottom: 0;left: 50%;z-index: 0;}#sk-container-id-7 div.sk-serial {display: flex;flex-direction: column;align-items: center;background-color: white;padding-right: 0.2em;padding-left: 0.2em;position: relative;}#sk-container-id-7 div.sk-item {position: relative;z-index: 1;}#sk-container-id-7 div.sk-parallel {display: flex;align-items: stretch;justify-content: center;background-color: white;position: relative;}#sk-container-id-7 div.sk-item::before, #sk-container-id-7 div.sk-parallel-item::before {content: \"\";position: absolute;border-left: 1px solid gray;box-sizing: border-box;top: 0;bottom: 0;left: 50%;z-index: -1;}#sk-container-id-7 div.sk-parallel-item {display: flex;flex-direction: column;z-index: 1;position: relative;background-color: white;}#sk-container-id-7 div.sk-parallel-item:first-child::after {align-self: flex-end;width: 50%;}#sk-container-id-7 div.sk-parallel-item:last-child::after {align-self: flex-start;width: 50%;}#sk-container-id-7 div.sk-parallel-item:only-child::after {width: 0;}#sk-container-id-7 div.sk-dashed-wrapped {border: 1px dashed gray;margin: 0 0.4em 0.5em 0.4em;box-sizing: border-box;padding-bottom: 0.4em;background-color: white;}#sk-container-id-7 div.sk-label label {font-family: monospace;font-weight: bold;display: inline-block;line-height: 1.2em;}#sk-container-id-7 div.sk-label-container {text-align: center;}#sk-container-id-7 div.sk-container {/* jupyter's `normalize.less` sets `[hidden] { display: none; }` but bootstrap.min.css set `[hidden] { display: none !important; }` so we also need the `!important` here to be able to override the default hidden behavior on the sphinx rendered scikit-learn.org. See: https://github.com/scikit-learn/scikit-learn/issues/21755 */display: inline-block !important;position: relative;}#sk-container-id-7 div.sk-text-repr-fallback {display: none;}</style><div id=\"sk-container-id-7\" class=\"sk-top-container\"><div class=\"sk-text-repr-fallback\"><pre>RandomForestClassifier()</pre><b>In a Jupyter environment, please rerun this cell to show the HTML representation or trust the notebook. <br />On GitHub, the HTML representation is unable to render, please try loading this page with nbviewer.org.</b></div><div class=\"sk-container\" hidden><div class=\"sk-item\"><div class=\"sk-estimator sk-toggleable\"><input class=\"sk-toggleable__control sk-hidden--visually\" id=\"sk-estimator-id-7\" type=\"checkbox\" checked><label for=\"sk-estimator-id-7\" class=\"sk-toggleable__label sk-toggleable__label-arrow\">RandomForestClassifier</label><div class=\"sk-toggleable__content\"><pre>RandomForestClassifier()</pre></div></div></div></div></div>"
      ],
      "text/plain": [
       "RandomForestClassifier()"
      ]
     },
     "execution_count": 73,
     "metadata": {},
     "output_type": "execute_result"
    }
   ],
   "source": [
    "del model\n",
    "model = RandomForestClassifier()\n",
    "model.fit(X_train_bmi, y_train)"
   ]
  },
  {
   "cell_type": "code",
   "execution_count": 74,
   "id": "ba84020b-3eb0-453d-ad01-3cf187a872a3",
   "metadata": {},
   "outputs": [],
   "source": [
    "y_pred = model.predict(X_test_bmi)"
   ]
  },
  {
   "cell_type": "code",
   "execution_count": 75,
   "id": "f58727bd-a775-4d3c-9142-5550c35317bf",
   "metadata": {},
   "outputs": [
    {
     "data": {
      "image/png": "[encoded data removed]",
      "text/plain": [
       "<Figure size 800x800 with 2 Axes>"
      ]
     },
     "metadata": {},
     "output_type": "display_data"
    }
   ],
   "source": [
    "plot_conf_mat(y_test, y_pred)"
   ]
  },
  {
   "cell_type": "code",
   "execution_count": 76,
   "id": "9ffd5bdf-e399-47da-82e4-5c290f1e6406",
   "metadata": {},
   "outputs": [
    {
     "name": "stdout",
     "output_type": "stream",
     "text": [
      "AUC score: 0.5124283743633277\n"
     ]
    }
   ],
   "source": [
    "report_performance(y_test, y_pred)"
   ]
  },
  {
   "cell_type": "markdown",
   "id": "2a11cd29-c8a2-4018-a99a-d3a6f4426381",
   "metadata": {},
   "source": [
    "## All features"
   ]
  },
  {
   "cell_type": "code",
   "execution_count": 77,
   "id": "fd97a447-e59f-4e5b-bac4-0923c280eca1",
   "metadata": {},
   "outputs": [
    {
     "data": {
      "text/html": [
       "<style>#sk-container-id-8 {color: black;background-color: white;}#sk-container-id-8 pre{padding: 0;}#sk-container-id-8 div.sk-toggleable {background-color: white;}#sk-container-id-8 label.sk-toggleable__label {cursor: pointer;display: block;width: 100%;margin-bottom: 0;padding: 0.3em;box-sizing: border-box;text-align: center;}#sk-container-id-8 label.sk-toggleable__label-arrow:before {content: \"▸\";float: left;margin-right: 0.25em;color: #696969;}#sk-container-id-8 label.sk-toggleable__label-arrow:hover:before {color: black;}#sk-container-id-8 div.sk-estimator:hover label.sk-toggleable__label-arrow:before {color: black;}#sk-container-id-8 div.sk-toggleable__content {max-height: 0;max-width: 0;overflow: hidden;text-align: left;background-color: #f0f8ff;}#sk-container-id-8 div.sk-toggleable__content pre {margin: 0.2em;color: black;border-radius: 0.25em;background-color: #f0f8ff;}#sk-container-id-8 input.sk-toggleable__control:checked~div.sk-toggleable__content {max-height: 200px;max-width: 100%;overflow: auto;}#sk-container-id-8 input.sk-toggleable__control:checked~label.sk-toggleable__label-arrow:before {content: \"▾\";}#sk-container-id-8 div.sk-estimator input.sk-toggleable__control:checked~label.sk-toggleable__label {background-color: #d4ebff;}#sk-container-id-8 div.sk-label input.sk-toggleable__control:checked~label.sk-toggleable__label {background-color: #d4ebff;}#sk-container-id-8 input.sk-hidden--visually {border: 0;clip: rect(1px 1px 1px 1px);clip: rect(1px, 1px, 1px, 1px);height: 1px;margin: -1px;overflow: hidden;padding: 0;position: absolute;width: 1px;}#sk-container-id-8 div.sk-estimator {font-family: monospace;background-color: #f0f8ff;border: 1px dotted black;border-radius: 0.25em;box-sizing: border-box;margin-bottom: 0.5em;}#sk-container-id-8 div.sk-estimator:hover {background-color: #d4ebff;}#sk-container-id-8 div.sk-parallel-item::after {content: \"\";width: 100%;border-bottom: 1px solid gray;flex-grow: 1;}#sk-container-id-8 div.sk-label:hover label.sk-toggleable__label {background-color: #d4ebff;}#sk-container-id-8 div.sk-serial::before {content: \"\";position: absolute;border-left: 1px solid gray;box-sizing: border-box;top: 0;bottom: 0;left: 50%;z-index: 0;}#sk-container-id-8 div.sk-serial {display: flex;flex-direction: column;align-items: center;background-color: white;padding-right: 0.2em;padding-left: 0.2em;position: relative;}#sk-container-id-8 div.sk-item {position: relative;z-index: 1;}#sk-container-id-8 div.sk-parallel {display: flex;align-items: stretch;justify-content: center;background-color: white;position: relative;}#sk-container-id-8 div.sk-item::before, #sk-container-id-8 div.sk-parallel-item::before {content: \"\";position: absolute;border-left: 1px solid gray;box-sizing: border-box;top: 0;bottom: 0;left: 50%;z-index: -1;}#sk-container-id-8 div.sk-parallel-item {display: flex;flex-direction: column;z-index: 1;position: relative;background-color: white;}#sk-container-id-8 div.sk-parallel-item:first-child::after {align-self: flex-end;width: 50%;}#sk-container-id-8 div.sk-parallel-item:last-child::after {align-self: flex-start;width: 50%;}#sk-container-id-8 div.sk-parallel-item:only-child::after {width: 0;}#sk-container-id-8 div.sk-dashed-wrapped {border: 1px dashed gray;margin: 0 0.4em 0.5em 0.4em;box-sizing: border-box;padding-bottom: 0.4em;background-color: white;}#sk-container-id-8 div.sk-label label {font-family: monospace;font-weight: bold;display: inline-block;line-height: 1.2em;}#sk-container-id-8 div.sk-label-container {text-align: center;}#sk-container-id-8 div.sk-container {/* jupyter's `normalize.less` sets `[hidden] { display: none; }` but bootstrap.min.css set `[hidden] { display: none !important; }` so we also need the `!important` here to be able to override the default hidden behavior on the sphinx rendered scikit-learn.org. See: https://github.com/scikit-learn/scikit-learn/issues/21755 */display: inline-block !important;position: relative;}#sk-container-id-8 div.sk-text-repr-fallback {display: none;}</style><div id=\"sk-container-id-8\" class=\"sk-top-container\"><div class=\"sk-text-repr-fallback\"><pre>RandomForestClassifier(random_state=2022)</pre><b>In a Jupyter environment, please rerun this cell to show the HTML representation or trust the notebook. <br />On GitHub, the HTML representation is unable to render, please try loading this page with nbviewer.org.</b></div><div class=\"sk-container\" hidden><div class=\"sk-item\"><div class=\"sk-estimator sk-toggleable\"><input class=\"sk-toggleable__control sk-hidden--visually\" id=\"sk-estimator-id-8\" type=\"checkbox\" checked><label for=\"sk-estimator-id-8\" class=\"sk-toggleable__label sk-toggleable__label-arrow\">RandomForestClassifier</label><div class=\"sk-toggleable__content\"><pre>RandomForestClassifier(random_state=2022)</pre></div></div></div></div></div>"
      ],
      "text/plain": [
       "RandomForestClassifier(random_state=2022)"
      ]
     },
     "execution_count": 77,
     "metadata": {},
     "output_type": "execute_result"
    }
   ],
   "source": [
    "del model\n",
    "model = RandomForestClassifier(random_state=2022)\n",
    "model.fit(X_train, y_train)"
   ]
  },
  {
   "cell_type": "code",
   "execution_count": 78,
   "id": "b3e4e1a9-8ce2-4389-ba42-c370df7bf0e5",
   "metadata": {},
   "outputs": [],
   "source": [
    "y_pred = model.predict(X_test)"
   ]
  },
  {
   "cell_type": "code",
   "execution_count": 79,
   "id": "4d9b6edc-0a18-4f9c-8fa2-ddb1ced459cc",
   "metadata": {},
   "outputs": [
    {
     "data": {
      "image/png": "[encoded data removed]",
      "text/plain": [
       "<Figure size 800x800 with 2 Axes>"
      ]
     },
     "metadata": {},
     "output_type": "display_data"
    }
   ],
   "source": [
    "plot_conf_mat(y_test, y_pred)"
   ]
  },
  {
   "cell_type": "code",
   "execution_count": 80,
   "id": "af616ef4-84d8-4049-bdf0-59e6d836ca83",
   "metadata": {},
   "outputs": [
    {
     "name": "stdout",
     "output_type": "stream",
     "text": [
      "AUC score: 0.5558149405772496\n"
     ]
    }
   ],
   "source": [
    "report_performance(y_test, y_pred)"
   ]
  },
  {
   "cell_type": "code",
   "execution_count": 81,
   "id": "e7758c5b-ae50-4b77-8bdf-1227284e93b6",
   "metadata": {},
   "outputs": [
    {
     "data": {
      "text/html": [
       "<style type=\"text/css\">\n",
       "#T_ef3ac_row0_col1 {\n",
       "  background-color: #08306b;\n",
       "  color: #f1f1f1;\n",
       "}\n",
       "#T_ef3ac_row1_col1 {\n",
       "  background-color: #9dcae1;\n",
       "  color: #000000;\n",
       "}\n",
       "#T_ef3ac_row2_col1 {\n",
       "  background-color: #9fcae1;\n",
       "  color: #000000;\n",
       "}\n",
       "#T_ef3ac_row3_col1 {\n",
       "  background-color: #d8e7f5;\n",
       "  color: #000000;\n",
       "}\n",
       "#T_ef3ac_row4_col1 {\n",
       "  background-color: #e2edf8;\n",
       "  color: #000000;\n",
       "}\n",
       "#T_ef3ac_row5_col1 {\n",
       "  background-color: #e3eef9;\n",
       "  color: #000000;\n",
       "}\n",
       "#T_ef3ac_row6_col1 {\n",
       "  background-color: #e5eff9;\n",
       "  color: #000000;\n",
       "}\n",
       "#T_ef3ac_row7_col1 {\n",
       "  background-color: #e9f2fa;\n",
       "  color: #000000;\n",
       "}\n",
       "#T_ef3ac_row8_col1 {\n",
       "  background-color: #edf4fc;\n",
       "  color: #000000;\n",
       "}\n",
       "#T_ef3ac_row9_col1 {\n",
       "  background-color: #eef5fc;\n",
       "  color: #000000;\n",
       "}\n",
       "#T_ef3ac_row10_col1, #T_ef3ac_row11_col1, #T_ef3ac_row12_col1, #T_ef3ac_row13_col1 {\n",
       "  background-color: #eff6fc;\n",
       "  color: #000000;\n",
       "}\n",
       "#T_ef3ac_row14_col1 {\n",
       "  background-color: #f0f6fd;\n",
       "  color: #000000;\n",
       "}\n",
       "#T_ef3ac_row15_col1 {\n",
       "  background-color: #f1f7fd;\n",
       "  color: #000000;\n",
       "}\n",
       "#T_ef3ac_row16_col1 {\n",
       "  background-color: #f7fbff;\n",
       "  color: #000000;\n",
       "}\n",
       "</style>\n",
       "<table id=\"T_ef3ac\">\n",
       "  <thead>\n",
       "    <tr>\n",
       "      <th class=\"blank level0\" >&nbsp;</th>\n",
       "      <th id=\"T_ef3ac_level0_col0\" class=\"col_heading level0 col0\" >Feature</th>\n",
       "      <th id=\"T_ef3ac_level0_col1\" class=\"col_heading level0 col1\" >Importance</th>\n",
       "    </tr>\n",
       "  </thead>\n",
       "  <tbody>\n",
       "    <tr>\n",
       "      <th id=\"T_ef3ac_level0_row0\" class=\"row_heading level0 row0\" >1</th>\n",
       "      <td id=\"T_ef3ac_row0_col0\" class=\"data row0 col0\" >age</td>\n",
       "      <td id=\"T_ef3ac_row0_col1\" class=\"data row0 col1\" >0.382909</td>\n",
       "    </tr>\n",
       "    <tr>\n",
       "      <th id=\"T_ef3ac_level0_row1\" class=\"row_heading level0 row1\" >7</th>\n",
       "      <td id=\"T_ef3ac_row1_col0\" class=\"data row1 col0\" >bmi</td>\n",
       "      <td id=\"T_ef3ac_row1_col1\" class=\"data row1 col1\" >0.143770</td>\n",
       "    </tr>\n",
       "    <tr>\n",
       "      <th id=\"T_ef3ac_level0_row2\" class=\"row_heading level0 row2\" >6</th>\n",
       "      <td id=\"T_ef3ac_row2_col0\" class=\"data row2 col0\" >avg_glucose_level</td>\n",
       "      <td id=\"T_ef3ac_row2_col1\" class=\"data row2 col1\" >0.142750</td>\n",
       "    </tr>\n",
       "    <tr>\n",
       "      <th id=\"T_ef3ac_level0_row3\" class=\"row_heading level0 row3\" >4</th>\n",
       "      <td id=\"T_ef3ac_row3_col0\" class=\"data row3 col0\" >ever_married</td>\n",
       "      <td id=\"T_ef3ac_row3_col1\" class=\"data row3 col1\" >0.059908</td>\n",
       "    </tr>\n",
       "    <tr>\n",
       "      <th id=\"T_ef3ac_level0_row4\" class=\"row_heading level0 row4\" >2</th>\n",
       "      <td id=\"T_ef3ac_row4_col0\" class=\"data row4 col0\" >hypertension</td>\n",
       "      <td id=\"T_ef3ac_row4_col1\" class=\"data row4 col1\" >0.041717</td>\n",
       "    </tr>\n",
       "    <tr>\n",
       "      <th id=\"T_ef3ac_level0_row5\" class=\"row_heading level0 row5\" >0</th>\n",
       "      <td id=\"T_ef3ac_row5_col0\" class=\"data row5 col0\" >gender</td>\n",
       "      <td id=\"T_ef3ac_row5_col1\" class=\"data row5 col1\" >0.038829</td>\n",
       "    </tr>\n",
       "    <tr>\n",
       "      <th id=\"T_ef3ac_level0_row6\" class=\"row_heading level0 row6\" >5</th>\n",
       "      <td id=\"T_ef3ac_row6_col0\" class=\"data row6 col0\" >Residence_type</td>\n",
       "      <td id=\"T_ef3ac_row6_col1\" class=\"data row6 col1\" >0.035214</td>\n",
       "    </tr>\n",
       "    <tr>\n",
       "      <th id=\"T_ef3ac_level0_row7\" class=\"row_heading level0 row7\" >3</th>\n",
       "      <td id=\"T_ef3ac_row7_col0\" class=\"data row7 col0\" >heart_disease</td>\n",
       "      <td id=\"T_ef3ac_row7_col1\" class=\"data row7 col1\" >0.027074</td>\n",
       "    </tr>\n",
       "    <tr>\n",
       "      <th id=\"T_ef3ac_level0_row8\" class=\"row_heading level0 row8\" >10</th>\n",
       "      <td id=\"T_ef3ac_row8_col0\" class=\"data row8 col0\" >work_type_Private</td>\n",
       "      <td id=\"T_ef3ac_row8_col1\" class=\"data row8 col1\" >0.020792</td>\n",
       "    </tr>\n",
       "    <tr>\n",
       "      <th id=\"T_ef3ac_level0_row9\" class=\"row_heading level0 row9\" >15</th>\n",
       "      <td id=\"T_ef3ac_row9_col0\" class=\"data row9 col0\" >smoking_status_never smoked</td>\n",
       "      <td id=\"T_ef3ac_row9_col1\" class=\"data row9 col1\" >0.017111</td>\n",
       "    </tr>\n",
       "    <tr>\n",
       "      <th id=\"T_ef3ac_level0_row10\" class=\"row_heading level0 row10\" >11</th>\n",
       "      <td id=\"T_ef3ac_row10_col0\" class=\"data row10 col0\" >work_type_Self-employed</td>\n",
       "      <td id=\"T_ef3ac_row10_col1\" class=\"data row10 col1\" >0.015839</td>\n",
       "    </tr>\n",
       "    <tr>\n",
       "      <th id=\"T_ef3ac_level0_row11\" class=\"row_heading level0 row11\" >8</th>\n",
       "      <td id=\"T_ef3ac_row11_col0\" class=\"data row11 col0\" >work_type_Govt_job</td>\n",
       "      <td id=\"T_ef3ac_row11_col1\" class=\"data row11 col1\" >0.015657</td>\n",
       "    </tr>\n",
       "    <tr>\n",
       "      <th id=\"T_ef3ac_level0_row12\" class=\"row_heading level0 row12\" >12</th>\n",
       "      <td id=\"T_ef3ac_row12_col0\" class=\"data row12 col0\" >work_type_children</td>\n",
       "      <td id=\"T_ef3ac_row12_col1\" class=\"data row12 col1\" >0.015635</td>\n",
       "    </tr>\n",
       "    <tr>\n",
       "      <th id=\"T_ef3ac_level0_row13\" class=\"row_heading level0 row13\" >13</th>\n",
       "      <td id=\"T_ef3ac_row13_col0\" class=\"data row13 col0\" >smoking_status_Unknown</td>\n",
       "      <td id=\"T_ef3ac_row13_col1\" class=\"data row13 col1\" >0.015481</td>\n",
       "    </tr>\n",
       "    <tr>\n",
       "      <th id=\"T_ef3ac_level0_row14\" class=\"row_heading level0 row14\" >14</th>\n",
       "      <td id=\"T_ef3ac_row14_col0\" class=\"data row14 col0\" >smoking_status_formerly smoked</td>\n",
       "      <td id=\"T_ef3ac_row14_col1\" class=\"data row14 col1\" >0.014822</td>\n",
       "    </tr>\n",
       "    <tr>\n",
       "      <th id=\"T_ef3ac_level0_row15\" class=\"row_heading level0 row15\" >16</th>\n",
       "      <td id=\"T_ef3ac_row15_col0\" class=\"data row15 col0\" >smoking_status_smokes</td>\n",
       "      <td id=\"T_ef3ac_row15_col1\" class=\"data row15 col1\" >0.012465</td>\n",
       "    </tr>\n",
       "    <tr>\n",
       "      <th id=\"T_ef3ac_level0_row16\" class=\"row_heading level0 row16\" >9</th>\n",
       "      <td id=\"T_ef3ac_row16_col0\" class=\"data row16 col0\" >work_type_Never_worked</td>\n",
       "      <td id=\"T_ef3ac_row16_col1\" class=\"data row16 col1\" >0.000027</td>\n",
       "    </tr>\n",
       "  </tbody>\n",
       "</table>\n"
      ],
      "text/plain": [
       "<pandas.io.formats.style.Styler at 0x238a9c71ee0>"
      ]
     },
     "execution_count": 81,
     "metadata": {},
     "output_type": "execute_result"
    }
   ],
   "source": [
    "fi = feature_importance(model)\n",
    "fi.style.background_gradient(cmap='Blues')"
   ]
  },
  {
   "cell_type": "code",
   "execution_count": 82,
   "id": "32baf5ab-5412-4454-b810-d0c9740dd13f",
   "metadata": {},
   "outputs": [],
   "source": [
    "from sklearn.ensemble import GradientBoostingClassifier"
   ]
  },
  {
   "cell_type": "code",
   "execution_count": 83,
   "id": "bafae652-b4a1-4290-9f62-fc4cbf30077f",
   "metadata": {},
   "outputs": [
    {
     "data": {
      "text/html": [
       "<style>#sk-container-id-9 {color: black;background-color: white;}#sk-container-id-9 pre{padding: 0;}#sk-container-id-9 div.sk-toggleable {background-color: white;}#sk-container-id-9 label.sk-toggleable__label {cursor: pointer;display: block;width: 100%;margin-bottom: 0;padding: 0.3em;box-sizing: border-box;text-align: center;}#sk-container-id-9 label.sk-toggleable__label-arrow:before {content: \"▸\";float: left;margin-right: 0.25em;color: #696969;}#sk-container-id-9 label.sk-toggleable__label-arrow:hover:before {color: black;}#sk-container-id-9 div.sk-estimator:hover label.sk-toggleable__label-arrow:before {color: black;}#sk-container-id-9 div.sk-toggleable__content {max-height: 0;max-width: 0;overflow: hidden;text-align: left;background-color: #f0f8ff;}#sk-container-id-9 div.sk-toggleable__content pre {margin: 0.2em;color: black;border-radius: 0.25em;background-color: #f0f8ff;}#sk-container-id-9 input.sk-toggleable__control:checked~div.sk-toggleable__content {max-height: 200px;max-width: 100%;overflow: auto;}#sk-container-id-9 input.sk-toggleable__control:checked~label.sk-toggleable__label-arrow:before {content: \"▾\";}#sk-container-id-9 div.sk-estimator input.sk-toggleable__control:checked~label.sk-toggleable__label {background-color: #d4ebff;}#sk-container-id-9 div.sk-label input.sk-toggleable__control:checked~label.sk-toggleable__label {background-color: #d4ebff;}#sk-container-id-9 input.sk-hidden--visually {border: 0;clip: rect(1px 1px 1px 1px);clip: rect(1px, 1px, 1px, 1px);height: 1px;margin: -1px;overflow: hidden;padding: 0;position: absolute;width: 1px;}#sk-container-id-9 div.sk-estimator {font-family: monospace;background-color: #f0f8ff;border: 1px dotted black;border-radius: 0.25em;box-sizing: border-box;margin-bottom: 0.5em;}#sk-container-id-9 div.sk-estimator:hover {background-color: #d4ebff;}#sk-container-id-9 div.sk-parallel-item::after {content: \"\";width: 100%;border-bottom: 1px solid gray;flex-grow: 1;}#sk-container-id-9 div.sk-label:hover label.sk-toggleable__label {background-color: #d4ebff;}#sk-container-id-9 div.sk-serial::before {content: \"\";position: absolute;border-left: 1px solid gray;box-sizing: border-box;top: 0;bottom: 0;left: 50%;z-index: 0;}#sk-container-id-9 div.sk-serial {display: flex;flex-direction: column;align-items: center;background-color: white;padding-right: 0.2em;padding-left: 0.2em;position: relative;}#sk-container-id-9 div.sk-item {position: relative;z-index: 1;}#sk-container-id-9 div.sk-parallel {display: flex;align-items: stretch;justify-content: center;background-color: white;position: relative;}#sk-container-id-9 div.sk-item::before, #sk-container-id-9 div.sk-parallel-item::before {content: \"\";position: absolute;border-left: 1px solid gray;box-sizing: border-box;top: 0;bottom: 0;left: 50%;z-index: -1;}#sk-container-id-9 div.sk-parallel-item {display: flex;flex-direction: column;z-index: 1;position: relative;background-color: white;}#sk-container-id-9 div.sk-parallel-item:first-child::after {align-self: flex-end;width: 50%;}#sk-container-id-9 div.sk-parallel-item:last-child::after {align-self: flex-start;width: 50%;}#sk-container-id-9 div.sk-parallel-item:only-child::after {width: 0;}#sk-container-id-9 div.sk-dashed-wrapped {border: 1px dashed gray;margin: 0 0.4em 0.5em 0.4em;box-sizing: border-box;padding-bottom: 0.4em;background-color: white;}#sk-container-id-9 div.sk-label label {font-family: monospace;font-weight: bold;display: inline-block;line-height: 1.2em;}#sk-container-id-9 div.sk-label-container {text-align: center;}#sk-container-id-9 div.sk-container {/* jupyter's `normalize.less` sets `[hidden] { display: none; }` but bootstrap.min.css set `[hidden] { display: none !important; }` so we also need the `!important` here to be able to override the default hidden behavior on the sphinx rendered scikit-learn.org. See: https://github.com/scikit-learn/scikit-learn/issues/21755 */display: inline-block !important;position: relative;}#sk-container-id-9 div.sk-text-repr-fallback {display: none;}</style><div id=\"sk-container-id-9\" class=\"sk-top-container\"><div class=\"sk-text-repr-fallback\"><pre>GradientBoostingClassifier(random_state=2022)</pre><b>In a Jupyter environment, please rerun this cell to show the HTML representation or trust the notebook. <br />On GitHub, the HTML representation is unable to render, please try loading this page with nbviewer.org.</b></div><div class=\"sk-container\" hidden><div class=\"sk-item\"><div class=\"sk-estimator sk-toggleable\"><input class=\"sk-toggleable__control sk-hidden--visually\" id=\"sk-estimator-id-9\" type=\"checkbox\" checked><label for=\"sk-estimator-id-9\" class=\"sk-toggleable__label sk-toggleable__label-arrow\">GradientBoostingClassifier</label><div class=\"sk-toggleable__content\"><pre>GradientBoostingClassifier(random_state=2022)</pre></div></div></div></div></div>"
      ],
      "text/plain": [
       "GradientBoostingClassifier(random_state=2022)"
      ]
     },
     "execution_count": 83,
     "metadata": {},
     "output_type": "execute_result"
    }
   ],
   "source": [
    "del model\n",
    "model = GradientBoostingClassifier(random_state=2022)\n",
    "model.fit(X_train, y_train)"
   ]
  },
  {
   "cell_type": "code",
   "execution_count": 84,
   "id": "dcb971ce-09ae-43a4-aca7-f4007d20b50e",
   "metadata": {},
   "outputs": [],
   "source": [
    "y_pred = model.predict(X_test)"
   ]
  },
  {
   "cell_type": "code",
   "execution_count": 85,
   "id": "55c43fc7-58ae-4a08-ac06-92842d67269e",
   "metadata": {},
   "outputs": [
    {
     "data": {
      "image/png": "[encoded data removed]",
      "text/plain": [
       "<Figure size 800x800 with 2 Axes>"
      ]
     },
     "metadata": {},
     "output_type": "display_data"
    }
   ],
   "source": [
    "plot_conf_mat(y_test, y_pred)"
   ]
  },
  {
   "cell_type": "code",
   "execution_count": 86,
   "id": "c5cdbdbb-3a62-4212-9e15-e4942f207abf",
   "metadata": {},
   "outputs": [
    {
     "name": "stdout",
     "output_type": "stream",
     "text": [
      "AUC score: 0.6228247028862479\n"
     ]
    }
   ],
   "source": [
    "report_performance(y_test, y_pred)"
   ]
  },
  {
   "cell_type": "code",
   "execution_count": 87,
   "id": "d3a22502-8961-481f-84dc-4aa25ea946d1",
   "metadata": {},
   "outputs": [
    {
     "data": {
      "text/html": [
       "<style type=\"text/css\">\n",
       "#T_9d01a_row0_col1 {\n",
       "  background-color: #08306b;\n",
       "  color: #f1f1f1;\n",
       "}\n",
       "#T_9d01a_row1_col1 {\n",
       "  background-color: #e6f0f9;\n",
       "  color: #000000;\n",
       "}\n",
       "#T_9d01a_row2_col1 {\n",
       "  background-color: #e7f1fa;\n",
       "  color: #000000;\n",
       "}\n",
       "#T_9d01a_row3_col1 {\n",
       "  background-color: #ecf4fb;\n",
       "  color: #000000;\n",
       "}\n",
       "#T_9d01a_row4_col1 {\n",
       "  background-color: #edf4fc;\n",
       "  color: #000000;\n",
       "}\n",
       "#T_9d01a_row5_col1 {\n",
       "  background-color: #eef5fc;\n",
       "  color: #000000;\n",
       "}\n",
       "#T_9d01a_row6_col1 {\n",
       "  background-color: #f0f6fd;\n",
       "  color: #000000;\n",
       "}\n",
       "#T_9d01a_row7_col1 {\n",
       "  background-color: #f2f8fd;\n",
       "  color: #000000;\n",
       "}\n",
       "#T_9d01a_row8_col1 {\n",
       "  background-color: #f3f8fe;\n",
       "  color: #000000;\n",
       "}\n",
       "#T_9d01a_row9_col1 {\n",
       "  background-color: #f4f9fe;\n",
       "  color: #000000;\n",
       "}\n",
       "#T_9d01a_row10_col1, #T_9d01a_row11_col1, #T_9d01a_row12_col1 {\n",
       "  background-color: #f5fafe;\n",
       "  color: #000000;\n",
       "}\n",
       "#T_9d01a_row13_col1, #T_9d01a_row14_col1, #T_9d01a_row15_col1, #T_9d01a_row16_col1 {\n",
       "  background-color: #f7fbff;\n",
       "  color: #000000;\n",
       "}\n",
       "</style>\n",
       "<table id=\"T_9d01a\">\n",
       "  <thead>\n",
       "    <tr>\n",
       "      <th class=\"blank level0\" >&nbsp;</th>\n",
       "      <th id=\"T_9d01a_level0_col0\" class=\"col_heading level0 col0\" >Feature</th>\n",
       "      <th id=\"T_9d01a_level0_col1\" class=\"col_heading level0 col1\" >Importance</th>\n",
       "    </tr>\n",
       "  </thead>\n",
       "  <tbody>\n",
       "    <tr>\n",
       "      <th id=\"T_9d01a_level0_row0\" class=\"row_heading level0 row0\" >1</th>\n",
       "      <td id=\"T_9d01a_row0_col0\" class=\"data row0 col0\" >age</td>\n",
       "      <td id=\"T_9d01a_row0_col1\" class=\"data row0 col1\" >0.682086</td>\n",
       "    </tr>\n",
       "    <tr>\n",
       "      <th id=\"T_9d01a_level0_row1\" class=\"row_heading level0 row1\" >6</th>\n",
       "      <td id=\"T_9d01a_row1_col0\" class=\"data row1 col0\" >avg_glucose_level</td>\n",
       "      <td id=\"T_9d01a_row1_col1\" class=\"data row1 col1\" >0.060738</td>\n",
       "    </tr>\n",
       "    <tr>\n",
       "      <th id=\"T_9d01a_level0_row2\" class=\"row_heading level0 row2\" >7</th>\n",
       "      <td id=\"T_9d01a_row2_col0\" class=\"data row2 col0\" >bmi</td>\n",
       "      <td id=\"T_9d01a_row2_col1\" class=\"data row2 col1\" >0.054162</td>\n",
       "    </tr>\n",
       "    <tr>\n",
       "      <th id=\"T_9d01a_level0_row3\" class=\"row_heading level0 row3\" >0</th>\n",
       "      <td id=\"T_9d01a_row3_col0\" class=\"data row3 col0\" >gender</td>\n",
       "      <td id=\"T_9d01a_row3_col1\" class=\"data row3 col1\" >0.039641</td>\n",
       "    </tr>\n",
       "    <tr>\n",
       "      <th id=\"T_9d01a_level0_row4\" class=\"row_heading level0 row4\" >5</th>\n",
       "      <td id=\"T_9d01a_row4_col0\" class=\"data row4 col0\" >Residence_type</td>\n",
       "      <td id=\"T_9d01a_row4_col1\" class=\"data row4 col1\" >0.035251</td>\n",
       "    </tr>\n",
       "    <tr>\n",
       "      <th id=\"T_9d01a_level0_row5\" class=\"row_heading level0 row5\" >2</th>\n",
       "      <td id=\"T_9d01a_row5_col0\" class=\"data row5 col0\" >hypertension</td>\n",
       "      <td id=\"T_9d01a_row5_col1\" class=\"data row5 col1\" >0.031207</td>\n",
       "    </tr>\n",
       "    <tr>\n",
       "      <th id=\"T_9d01a_level0_row6\" class=\"row_heading level0 row6\" >3</th>\n",
       "      <td id=\"T_9d01a_row6_col0\" class=\"data row6 col0\" >heart_disease</td>\n",
       "      <td id=\"T_9d01a_row6_col1\" class=\"data row6 col1\" >0.025570</td>\n",
       "    </tr>\n",
       "    <tr>\n",
       "      <th id=\"T_9d01a_level0_row7\" class=\"row_heading level0 row7\" >10</th>\n",
       "      <td id=\"T_9d01a_row7_col0\" class=\"data row7 col0\" >work_type_Private</td>\n",
       "      <td id=\"T_9d01a_row7_col1\" class=\"data row7 col1\" >0.017540</td>\n",
       "    </tr>\n",
       "    <tr>\n",
       "      <th id=\"T_9d01a_level0_row8\" class=\"row_heading level0 row8\" >8</th>\n",
       "      <td id=\"T_9d01a_row8_col0\" class=\"data row8 col0\" >work_type_Govt_job</td>\n",
       "      <td id=\"T_9d01a_row8_col1\" class=\"data row8 col1\" >0.015813</td>\n",
       "    </tr>\n",
       "    <tr>\n",
       "      <th id=\"T_9d01a_level0_row9\" class=\"row_heading level0 row9\" >4</th>\n",
       "      <td id=\"T_9d01a_row9_col0\" class=\"data row9 col0\" >ever_married</td>\n",
       "      <td id=\"T_9d01a_row9_col1\" class=\"data row9 col1\" >0.012335</td>\n",
       "    </tr>\n",
       "    <tr>\n",
       "      <th id=\"T_9d01a_level0_row10\" class=\"row_heading level0 row10\" >14</th>\n",
       "      <td id=\"T_9d01a_row10_col0\" class=\"data row10 col0\" >smoking_status_formerly smoked</td>\n",
       "      <td id=\"T_9d01a_row10_col1\" class=\"data row10 col1\" >0.007691</td>\n",
       "    </tr>\n",
       "    <tr>\n",
       "      <th id=\"T_9d01a_level0_row11\" class=\"row_heading level0 row11\" >11</th>\n",
       "      <td id=\"T_9d01a_row11_col0\" class=\"data row11 col0\" >work_type_Self-employed</td>\n",
       "      <td id=\"T_9d01a_row11_col1\" class=\"data row11 col1\" >0.007368</td>\n",
       "    </tr>\n",
       "    <tr>\n",
       "      <th id=\"T_9d01a_level0_row12\" class=\"row_heading level0 row12\" >12</th>\n",
       "      <td id=\"T_9d01a_row12_col0\" class=\"data row12 col0\" >work_type_children</td>\n",
       "      <td id=\"T_9d01a_row12_col1\" class=\"data row12 col1\" >0.006169</td>\n",
       "    </tr>\n",
       "    <tr>\n",
       "      <th id=\"T_9d01a_level0_row13\" class=\"row_heading level0 row13\" >13</th>\n",
       "      <td id=\"T_9d01a_row13_col0\" class=\"data row13 col0\" >smoking_status_Unknown</td>\n",
       "      <td id=\"T_9d01a_row13_col1\" class=\"data row13 col1\" >0.002114</td>\n",
       "    </tr>\n",
       "    <tr>\n",
       "      <th id=\"T_9d01a_level0_row14\" class=\"row_heading level0 row14\" >15</th>\n",
       "      <td id=\"T_9d01a_row14_col0\" class=\"data row14 col0\" >smoking_status_never smoked</td>\n",
       "      <td id=\"T_9d01a_row14_col1\" class=\"data row14 col1\" >0.001926</td>\n",
       "    </tr>\n",
       "    <tr>\n",
       "      <th id=\"T_9d01a_level0_row15\" class=\"row_heading level0 row15\" >16</th>\n",
       "      <td id=\"T_9d01a_row15_col0\" class=\"data row15 col0\" >smoking_status_smokes</td>\n",
       "      <td id=\"T_9d01a_row15_col1\" class=\"data row15 col1\" >0.000388</td>\n",
       "    </tr>\n",
       "    <tr>\n",
       "      <th id=\"T_9d01a_level0_row16\" class=\"row_heading level0 row16\" >9</th>\n",
       "      <td id=\"T_9d01a_row16_col0\" class=\"data row16 col0\" >work_type_Never_worked</td>\n",
       "      <td id=\"T_9d01a_row16_col1\" class=\"data row16 col1\" >0.000000</td>\n",
       "    </tr>\n",
       "  </tbody>\n",
       "</table>\n"
      ],
      "text/plain": [
       "<pandas.io.formats.style.Styler at 0x238a9c790a0>"
      ]
     },
     "execution_count": 87,
     "metadata": {},
     "output_type": "execute_result"
    }
   ],
   "source": [
    "fi = feature_importance(model)\n",
    "fi.style.background_gradient(cmap='Blues')"
   ]
  },
  {
   "cell_type": "markdown",
   "id": "3f2ff0fc-89c1-402f-8428-848cf7e82ef5",
   "metadata": {},
   "source": [
    "# DNN (Deep Neural Network)"
   ]
  },
  {
   "cell_type": "markdown",
   "id": "e9a7084a-60c6-43f1-8f4d-6c3f191fb0b9",
   "metadata": {
    "tags": []
   },
   "source": [
    "# Splitting data again to get validation data for a DNN"
   ]
  },
  {
   "cell_type": "code",
   "execution_count": 88,
   "id": "32cb6f96-4749-4302-b03f-449b1b0550fc",
   "metadata": {},
   "outputs": [
    {
     "name": "stdout",
     "output_type": "stream",
     "text": [
      "(3576, 17) (1533, 17)\n",
      "(3576,) (1533,)\n"
     ]
    }
   ],
   "source": [
    "X_train, X_val_test, y_train, y_val_test = train_test_split(X, y, test_size=0.30, random_state=42, stratify=y)\n",
    "print(X_train.shape, X_val_test.shape)\n",
    "print(y_train.shape, y_val_test.shape)"
   ]
  },
  {
   "cell_type": "code",
   "execution_count": 89,
   "id": "e4ea5219-d081-46a8-bbef-69b22af612ee",
   "metadata": {},
   "outputs": [],
   "source": [
    "sc = MinMaxScaler()\n",
    "X_train = sc.fit_transform(X_train)\n",
    "X_val_test = sc.transform(X_val_test)"
   ]
  },
  {
   "cell_type": "code",
   "execution_count": 90,
   "id": "561d4ecf-dadf-4b18-9f4c-c9cc1dca6188",
   "metadata": {},
   "outputs": [
    {
     "name": "stdout",
     "output_type": "stream",
     "text": [
      "(3576, 17)\n"
     ]
    }
   ],
   "source": [
    "print(X_train.shape)"
   ]
  },
  {
   "cell_type": "code",
   "execution_count": 91,
   "id": "2ea9e51e-60f8-4d54-befe-0146ab828d16",
   "metadata": {},
   "outputs": [],
   "source": [
    "X_val, X_test, y_val, y_test = train_test_split(X_val_test, y_val_test, test_size=0.50, random_state=42, stratify=y_val_test)"
   ]
  },
  {
   "cell_type": "code",
   "execution_count": 92,
   "id": "dd192fee-27d7-4fc4-896d-eaf997dfcd3b",
   "metadata": {},
   "outputs": [],
   "source": [
    "from imblearn.over_sampling import SMOTE\n",
    "oversample = SMOTE(random_state=2022)\n",
    "X_train_res, y_train_res = oversample.fit_resample(X_train, y_train.ravel())"
   ]
  },
  {
   "cell_type": "code",
   "execution_count": 93,
   "id": "3cb46f1c-bf41-4119-9807-a9d69bd13c25",
   "metadata": {},
   "outputs": [],
   "source": [
    "# single feature extraction\n",
    "X_train_bmi = np.array(X_train[:, [data.columns.get_loc('bmi')]]).reshape(-1, 1)\n",
    "X_val_bmi =  np.array(X_val[:, [data.columns.get_loc('bmi')]]).reshape(-1, 1)\n",
    "X_test_bmi =  np.array(X_test[:, [data.columns.get_loc('bmi')]]).reshape(-1, 1)\n",
    "\n",
    "# single feature extraction with oversampling\n",
    "X_train_res_bmi = np.array(X_train_res[:, [data.columns.get_loc('bmi')]]).reshape(-1, 1)"
   ]
  },
  {
   "cell_type": "code",
   "execution_count": 94,
   "id": "67a2b6bb-4440-43b4-8c5b-53ce7955b824",
   "metadata": {},
   "outputs": [
    {
     "name": "stdout",
     "output_type": "stream",
     "text": [
      "stroke\n",
      "0         3402\n",
      "1          174\n",
      "dtype: int64\n",
      "stroke\n",
      "0         729\n",
      "1          37\n",
      "dtype: int64\n",
      "stroke\n",
      "0         729\n",
      "1          38\n",
      "dtype: int64\n"
     ]
    }
   ],
   "source": [
    "print(pd.DataFrame(y_train, columns=['stroke']).value_counts())\n",
    "print(pd.DataFrame(y_val, columns=['stroke']).value_counts())\n",
    "print(pd.DataFrame(y_test, columns=['stroke']).value_counts())"
   ]
  },
  {
   "cell_type": "markdown",
   "id": "8ca6ef62-c086-45cf-bdc2-6958782717fc",
   "metadata": {
    "tags": []
   },
   "source": [
    "## Imports and utility functions"
   ]
  },
  {
   "cell_type": "code",
   "execution_count": 95,
   "id": "7bbe48ba-5dec-4c2b-b130-b51a5bf4afb6",
   "metadata": {},
   "outputs": [],
   "source": [
    "from tensorflow.keras.models import Sequential\n",
    "from tensorflow.keras.layers import Dense, Dropout\n",
    "from tensorflow.keras.metrics import AUC\n",
    "from keras.regularizers import l2\n",
    "auc = AUC(name = 'auc')"
   ]
  },
  {
   "cell_type": "code",
   "execution_count": 96,
   "id": "11a36a26-80bb-401b-871f-9618a9691e43",
   "metadata": {},
   "outputs": [],
   "source": [
    "def plot_history(history):\n",
    "    n_epoch = range(1, len(history.history['loss']) + 1)\n",
    "\n",
    "    plt.figure(figsize=(12,6))\n",
    "\n",
    "    seaborn.lineplot(data=history.history, x=n_epoch, y='auc', label='auc')\n",
    "    seaborn.lineplot(data=history.history, x=n_epoch, y='val_auc', label='val_auc')\n",
    "    seaborn.lineplot(data=history.history, x=n_epoch, y='loss', label='loss')\n",
    "\n",
    "    plt.legend()\n",
    "    plt.ylim([0,1])\n",
    "    plt.ylabel(None)\n",
    "    plt.show()"
   ]
  },
  {
   "cell_type": "markdown",
   "id": "219d90b2-022e-4830-9e72-b911ca0d4328",
   "metadata": {},
   "source": [
    "## Single feature (BMI)"
   ]
  },
  {
   "cell_type": "code",
   "execution_count": 97,
   "id": "986ec76e-14ba-414c-9e6b-e0df79fa7aad",
   "metadata": {},
   "outputs": [],
   "source": [
    "model = Sequential()\n",
    "model.add(Dense(32, activation='relu', input_shape=(1,)))\n",
    "model.add(Dense(64, activation='relu'))\n",
    "model.add(Dense(64, activation='relu'))\n",
    "model.add(Dense(64, activation='relu'))\n",
    "model.add(Dense(32, activation='relu'))\n",
    "model.add(Dense(1, activation='sigmoid'))\n",
    "\n",
    "model.compile(\n",
    "    optimizer='adam', \n",
    "    loss='binary_crossentropy', \n",
    "        metrics=[auc])"
   ]
  },
  {
   "cell_type": "code",
   "execution_count": 98,
   "id": "81304332-80c0-40cb-b2c8-143784ae581b",
   "metadata": {},
   "outputs": [],
   "source": [
    "epochs = 30"
   ]
  },
  {
   "cell_type": "code",
   "execution_count": 99,
   "id": "2e14bd5d-c7b0-4f05-9674-518964224654",
   "metadata": {},
   "outputs": [
    {
     "name": "stdout",
     "output_type": "stream",
     "text": [
      "Epoch 1/30\n",
      "112/112 [==============================] - 1s 2ms/step - loss: 0.3147 - auc: 0.4854 - val_loss: 0.2035 - val_auc: 0.4277\n",
      "Epoch 2/30\n",
      "112/112 [==============================] - 0s 1ms/step - loss: 0.2022 - auc: 0.4532 - val_loss: 0.1998 - val_auc: 0.4390\n",
      "Epoch 3/30\n",
      "112/112 [==============================] - 0s 1ms/step - loss: 0.2000 - auc: 0.4190 - val_loss: 0.1989 - val_auc: 0.4283\n",
      "Epoch 4/30\n",
      "112/112 [==============================] - 0s 1ms/step - loss: 0.1997 - auc: 0.4414 - val_loss: 0.1971 - val_auc: 0.4346\n",
      "Epoch 5/30\n",
      "112/112 [==============================] - 0s 1ms/step - loss: 0.1982 - auc: 0.4637 - val_loss: 0.1961 - val_auc: 0.4333\n",
      "Epoch 6/30\n",
      "112/112 [==============================] - 0s 1ms/step - loss: 0.1971 - auc: 0.4626 - val_loss: 0.1950 - val_auc: 0.4313\n",
      "Epoch 7/30\n",
      "112/112 [==============================] - 0s 1ms/step - loss: 0.1952 - auc: 0.5338 - val_loss: 0.1962 - val_auc: 0.4991\n",
      "Epoch 8/30\n",
      "112/112 [==============================] - 0s 1ms/step - loss: 0.1965 - auc: 0.4901 - val_loss: 0.1945 - val_auc: 0.5617\n",
      "Epoch 9/30\n",
      "112/112 [==============================] - 0s 1ms/step - loss: 0.1951 - auc: 0.4852 - val_loss: 0.1925 - val_auc: 0.5597\n",
      "Epoch 10/30\n",
      "112/112 [==============================] - 0s 1ms/step - loss: 0.1949 - auc: 0.5374 - val_loss: 0.1923 - val_auc: 0.5750\n",
      "Epoch 11/30\n",
      "112/112 [==============================] - 0s 1ms/step - loss: 0.1940 - auc: 0.5413 - val_loss: 0.1912 - val_auc: 0.6307\n",
      "Epoch 12/30\n",
      "112/112 [==============================] - 0s 1ms/step - loss: 0.1920 - auc: 0.5878 - val_loss: 0.1906 - val_auc: 0.6264\n",
      "Epoch 13/30\n",
      "112/112 [==============================] - 0s 1ms/step - loss: 0.1917 - auc: 0.5887 - val_loss: 0.1895 - val_auc: 0.6458\n",
      "Epoch 14/30\n",
      "112/112 [==============================] - 0s 1ms/step - loss: 0.1916 - auc: 0.5847 - val_loss: 0.1897 - val_auc: 0.5790\n",
      "Epoch 15/30\n",
      "112/112 [==============================] - 0s 1ms/step - loss: 0.1914 - auc: 0.5907 - val_loss: 0.1894 - val_auc: 0.6323\n",
      "Epoch 16/30\n",
      "112/112 [==============================] - 0s 1ms/step - loss: 0.1907 - auc: 0.5988 - val_loss: 0.1884 - val_auc: 0.6318\n",
      "Epoch 17/30\n",
      "112/112 [==============================] - 0s 1ms/step - loss: 0.1901 - auc: 0.6134 - val_loss: 0.1967 - val_auc: 0.5665\n",
      "Epoch 18/30\n",
      "112/112 [==============================] - 0s 1ms/step - loss: 0.1931 - auc: 0.5476 - val_loss: 0.1881 - val_auc: 0.6341\n",
      "Epoch 19/30\n",
      "112/112 [==============================] - 0s 1ms/step - loss: 0.1892 - auc: 0.6263 - val_loss: 0.1890 - val_auc: 0.5754\n",
      "Epoch 20/30\n",
      "112/112 [==============================] - 0s 1ms/step - loss: 0.1895 - auc: 0.6232 - val_loss: 0.1909 - val_auc: 0.6551\n",
      "Epoch 21/30\n",
      "112/112 [==============================] - 0s 1ms/step - loss: 0.1903 - auc: 0.6093 - val_loss: 0.1889 - val_auc: 0.6525\n",
      "Epoch 22/30\n",
      "112/112 [==============================] - 0s 1ms/step - loss: 0.1897 - auc: 0.6145 - val_loss: 0.1868 - val_auc: 0.6492\n",
      "Epoch 23/30\n",
      "112/112 [==============================] - 0s 1ms/step - loss: 0.1891 - auc: 0.6225 - val_loss: 0.1888 - val_auc: 0.6143\n",
      "Epoch 24/30\n",
      "112/112 [==============================] - 0s 1ms/step - loss: 0.1896 - auc: 0.6261 - val_loss: 0.1881 - val_auc: 0.6230\n",
      "Epoch 25/30\n",
      "112/112 [==============================] - 0s 1ms/step - loss: 0.1886 - auc: 0.6335 - val_loss: 0.1911 - val_auc: 0.6529\n",
      "Epoch 26/30\n",
      "112/112 [==============================] - 0s 1ms/step - loss: 0.1889 - auc: 0.6202 - val_loss: 0.1882 - val_auc: 0.6247\n",
      "Epoch 27/30\n",
      "112/112 [==============================] - 0s 1ms/step - loss: 0.1893 - auc: 0.6288 - val_loss: 0.1867 - val_auc: 0.6580\n",
      "Epoch 28/30\n",
      "112/112 [==============================] - 0s 1ms/step - loss: 0.1886 - auc: 0.6230 - val_loss: 0.1881 - val_auc: 0.6093\n",
      "Epoch 29/30\n",
      "112/112 [==============================] - 0s 1ms/step - loss: 0.1896 - auc: 0.6198 - val_loss: 0.1877 - val_auc: 0.6595\n",
      "Epoch 30/30\n",
      "112/112 [==============================] - 0s 1ms/step - loss: 0.1893 - auc: 0.6209 - val_loss: 0.1876 - val_auc: 0.6467\n"
     ]
    }
   ],
   "source": [
    "history = model.fit(X_train_bmi, y_train,\n",
    "             validation_data=(X_val_bmi, y_val),\n",
    "             epochs=epochs,\n",
    "             batch_size=32)"
   ]
  },
  {
   "cell_type": "code",
   "execution_count": 100,
   "id": "6b60aa53-3147-43b8-8fa0-cde05a59a1b2",
   "metadata": {},
   "outputs": [
    {
     "data": {
      "image/png": "[encoded data removed]",
      "text/plain": [
       "<Figure size 1200x600 with 1 Axes>"
      ]
     },
     "metadata": {},
     "output_type": "display_data"
    }
   ],
   "source": [
    "plot_history(history)"
   ]
  },
  {
   "cell_type": "code",
   "execution_count": 101,
   "id": "8eea2d46-f415-4f3e-9e84-536cac72e93c",
   "metadata": {},
   "outputs": [
    {
     "name": "stdout",
     "output_type": "stream",
     "text": [
      "24/24 [==============================] - 0s 740us/step - loss: 0.1984 - auc: 0.5522\n"
     ]
    },
    {
     "data": {
      "text/plain": [
       "[0.19840016961097717, 0.5521984100341797]"
      ]
     },
     "execution_count": 101,
     "metadata": {},
     "output_type": "execute_result"
    }
   ],
   "source": [
    "model.evaluate(X_test_bmi, y_test)"
   ]
  },
  {
   "cell_type": "markdown",
   "id": "35000197-5de4-48e1-b4f9-a32821c738a0",
   "metadata": {
    "tags": []
   },
   "source": [
    "## All features  "
   ]
  },
  {
   "cell_type": "code",
   "execution_count": 102,
   "id": "322c77f5-f4c1-49e0-af99-4778a33b50e6",
   "metadata": {},
   "outputs": [],
   "source": [
    "del model\n",
    "del history"
   ]
  },
  {
   "cell_type": "code",
   "execution_count": 103,
   "id": "23448849-27ac-4d39-9d6e-b98cab5455dd",
   "metadata": {
    "tags": []
   },
   "outputs": [],
   "source": [
    "model = Sequential()\n",
    "model.add(Dense(32, activation='relu', kernel_regularizer=l2(0.01), input_shape=(17,)))\n",
    "model.add(Dense(32, activation='relu', kernel_regularizer=l2(0.01)))\n",
    "model.add(Dropout(0.6))\n",
    "model.add(Dense(1, activation='sigmoid'))\n",
    "\n",
    "model.compile(\n",
    "    optimizer='adam', \n",
    "    loss='binary_crossentropy',\n",
    "    metrics=[auc])"
   ]
  },
  {
   "cell_type": "code",
   "execution_count": 104,
   "id": "4e2ccdf1-fc36-4490-9009-6f419053851c",
   "metadata": {},
   "outputs": [],
   "source": [
    "epochs = 150"
   ]
  },
  {
   "cell_type": "code",
   "execution_count": 105,
   "id": "3831d434-fc3c-4057-99ad-e08b34fe8d0e",
   "metadata": {},
   "outputs": [
    {
     "name": "stdout",
     "output_type": "stream",
     "text": [
      "Epoch 1/150\n",
      "112/112 [==============================] - 1s 2ms/step - loss: 0.9627 - auc: 0.4902 - val_loss: 0.5602 - val_auc: 0.3310\n",
      "Epoch 2/150\n",
      "112/112 [==============================] - 0s 1ms/step - loss: 0.5123 - auc: 0.4490 - val_loss: 0.3951 - val_auc: 0.3807\n",
      "Epoch 3/150\n",
      "112/112 [==============================] - 0s 1ms/step - loss: 0.3995 - auc: 0.4721 - val_loss: 0.3178 - val_auc: 0.4695\n",
      "Epoch 4/150\n",
      "112/112 [==============================] - 0s 1ms/step - loss: 0.3286 - auc: 0.5361 - val_loss: 0.2753 - val_auc: 0.5346\n",
      "Epoch 5/150\n",
      "112/112 [==============================] - 0s 1ms/step - loss: 0.2859 - auc: 0.5900 - val_loss: 0.2496 - val_auc: 0.5772\n",
      "Epoch 6/150\n",
      "112/112 [==============================] - 0s 1ms/step - loss: 0.2675 - auc: 0.5694 - val_loss: 0.2340 - val_auc: 0.6644\n",
      "Epoch 7/150\n",
      "112/112 [==============================] - 0s 1ms/step - loss: 0.2554 - auc: 0.5711 - val_loss: 0.2211 - val_auc: 0.6781\n",
      "Epoch 8/150\n",
      "112/112 [==============================] - 0s 1ms/step - loss: 0.2392 - auc: 0.6115 - val_loss: 0.2121 - val_auc: 0.7053\n",
      "Epoch 9/150\n",
      "112/112 [==============================] - 0s 1ms/step - loss: 0.2408 - auc: 0.5834 - val_loss: 0.2061 - val_auc: 0.7254\n",
      "Epoch 10/150\n",
      "112/112 [==============================] - 0s 1ms/step - loss: 0.2315 - auc: 0.5975 - val_loss: 0.2012 - val_auc: 0.7449\n",
      "Epoch 11/150\n",
      "112/112 [==============================] - 0s 1ms/step - loss: 0.2239 - auc: 0.6098 - val_loss: 0.1981 - val_auc: 0.7529\n",
      "Epoch 12/150\n",
      "112/112 [==============================] - 0s 1ms/step - loss: 0.2178 - auc: 0.6321 - val_loss: 0.1959 - val_auc: 0.7594\n",
      "Epoch 13/150\n",
      "112/112 [==============================] - 0s 1ms/step - loss: 0.2122 - auc: 0.6539 - val_loss: 0.1950 - val_auc: 0.7582\n",
      "Epoch 14/150\n",
      "112/112 [==============================] - 0s 1ms/step - loss: 0.2172 - auc: 0.6166 - val_loss: 0.1929 - val_auc: 0.7631\n",
      "Epoch 15/150\n",
      "112/112 [==============================] - 0s 1ms/step - loss: 0.2158 - auc: 0.6314 - val_loss: 0.1923 - val_auc: 0.7706\n",
      "Epoch 16/150\n",
      "112/112 [==============================] - 0s 1ms/step - loss: 0.2180 - auc: 0.6021 - val_loss: 0.1909 - val_auc: 0.7815\n",
      "Epoch 17/150\n",
      "112/112 [==============================] - 0s 1ms/step - loss: 0.2152 - auc: 0.6284 - val_loss: 0.1900 - val_auc: 0.7939\n",
      "Epoch 18/150\n",
      "112/112 [==============================] - 0s 1ms/step - loss: 0.2102 - auc: 0.6370 - val_loss: 0.1899 - val_auc: 0.7843\n",
      "Epoch 19/150\n",
      "112/112 [==============================] - 0s 1ms/step - loss: 0.2160 - auc: 0.6033 - val_loss: 0.1890 - val_auc: 0.7863\n",
      "Epoch 20/150\n",
      "112/112 [==============================] - 0s 1ms/step - loss: 0.2090 - auc: 0.6353 - val_loss: 0.1887 - val_auc: 0.7970\n",
      "Epoch 21/150\n",
      "112/112 [==============================] - 0s 1ms/step - loss: 0.2044 - auc: 0.6620 - val_loss: 0.1884 - val_auc: 0.7958\n",
      "Epoch 22/150\n",
      "112/112 [==============================] - 0s 1ms/step - loss: 0.2045 - auc: 0.6629 - val_loss: 0.1875 - val_auc: 0.7954\n",
      "Epoch 23/150\n",
      "112/112 [==============================] - 0s 1ms/step - loss: 0.2019 - auc: 0.6802 - val_loss: 0.1882 - val_auc: 0.7952\n",
      "Epoch 24/150\n",
      "112/112 [==============================] - 0s 1000us/step - loss: 0.2054 - auc: 0.6508 - val_loss: 0.1870 - val_auc: 0.8013\n",
      "Epoch 25/150\n",
      "112/112 [==============================] - 0s 989us/step - loss: 0.2035 - auc: 0.6673 - val_loss: 0.1867 - val_auc: 0.8004\n",
      "Epoch 26/150\n",
      "112/112 [==============================] - 0s 992us/step - loss: 0.2013 - auc: 0.6878 - val_loss: 0.1863 - val_auc: 0.8032\n",
      "Epoch 27/150\n",
      "112/112 [==============================] - 0s 1ms/step - loss: 0.2018 - auc: 0.6723 - val_loss: 0.1877 - val_auc: 0.7873\n",
      "Epoch 28/150\n",
      "112/112 [==============================] - 0s 1ms/step - loss: 0.2043 - auc: 0.6629 - val_loss: 0.1863 - val_auc: 0.7993\n",
      "Epoch 29/150\n",
      "112/112 [==============================] - 0s 1ms/step - loss: 0.1966 - auc: 0.7080 - val_loss: 0.1860 - val_auc: 0.8023\n",
      "Epoch 30/150\n",
      "112/112 [==============================] - 0s 1ms/step - loss: 0.2005 - auc: 0.6913 - val_loss: 0.1853 - val_auc: 0.8057\n",
      "Epoch 31/150\n",
      "112/112 [==============================] - 0s 1ms/step - loss: 0.1985 - auc: 0.6960 - val_loss: 0.1858 - val_auc: 0.7997\n",
      "Epoch 32/150\n",
      "112/112 [==============================] - 0s 1ms/step - loss: 0.1966 - auc: 0.7131 - val_loss: 0.1848 - val_auc: 0.8070\n",
      "Epoch 33/150\n",
      "112/112 [==============================] - 0s 992us/step - loss: 0.1959 - auc: 0.7107 - val_loss: 0.1844 - val_auc: 0.8082\n",
      "Epoch 34/150\n",
      "112/112 [==============================] - 0s 1ms/step - loss: 0.1990 - auc: 0.6960 - val_loss: 0.1841 - val_auc: 0.8050\n",
      "Epoch 35/150\n",
      "112/112 [==============================] - 0s 1ms/step - loss: 0.1957 - auc: 0.7157 - val_loss: 0.1844 - val_auc: 0.8115\n",
      "Epoch 36/150\n",
      "112/112 [==============================] - 0s 1ms/step - loss: 0.1968 - auc: 0.7045 - val_loss: 0.1848 - val_auc: 0.8030\n",
      "Epoch 37/150\n",
      "112/112 [==============================] - 0s 1ms/step - loss: 0.1969 - auc: 0.7152 - val_loss: 0.1839 - val_auc: 0.8034\n",
      "Epoch 38/150\n",
      "112/112 [==============================] - 0s 1ms/step - loss: 0.1979 - auc: 0.7025 - val_loss: 0.1837 - val_auc: 0.8143\n",
      "Epoch 39/150\n",
      "112/112 [==============================] - 0s 1ms/step - loss: 0.1966 - auc: 0.7116 - val_loss: 0.1827 - val_auc: 0.8181\n",
      "Epoch 40/150\n",
      "112/112 [==============================] - 0s 1ms/step - loss: 0.1968 - auc: 0.7079 - val_loss: 0.1832 - val_auc: 0.8076\n",
      "Epoch 41/150\n",
      "112/112 [==============================] - 0s 1ms/step - loss: 0.1964 - auc: 0.7121 - val_loss: 0.1830 - val_auc: 0.8052\n",
      "Epoch 42/150\n",
      "112/112 [==============================] - 0s 1ms/step - loss: 0.1926 - auc: 0.7382 - val_loss: 0.1832 - val_auc: 0.8139\n",
      "Epoch 43/150\n",
      "112/112 [==============================] - 0s 989us/step - loss: 0.1929 - auc: 0.7317 - val_loss: 0.1861 - val_auc: 0.8055\n",
      "Epoch 44/150\n",
      "112/112 [==============================] - 0s 1ms/step - loss: 0.1932 - auc: 0.7358 - val_loss: 0.1844 - val_auc: 0.8079\n",
      "Epoch 45/150\n",
      "112/112 [==============================] - 0s 1ms/step - loss: 0.1953 - auc: 0.7122 - val_loss: 0.1827 - val_auc: 0.8164\n",
      "Epoch 46/150\n",
      "112/112 [==============================] - 0s 1ms/step - loss: 0.1910 - auc: 0.7465 - val_loss: 0.1825 - val_auc: 0.8093\n",
      "Epoch 47/150\n",
      "112/112 [==============================] - 0s 1ms/step - loss: 0.1933 - auc: 0.7278 - val_loss: 0.1820 - val_auc: 0.8118\n",
      "Epoch 48/150\n",
      "112/112 [==============================] - 0s 1ms/step - loss: 0.1901 - auc: 0.7461 - val_loss: 0.1825 - val_auc: 0.8102\n",
      "Epoch 49/150\n",
      "112/112 [==============================] - 0s 1ms/step - loss: 0.1905 - auc: 0.7500 - val_loss: 0.1821 - val_auc: 0.8134\n",
      "Epoch 50/150\n",
      "112/112 [==============================] - 0s 1ms/step - loss: 0.1916 - auc: 0.7405 - val_loss: 0.1831 - val_auc: 0.8167\n",
      "Epoch 51/150\n",
      "112/112 [==============================] - 0s 1ms/step - loss: 0.1866 - auc: 0.7699 - val_loss: 0.1815 - val_auc: 0.8086\n",
      "Epoch 52/150\n",
      "112/112 [==============================] - 0s 1ms/step - loss: 0.1898 - auc: 0.7488 - val_loss: 0.1820 - val_auc: 0.8035\n",
      "Epoch 53/150\n",
      "112/112 [==============================] - 0s 1ms/step - loss: 0.1888 - auc: 0.7561 - val_loss: 0.1820 - val_auc: 0.8118\n",
      "Epoch 54/150\n",
      "112/112 [==============================] - 0s 1ms/step - loss: 0.1894 - auc: 0.7521 - val_loss: 0.1809 - val_auc: 0.8176\n",
      "Epoch 55/150\n",
      "112/112 [==============================] - 0s 1ms/step - loss: 0.1889 - auc: 0.7561 - val_loss: 0.1797 - val_auc: 0.8185\n",
      "Epoch 56/150\n",
      "112/112 [==============================] - 0s 1ms/step - loss: 0.1893 - auc: 0.7537 - val_loss: 0.1797 - val_auc: 0.8181\n",
      "Epoch 57/150\n",
      "112/112 [==============================] - 0s 1ms/step - loss: 0.1867 - auc: 0.7703 - val_loss: 0.1796 - val_auc: 0.8185\n",
      "Epoch 58/150\n",
      "112/112 [==============================] - 0s 999us/step - loss: 0.1858 - auc: 0.7771 - val_loss: 0.1794 - val_auc: 0.8184\n",
      "Epoch 59/150\n",
      "112/112 [==============================] - 0s 1ms/step - loss: 0.1866 - auc: 0.7727 - val_loss: 0.1793 - val_auc: 0.8154\n",
      "Epoch 60/150\n",
      "112/112 [==============================] - 0s 1ms/step - loss: 0.1867 - auc: 0.7637 - val_loss: 0.1812 - val_auc: 0.8179\n",
      "Epoch 61/150\n",
      "112/112 [==============================] - 0s 1ms/step - loss: 0.1868 - auc: 0.7653 - val_loss: 0.1784 - val_auc: 0.8238\n",
      "Epoch 62/150\n",
      "112/112 [==============================] - 0s 990us/step - loss: 0.1866 - auc: 0.7674 - val_loss: 0.1785 - val_auc: 0.8276\n",
      "Epoch 63/150\n",
      "112/112 [==============================] - 0s 1ms/step - loss: 0.1862 - auc: 0.7817 - val_loss: 0.1787 - val_auc: 0.8177\n",
      "Epoch 64/150\n",
      "112/112 [==============================] - 0s 1ms/step - loss: 0.1847 - auc: 0.7820 - val_loss: 0.1795 - val_auc: 0.8184\n",
      "Epoch 65/150\n",
      "112/112 [==============================] - 0s 1ms/step - loss: 0.1835 - auc: 0.7853 - val_loss: 0.1784 - val_auc: 0.8186\n",
      "Epoch 66/150\n",
      "112/112 [==============================] - 0s 1ms/step - loss: 0.1858 - auc: 0.7787 - val_loss: 0.1805 - val_auc: 0.8167\n",
      "Epoch 67/150\n",
      "112/112 [==============================] - 0s 1ms/step - loss: 0.1842 - auc: 0.7890 - val_loss: 0.1796 - val_auc: 0.8102\n",
      "Epoch 68/150\n",
      "112/112 [==============================] - 0s 1ms/step - loss: 0.1859 - auc: 0.7729 - val_loss: 0.1786 - val_auc: 0.8162\n",
      "Epoch 69/150\n",
      "112/112 [==============================] - 0s 1ms/step - loss: 0.1826 - auc: 0.7923 - val_loss: 0.1784 - val_auc: 0.8155\n",
      "Epoch 70/150\n",
      "112/112 [==============================] - 0s 1ms/step - loss: 0.1843 - auc: 0.7860 - val_loss: 0.1782 - val_auc: 0.8191\n",
      "Epoch 71/150\n",
      "112/112 [==============================] - 0s 1ms/step - loss: 0.1837 - auc: 0.7837 - val_loss: 0.1779 - val_auc: 0.8227\n",
      "Epoch 72/150\n",
      "112/112 [==============================] - 0s 1ms/step - loss: 0.1858 - auc: 0.7711 - val_loss: 0.1773 - val_auc: 0.8224\n",
      "Epoch 73/150\n",
      "112/112 [==============================] - 0s 1ms/step - loss: 0.1845 - auc: 0.7804 - val_loss: 0.1773 - val_auc: 0.8199\n",
      "Epoch 74/150\n",
      "112/112 [==============================] - 0s 1ms/step - loss: 0.1848 - auc: 0.7740 - val_loss: 0.1779 - val_auc: 0.8217\n",
      "Epoch 75/150\n",
      "112/112 [==============================] - 0s 1ms/step - loss: 0.1824 - auc: 0.7957 - val_loss: 0.1778 - val_auc: 0.8266\n",
      "Epoch 76/150\n",
      "112/112 [==============================] - 0s 1ms/step - loss: 0.1810 - auc: 0.7993 - val_loss: 0.1791 - val_auc: 0.8187\n",
      "Epoch 77/150\n",
      "112/112 [==============================] - 0s 1ms/step - loss: 0.1839 - auc: 0.7874 - val_loss: 0.1763 - val_auc: 0.8223\n",
      "Epoch 78/150\n",
      "112/112 [==============================] - 0s 1ms/step - loss: 0.1832 - auc: 0.7839 - val_loss: 0.1772 - val_auc: 0.8234\n",
      "Epoch 79/150\n",
      "112/112 [==============================] - 0s 1ms/step - loss: 0.1819 - auc: 0.7948 - val_loss: 0.1766 - val_auc: 0.8263\n",
      "Epoch 80/150\n",
      "112/112 [==============================] - 0s 1ms/step - loss: 0.1815 - auc: 0.7981 - val_loss: 0.1758 - val_auc: 0.8293\n",
      "Epoch 81/150\n",
      "112/112 [==============================] - 0s 1ms/step - loss: 0.1807 - auc: 0.7967 - val_loss: 0.1761 - val_auc: 0.8244\n",
      "Epoch 82/150\n",
      "112/112 [==============================] - 0s 1ms/step - loss: 0.1811 - auc: 0.7973 - val_loss: 0.1759 - val_auc: 0.8214\n",
      "Epoch 83/150\n",
      "112/112 [==============================] - 0s 1ms/step - loss: 0.1815 - auc: 0.7978 - val_loss: 0.1763 - val_auc: 0.8179\n",
      "Epoch 84/150\n",
      "112/112 [==============================] - 0s 1ms/step - loss: 0.1831 - auc: 0.7861 - val_loss: 0.1759 - val_auc: 0.8235\n",
      "Epoch 85/150\n",
      "112/112 [==============================] - 0s 1ms/step - loss: 0.1820 - auc: 0.7954 - val_loss: 0.1760 - val_auc: 0.8261\n",
      "Epoch 86/150\n",
      "112/112 [==============================] - 0s 1ms/step - loss: 0.1812 - auc: 0.7946 - val_loss: 0.1771 - val_auc: 0.8316\n",
      "Epoch 87/150\n",
      "112/112 [==============================] - 0s 1ms/step - loss: 0.1822 - auc: 0.7928 - val_loss: 0.1754 - val_auc: 0.8237\n",
      "Epoch 88/150\n",
      "112/112 [==============================] - 0s 1ms/step - loss: 0.1802 - auc: 0.8089 - val_loss: 0.1752 - val_auc: 0.8252\n",
      "Epoch 89/150\n",
      "112/112 [==============================] - 0s 1ms/step - loss: 0.1817 - auc: 0.7896 - val_loss: 0.1749 - val_auc: 0.8275\n",
      "Epoch 90/150\n",
      "112/112 [==============================] - 0s 1ms/step - loss: 0.1807 - auc: 0.7958 - val_loss: 0.1760 - val_auc: 0.8279\n",
      "Epoch 91/150\n",
      "112/112 [==============================] - 0s 1ms/step - loss: 0.1784 - auc: 0.8084 - val_loss: 0.1746 - val_auc: 0.8230\n",
      "Epoch 92/150\n",
      "112/112 [==============================] - 0s 1ms/step - loss: 0.1822 - auc: 0.7877 - val_loss: 0.1747 - val_auc: 0.8284\n",
      "Epoch 93/150\n",
      "112/112 [==============================] - 0s 1ms/step - loss: 0.1814 - auc: 0.7948 - val_loss: 0.1767 - val_auc: 0.8270\n",
      "Epoch 94/150\n",
      "112/112 [==============================] - 0s 1ms/step - loss: 0.1793 - auc: 0.8029 - val_loss: 0.1745 - val_auc: 0.8242\n",
      "Epoch 95/150\n",
      "112/112 [==============================] - 0s 1ms/step - loss: 0.1809 - auc: 0.7941 - val_loss: 0.1739 - val_auc: 0.8277\n",
      "Epoch 96/150\n",
      "112/112 [==============================] - 0s 1ms/step - loss: 0.1774 - auc: 0.8080 - val_loss: 0.1742 - val_auc: 0.8278\n",
      "Epoch 97/150\n",
      "112/112 [==============================] - 0s 1ms/step - loss: 0.1796 - auc: 0.8041 - val_loss: 0.1752 - val_auc: 0.8288\n",
      "Epoch 98/150\n",
      "112/112 [==============================] - 0s 1ms/step - loss: 0.1795 - auc: 0.8003 - val_loss: 0.1745 - val_auc: 0.8292\n",
      "Epoch 99/150\n",
      "112/112 [==============================] - 0s 1ms/step - loss: 0.1772 - auc: 0.8129 - val_loss: 0.1751 - val_auc: 0.8227\n",
      "Epoch 100/150\n",
      "112/112 [==============================] - 0s 1ms/step - loss: 0.1803 - auc: 0.7937 - val_loss: 0.1757 - val_auc: 0.8286\n",
      "Epoch 101/150\n",
      "112/112 [==============================] - 0s 1ms/step - loss: 0.1794 - auc: 0.8009 - val_loss: 0.1748 - val_auc: 0.8287\n",
      "Epoch 102/150\n",
      "112/112 [==============================] - 0s 1ms/step - loss: 0.1782 - auc: 0.8046 - val_loss: 0.1777 - val_auc: 0.8341\n",
      "Epoch 103/150\n",
      "112/112 [==============================] - 0s 1ms/step - loss: 0.1782 - auc: 0.8078 - val_loss: 0.1746 - val_auc: 0.8314\n",
      "Epoch 104/150\n",
      "112/112 [==============================] - 0s 1ms/step - loss: 0.1783 - auc: 0.8100 - val_loss: 0.1733 - val_auc: 0.8311\n",
      "Epoch 105/150\n",
      "112/112 [==============================] - 0s 1ms/step - loss: 0.1771 - auc: 0.8101 - val_loss: 0.1761 - val_auc: 0.8264\n",
      "Epoch 106/150\n",
      "112/112 [==============================] - 0s 1ms/step - loss: 0.1787 - auc: 0.8072 - val_loss: 0.1759 - val_auc: 0.8313\n",
      "Epoch 107/150\n",
      "112/112 [==============================] - 0s 1ms/step - loss: 0.1766 - auc: 0.8138 - val_loss: 0.1741 - val_auc: 0.8264\n",
      "Epoch 108/150\n",
      "112/112 [==============================] - 0s 1ms/step - loss: 0.1805 - auc: 0.7922 - val_loss: 0.1735 - val_auc: 0.8265\n",
      "Epoch 109/150\n",
      "112/112 [==============================] - 0s 1ms/step - loss: 0.1790 - auc: 0.8056 - val_loss: 0.1741 - val_auc: 0.8273\n",
      "Epoch 110/150\n",
      "112/112 [==============================] - 0s 1ms/step - loss: 0.1766 - auc: 0.8132 - val_loss: 0.1742 - val_auc: 0.8199\n",
      "Epoch 111/150\n",
      "112/112 [==============================] - 0s 1ms/step - loss: 0.1770 - auc: 0.8171 - val_loss: 0.1730 - val_auc: 0.8289\n",
      "Epoch 112/150\n",
      "112/112 [==============================] - 0s 1ms/step - loss: 0.1759 - auc: 0.8150 - val_loss: 0.1732 - val_auc: 0.8263\n",
      "Epoch 113/150\n",
      "112/112 [==============================] - 0s 1ms/step - loss: 0.1753 - auc: 0.8176 - val_loss: 0.1738 - val_auc: 0.8265\n",
      "Epoch 114/150\n",
      "112/112 [==============================] - 0s 1ms/step - loss: 0.1779 - auc: 0.8107 - val_loss: 0.1731 - val_auc: 0.8270\n",
      "Epoch 115/150\n",
      "112/112 [==============================] - 0s 1ms/step - loss: 0.1763 - auc: 0.8127 - val_loss: 0.1744 - val_auc: 0.8277\n",
      "Epoch 116/150\n",
      "112/112 [==============================] - 0s 1ms/step - loss: 0.1778 - auc: 0.8046 - val_loss: 0.1727 - val_auc: 0.8253\n",
      "Epoch 117/150\n",
      "112/112 [==============================] - 0s 1ms/step - loss: 0.1767 - auc: 0.8184 - val_loss: 0.1723 - val_auc: 0.8272\n",
      "Epoch 118/150\n",
      "112/112 [==============================] - 0s 1ms/step - loss: 0.1765 - auc: 0.8137 - val_loss: 0.1735 - val_auc: 0.8247\n",
      "Epoch 119/150\n",
      "112/112 [==============================] - 0s 1ms/step - loss: 0.1745 - auc: 0.8206 - val_loss: 0.1724 - val_auc: 0.8288\n",
      "Epoch 120/150\n",
      "112/112 [==============================] - 0s 1ms/step - loss: 0.1764 - auc: 0.8134 - val_loss: 0.1715 - val_auc: 0.8324\n",
      "Epoch 121/150\n",
      "112/112 [==============================] - 0s 1ms/step - loss: 0.1774 - auc: 0.8053 - val_loss: 0.1744 - val_auc: 0.8292\n",
      "Epoch 122/150\n",
      "112/112 [==============================] - 0s 1ms/step - loss: 0.1755 - auc: 0.8162 - val_loss: 0.1718 - val_auc: 0.8351\n",
      "Epoch 123/150\n",
      "112/112 [==============================] - 0s 1ms/step - loss: 0.1758 - auc: 0.8164 - val_loss: 0.1721 - val_auc: 0.8326\n",
      "Epoch 124/150\n",
      "112/112 [==============================] - 0s 1ms/step - loss: 0.1757 - auc: 0.8107 - val_loss: 0.1720 - val_auc: 0.8290\n",
      "Epoch 125/150\n",
      "112/112 [==============================] - 0s 1ms/step - loss: 0.1760 - auc: 0.8154 - val_loss: 0.1720 - val_auc: 0.8297\n",
      "Epoch 126/150\n",
      "112/112 [==============================] - 0s 1ms/step - loss: 0.1748 - auc: 0.8194 - val_loss: 0.1722 - val_auc: 0.8335\n",
      "Epoch 127/150\n",
      "112/112 [==============================] - 0s 1ms/step - loss: 0.1739 - auc: 0.8196 - val_loss: 0.1729 - val_auc: 0.8303\n",
      "Epoch 128/150\n",
      "112/112 [==============================] - 0s 1ms/step - loss: 0.1729 - auc: 0.8264 - val_loss: 0.1728 - val_auc: 0.8315\n",
      "Epoch 129/150\n",
      "112/112 [==============================] - 0s 1ms/step - loss: 0.1760 - auc: 0.8112 - val_loss: 0.1738 - val_auc: 0.8299\n",
      "Epoch 130/150\n",
      "112/112 [==============================] - 0s 1ms/step - loss: 0.1757 - auc: 0.8197 - val_loss: 0.1724 - val_auc: 0.8259\n",
      "Epoch 131/150\n",
      "112/112 [==============================] - 0s 1ms/step - loss: 0.1747 - auc: 0.8142 - val_loss: 0.1717 - val_auc: 0.8324\n",
      "Epoch 132/150\n",
      "112/112 [==============================] - 0s 1ms/step - loss: 0.1754 - auc: 0.8134 - val_loss: 0.1708 - val_auc: 0.8329\n",
      "Epoch 133/150\n",
      "112/112 [==============================] - 0s 1ms/step - loss: 0.1738 - auc: 0.8157 - val_loss: 0.1712 - val_auc: 0.8278\n",
      "Epoch 134/150\n",
      "112/112 [==============================] - 0s 1ms/step - loss: 0.1747 - auc: 0.8133 - val_loss: 0.1722 - val_auc: 0.8298\n",
      "Epoch 135/150\n",
      "112/112 [==============================] - 0s 1ms/step - loss: 0.1756 - auc: 0.8067 - val_loss: 0.1735 - val_auc: 0.8292\n",
      "Epoch 136/150\n",
      "112/112 [==============================] - 0s 1ms/step - loss: 0.1754 - auc: 0.8141 - val_loss: 0.1726 - val_auc: 0.8275\n",
      "Epoch 137/150\n",
      "112/112 [==============================] - 0s 1ms/step - loss: 0.1738 - auc: 0.8208 - val_loss: 0.1720 - val_auc: 0.8314\n",
      "Epoch 138/150\n",
      "112/112 [==============================] - 0s 1ms/step - loss: 0.1754 - auc: 0.8175 - val_loss: 0.1708 - val_auc: 0.8303\n",
      "Epoch 139/150\n",
      "112/112 [==============================] - 0s 1ms/step - loss: 0.1761 - auc: 0.8086 - val_loss: 0.1711 - val_auc: 0.8315\n",
      "Epoch 140/150\n",
      "112/112 [==============================] - 0s 1ms/step - loss: 0.1734 - auc: 0.8205 - val_loss: 0.1710 - val_auc: 0.8291\n",
      "Epoch 141/150\n",
      "112/112 [==============================] - 0s 1ms/step - loss: 0.1732 - auc: 0.8216 - val_loss: 0.1705 - val_auc: 0.8303\n",
      "Epoch 142/150\n",
      "112/112 [==============================] - 0s 1ms/step - loss: 0.1730 - auc: 0.8253 - val_loss: 0.1709 - val_auc: 0.8326\n",
      "Epoch 143/150\n",
      "112/112 [==============================] - 0s 1ms/step - loss: 0.1750 - auc: 0.8156 - val_loss: 0.1719 - val_auc: 0.8324\n",
      "Epoch 144/150\n",
      "112/112 [==============================] - 0s 1ms/step - loss: 0.1738 - auc: 0.8173 - val_loss: 0.1719 - val_auc: 0.8268\n",
      "Epoch 145/150\n",
      "112/112 [==============================] - 0s 1ms/step - loss: 0.1742 - auc: 0.8152 - val_loss: 0.1722 - val_auc: 0.8315\n",
      "Epoch 146/150\n",
      "112/112 [==============================] - 0s 1ms/step - loss: 0.1727 - auc: 0.8191 - val_loss: 0.1702 - val_auc: 0.8355\n",
      "Epoch 147/150\n",
      "112/112 [==============================] - 0s 1ms/step - loss: 0.1729 - auc: 0.8239 - val_loss: 0.1711 - val_auc: 0.8328\n",
      "Epoch 148/150\n",
      "112/112 [==============================] - 0s 1ms/step - loss: 0.1744 - auc: 0.8147 - val_loss: 0.1710 - val_auc: 0.8229\n",
      "Epoch 149/150\n",
      "112/112 [==============================] - 0s 1ms/step - loss: 0.1735 - auc: 0.8175 - val_loss: 0.1715 - val_auc: 0.8351\n",
      "Epoch 150/150\n",
      "112/112 [==============================] - 0s 1ms/step - loss: 0.1730 - auc: 0.8209 - val_loss: 0.1705 - val_auc: 0.8274\n"
     ]
    }
   ],
   "source": [
    "history = model.fit(X_train, y_train,\n",
    "             validation_data=(X_val, y_val),\n",
    "             epochs=epochs,\n",
    "             batch_size=32)"
   ]
  },
  {
   "cell_type": "code",
   "execution_count": 106,
   "id": "8d194cdc-adc5-4700-ae44-0c0ae4a7e38b",
   "metadata": {
    "tags": []
   },
   "outputs": [
    {
     "data": {
      "image/png": "[encoded data removed]",
      "text/plain": [
       "<Figure size 1200x600 with 1 Axes>"
      ]
     },
     "metadata": {},
     "output_type": "display_data"
    }
   ],
   "source": [
    "plot_history(history)"
   ]
  },
  {
   "cell_type": "code",
   "execution_count": 107,
   "id": "573c70fc-612f-4a23-a8cb-2b53d0dcf33f",
   "metadata": {},
   "outputs": [
    {
     "name": "stdout",
     "output_type": "stream",
     "text": [
      "24/24 [==============================] - 0s 653us/step - loss: 0.1719 - auc: 0.8361\n"
     ]
    },
    {
     "data": {
      "text/plain": [
       "[0.17186638712882996, 0.8360587358474731]"
      ]
     },
     "execution_count": 107,
     "metadata": {},
     "output_type": "execute_result"
    }
   ],
   "source": [
    "model.evaluate(X_test, y_test)"
   ]
  },
  {
   "cell_type": "markdown",
   "id": "e0345c56-7d60-4c5e-8b94-1e20d267121d",
   "metadata": {},
   "source": [
    "## Single feature with oversampling (BMI)"
   ]
  },
  {
   "cell_type": "code",
   "execution_count": 108,
   "id": "5c0d2ad9-39cb-4ecf-b79f-73513b49dc7f",
   "metadata": {},
   "outputs": [],
   "source": [
    "del model\n",
    "del history"
   ]
  },
  {
   "cell_type": "code",
   "execution_count": 109,
   "id": "6e3ee286-70ce-4784-bfc0-1112f022346c",
   "metadata": {},
   "outputs": [],
   "source": [
    "model = Sequential()\n",
    "model.add(Dense(32, activation='relu', input_shape=(1,)))\n",
    "model.add(Dense(64, activation='relu'))\n",
    "model.add(Dense(64, activation='relu'))\n",
    "model.add(Dense(64, activation='relu'))\n",
    "model.add(Dense(32, activation='relu'))\n",
    "model.add(Dense(1, activation='sigmoid'))\n",
    "\n",
    "model.compile(\n",
    "    optimizer='adam', \n",
    "    loss='binary_crossentropy', \n",
    "        metrics=[auc])"
   ]
  },
  {
   "cell_type": "code",
   "execution_count": 110,
   "id": "a37db9e4-cc88-4657-a100-6c1d1861c77b",
   "metadata": {},
   "outputs": [],
   "source": [
    "epochs = 30"
   ]
  },
  {
   "cell_type": "code",
   "execution_count": 111,
   "id": "3b8018e2-8f24-4cdc-a279-9c599448f09d",
   "metadata": {},
   "outputs": [
    {
     "name": "stdout",
     "output_type": "stream",
     "text": [
      "Epoch 1/30\n",
      "213/213 [==============================] - 1s 2ms/step - loss: 0.6854 - auc: 0.6373 - val_loss: 0.7030 - val_auc: 0.6272\n",
      "Epoch 2/30\n",
      "213/213 [==============================] - 0s 948us/step - loss: 0.6335 - auc: 0.6737 - val_loss: 0.6633 - val_auc: 0.6304\n",
      "Epoch 3/30\n",
      "213/213 [==============================] - 0s 944us/step - loss: 0.6306 - auc: 0.6725 - val_loss: 0.6943 - val_auc: 0.6429\n",
      "Epoch 4/30\n",
      "213/213 [==============================] - 0s 934us/step - loss: 0.6267 - auc: 0.6805 - val_loss: 0.6132 - val_auc: 0.6493\n",
      "Epoch 5/30\n",
      "213/213 [==============================] - 0s 963us/step - loss: 0.6263 - auc: 0.6810 - val_loss: 0.6793 - val_auc: 0.6338\n",
      "Epoch 6/30\n",
      "213/213 [==============================] - 0s 966us/step - loss: 0.6262 - auc: 0.6834 - val_loss: 0.6903 - val_auc: 0.6408\n",
      "Epoch 7/30\n",
      "213/213 [==============================] - 0s 940us/step - loss: 0.6262 - auc: 0.6812 - val_loss: 0.6656 - val_auc: 0.6414\n",
      "Epoch 8/30\n",
      "213/213 [==============================] - 0s 959us/step - loss: 0.6265 - auc: 0.6835 - val_loss: 0.5682 - val_auc: 0.6272\n",
      "Epoch 9/30\n",
      "213/213 [==============================] - 0s 944us/step - loss: 0.6250 - auc: 0.6854 - val_loss: 0.5929 - val_auc: 0.6226\n",
      "Epoch 10/30\n",
      "213/213 [==============================] - 0s 949us/step - loss: 0.6237 - auc: 0.6914 - val_loss: 0.6651 - val_auc: 0.6356\n",
      "Epoch 11/30\n",
      "213/213 [==============================] - 0s 958us/step - loss: 0.6240 - auc: 0.6857 - val_loss: 0.6425 - val_auc: 0.6451\n",
      "Epoch 12/30\n",
      "213/213 [==============================] - 0s 940us/step - loss: 0.6244 - auc: 0.6874 - val_loss: 0.6493 - val_auc: 0.6356\n",
      "Epoch 13/30\n",
      "213/213 [==============================] - 0s 963us/step - loss: 0.6230 - auc: 0.6898 - val_loss: 0.6784 - val_auc: 0.6346\n",
      "Epoch 14/30\n",
      "213/213 [==============================] - 0s 968us/step - loss: 0.6242 - auc: 0.6885 - val_loss: 0.5946 - val_auc: 0.6356\n",
      "Epoch 15/30\n",
      "213/213 [==============================] - 0s 949us/step - loss: 0.6238 - auc: 0.6874 - val_loss: 0.6506 - val_auc: 0.6415\n",
      "Epoch 16/30\n",
      "213/213 [==============================] - 0s 954us/step - loss: 0.6231 - auc: 0.6897 - val_loss: 0.6398 - val_auc: 0.6334\n",
      "Epoch 17/30\n",
      "213/213 [==============================] - 0s 958us/step - loss: 0.6244 - auc: 0.6881 - val_loss: 0.6519 - val_auc: 0.6397\n",
      "Epoch 18/30\n",
      "213/213 [==============================] - 0s 944us/step - loss: 0.6237 - auc: 0.6869 - val_loss: 0.5802 - val_auc: 0.6334\n",
      "Epoch 19/30\n",
      "213/213 [==============================] - 0s 949us/step - loss: 0.6237 - auc: 0.6890 - val_loss: 0.5685 - val_auc: 0.6407\n",
      "Epoch 20/30\n",
      "213/213 [==============================] - 0s 949us/step - loss: 0.6244 - auc: 0.6873 - val_loss: 0.5965 - val_auc: 0.6288\n",
      "Epoch 21/30\n",
      "213/213 [==============================] - 0s 963us/step - loss: 0.6243 - auc: 0.6854 - val_loss: 0.5990 - val_auc: 0.6092\n",
      "Epoch 22/30\n",
      "213/213 [==============================] - 0s 944us/step - loss: 0.6228 - auc: 0.6878 - val_loss: 0.6083 - val_auc: 0.6441\n",
      "Epoch 23/30\n",
      "213/213 [==============================] - 0s 949us/step - loss: 0.6220 - auc: 0.6916 - val_loss: 0.6907 - val_auc: 0.6312\n",
      "Epoch 24/30\n",
      "213/213 [==============================] - 0s 973us/step - loss: 0.6243 - auc: 0.6865 - val_loss: 0.7116 - val_auc: 0.6460\n",
      "Epoch 25/30\n",
      "213/213 [==============================] - 0s 944us/step - loss: 0.6244 - auc: 0.6885 - val_loss: 0.6285 - val_auc: 0.6086\n",
      "Epoch 26/30\n",
      "213/213 [==============================] - 0s 944us/step - loss: 0.6244 - auc: 0.6864 - val_loss: 0.6361 - val_auc: 0.6233\n",
      "Epoch 27/30\n",
      "213/213 [==============================] - 0s 944us/step - loss: 0.6226 - auc: 0.6867 - val_loss: 0.6332 - val_auc: 0.6278\n",
      "Epoch 28/30\n",
      "213/213 [==============================] - 0s 949us/step - loss: 0.6217 - auc: 0.6922 - val_loss: 0.6043 - val_auc: 0.6322\n",
      "Epoch 29/30\n",
      "213/213 [==============================] - 0s 968us/step - loss: 0.6225 - auc: 0.6919 - val_loss: 0.6274 - val_auc: 0.6277\n",
      "Epoch 30/30\n",
      "213/213 [==============================] - 0s 977us/step - loss: 0.6227 - auc: 0.6918 - val_loss: 0.6093 - val_auc: 0.6047\n"
     ]
    }
   ],
   "source": [
    "history = model.fit(X_train_res_bmi, y_train_res,\n",
    "             validation_data=(X_val_bmi, y_val),\n",
    "             epochs=epochs,\n",
    "             batch_size=32)"
   ]
  },
  {
   "cell_type": "code",
   "execution_count": 112,
   "id": "4be79837-a62d-437e-9760-7d07187e7737",
   "metadata": {},
   "outputs": [
    {
     "data": {
      "image/png": "[encoded data removed]",
      "text/plain": [
       "<Figure size 1200x600 with 1 Axes>"
      ]
     },
     "metadata": {},
     "output_type": "display_data"
    }
   ],
   "source": [
    "plot_history(history)"
   ]
  },
  {
   "cell_type": "code",
   "execution_count": 113,
   "id": "5d637cbb-7d94-4d0a-a872-59f769942f9d",
   "metadata": {},
   "outputs": [
    {
     "name": "stdout",
     "output_type": "stream",
     "text": [
      "24/24 [==============================] - 0s 696us/step - loss: 0.6446 - auc: 0.5430\n"
     ]
    },
    {
     "data": {
      "text/plain": [
       "[0.6445833444595337, 0.5429751873016357]"
      ]
     },
     "execution_count": 113,
     "metadata": {},
     "output_type": "execute_result"
    }
   ],
   "source": [
    "model.evaluate(X_test_bmi, y_test)"
   ]
  },
  {
   "cell_type": "markdown",
   "id": "5ffff7a5-bf9f-426b-bf76-92a1ea14ce24",
   "metadata": {},
   "source": [
    "## All features with oversampling"
   ]
  },
  {
   "cell_type": "code",
   "execution_count": 114,
   "id": "f89a8c17-3c9c-4715-9684-c74805931db4",
   "metadata": {},
   "outputs": [],
   "source": [
    "del model\n",
    "del history"
   ]
  },
  {
   "cell_type": "code",
   "execution_count": 115,
   "id": "cd8e6c87-96d4-492c-8124-c51bd38be735",
   "metadata": {},
   "outputs": [],
   "source": [
    "model = Sequential()\n",
    "model.add(Dense(32, activation='relu', kernel_regularizer=l2(0.01), input_shape=(17,)))\n",
    "model.add(Dense(16, activation='relu', kernel_regularizer=l2(0.01)))\n",
    "model.add(Dropout(0.6))\n",
    "model.add(Dense(1, activation='sigmoid'))\n",
    "\n",
    "model.compile(\n",
    "    optimizer='adam', \n",
    "    loss='binary_crossentropy',\n",
    "    metrics=[auc])"
   ]
  },
  {
   "cell_type": "code",
   "execution_count": 116,
   "id": "35cd9ba4-c108-4cae-932f-32c768dea90b",
   "metadata": {},
   "outputs": [],
   "source": [
    "epochs = 150"
   ]
  },
  {
   "cell_type": "code",
   "execution_count": 117,
   "id": "ddf0c01f-2ef0-4f1d-bd19-a5d85379b7fe",
   "metadata": {},
   "outputs": [
    {
     "name": "stdout",
     "output_type": "stream",
     "text": [
      "Epoch 1/150\n",
      "213/213 [==============================] - 1s 1ms/step - loss: 0.9219 - auc: 0.6302 - val_loss: 0.7852 - val_auc: 0.7000\n",
      "Epoch 2/150\n",
      "213/213 [==============================] - 0s 869us/step - loss: 0.6920 - auc: 0.7758 - val_loss: 0.6290 - val_auc: 0.8022\n",
      "Epoch 3/150\n",
      "213/213 [==============================] - 0s 864us/step - loss: 0.6006 - auc: 0.8251 - val_loss: 0.5028 - val_auc: 0.8145\n",
      "Epoch 4/150\n",
      "213/213 [==============================] - 0s 864us/step - loss: 0.5700 - auc: 0.8318 - val_loss: 0.5323 - val_auc: 0.8244\n",
      "Epoch 5/150\n",
      "213/213 [==============================] - 0s 855us/step - loss: 0.5426 - auc: 0.8456 - val_loss: 0.5621 - val_auc: 0.8284\n",
      "Epoch 6/150\n",
      "213/213 [==============================] - 0s 859us/step - loss: 0.5320 - auc: 0.8490 - val_loss: 0.5103 - val_auc: 0.8308\n",
      "Epoch 7/150\n",
      "213/213 [==============================] - 0s 892us/step - loss: 0.5233 - auc: 0.8491 - val_loss: 0.5508 - val_auc: 0.8305\n",
      "Epoch 8/150\n",
      "213/213 [==============================] - 0s 888us/step - loss: 0.5206 - auc: 0.8495 - val_loss: 0.4915 - val_auc: 0.8289\n",
      "Epoch 9/150\n",
      "213/213 [==============================] - 0s 883us/step - loss: 0.5184 - auc: 0.8461 - val_loss: 0.4586 - val_auc: 0.8275\n",
      "Epoch 10/150\n",
      "213/213 [==============================] - 0s 864us/step - loss: 0.5111 - auc: 0.8511 - val_loss: 0.4983 - val_auc: 0.8242\n",
      "Epoch 11/150\n",
      "213/213 [==============================] - 0s 869us/step - loss: 0.5101 - auc: 0.8506 - val_loss: 0.5219 - val_auc: 0.8218\n",
      "Epoch 12/150\n",
      "213/213 [==============================] - 0s 859us/step - loss: 0.5029 - auc: 0.8573 - val_loss: 0.5447 - val_auc: 0.8191\n",
      "Epoch 13/150\n",
      "213/213 [==============================] - 0s 869us/step - loss: 0.5000 - auc: 0.8552 - val_loss: 0.4890 - val_auc: 0.8209\n",
      "Epoch 14/150\n",
      "213/213 [==============================] - 0s 864us/step - loss: 0.4985 - auc: 0.8554 - val_loss: 0.4647 - val_auc: 0.8243\n",
      "Epoch 15/150\n",
      "213/213 [==============================] - 0s 888us/step - loss: 0.4888 - auc: 0.8616 - val_loss: 0.5468 - val_auc: 0.8189\n",
      "Epoch 16/150\n",
      "213/213 [==============================] - 0s 911us/step - loss: 0.4999 - auc: 0.8531 - val_loss: 0.5195 - val_auc: 0.8228\n",
      "Epoch 17/150\n",
      "213/213 [==============================] - 0s 888us/step - loss: 0.4925 - auc: 0.8563 - val_loss: 0.4712 - val_auc: 0.8179\n",
      "Epoch 18/150\n",
      "213/213 [==============================] - 0s 864us/step - loss: 0.4891 - auc: 0.8621 - val_loss: 0.5098 - val_auc: 0.8217\n",
      "Epoch 19/150\n",
      "213/213 [==============================] - 0s 869us/step - loss: 0.4870 - auc: 0.8612 - val_loss: 0.4749 - val_auc: 0.8269\n",
      "Epoch 20/150\n",
      "213/213 [==============================] - 0s 850us/step - loss: 0.4846 - auc: 0.8638 - val_loss: 0.4530 - val_auc: 0.8218\n",
      "Epoch 21/150\n",
      "213/213 [==============================] - 0s 867us/step - loss: 0.4871 - auc: 0.8612 - val_loss: 0.4867 - val_auc: 0.8185\n",
      "Epoch 22/150\n",
      "213/213 [==============================] - 0s 883us/step - loss: 0.4807 - auc: 0.8645 - val_loss: 0.4723 - val_auc: 0.8106\n",
      "Epoch 23/150\n",
      "213/213 [==============================] - 0s 888us/step - loss: 0.4798 - auc: 0.8650 - val_loss: 0.4951 - val_auc: 0.8203\n",
      "Epoch 24/150\n",
      "213/213 [==============================] - 0s 878us/step - loss: 0.4790 - auc: 0.8653 - val_loss: 0.4706 - val_auc: 0.8263\n",
      "Epoch 25/150\n",
      "213/213 [==============================] - 0s 878us/step - loss: 0.4738 - auc: 0.8655 - val_loss: 0.5114 - val_auc: 0.8136\n",
      "Epoch 26/150\n",
      "213/213 [==============================] - 0s 869us/step - loss: 0.4774 - auc: 0.8683 - val_loss: 0.5016 - val_auc: 0.8271\n",
      "Epoch 27/150\n",
      "213/213 [==============================] - 0s 897us/step - loss: 0.4771 - auc: 0.8658 - val_loss: 0.4744 - val_auc: 0.8165\n",
      "Epoch 28/150\n",
      "213/213 [==============================] - 0s 873us/step - loss: 0.4736 - auc: 0.8655 - val_loss: 0.4357 - val_auc: 0.8153\n",
      "Epoch 29/150\n",
      "213/213 [==============================] - 0s 887us/step - loss: 0.4691 - auc: 0.8717 - val_loss: 0.4711 - val_auc: 0.8124\n",
      "Epoch 30/150\n",
      "213/213 [==============================] - 0s 875us/step - loss: 0.4735 - auc: 0.8673 - val_loss: 0.4835 - val_auc: 0.8200\n",
      "Epoch 31/150\n",
      "213/213 [==============================] - 0s 867us/step - loss: 0.4726 - auc: 0.8678 - val_loss: 0.4789 - val_auc: 0.8186\n",
      "Epoch 32/150\n",
      "213/213 [==============================] - 0s 859us/step - loss: 0.4678 - auc: 0.8695 - val_loss: 0.5087 - val_auc: 0.8219\n",
      "Epoch 33/150\n",
      "213/213 [==============================] - 0s 864us/step - loss: 0.4713 - auc: 0.8686 - val_loss: 0.4467 - val_auc: 0.8184\n",
      "Epoch 34/150\n",
      "213/213 [==============================] - 0s 859us/step - loss: 0.4711 - auc: 0.8686 - val_loss: 0.5038 - val_auc: 0.8159\n",
      "Epoch 35/150\n",
      "213/213 [==============================] - 0s 921us/step - loss: 0.4684 - auc: 0.8703 - val_loss: 0.4820 - val_auc: 0.8128\n",
      "Epoch 36/150\n",
      "213/213 [==============================] - 0s 897us/step - loss: 0.4698 - auc: 0.8661 - val_loss: 0.4923 - val_auc: 0.8217\n",
      "Epoch 37/150\n",
      "213/213 [==============================] - 0s 878us/step - loss: 0.4692 - auc: 0.8694 - val_loss: 0.4471 - val_auc: 0.8144\n",
      "Epoch 38/150\n",
      "213/213 [==============================] - 0s 873us/step - loss: 0.4640 - auc: 0.8718 - val_loss: 0.5147 - val_auc: 0.8105\n",
      "Epoch 39/150\n",
      "213/213 [==============================] - 0s 878us/step - loss: 0.4632 - auc: 0.8724 - val_loss: 0.4992 - val_auc: 0.8162\n",
      "Epoch 40/150\n",
      "213/213 [==============================] - 0s 873us/step - loss: 0.4625 - auc: 0.8734 - val_loss: 0.4869 - val_auc: 0.8191\n",
      "Epoch 41/150\n",
      "213/213 [==============================] - 0s 864us/step - loss: 0.4677 - auc: 0.8699 - val_loss: 0.4488 - val_auc: 0.8133\n",
      "Epoch 42/150\n",
      "213/213 [==============================] - 0s 902us/step - loss: 0.4649 - auc: 0.8740 - val_loss: 0.4888 - val_auc: 0.8123\n",
      "Epoch 43/150\n",
      "213/213 [==============================] - 0s 888us/step - loss: 0.4606 - auc: 0.8710 - val_loss: 0.4308 - val_auc: 0.8124\n",
      "Epoch 44/150\n",
      "213/213 [==============================] - 0s 921us/step - loss: 0.4609 - auc: 0.8730 - val_loss: 0.4298 - val_auc: 0.8150\n",
      "Epoch 45/150\n",
      "213/213 [==============================] - 0s 878us/step - loss: 0.4608 - auc: 0.8735 - val_loss: 0.4614 - val_auc: 0.8113\n",
      "Epoch 46/150\n",
      "213/213 [==============================] - 0s 897us/step - loss: 0.4582 - auc: 0.8757 - val_loss: 0.4709 - val_auc: 0.8116\n",
      "Epoch 47/150\n",
      "213/213 [==============================] - 0s 930us/step - loss: 0.4634 - auc: 0.8699 - val_loss: 0.4642 - val_auc: 0.8186\n",
      "Epoch 48/150\n",
      "213/213 [==============================] - 0s 897us/step - loss: 0.4552 - auc: 0.8760 - val_loss: 0.5235 - val_auc: 0.8146\n",
      "Epoch 49/150\n",
      "213/213 [==============================] - 0s 958us/step - loss: 0.4575 - auc: 0.8746 - val_loss: 0.4887 - val_auc: 0.8174\n",
      "Epoch 50/150\n",
      "213/213 [==============================] - 0s 897us/step - loss: 0.4560 - auc: 0.8755 - val_loss: 0.4412 - val_auc: 0.8083\n",
      "Epoch 51/150\n",
      "213/213 [==============================] - 0s 902us/step - loss: 0.4571 - auc: 0.8748 - val_loss: 0.4879 - val_auc: 0.8108\n",
      "Epoch 52/150\n",
      "213/213 [==============================] - 0s 921us/step - loss: 0.4555 - auc: 0.8755 - val_loss: 0.4793 - val_auc: 0.8122\n",
      "Epoch 53/150\n",
      "213/213 [==============================] - 0s 949us/step - loss: 0.4503 - auc: 0.8785 - val_loss: 0.4659 - val_auc: 0.8106\n",
      "Epoch 54/150\n",
      "213/213 [==============================] - 0s 911us/step - loss: 0.4525 - auc: 0.8766 - val_loss: 0.5062 - val_auc: 0.8028\n",
      "Epoch 55/150\n",
      "213/213 [==============================] - 0s 1ms/step - loss: 0.4538 - auc: 0.8776 - val_loss: 0.4366 - val_auc: 0.8096\n",
      "Epoch 56/150\n",
      "213/213 [==============================] - 0s 921us/step - loss: 0.4541 - auc: 0.8797 - val_loss: 0.4031 - val_auc: 0.8079\n",
      "Epoch 57/150\n",
      "213/213 [==============================] - 0s 906us/step - loss: 0.4534 - auc: 0.8757 - val_loss: 0.4603 - val_auc: 0.8003\n",
      "Epoch 58/150\n",
      "213/213 [==============================] - 0s 897us/step - loss: 0.4490 - auc: 0.8800 - val_loss: 0.4842 - val_auc: 0.8078\n",
      "Epoch 59/150\n",
      "213/213 [==============================] - 0s 878us/step - loss: 0.4529 - auc: 0.8779 - val_loss: 0.4661 - val_auc: 0.8132\n",
      "Epoch 60/150\n",
      "213/213 [==============================] - 0s 873us/step - loss: 0.4542 - auc: 0.8755 - val_loss: 0.4380 - val_auc: 0.8044\n",
      "Epoch 61/150\n",
      "213/213 [==============================] - 0s 873us/step - loss: 0.4524 - auc: 0.8780 - val_loss: 0.4557 - val_auc: 0.8091\n",
      "Epoch 62/150\n",
      "213/213 [==============================] - 0s 883us/step - loss: 0.4465 - auc: 0.8813 - val_loss: 0.4931 - val_auc: 0.8020\n",
      "Epoch 63/150\n",
      "213/213 [==============================] - 0s 883us/step - loss: 0.4482 - auc: 0.8805 - val_loss: 0.4786 - val_auc: 0.8073\n",
      "Epoch 64/150\n",
      "213/213 [==============================] - 0s 864us/step - loss: 0.4514 - auc: 0.8803 - val_loss: 0.4494 - val_auc: 0.7990\n",
      "Epoch 65/150\n",
      "213/213 [==============================] - 0s 873us/step - loss: 0.4477 - auc: 0.8783 - val_loss: 0.5071 - val_auc: 0.8131\n",
      "Epoch 66/150\n",
      "213/213 [==============================] - 0s 911us/step - loss: 0.4463 - auc: 0.8797 - val_loss: 0.4642 - val_auc: 0.8054\n",
      "Epoch 67/150\n",
      "213/213 [==============================] - 0s 921us/step - loss: 0.4474 - auc: 0.8809 - val_loss: 0.4708 - val_auc: 0.8037\n",
      "Epoch 68/150\n",
      "213/213 [==============================] - 0s 883us/step - loss: 0.4445 - auc: 0.8837 - val_loss: 0.4848 - val_auc: 0.8109\n",
      "Epoch 69/150\n",
      "213/213 [==============================] - 0s 916us/step - loss: 0.4431 - auc: 0.8837 - val_loss: 0.4409 - val_auc: 0.8015\n",
      "Epoch 70/150\n",
      "213/213 [==============================] - 0s 916us/step - loss: 0.4426 - auc: 0.8847 - val_loss: 0.5090 - val_auc: 0.8048\n",
      "Epoch 71/150\n",
      "213/213 [==============================] - 0s 902us/step - loss: 0.4414 - auc: 0.8841 - val_loss: 0.5314 - val_auc: 0.8039\n",
      "Epoch 72/150\n",
      "213/213 [==============================] - 0s 888us/step - loss: 0.4418 - auc: 0.8842 - val_loss: 0.4280 - val_auc: 0.8033\n",
      "Epoch 73/150\n",
      "213/213 [==============================] - 0s 888us/step - loss: 0.4455 - auc: 0.8814 - val_loss: 0.4732 - val_auc: 0.8053\n",
      "Epoch 74/150\n",
      "213/213 [==============================] - 0s 892us/step - loss: 0.4399 - auc: 0.8851 - val_loss: 0.4957 - val_auc: 0.8093\n",
      "Epoch 75/150\n",
      "213/213 [==============================] - 0s 855us/step - loss: 0.4358 - auc: 0.8878 - val_loss: 0.4842 - val_auc: 0.8059\n",
      "Epoch 76/150\n",
      "213/213 [==============================] - 0s 873us/step - loss: 0.4412 - auc: 0.8827 - val_loss: 0.4995 - val_auc: 0.8065\n",
      "Epoch 77/150\n",
      "213/213 [==============================] - 0s 873us/step - loss: 0.4357 - auc: 0.8894 - val_loss: 0.5499 - val_auc: 0.8089\n",
      "Epoch 78/150\n",
      "213/213 [==============================] - 0s 871us/step - loss: 0.4356 - auc: 0.8865 - val_loss: 0.4465 - val_auc: 0.8042\n",
      "Epoch 79/150\n",
      "213/213 [==============================] - 0s 881us/step - loss: 0.4361 - auc: 0.8883 - val_loss: 0.5023 - val_auc: 0.8064\n",
      "Epoch 80/150\n",
      "213/213 [==============================] - 0s 892us/step - loss: 0.4415 - auc: 0.8827 - val_loss: 0.4848 - val_auc: 0.8104\n",
      "Epoch 81/150\n",
      "213/213 [==============================] - 0s 883us/step - loss: 0.4338 - auc: 0.8899 - val_loss: 0.4468 - val_auc: 0.8000\n",
      "Epoch 82/150\n",
      "213/213 [==============================] - 0s 902us/step - loss: 0.4384 - auc: 0.8872 - val_loss: 0.4668 - val_auc: 0.8029\n",
      "Epoch 83/150\n",
      "213/213 [==============================] - 0s 855us/step - loss: 0.4373 - auc: 0.8885 - val_loss: 0.4597 - val_auc: 0.8039\n",
      "Epoch 84/150\n",
      "213/213 [==============================] - 0s 883us/step - loss: 0.4354 - auc: 0.8879 - val_loss: 0.4546 - val_auc: 0.8026\n",
      "Epoch 85/150\n",
      "213/213 [==============================] - 0s 878us/step - loss: 0.4329 - auc: 0.8889 - val_loss: 0.4914 - val_auc: 0.8065\n",
      "Epoch 86/150\n",
      "213/213 [==============================] - 0s 977us/step - loss: 0.4324 - auc: 0.8902 - val_loss: 0.4924 - val_auc: 0.8046\n",
      "Epoch 87/150\n",
      "213/213 [==============================] - 0s 954us/step - loss: 0.4337 - auc: 0.8890 - val_loss: 0.4708 - val_auc: 0.8001\n",
      "Epoch 88/150\n",
      "213/213 [==============================] - 0s 892us/step - loss: 0.4337 - auc: 0.8923 - val_loss: 0.4941 - val_auc: 0.8014\n",
      "Epoch 89/150\n",
      "213/213 [==============================] - 0s 905us/step - loss: 0.4363 - auc: 0.8889 - val_loss: 0.4440 - val_auc: 0.8025\n",
      "Epoch 90/150\n",
      "213/213 [==============================] - 0s 892us/step - loss: 0.4346 - auc: 0.8897 - val_loss: 0.4714 - val_auc: 0.8026\n",
      "Epoch 91/150\n",
      "213/213 [==============================] - 0s 878us/step - loss: 0.4321 - auc: 0.8919 - val_loss: 0.5401 - val_auc: 0.8040\n",
      "Epoch 92/150\n",
      "213/213 [==============================] - 0s 910us/step - loss: 0.4298 - auc: 0.8926 - val_loss: 0.4308 - val_auc: 0.7995\n",
      "Epoch 93/150\n",
      "213/213 [==============================] - 0s 916us/step - loss: 0.4333 - auc: 0.8902 - val_loss: 0.4604 - val_auc: 0.8026\n",
      "Epoch 94/150\n",
      "213/213 [==============================] - 0s 916us/step - loss: 0.4303 - auc: 0.8935 - val_loss: 0.4674 - val_auc: 0.7962\n",
      "Epoch 95/150\n",
      "213/213 [==============================] - 0s 916us/step - loss: 0.4296 - auc: 0.8922 - val_loss: 0.4822 - val_auc: 0.8012\n",
      "Epoch 96/150\n",
      "213/213 [==============================] - 0s 902us/step - loss: 0.4327 - auc: 0.8918 - val_loss: 0.4797 - val_auc: 0.8035\n",
      "Epoch 97/150\n",
      "213/213 [==============================] - 0s 888us/step - loss: 0.4283 - auc: 0.8952 - val_loss: 0.4427 - val_auc: 0.8005\n",
      "Epoch 98/150\n",
      "213/213 [==============================] - 0s 902us/step - loss: 0.4260 - auc: 0.8954 - val_loss: 0.4985 - val_auc: 0.7960\n",
      "Epoch 99/150\n",
      "213/213 [==============================] - 0s 878us/step - loss: 0.4298 - auc: 0.8916 - val_loss: 0.4850 - val_auc: 0.7972\n",
      "Epoch 100/150\n",
      "213/213 [==============================] - 0s 883us/step - loss: 0.4287 - auc: 0.8941 - val_loss: 0.4138 - val_auc: 0.7986\n",
      "Epoch 101/150\n",
      "213/213 [==============================] - 0s 873us/step - loss: 0.4254 - auc: 0.8975 - val_loss: 0.4576 - val_auc: 0.7893\n",
      "Epoch 102/150\n",
      "213/213 [==============================] - 0s 873us/step - loss: 0.4271 - auc: 0.8937 - val_loss: 0.4758 - val_auc: 0.8000\n",
      "Epoch 103/150\n",
      "213/213 [==============================] - 0s 883us/step - loss: 0.4254 - auc: 0.8964 - val_loss: 0.5024 - val_auc: 0.7974\n",
      "Epoch 104/150\n",
      "213/213 [==============================] - 0s 883us/step - loss: 0.4249 - auc: 0.8980 - val_loss: 0.4311 - val_auc: 0.7903\n",
      "Epoch 105/150\n",
      "213/213 [==============================] - 0s 873us/step - loss: 0.4237 - auc: 0.8975 - val_loss: 0.3923 - val_auc: 0.7896\n",
      "Epoch 106/150\n",
      "213/213 [==============================] - 0s 873us/step - loss: 0.4222 - auc: 0.8969 - val_loss: 0.4791 - val_auc: 0.7988\n",
      "Epoch 107/150\n",
      "213/213 [==============================] - 0s 869us/step - loss: 0.4244 - auc: 0.8976 - val_loss: 0.4715 - val_auc: 0.7903\n",
      "Epoch 108/150\n",
      "213/213 [==============================] - 0s 873us/step - loss: 0.4217 - auc: 0.8986 - val_loss: 0.4926 - val_auc: 0.7923\n",
      "Epoch 109/150\n",
      "213/213 [==============================] - 0s 883us/step - loss: 0.4238 - auc: 0.8968 - val_loss: 0.5037 - val_auc: 0.7956\n",
      "Epoch 110/150\n",
      "213/213 [==============================] - 0s 869us/step - loss: 0.4183 - auc: 0.9024 - val_loss: 0.4766 - val_auc: 0.7810\n",
      "Epoch 111/150\n",
      "213/213 [==============================] - 0s 878us/step - loss: 0.4190 - auc: 0.9011 - val_loss: 0.4231 - val_auc: 0.7873\n",
      "Epoch 112/150\n",
      "213/213 [==============================] - 0s 864us/step - loss: 0.4223 - auc: 0.8985 - val_loss: 0.4346 - val_auc: 0.7862\n",
      "Epoch 113/150\n",
      "213/213 [==============================] - 0s 883us/step - loss: 0.4199 - auc: 0.9010 - val_loss: 0.4868 - val_auc: 0.7795\n",
      "Epoch 114/150\n",
      "213/213 [==============================] - 0s 883us/step - loss: 0.4223 - auc: 0.9005 - val_loss: 0.4586 - val_auc: 0.7871\n",
      "Epoch 115/150\n",
      "213/213 [==============================] - 0s 869us/step - loss: 0.4193 - auc: 0.9006 - val_loss: 0.4247 - val_auc: 0.7917\n",
      "Epoch 116/150\n",
      "213/213 [==============================] - 0s 878us/step - loss: 0.4188 - auc: 0.9004 - val_loss: 0.4002 - val_auc: 0.7823\n",
      "Epoch 117/150\n",
      "213/213 [==============================] - 0s 879us/step - loss: 0.4206 - auc: 0.8995 - val_loss: 0.5025 - val_auc: 0.7864\n",
      "Epoch 118/150\n",
      "213/213 [==============================] - 0s 869us/step - loss: 0.4143 - auc: 0.9044 - val_loss: 0.4593 - val_auc: 0.7824\n",
      "Epoch 119/150\n",
      "213/213 [==============================] - 0s 968us/step - loss: 0.4182 - auc: 0.9039 - val_loss: 0.4702 - val_auc: 0.7866\n",
      "Epoch 120/150\n",
      "213/213 [==============================] - 0s 873us/step - loss: 0.4200 - auc: 0.9018 - val_loss: 0.4212 - val_auc: 0.7815\n",
      "Epoch 121/150\n",
      "213/213 [==============================] - 0s 888us/step - loss: 0.4166 - auc: 0.9037 - val_loss: 0.4647 - val_auc: 0.7881\n",
      "Epoch 122/150\n",
      "213/213 [==============================] - 0s 883us/step - loss: 0.4154 - auc: 0.9038 - val_loss: 0.4571 - val_auc: 0.7802\n",
      "Epoch 123/150\n",
      "213/213 [==============================] - 0s 869us/step - loss: 0.4126 - auc: 0.9059 - val_loss: 0.4083 - val_auc: 0.7722\n",
      "Epoch 124/150\n",
      "213/213 [==============================] - 0s 892us/step - loss: 0.4181 - auc: 0.9026 - val_loss: 0.5167 - val_auc: 0.7813\n",
      "Epoch 125/150\n",
      "213/213 [==============================] - 0s 864us/step - loss: 0.4124 - auc: 0.9034 - val_loss: 0.4668 - val_auc: 0.7809\n",
      "Epoch 126/150\n",
      "213/213 [==============================] - 0s 878us/step - loss: 0.4151 - auc: 0.9042 - val_loss: 0.4789 - val_auc: 0.7772\n",
      "Epoch 127/150\n",
      "213/213 [==============================] - 0s 892us/step - loss: 0.4107 - auc: 0.9051 - val_loss: 0.4185 - val_auc: 0.7741\n",
      "Epoch 128/150\n",
      "213/213 [==============================] - 0s 864us/step - loss: 0.4117 - auc: 0.9033 - val_loss: 0.5162 - val_auc: 0.7726\n",
      "Epoch 129/150\n",
      "213/213 [==============================] - 0s 878us/step - loss: 0.4104 - auc: 0.9071 - val_loss: 0.4740 - val_auc: 0.7774\n",
      "Epoch 130/150\n",
      "213/213 [==============================] - 0s 869us/step - loss: 0.4138 - auc: 0.9037 - val_loss: 0.5535 - val_auc: 0.7722\n",
      "Epoch 131/150\n",
      "213/213 [==============================] - 0s 869us/step - loss: 0.4166 - auc: 0.9020 - val_loss: 0.4125 - val_auc: 0.7723\n",
      "Epoch 132/150\n",
      "213/213 [==============================] - 0s 878us/step - loss: 0.4137 - auc: 0.9051 - val_loss: 0.4127 - val_auc: 0.7663\n",
      "Epoch 133/150\n",
      "213/213 [==============================] - 0s 869us/step - loss: 0.4151 - auc: 0.9029 - val_loss: 0.4651 - val_auc: 0.7742\n",
      "Epoch 134/150\n",
      "213/213 [==============================] - 0s 859us/step - loss: 0.4134 - auc: 0.9026 - val_loss: 0.4514 - val_auc: 0.7657\n",
      "Epoch 135/150\n",
      "213/213 [==============================] - 0s 873us/step - loss: 0.4094 - auc: 0.9061 - val_loss: 0.4634 - val_auc: 0.7803\n",
      "Epoch 136/150\n",
      "213/213 [==============================] - 0s 864us/step - loss: 0.4169 - auc: 0.9023 - val_loss: 0.4993 - val_auc: 0.7789\n",
      "Epoch 137/150\n",
      "213/213 [==============================] - 0s 883us/step - loss: 0.4102 - auc: 0.9070 - val_loss: 0.4452 - val_auc: 0.7745\n",
      "Epoch 138/150\n",
      "213/213 [==============================] - 0s 869us/step - loss: 0.4051 - auc: 0.9074 - val_loss: 0.4486 - val_auc: 0.7735\n",
      "Epoch 139/150\n",
      "213/213 [==============================] - 0s 873us/step - loss: 0.4104 - auc: 0.9063 - val_loss: 0.4711 - val_auc: 0.7701\n",
      "Epoch 140/150\n",
      "213/213 [==============================] - 0s 939us/step - loss: 0.4084 - auc: 0.9069 - val_loss: 0.4308 - val_auc: 0.7799\n",
      "Epoch 141/150\n",
      "213/213 [==============================] - 0s 869us/step - loss: 0.4089 - auc: 0.9074 - val_loss: 0.4552 - val_auc: 0.7618\n",
      "Epoch 142/150\n",
      "213/213 [==============================] - 0s 862us/step - loss: 0.4059 - auc: 0.9062 - val_loss: 0.4135 - val_auc: 0.7700\n",
      "Epoch 143/150\n",
      "213/213 [==============================] - 0s 958us/step - loss: 0.4118 - auc: 0.9068 - val_loss: 0.5094 - val_auc: 0.7758\n",
      "Epoch 144/150\n",
      "213/213 [==============================] - 0s 968us/step - loss: 0.4042 - auc: 0.9081 - val_loss: 0.4379 - val_auc: 0.7639\n",
      "Epoch 145/150\n",
      "213/213 [==============================] - 0s 906us/step - loss: 0.4068 - auc: 0.9084 - val_loss: 0.4772 - val_auc: 0.7727\n",
      "Epoch 146/150\n",
      "213/213 [==============================] - 0s 954us/step - loss: 0.4106 - auc: 0.9063 - val_loss: 0.4485 - val_auc: 0.7722\n",
      "Epoch 147/150\n",
      "213/213 [==============================] - 0s 883us/step - loss: 0.4022 - auc: 0.9096 - val_loss: 0.4423 - val_auc: 0.7692\n",
      "Epoch 148/150\n",
      "213/213 [==============================] - 0s 954us/step - loss: 0.4069 - auc: 0.9078 - val_loss: 0.4583 - val_auc: 0.7712\n",
      "Epoch 149/150\n",
      "213/213 [==============================] - 0s 930us/step - loss: 0.4073 - auc: 0.9067 - val_loss: 0.4745 - val_auc: 0.7669\n",
      "Epoch 150/150\n",
      "213/213 [==============================] - 0s 886us/step - loss: 0.4076 - auc: 0.9078 - val_loss: 0.4522 - val_auc: 0.7671\n"
     ]
    }
   ],
   "source": [
    "history = model.fit(X_train_res, y_train_res,\n",
    "             validation_data=(X_val, y_val),\n",
    "             epochs=epochs,\n",
    "             batch_size=32)"
   ]
  },
  {
   "cell_type": "code",
   "execution_count": null,
   "id": "de40214b-1303-4f7c-8ef7-631e6b616948",
   "metadata": {},
   "outputs": [],
   "source": [
    "plot_history(history)"
   ]
  },
  {
   "cell_type": "code",
   "execution_count": null,
   "id": "8128167d-3a83-4016-ac5c-9edd331d709e",
   "metadata": {},
   "outputs": [],
   "source": [
    "model.evaluate(X_test, y_test)"
   ]
  }
 ],
 "metadata": {
  "kernelspec": {
   "display_name": "Python 3 (ipykernel)",
   "language": "python",
   "name": "python3"
  },
  "language_info": {
   "codemirror_mode": {
    "name": "ipython",
    "version": 3
   },
   "file_extension": ".py",
   "mimetype": "text/x-python",
   "name": "python",
   "nbconvert_exporter": "python",
   "pygments_lexer": "ipython3",
   "version": "3.9.9"
  }
 },
 "nbformat": 4,
 "nbformat_minor": 5
}
